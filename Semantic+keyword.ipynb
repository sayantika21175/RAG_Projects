{
  "nbformat": 4,
  "nbformat_minor": 0,
  "metadata": {
    "colab": {
      "provenance": [],
      "mount_file_id": "1H7y37tSTBo0q_f7onThDt-QZdrWd-R4X",
      "authorship_tag": "ABX9TyPF9Yf1gUC35nZncRxHiwuP",
      "include_colab_link": true
    },
    "kernelspec": {
      "name": "python3",
      "display_name": "Python 3"
    },
    "language_info": {
      "name": "python"
    },
    "widgets": {
      "application/vnd.jupyter.widget-state+json": {
        "bdef78cd33c84f36a2da9058a4b8ccca": {
          "model_module": "@jupyter-widgets/controls",
          "model_name": "HBoxModel",
          "model_module_version": "1.5.0",
          "state": {
            "_dom_classes": [],
            "_model_module": "@jupyter-widgets/controls",
            "_model_module_version": "1.5.0",
            "_model_name": "HBoxModel",
            "_view_count": null,
            "_view_module": "@jupyter-widgets/controls",
            "_view_module_version": "1.5.0",
            "_view_name": "HBoxView",
            "box_style": "",
            "children": [
              "IPY_MODEL_ca3764a9779047abaf81d0e79125d671",
              "IPY_MODEL_f8cdaee5df1244128f86aca3c17b3bf5",
              "IPY_MODEL_2608c5e038dd4d78b161072c66b3731e"
            ],
            "layout": "IPY_MODEL_a8de834043ee4a59bf3a989691ebeb9f"
          }
        },
        "ca3764a9779047abaf81d0e79125d671": {
          "model_module": "@jupyter-widgets/controls",
          "model_name": "HTMLModel",
          "model_module_version": "1.5.0",
          "state": {
            "_dom_classes": [],
            "_model_module": "@jupyter-widgets/controls",
            "_model_module_version": "1.5.0",
            "_model_name": "HTMLModel",
            "_view_count": null,
            "_view_module": "@jupyter-widgets/controls",
            "_view_module_version": "1.5.0",
            "_view_name": "HTMLView",
            "description": "",
            "description_tooltip": null,
            "layout": "IPY_MODEL_4f51bc629a884484be249044a43d36e9",
            "placeholder": "​",
            "style": "IPY_MODEL_c99e5d63184c4238b4c59cc03d434af1",
            "value": "modules.json: 100%"
          }
        },
        "f8cdaee5df1244128f86aca3c17b3bf5": {
          "model_module": "@jupyter-widgets/controls",
          "model_name": "FloatProgressModel",
          "model_module_version": "1.5.0",
          "state": {
            "_dom_classes": [],
            "_model_module": "@jupyter-widgets/controls",
            "_model_module_version": "1.5.0",
            "_model_name": "FloatProgressModel",
            "_view_count": null,
            "_view_module": "@jupyter-widgets/controls",
            "_view_module_version": "1.5.0",
            "_view_name": "ProgressView",
            "bar_style": "success",
            "description": "",
            "description_tooltip": null,
            "layout": "IPY_MODEL_cfad2c75d7e9436ea9fc13c6f27b0369",
            "max": 349,
            "min": 0,
            "orientation": "horizontal",
            "style": "IPY_MODEL_8901ca0a0335409a90f52e486df1f764",
            "value": 349
          }
        },
        "2608c5e038dd4d78b161072c66b3731e": {
          "model_module": "@jupyter-widgets/controls",
          "model_name": "HTMLModel",
          "model_module_version": "1.5.0",
          "state": {
            "_dom_classes": [],
            "_model_module": "@jupyter-widgets/controls",
            "_model_module_version": "1.5.0",
            "_model_name": "HTMLModel",
            "_view_count": null,
            "_view_module": "@jupyter-widgets/controls",
            "_view_module_version": "1.5.0",
            "_view_name": "HTMLView",
            "description": "",
            "description_tooltip": null,
            "layout": "IPY_MODEL_c837d32b0aeb49c19233f3a7b2f7a817",
            "placeholder": "​",
            "style": "IPY_MODEL_a6ddb5dde260485d8ee216fe9d22455b",
            "value": " 349/349 [00:00&lt;00:00, 4.00kB/s]"
          }
        },
        "a8de834043ee4a59bf3a989691ebeb9f": {
          "model_module": "@jupyter-widgets/base",
          "model_name": "LayoutModel",
          "model_module_version": "1.2.0",
          "state": {
            "_model_module": "@jupyter-widgets/base",
            "_model_module_version": "1.2.0",
            "_model_name": "LayoutModel",
            "_view_count": null,
            "_view_module": "@jupyter-widgets/base",
            "_view_module_version": "1.2.0",
            "_view_name": "LayoutView",
            "align_content": null,
            "align_items": null,
            "align_self": null,
            "border": null,
            "bottom": null,
            "display": null,
            "flex": null,
            "flex_flow": null,
            "grid_area": null,
            "grid_auto_columns": null,
            "grid_auto_flow": null,
            "grid_auto_rows": null,
            "grid_column": null,
            "grid_gap": null,
            "grid_row": null,
            "grid_template_areas": null,
            "grid_template_columns": null,
            "grid_template_rows": null,
            "height": null,
            "justify_content": null,
            "justify_items": null,
            "left": null,
            "margin": null,
            "max_height": null,
            "max_width": null,
            "min_height": null,
            "min_width": null,
            "object_fit": null,
            "object_position": null,
            "order": null,
            "overflow": null,
            "overflow_x": null,
            "overflow_y": null,
            "padding": null,
            "right": null,
            "top": null,
            "visibility": null,
            "width": null
          }
        },
        "4f51bc629a884484be249044a43d36e9": {
          "model_module": "@jupyter-widgets/base",
          "model_name": "LayoutModel",
          "model_module_version": "1.2.0",
          "state": {
            "_model_module": "@jupyter-widgets/base",
            "_model_module_version": "1.2.0",
            "_model_name": "LayoutModel",
            "_view_count": null,
            "_view_module": "@jupyter-widgets/base",
            "_view_module_version": "1.2.0",
            "_view_name": "LayoutView",
            "align_content": null,
            "align_items": null,
            "align_self": null,
            "border": null,
            "bottom": null,
            "display": null,
            "flex": null,
            "flex_flow": null,
            "grid_area": null,
            "grid_auto_columns": null,
            "grid_auto_flow": null,
            "grid_auto_rows": null,
            "grid_column": null,
            "grid_gap": null,
            "grid_row": null,
            "grid_template_areas": null,
            "grid_template_columns": null,
            "grid_template_rows": null,
            "height": null,
            "justify_content": null,
            "justify_items": null,
            "left": null,
            "margin": null,
            "max_height": null,
            "max_width": null,
            "min_height": null,
            "min_width": null,
            "object_fit": null,
            "object_position": null,
            "order": null,
            "overflow": null,
            "overflow_x": null,
            "overflow_y": null,
            "padding": null,
            "right": null,
            "top": null,
            "visibility": null,
            "width": null
          }
        },
        "c99e5d63184c4238b4c59cc03d434af1": {
          "model_module": "@jupyter-widgets/controls",
          "model_name": "DescriptionStyleModel",
          "model_module_version": "1.5.0",
          "state": {
            "_model_module": "@jupyter-widgets/controls",
            "_model_module_version": "1.5.0",
            "_model_name": "DescriptionStyleModel",
            "_view_count": null,
            "_view_module": "@jupyter-widgets/base",
            "_view_module_version": "1.2.0",
            "_view_name": "StyleView",
            "description_width": ""
          }
        },
        "cfad2c75d7e9436ea9fc13c6f27b0369": {
          "model_module": "@jupyter-widgets/base",
          "model_name": "LayoutModel",
          "model_module_version": "1.2.0",
          "state": {
            "_model_module": "@jupyter-widgets/base",
            "_model_module_version": "1.2.0",
            "_model_name": "LayoutModel",
            "_view_count": null,
            "_view_module": "@jupyter-widgets/base",
            "_view_module_version": "1.2.0",
            "_view_name": "LayoutView",
            "align_content": null,
            "align_items": null,
            "align_self": null,
            "border": null,
            "bottom": null,
            "display": null,
            "flex": null,
            "flex_flow": null,
            "grid_area": null,
            "grid_auto_columns": null,
            "grid_auto_flow": null,
            "grid_auto_rows": null,
            "grid_column": null,
            "grid_gap": null,
            "grid_row": null,
            "grid_template_areas": null,
            "grid_template_columns": null,
            "grid_template_rows": null,
            "height": null,
            "justify_content": null,
            "justify_items": null,
            "left": null,
            "margin": null,
            "max_height": null,
            "max_width": null,
            "min_height": null,
            "min_width": null,
            "object_fit": null,
            "object_position": null,
            "order": null,
            "overflow": null,
            "overflow_x": null,
            "overflow_y": null,
            "padding": null,
            "right": null,
            "top": null,
            "visibility": null,
            "width": null
          }
        },
        "8901ca0a0335409a90f52e486df1f764": {
          "model_module": "@jupyter-widgets/controls",
          "model_name": "ProgressStyleModel",
          "model_module_version": "1.5.0",
          "state": {
            "_model_module": "@jupyter-widgets/controls",
            "_model_module_version": "1.5.0",
            "_model_name": "ProgressStyleModel",
            "_view_count": null,
            "_view_module": "@jupyter-widgets/base",
            "_view_module_version": "1.2.0",
            "_view_name": "StyleView",
            "bar_color": null,
            "description_width": ""
          }
        },
        "c837d32b0aeb49c19233f3a7b2f7a817": {
          "model_module": "@jupyter-widgets/base",
          "model_name": "LayoutModel",
          "model_module_version": "1.2.0",
          "state": {
            "_model_module": "@jupyter-widgets/base",
            "_model_module_version": "1.2.0",
            "_model_name": "LayoutModel",
            "_view_count": null,
            "_view_module": "@jupyter-widgets/base",
            "_view_module_version": "1.2.0",
            "_view_name": "LayoutView",
            "align_content": null,
            "align_items": null,
            "align_self": null,
            "border": null,
            "bottom": null,
            "display": null,
            "flex": null,
            "flex_flow": null,
            "grid_area": null,
            "grid_auto_columns": null,
            "grid_auto_flow": null,
            "grid_auto_rows": null,
            "grid_column": null,
            "grid_gap": null,
            "grid_row": null,
            "grid_template_areas": null,
            "grid_template_columns": null,
            "grid_template_rows": null,
            "height": null,
            "justify_content": null,
            "justify_items": null,
            "left": null,
            "margin": null,
            "max_height": null,
            "max_width": null,
            "min_height": null,
            "min_width": null,
            "object_fit": null,
            "object_position": null,
            "order": null,
            "overflow": null,
            "overflow_x": null,
            "overflow_y": null,
            "padding": null,
            "right": null,
            "top": null,
            "visibility": null,
            "width": null
          }
        },
        "a6ddb5dde260485d8ee216fe9d22455b": {
          "model_module": "@jupyter-widgets/controls",
          "model_name": "DescriptionStyleModel",
          "model_module_version": "1.5.0",
          "state": {
            "_model_module": "@jupyter-widgets/controls",
            "_model_module_version": "1.5.0",
            "_model_name": "DescriptionStyleModel",
            "_view_count": null,
            "_view_module": "@jupyter-widgets/base",
            "_view_module_version": "1.2.0",
            "_view_name": "StyleView",
            "description_width": ""
          }
        },
        "63e638045e404aa5b46ee04ffdcbaf72": {
          "model_module": "@jupyter-widgets/controls",
          "model_name": "HBoxModel",
          "model_module_version": "1.5.0",
          "state": {
            "_dom_classes": [],
            "_model_module": "@jupyter-widgets/controls",
            "_model_module_version": "1.5.0",
            "_model_name": "HBoxModel",
            "_view_count": null,
            "_view_module": "@jupyter-widgets/controls",
            "_view_module_version": "1.5.0",
            "_view_name": "HBoxView",
            "box_style": "",
            "children": [
              "IPY_MODEL_deceb47cac3444a4850284cd19c9cee7",
              "IPY_MODEL_b078a7c9ec7348b2bee7c689111baebc",
              "IPY_MODEL_22c6a593d38243d19972e40081eb74a2"
            ],
            "layout": "IPY_MODEL_716bbd831bd54519b8ef2894b2b7c9fa"
          }
        },
        "deceb47cac3444a4850284cd19c9cee7": {
          "model_module": "@jupyter-widgets/controls",
          "model_name": "HTMLModel",
          "model_module_version": "1.5.0",
          "state": {
            "_dom_classes": [],
            "_model_module": "@jupyter-widgets/controls",
            "_model_module_version": "1.5.0",
            "_model_name": "HTMLModel",
            "_view_count": null,
            "_view_module": "@jupyter-widgets/controls",
            "_view_module_version": "1.5.0",
            "_view_name": "HTMLView",
            "description": "",
            "description_tooltip": null,
            "layout": "IPY_MODEL_f06e83b6cd504d5aa30773f0184b846f",
            "placeholder": "​",
            "style": "IPY_MODEL_5278be2b9ad14cfd990aaf7abc93cbc1",
            "value": "config_sentence_transformers.json: 100%"
          }
        },
        "b078a7c9ec7348b2bee7c689111baebc": {
          "model_module": "@jupyter-widgets/controls",
          "model_name": "FloatProgressModel",
          "model_module_version": "1.5.0",
          "state": {
            "_dom_classes": [],
            "_model_module": "@jupyter-widgets/controls",
            "_model_module_version": "1.5.0",
            "_model_name": "FloatProgressModel",
            "_view_count": null,
            "_view_module": "@jupyter-widgets/controls",
            "_view_module_version": "1.5.0",
            "_view_name": "ProgressView",
            "bar_style": "success",
            "description": "",
            "description_tooltip": null,
            "layout": "IPY_MODEL_d8d245e943814940a1e73ad579e3fda2",
            "max": 116,
            "min": 0,
            "orientation": "horizontal",
            "style": "IPY_MODEL_2b7c68e807b149d7acee534757d31a00",
            "value": 116
          }
        },
        "22c6a593d38243d19972e40081eb74a2": {
          "model_module": "@jupyter-widgets/controls",
          "model_name": "HTMLModel",
          "model_module_version": "1.5.0",
          "state": {
            "_dom_classes": [],
            "_model_module": "@jupyter-widgets/controls",
            "_model_module_version": "1.5.0",
            "_model_name": "HTMLModel",
            "_view_count": null,
            "_view_module": "@jupyter-widgets/controls",
            "_view_module_version": "1.5.0",
            "_view_name": "HTMLView",
            "description": "",
            "description_tooltip": null,
            "layout": "IPY_MODEL_c57cfad4e7a44ff090f7c758db95a914",
            "placeholder": "​",
            "style": "IPY_MODEL_c665ad5526584ed8b86af0a0abe6f037",
            "value": " 116/116 [00:00&lt;00:00, 2.39kB/s]"
          }
        },
        "716bbd831bd54519b8ef2894b2b7c9fa": {
          "model_module": "@jupyter-widgets/base",
          "model_name": "LayoutModel",
          "model_module_version": "1.2.0",
          "state": {
            "_model_module": "@jupyter-widgets/base",
            "_model_module_version": "1.2.0",
            "_model_name": "LayoutModel",
            "_view_count": null,
            "_view_module": "@jupyter-widgets/base",
            "_view_module_version": "1.2.0",
            "_view_name": "LayoutView",
            "align_content": null,
            "align_items": null,
            "align_self": null,
            "border": null,
            "bottom": null,
            "display": null,
            "flex": null,
            "flex_flow": null,
            "grid_area": null,
            "grid_auto_columns": null,
            "grid_auto_flow": null,
            "grid_auto_rows": null,
            "grid_column": null,
            "grid_gap": null,
            "grid_row": null,
            "grid_template_areas": null,
            "grid_template_columns": null,
            "grid_template_rows": null,
            "height": null,
            "justify_content": null,
            "justify_items": null,
            "left": null,
            "margin": null,
            "max_height": null,
            "max_width": null,
            "min_height": null,
            "min_width": null,
            "object_fit": null,
            "object_position": null,
            "order": null,
            "overflow": null,
            "overflow_x": null,
            "overflow_y": null,
            "padding": null,
            "right": null,
            "top": null,
            "visibility": null,
            "width": null
          }
        },
        "f06e83b6cd504d5aa30773f0184b846f": {
          "model_module": "@jupyter-widgets/base",
          "model_name": "LayoutModel",
          "model_module_version": "1.2.0",
          "state": {
            "_model_module": "@jupyter-widgets/base",
            "_model_module_version": "1.2.0",
            "_model_name": "LayoutModel",
            "_view_count": null,
            "_view_module": "@jupyter-widgets/base",
            "_view_module_version": "1.2.0",
            "_view_name": "LayoutView",
            "align_content": null,
            "align_items": null,
            "align_self": null,
            "border": null,
            "bottom": null,
            "display": null,
            "flex": null,
            "flex_flow": null,
            "grid_area": null,
            "grid_auto_columns": null,
            "grid_auto_flow": null,
            "grid_auto_rows": null,
            "grid_column": null,
            "grid_gap": null,
            "grid_row": null,
            "grid_template_areas": null,
            "grid_template_columns": null,
            "grid_template_rows": null,
            "height": null,
            "justify_content": null,
            "justify_items": null,
            "left": null,
            "margin": null,
            "max_height": null,
            "max_width": null,
            "min_height": null,
            "min_width": null,
            "object_fit": null,
            "object_position": null,
            "order": null,
            "overflow": null,
            "overflow_x": null,
            "overflow_y": null,
            "padding": null,
            "right": null,
            "top": null,
            "visibility": null,
            "width": null
          }
        },
        "5278be2b9ad14cfd990aaf7abc93cbc1": {
          "model_module": "@jupyter-widgets/controls",
          "model_name": "DescriptionStyleModel",
          "model_module_version": "1.5.0",
          "state": {
            "_model_module": "@jupyter-widgets/controls",
            "_model_module_version": "1.5.0",
            "_model_name": "DescriptionStyleModel",
            "_view_count": null,
            "_view_module": "@jupyter-widgets/base",
            "_view_module_version": "1.2.0",
            "_view_name": "StyleView",
            "description_width": ""
          }
        },
        "d8d245e943814940a1e73ad579e3fda2": {
          "model_module": "@jupyter-widgets/base",
          "model_name": "LayoutModel",
          "model_module_version": "1.2.0",
          "state": {
            "_model_module": "@jupyter-widgets/base",
            "_model_module_version": "1.2.0",
            "_model_name": "LayoutModel",
            "_view_count": null,
            "_view_module": "@jupyter-widgets/base",
            "_view_module_version": "1.2.0",
            "_view_name": "LayoutView",
            "align_content": null,
            "align_items": null,
            "align_self": null,
            "border": null,
            "bottom": null,
            "display": null,
            "flex": null,
            "flex_flow": null,
            "grid_area": null,
            "grid_auto_columns": null,
            "grid_auto_flow": null,
            "grid_auto_rows": null,
            "grid_column": null,
            "grid_gap": null,
            "grid_row": null,
            "grid_template_areas": null,
            "grid_template_columns": null,
            "grid_template_rows": null,
            "height": null,
            "justify_content": null,
            "justify_items": null,
            "left": null,
            "margin": null,
            "max_height": null,
            "max_width": null,
            "min_height": null,
            "min_width": null,
            "object_fit": null,
            "object_position": null,
            "order": null,
            "overflow": null,
            "overflow_x": null,
            "overflow_y": null,
            "padding": null,
            "right": null,
            "top": null,
            "visibility": null,
            "width": null
          }
        },
        "2b7c68e807b149d7acee534757d31a00": {
          "model_module": "@jupyter-widgets/controls",
          "model_name": "ProgressStyleModel",
          "model_module_version": "1.5.0",
          "state": {
            "_model_module": "@jupyter-widgets/controls",
            "_model_module_version": "1.5.0",
            "_model_name": "ProgressStyleModel",
            "_view_count": null,
            "_view_module": "@jupyter-widgets/base",
            "_view_module_version": "1.2.0",
            "_view_name": "StyleView",
            "bar_color": null,
            "description_width": ""
          }
        },
        "c57cfad4e7a44ff090f7c758db95a914": {
          "model_module": "@jupyter-widgets/base",
          "model_name": "LayoutModel",
          "model_module_version": "1.2.0",
          "state": {
            "_model_module": "@jupyter-widgets/base",
            "_model_module_version": "1.2.0",
            "_model_name": "LayoutModel",
            "_view_count": null,
            "_view_module": "@jupyter-widgets/base",
            "_view_module_version": "1.2.0",
            "_view_name": "LayoutView",
            "align_content": null,
            "align_items": null,
            "align_self": null,
            "border": null,
            "bottom": null,
            "display": null,
            "flex": null,
            "flex_flow": null,
            "grid_area": null,
            "grid_auto_columns": null,
            "grid_auto_flow": null,
            "grid_auto_rows": null,
            "grid_column": null,
            "grid_gap": null,
            "grid_row": null,
            "grid_template_areas": null,
            "grid_template_columns": null,
            "grid_template_rows": null,
            "height": null,
            "justify_content": null,
            "justify_items": null,
            "left": null,
            "margin": null,
            "max_height": null,
            "max_width": null,
            "min_height": null,
            "min_width": null,
            "object_fit": null,
            "object_position": null,
            "order": null,
            "overflow": null,
            "overflow_x": null,
            "overflow_y": null,
            "padding": null,
            "right": null,
            "top": null,
            "visibility": null,
            "width": null
          }
        },
        "c665ad5526584ed8b86af0a0abe6f037": {
          "model_module": "@jupyter-widgets/controls",
          "model_name": "DescriptionStyleModel",
          "model_module_version": "1.5.0",
          "state": {
            "_model_module": "@jupyter-widgets/controls",
            "_model_module_version": "1.5.0",
            "_model_name": "DescriptionStyleModel",
            "_view_count": null,
            "_view_module": "@jupyter-widgets/base",
            "_view_module_version": "1.2.0",
            "_view_name": "StyleView",
            "description_width": ""
          }
        },
        "eb16ddb753974e5a920b5b61231cf03a": {
          "model_module": "@jupyter-widgets/controls",
          "model_name": "HBoxModel",
          "model_module_version": "1.5.0",
          "state": {
            "_dom_classes": [],
            "_model_module": "@jupyter-widgets/controls",
            "_model_module_version": "1.5.0",
            "_model_name": "HBoxModel",
            "_view_count": null,
            "_view_module": "@jupyter-widgets/controls",
            "_view_module_version": "1.5.0",
            "_view_name": "HBoxView",
            "box_style": "",
            "children": [
              "IPY_MODEL_7fe6ffb9b25c4aabbf432b68868d38cf",
              "IPY_MODEL_1bad0c2897114600aee8493b6d5c9d63",
              "IPY_MODEL_571fccdce9094f4eac7a0328f0920fe7"
            ],
            "layout": "IPY_MODEL_c928560bf68e45e6bc76947b7e76c6bb"
          }
        },
        "7fe6ffb9b25c4aabbf432b68868d38cf": {
          "model_module": "@jupyter-widgets/controls",
          "model_name": "HTMLModel",
          "model_module_version": "1.5.0",
          "state": {
            "_dom_classes": [],
            "_model_module": "@jupyter-widgets/controls",
            "_model_module_version": "1.5.0",
            "_model_name": "HTMLModel",
            "_view_count": null,
            "_view_module": "@jupyter-widgets/controls",
            "_view_module_version": "1.5.0",
            "_view_name": "HTMLView",
            "description": "",
            "description_tooltip": null,
            "layout": "IPY_MODEL_4ee03f98e27f464e930cea2f6a0ded47",
            "placeholder": "​",
            "style": "IPY_MODEL_48f6e50debc243f7866ca287a15a9efa",
            "value": "README.md: 100%"
          }
        },
        "1bad0c2897114600aee8493b6d5c9d63": {
          "model_module": "@jupyter-widgets/controls",
          "model_name": "FloatProgressModel",
          "model_module_version": "1.5.0",
          "state": {
            "_dom_classes": [],
            "_model_module": "@jupyter-widgets/controls",
            "_model_module_version": "1.5.0",
            "_model_name": "FloatProgressModel",
            "_view_count": null,
            "_view_module": "@jupyter-widgets/controls",
            "_view_module_version": "1.5.0",
            "_view_name": "ProgressView",
            "bar_style": "success",
            "description": "",
            "description_tooltip": null,
            "layout": "IPY_MODEL_31064cada0164f32b929a843c02ff1b9",
            "max": 10454,
            "min": 0,
            "orientation": "horizontal",
            "style": "IPY_MODEL_b099d4400d30427797cb0fe31babcf44",
            "value": 10454
          }
        },
        "571fccdce9094f4eac7a0328f0920fe7": {
          "model_module": "@jupyter-widgets/controls",
          "model_name": "HTMLModel",
          "model_module_version": "1.5.0",
          "state": {
            "_dom_classes": [],
            "_model_module": "@jupyter-widgets/controls",
            "_model_module_version": "1.5.0",
            "_model_name": "HTMLModel",
            "_view_count": null,
            "_view_module": "@jupyter-widgets/controls",
            "_view_module_version": "1.5.0",
            "_view_name": "HTMLView",
            "description": "",
            "description_tooltip": null,
            "layout": "IPY_MODEL_e97c697a86ad49e5bfa4e733d23119e1",
            "placeholder": "​",
            "style": "IPY_MODEL_e02f33b9338e489dbb1af45dbd9939d2",
            "value": " 10.5k/10.5k [00:00&lt;00:00, 296kB/s]"
          }
        },
        "c928560bf68e45e6bc76947b7e76c6bb": {
          "model_module": "@jupyter-widgets/base",
          "model_name": "LayoutModel",
          "model_module_version": "1.2.0",
          "state": {
            "_model_module": "@jupyter-widgets/base",
            "_model_module_version": "1.2.0",
            "_model_name": "LayoutModel",
            "_view_count": null,
            "_view_module": "@jupyter-widgets/base",
            "_view_module_version": "1.2.0",
            "_view_name": "LayoutView",
            "align_content": null,
            "align_items": null,
            "align_self": null,
            "border": null,
            "bottom": null,
            "display": null,
            "flex": null,
            "flex_flow": null,
            "grid_area": null,
            "grid_auto_columns": null,
            "grid_auto_flow": null,
            "grid_auto_rows": null,
            "grid_column": null,
            "grid_gap": null,
            "grid_row": null,
            "grid_template_areas": null,
            "grid_template_columns": null,
            "grid_template_rows": null,
            "height": null,
            "justify_content": null,
            "justify_items": null,
            "left": null,
            "margin": null,
            "max_height": null,
            "max_width": null,
            "min_height": null,
            "min_width": null,
            "object_fit": null,
            "object_position": null,
            "order": null,
            "overflow": null,
            "overflow_x": null,
            "overflow_y": null,
            "padding": null,
            "right": null,
            "top": null,
            "visibility": null,
            "width": null
          }
        },
        "4ee03f98e27f464e930cea2f6a0ded47": {
          "model_module": "@jupyter-widgets/base",
          "model_name": "LayoutModel",
          "model_module_version": "1.2.0",
          "state": {
            "_model_module": "@jupyter-widgets/base",
            "_model_module_version": "1.2.0",
            "_model_name": "LayoutModel",
            "_view_count": null,
            "_view_module": "@jupyter-widgets/base",
            "_view_module_version": "1.2.0",
            "_view_name": "LayoutView",
            "align_content": null,
            "align_items": null,
            "align_self": null,
            "border": null,
            "bottom": null,
            "display": null,
            "flex": null,
            "flex_flow": null,
            "grid_area": null,
            "grid_auto_columns": null,
            "grid_auto_flow": null,
            "grid_auto_rows": null,
            "grid_column": null,
            "grid_gap": null,
            "grid_row": null,
            "grid_template_areas": null,
            "grid_template_columns": null,
            "grid_template_rows": null,
            "height": null,
            "justify_content": null,
            "justify_items": null,
            "left": null,
            "margin": null,
            "max_height": null,
            "max_width": null,
            "min_height": null,
            "min_width": null,
            "object_fit": null,
            "object_position": null,
            "order": null,
            "overflow": null,
            "overflow_x": null,
            "overflow_y": null,
            "padding": null,
            "right": null,
            "top": null,
            "visibility": null,
            "width": null
          }
        },
        "48f6e50debc243f7866ca287a15a9efa": {
          "model_module": "@jupyter-widgets/controls",
          "model_name": "DescriptionStyleModel",
          "model_module_version": "1.5.0",
          "state": {
            "_model_module": "@jupyter-widgets/controls",
            "_model_module_version": "1.5.0",
            "_model_name": "DescriptionStyleModel",
            "_view_count": null,
            "_view_module": "@jupyter-widgets/base",
            "_view_module_version": "1.2.0",
            "_view_name": "StyleView",
            "description_width": ""
          }
        },
        "31064cada0164f32b929a843c02ff1b9": {
          "model_module": "@jupyter-widgets/base",
          "model_name": "LayoutModel",
          "model_module_version": "1.2.0",
          "state": {
            "_model_module": "@jupyter-widgets/base",
            "_model_module_version": "1.2.0",
            "_model_name": "LayoutModel",
            "_view_count": null,
            "_view_module": "@jupyter-widgets/base",
            "_view_module_version": "1.2.0",
            "_view_name": "LayoutView",
            "align_content": null,
            "align_items": null,
            "align_self": null,
            "border": null,
            "bottom": null,
            "display": null,
            "flex": null,
            "flex_flow": null,
            "grid_area": null,
            "grid_auto_columns": null,
            "grid_auto_flow": null,
            "grid_auto_rows": null,
            "grid_column": null,
            "grid_gap": null,
            "grid_row": null,
            "grid_template_areas": null,
            "grid_template_columns": null,
            "grid_template_rows": null,
            "height": null,
            "justify_content": null,
            "justify_items": null,
            "left": null,
            "margin": null,
            "max_height": null,
            "max_width": null,
            "min_height": null,
            "min_width": null,
            "object_fit": null,
            "object_position": null,
            "order": null,
            "overflow": null,
            "overflow_x": null,
            "overflow_y": null,
            "padding": null,
            "right": null,
            "top": null,
            "visibility": null,
            "width": null
          }
        },
        "b099d4400d30427797cb0fe31babcf44": {
          "model_module": "@jupyter-widgets/controls",
          "model_name": "ProgressStyleModel",
          "model_module_version": "1.5.0",
          "state": {
            "_model_module": "@jupyter-widgets/controls",
            "_model_module_version": "1.5.0",
            "_model_name": "ProgressStyleModel",
            "_view_count": null,
            "_view_module": "@jupyter-widgets/base",
            "_view_module_version": "1.2.0",
            "_view_name": "StyleView",
            "bar_color": null,
            "description_width": ""
          }
        },
        "e97c697a86ad49e5bfa4e733d23119e1": {
          "model_module": "@jupyter-widgets/base",
          "model_name": "LayoutModel",
          "model_module_version": "1.2.0",
          "state": {
            "_model_module": "@jupyter-widgets/base",
            "_model_module_version": "1.2.0",
            "_model_name": "LayoutModel",
            "_view_count": null,
            "_view_module": "@jupyter-widgets/base",
            "_view_module_version": "1.2.0",
            "_view_name": "LayoutView",
            "align_content": null,
            "align_items": null,
            "align_self": null,
            "border": null,
            "bottom": null,
            "display": null,
            "flex": null,
            "flex_flow": null,
            "grid_area": null,
            "grid_auto_columns": null,
            "grid_auto_flow": null,
            "grid_auto_rows": null,
            "grid_column": null,
            "grid_gap": null,
            "grid_row": null,
            "grid_template_areas": null,
            "grid_template_columns": null,
            "grid_template_rows": null,
            "height": null,
            "justify_content": null,
            "justify_items": null,
            "left": null,
            "margin": null,
            "max_height": null,
            "max_width": null,
            "min_height": null,
            "min_width": null,
            "object_fit": null,
            "object_position": null,
            "order": null,
            "overflow": null,
            "overflow_x": null,
            "overflow_y": null,
            "padding": null,
            "right": null,
            "top": null,
            "visibility": null,
            "width": null
          }
        },
        "e02f33b9338e489dbb1af45dbd9939d2": {
          "model_module": "@jupyter-widgets/controls",
          "model_name": "DescriptionStyleModel",
          "model_module_version": "1.5.0",
          "state": {
            "_model_module": "@jupyter-widgets/controls",
            "_model_module_version": "1.5.0",
            "_model_name": "DescriptionStyleModel",
            "_view_count": null,
            "_view_module": "@jupyter-widgets/base",
            "_view_module_version": "1.2.0",
            "_view_name": "StyleView",
            "description_width": ""
          }
        },
        "c60f79a56ef245dfa2b6a0a62b3057b9": {
          "model_module": "@jupyter-widgets/controls",
          "model_name": "HBoxModel",
          "model_module_version": "1.5.0",
          "state": {
            "_dom_classes": [],
            "_model_module": "@jupyter-widgets/controls",
            "_model_module_version": "1.5.0",
            "_model_name": "HBoxModel",
            "_view_count": null,
            "_view_module": "@jupyter-widgets/controls",
            "_view_module_version": "1.5.0",
            "_view_name": "HBoxView",
            "box_style": "",
            "children": [
              "IPY_MODEL_253922d640ca4f59a6b9233e069aeaf6",
              "IPY_MODEL_c343b26976224decb4f24730e3f42ee1",
              "IPY_MODEL_36ca73b57a0444c58ec9b28e4e754d6d"
            ],
            "layout": "IPY_MODEL_9d8a83bd39274ab68fd338ab63486e0e"
          }
        },
        "253922d640ca4f59a6b9233e069aeaf6": {
          "model_module": "@jupyter-widgets/controls",
          "model_name": "HTMLModel",
          "model_module_version": "1.5.0",
          "state": {
            "_dom_classes": [],
            "_model_module": "@jupyter-widgets/controls",
            "_model_module_version": "1.5.0",
            "_model_name": "HTMLModel",
            "_view_count": null,
            "_view_module": "@jupyter-widgets/controls",
            "_view_module_version": "1.5.0",
            "_view_name": "HTMLView",
            "description": "",
            "description_tooltip": null,
            "layout": "IPY_MODEL_0b60d5928e9b4bfa95dbe0a1f533558b",
            "placeholder": "​",
            "style": "IPY_MODEL_d0ee930395d943b6985516410e3032e0",
            "value": "sentence_bert_config.json: 100%"
          }
        },
        "c343b26976224decb4f24730e3f42ee1": {
          "model_module": "@jupyter-widgets/controls",
          "model_name": "FloatProgressModel",
          "model_module_version": "1.5.0",
          "state": {
            "_dom_classes": [],
            "_model_module": "@jupyter-widgets/controls",
            "_model_module_version": "1.5.0",
            "_model_name": "FloatProgressModel",
            "_view_count": null,
            "_view_module": "@jupyter-widgets/controls",
            "_view_module_version": "1.5.0",
            "_view_name": "ProgressView",
            "bar_style": "success",
            "description": "",
            "description_tooltip": null,
            "layout": "IPY_MODEL_caaec18900ba456f998fd58d443b8668",
            "max": 53,
            "min": 0,
            "orientation": "horizontal",
            "style": "IPY_MODEL_9b8198f6152d4102a06a1b77154c5457",
            "value": 53
          }
        },
        "36ca73b57a0444c58ec9b28e4e754d6d": {
          "model_module": "@jupyter-widgets/controls",
          "model_name": "HTMLModel",
          "model_module_version": "1.5.0",
          "state": {
            "_dom_classes": [],
            "_model_module": "@jupyter-widgets/controls",
            "_model_module_version": "1.5.0",
            "_model_name": "HTMLModel",
            "_view_count": null,
            "_view_module": "@jupyter-widgets/controls",
            "_view_module_version": "1.5.0",
            "_view_name": "HTMLView",
            "description": "",
            "description_tooltip": null,
            "layout": "IPY_MODEL_63c80169466a4f0e84418d1f95f8f781",
            "placeholder": "​",
            "style": "IPY_MODEL_ba4e53be47584f80a598b4df6e83ca87",
            "value": " 53.0/53.0 [00:00&lt;00:00, 1.73kB/s]"
          }
        },
        "9d8a83bd39274ab68fd338ab63486e0e": {
          "model_module": "@jupyter-widgets/base",
          "model_name": "LayoutModel",
          "model_module_version": "1.2.0",
          "state": {
            "_model_module": "@jupyter-widgets/base",
            "_model_module_version": "1.2.0",
            "_model_name": "LayoutModel",
            "_view_count": null,
            "_view_module": "@jupyter-widgets/base",
            "_view_module_version": "1.2.0",
            "_view_name": "LayoutView",
            "align_content": null,
            "align_items": null,
            "align_self": null,
            "border": null,
            "bottom": null,
            "display": null,
            "flex": null,
            "flex_flow": null,
            "grid_area": null,
            "grid_auto_columns": null,
            "grid_auto_flow": null,
            "grid_auto_rows": null,
            "grid_column": null,
            "grid_gap": null,
            "grid_row": null,
            "grid_template_areas": null,
            "grid_template_columns": null,
            "grid_template_rows": null,
            "height": null,
            "justify_content": null,
            "justify_items": null,
            "left": null,
            "margin": null,
            "max_height": null,
            "max_width": null,
            "min_height": null,
            "min_width": null,
            "object_fit": null,
            "object_position": null,
            "order": null,
            "overflow": null,
            "overflow_x": null,
            "overflow_y": null,
            "padding": null,
            "right": null,
            "top": null,
            "visibility": null,
            "width": null
          }
        },
        "0b60d5928e9b4bfa95dbe0a1f533558b": {
          "model_module": "@jupyter-widgets/base",
          "model_name": "LayoutModel",
          "model_module_version": "1.2.0",
          "state": {
            "_model_module": "@jupyter-widgets/base",
            "_model_module_version": "1.2.0",
            "_model_name": "LayoutModel",
            "_view_count": null,
            "_view_module": "@jupyter-widgets/base",
            "_view_module_version": "1.2.0",
            "_view_name": "LayoutView",
            "align_content": null,
            "align_items": null,
            "align_self": null,
            "border": null,
            "bottom": null,
            "display": null,
            "flex": null,
            "flex_flow": null,
            "grid_area": null,
            "grid_auto_columns": null,
            "grid_auto_flow": null,
            "grid_auto_rows": null,
            "grid_column": null,
            "grid_gap": null,
            "grid_row": null,
            "grid_template_areas": null,
            "grid_template_columns": null,
            "grid_template_rows": null,
            "height": null,
            "justify_content": null,
            "justify_items": null,
            "left": null,
            "margin": null,
            "max_height": null,
            "max_width": null,
            "min_height": null,
            "min_width": null,
            "object_fit": null,
            "object_position": null,
            "order": null,
            "overflow": null,
            "overflow_x": null,
            "overflow_y": null,
            "padding": null,
            "right": null,
            "top": null,
            "visibility": null,
            "width": null
          }
        },
        "d0ee930395d943b6985516410e3032e0": {
          "model_module": "@jupyter-widgets/controls",
          "model_name": "DescriptionStyleModel",
          "model_module_version": "1.5.0",
          "state": {
            "_model_module": "@jupyter-widgets/controls",
            "_model_module_version": "1.5.0",
            "_model_name": "DescriptionStyleModel",
            "_view_count": null,
            "_view_module": "@jupyter-widgets/base",
            "_view_module_version": "1.2.0",
            "_view_name": "StyleView",
            "description_width": ""
          }
        },
        "caaec18900ba456f998fd58d443b8668": {
          "model_module": "@jupyter-widgets/base",
          "model_name": "LayoutModel",
          "model_module_version": "1.2.0",
          "state": {
            "_model_module": "@jupyter-widgets/base",
            "_model_module_version": "1.2.0",
            "_model_name": "LayoutModel",
            "_view_count": null,
            "_view_module": "@jupyter-widgets/base",
            "_view_module_version": "1.2.0",
            "_view_name": "LayoutView",
            "align_content": null,
            "align_items": null,
            "align_self": null,
            "border": null,
            "bottom": null,
            "display": null,
            "flex": null,
            "flex_flow": null,
            "grid_area": null,
            "grid_auto_columns": null,
            "grid_auto_flow": null,
            "grid_auto_rows": null,
            "grid_column": null,
            "grid_gap": null,
            "grid_row": null,
            "grid_template_areas": null,
            "grid_template_columns": null,
            "grid_template_rows": null,
            "height": null,
            "justify_content": null,
            "justify_items": null,
            "left": null,
            "margin": null,
            "max_height": null,
            "max_width": null,
            "min_height": null,
            "min_width": null,
            "object_fit": null,
            "object_position": null,
            "order": null,
            "overflow": null,
            "overflow_x": null,
            "overflow_y": null,
            "padding": null,
            "right": null,
            "top": null,
            "visibility": null,
            "width": null
          }
        },
        "9b8198f6152d4102a06a1b77154c5457": {
          "model_module": "@jupyter-widgets/controls",
          "model_name": "ProgressStyleModel",
          "model_module_version": "1.5.0",
          "state": {
            "_model_module": "@jupyter-widgets/controls",
            "_model_module_version": "1.5.0",
            "_model_name": "ProgressStyleModel",
            "_view_count": null,
            "_view_module": "@jupyter-widgets/base",
            "_view_module_version": "1.2.0",
            "_view_name": "StyleView",
            "bar_color": null,
            "description_width": ""
          }
        },
        "63c80169466a4f0e84418d1f95f8f781": {
          "model_module": "@jupyter-widgets/base",
          "model_name": "LayoutModel",
          "model_module_version": "1.2.0",
          "state": {
            "_model_module": "@jupyter-widgets/base",
            "_model_module_version": "1.2.0",
            "_model_name": "LayoutModel",
            "_view_count": null,
            "_view_module": "@jupyter-widgets/base",
            "_view_module_version": "1.2.0",
            "_view_name": "LayoutView",
            "align_content": null,
            "align_items": null,
            "align_self": null,
            "border": null,
            "bottom": null,
            "display": null,
            "flex": null,
            "flex_flow": null,
            "grid_area": null,
            "grid_auto_columns": null,
            "grid_auto_flow": null,
            "grid_auto_rows": null,
            "grid_column": null,
            "grid_gap": null,
            "grid_row": null,
            "grid_template_areas": null,
            "grid_template_columns": null,
            "grid_template_rows": null,
            "height": null,
            "justify_content": null,
            "justify_items": null,
            "left": null,
            "margin": null,
            "max_height": null,
            "max_width": null,
            "min_height": null,
            "min_width": null,
            "object_fit": null,
            "object_position": null,
            "order": null,
            "overflow": null,
            "overflow_x": null,
            "overflow_y": null,
            "padding": null,
            "right": null,
            "top": null,
            "visibility": null,
            "width": null
          }
        },
        "ba4e53be47584f80a598b4df6e83ca87": {
          "model_module": "@jupyter-widgets/controls",
          "model_name": "DescriptionStyleModel",
          "model_module_version": "1.5.0",
          "state": {
            "_model_module": "@jupyter-widgets/controls",
            "_model_module_version": "1.5.0",
            "_model_name": "DescriptionStyleModel",
            "_view_count": null,
            "_view_module": "@jupyter-widgets/base",
            "_view_module_version": "1.2.0",
            "_view_name": "StyleView",
            "description_width": ""
          }
        },
        "a1863746732a46619adb34f3a606a9ee": {
          "model_module": "@jupyter-widgets/controls",
          "model_name": "HBoxModel",
          "model_module_version": "1.5.0",
          "state": {
            "_dom_classes": [],
            "_model_module": "@jupyter-widgets/controls",
            "_model_module_version": "1.5.0",
            "_model_name": "HBoxModel",
            "_view_count": null,
            "_view_module": "@jupyter-widgets/controls",
            "_view_module_version": "1.5.0",
            "_view_name": "HBoxView",
            "box_style": "",
            "children": [
              "IPY_MODEL_1650c46b8c354e758629e9c3484967f2",
              "IPY_MODEL_4443945c61d54cdaa844c3d8f69ce797",
              "IPY_MODEL_62fbae6d8c8f4dd986e5908dde2cfa7d"
            ],
            "layout": "IPY_MODEL_a2a5581e8fb34f81871871b59a4be387"
          }
        },
        "1650c46b8c354e758629e9c3484967f2": {
          "model_module": "@jupyter-widgets/controls",
          "model_name": "HTMLModel",
          "model_module_version": "1.5.0",
          "state": {
            "_dom_classes": [],
            "_model_module": "@jupyter-widgets/controls",
            "_model_module_version": "1.5.0",
            "_model_name": "HTMLModel",
            "_view_count": null,
            "_view_module": "@jupyter-widgets/controls",
            "_view_module_version": "1.5.0",
            "_view_name": "HTMLView",
            "description": "",
            "description_tooltip": null,
            "layout": "IPY_MODEL_62eb039a096d452ca55854d225b0a773",
            "placeholder": "​",
            "style": "IPY_MODEL_36a22bd1d556473c8b5abb8db94fb30f",
            "value": "config.json: 100%"
          }
        },
        "4443945c61d54cdaa844c3d8f69ce797": {
          "model_module": "@jupyter-widgets/controls",
          "model_name": "FloatProgressModel",
          "model_module_version": "1.5.0",
          "state": {
            "_dom_classes": [],
            "_model_module": "@jupyter-widgets/controls",
            "_model_module_version": "1.5.0",
            "_model_name": "FloatProgressModel",
            "_view_count": null,
            "_view_module": "@jupyter-widgets/controls",
            "_view_module_version": "1.5.0",
            "_view_name": "ProgressView",
            "bar_style": "success",
            "description": "",
            "description_tooltip": null,
            "layout": "IPY_MODEL_fc02a889aded44c5aaf45e8ce7214221",
            "max": 612,
            "min": 0,
            "orientation": "horizontal",
            "style": "IPY_MODEL_f280970e29cb4ee9a3c8603e4b9e6023",
            "value": 612
          }
        },
        "62fbae6d8c8f4dd986e5908dde2cfa7d": {
          "model_module": "@jupyter-widgets/controls",
          "model_name": "HTMLModel",
          "model_module_version": "1.5.0",
          "state": {
            "_dom_classes": [],
            "_model_module": "@jupyter-widgets/controls",
            "_model_module_version": "1.5.0",
            "_model_name": "HTMLModel",
            "_view_count": null,
            "_view_module": "@jupyter-widgets/controls",
            "_view_module_version": "1.5.0",
            "_view_name": "HTMLView",
            "description": "",
            "description_tooltip": null,
            "layout": "IPY_MODEL_02d09a09b89b4605a6bf360425c7f48a",
            "placeholder": "​",
            "style": "IPY_MODEL_435db64a826b4abbb1f80fe275140b9f",
            "value": " 612/612 [00:00&lt;00:00, 17.4kB/s]"
          }
        },
        "a2a5581e8fb34f81871871b59a4be387": {
          "model_module": "@jupyter-widgets/base",
          "model_name": "LayoutModel",
          "model_module_version": "1.2.0",
          "state": {
            "_model_module": "@jupyter-widgets/base",
            "_model_module_version": "1.2.0",
            "_model_name": "LayoutModel",
            "_view_count": null,
            "_view_module": "@jupyter-widgets/base",
            "_view_module_version": "1.2.0",
            "_view_name": "LayoutView",
            "align_content": null,
            "align_items": null,
            "align_self": null,
            "border": null,
            "bottom": null,
            "display": null,
            "flex": null,
            "flex_flow": null,
            "grid_area": null,
            "grid_auto_columns": null,
            "grid_auto_flow": null,
            "grid_auto_rows": null,
            "grid_column": null,
            "grid_gap": null,
            "grid_row": null,
            "grid_template_areas": null,
            "grid_template_columns": null,
            "grid_template_rows": null,
            "height": null,
            "justify_content": null,
            "justify_items": null,
            "left": null,
            "margin": null,
            "max_height": null,
            "max_width": null,
            "min_height": null,
            "min_width": null,
            "object_fit": null,
            "object_position": null,
            "order": null,
            "overflow": null,
            "overflow_x": null,
            "overflow_y": null,
            "padding": null,
            "right": null,
            "top": null,
            "visibility": null,
            "width": null
          }
        },
        "62eb039a096d452ca55854d225b0a773": {
          "model_module": "@jupyter-widgets/base",
          "model_name": "LayoutModel",
          "model_module_version": "1.2.0",
          "state": {
            "_model_module": "@jupyter-widgets/base",
            "_model_module_version": "1.2.0",
            "_model_name": "LayoutModel",
            "_view_count": null,
            "_view_module": "@jupyter-widgets/base",
            "_view_module_version": "1.2.0",
            "_view_name": "LayoutView",
            "align_content": null,
            "align_items": null,
            "align_self": null,
            "border": null,
            "bottom": null,
            "display": null,
            "flex": null,
            "flex_flow": null,
            "grid_area": null,
            "grid_auto_columns": null,
            "grid_auto_flow": null,
            "grid_auto_rows": null,
            "grid_column": null,
            "grid_gap": null,
            "grid_row": null,
            "grid_template_areas": null,
            "grid_template_columns": null,
            "grid_template_rows": null,
            "height": null,
            "justify_content": null,
            "justify_items": null,
            "left": null,
            "margin": null,
            "max_height": null,
            "max_width": null,
            "min_height": null,
            "min_width": null,
            "object_fit": null,
            "object_position": null,
            "order": null,
            "overflow": null,
            "overflow_x": null,
            "overflow_y": null,
            "padding": null,
            "right": null,
            "top": null,
            "visibility": null,
            "width": null
          }
        },
        "36a22bd1d556473c8b5abb8db94fb30f": {
          "model_module": "@jupyter-widgets/controls",
          "model_name": "DescriptionStyleModel",
          "model_module_version": "1.5.0",
          "state": {
            "_model_module": "@jupyter-widgets/controls",
            "_model_module_version": "1.5.0",
            "_model_name": "DescriptionStyleModel",
            "_view_count": null,
            "_view_module": "@jupyter-widgets/base",
            "_view_module_version": "1.2.0",
            "_view_name": "StyleView",
            "description_width": ""
          }
        },
        "fc02a889aded44c5aaf45e8ce7214221": {
          "model_module": "@jupyter-widgets/base",
          "model_name": "LayoutModel",
          "model_module_version": "1.2.0",
          "state": {
            "_model_module": "@jupyter-widgets/base",
            "_model_module_version": "1.2.0",
            "_model_name": "LayoutModel",
            "_view_count": null,
            "_view_module": "@jupyter-widgets/base",
            "_view_module_version": "1.2.0",
            "_view_name": "LayoutView",
            "align_content": null,
            "align_items": null,
            "align_self": null,
            "border": null,
            "bottom": null,
            "display": null,
            "flex": null,
            "flex_flow": null,
            "grid_area": null,
            "grid_auto_columns": null,
            "grid_auto_flow": null,
            "grid_auto_rows": null,
            "grid_column": null,
            "grid_gap": null,
            "grid_row": null,
            "grid_template_areas": null,
            "grid_template_columns": null,
            "grid_template_rows": null,
            "height": null,
            "justify_content": null,
            "justify_items": null,
            "left": null,
            "margin": null,
            "max_height": null,
            "max_width": null,
            "min_height": null,
            "min_width": null,
            "object_fit": null,
            "object_position": null,
            "order": null,
            "overflow": null,
            "overflow_x": null,
            "overflow_y": null,
            "padding": null,
            "right": null,
            "top": null,
            "visibility": null,
            "width": null
          }
        },
        "f280970e29cb4ee9a3c8603e4b9e6023": {
          "model_module": "@jupyter-widgets/controls",
          "model_name": "ProgressStyleModel",
          "model_module_version": "1.5.0",
          "state": {
            "_model_module": "@jupyter-widgets/controls",
            "_model_module_version": "1.5.0",
            "_model_name": "ProgressStyleModel",
            "_view_count": null,
            "_view_module": "@jupyter-widgets/base",
            "_view_module_version": "1.2.0",
            "_view_name": "StyleView",
            "bar_color": null,
            "description_width": ""
          }
        },
        "02d09a09b89b4605a6bf360425c7f48a": {
          "model_module": "@jupyter-widgets/base",
          "model_name": "LayoutModel",
          "model_module_version": "1.2.0",
          "state": {
            "_model_module": "@jupyter-widgets/base",
            "_model_module_version": "1.2.0",
            "_model_name": "LayoutModel",
            "_view_count": null,
            "_view_module": "@jupyter-widgets/base",
            "_view_module_version": "1.2.0",
            "_view_name": "LayoutView",
            "align_content": null,
            "align_items": null,
            "align_self": null,
            "border": null,
            "bottom": null,
            "display": null,
            "flex": null,
            "flex_flow": null,
            "grid_area": null,
            "grid_auto_columns": null,
            "grid_auto_flow": null,
            "grid_auto_rows": null,
            "grid_column": null,
            "grid_gap": null,
            "grid_row": null,
            "grid_template_areas": null,
            "grid_template_columns": null,
            "grid_template_rows": null,
            "height": null,
            "justify_content": null,
            "justify_items": null,
            "left": null,
            "margin": null,
            "max_height": null,
            "max_width": null,
            "min_height": null,
            "min_width": null,
            "object_fit": null,
            "object_position": null,
            "order": null,
            "overflow": null,
            "overflow_x": null,
            "overflow_y": null,
            "padding": null,
            "right": null,
            "top": null,
            "visibility": null,
            "width": null
          }
        },
        "435db64a826b4abbb1f80fe275140b9f": {
          "model_module": "@jupyter-widgets/controls",
          "model_name": "DescriptionStyleModel",
          "model_module_version": "1.5.0",
          "state": {
            "_model_module": "@jupyter-widgets/controls",
            "_model_module_version": "1.5.0",
            "_model_name": "DescriptionStyleModel",
            "_view_count": null,
            "_view_module": "@jupyter-widgets/base",
            "_view_module_version": "1.2.0",
            "_view_name": "StyleView",
            "description_width": ""
          }
        },
        "954799a53ed44cc2b9c5fd4a88d95aa2": {
          "model_module": "@jupyter-widgets/controls",
          "model_name": "HBoxModel",
          "model_module_version": "1.5.0",
          "state": {
            "_dom_classes": [],
            "_model_module": "@jupyter-widgets/controls",
            "_model_module_version": "1.5.0",
            "_model_name": "HBoxModel",
            "_view_count": null,
            "_view_module": "@jupyter-widgets/controls",
            "_view_module_version": "1.5.0",
            "_view_name": "HBoxView",
            "box_style": "",
            "children": [
              "IPY_MODEL_b9a914e7074348a2960eaa8b298440de",
              "IPY_MODEL_dcaca96db19d477caee68718ad2084fc",
              "IPY_MODEL_cbad1484e27c4267b25375336c4143aa"
            ],
            "layout": "IPY_MODEL_dcac1ce887214dbf87290b880589ebac"
          }
        },
        "b9a914e7074348a2960eaa8b298440de": {
          "model_module": "@jupyter-widgets/controls",
          "model_name": "HTMLModel",
          "model_module_version": "1.5.0",
          "state": {
            "_dom_classes": [],
            "_model_module": "@jupyter-widgets/controls",
            "_model_module_version": "1.5.0",
            "_model_name": "HTMLModel",
            "_view_count": null,
            "_view_module": "@jupyter-widgets/controls",
            "_view_module_version": "1.5.0",
            "_view_name": "HTMLView",
            "description": "",
            "description_tooltip": null,
            "layout": "IPY_MODEL_51e78561e0c941b2aad6163c44935093",
            "placeholder": "​",
            "style": "IPY_MODEL_177413748b504ed38efd67c8955574ed",
            "value": "model.safetensors: 100%"
          }
        },
        "dcaca96db19d477caee68718ad2084fc": {
          "model_module": "@jupyter-widgets/controls",
          "model_name": "FloatProgressModel",
          "model_module_version": "1.5.0",
          "state": {
            "_dom_classes": [],
            "_model_module": "@jupyter-widgets/controls",
            "_model_module_version": "1.5.0",
            "_model_name": "FloatProgressModel",
            "_view_count": null,
            "_view_module": "@jupyter-widgets/controls",
            "_view_module_version": "1.5.0",
            "_view_name": "ProgressView",
            "bar_style": "success",
            "description": "",
            "description_tooltip": null,
            "layout": "IPY_MODEL_d82c24fdcc4b42d995a3898b74bff2ae",
            "max": 90868376,
            "min": 0,
            "orientation": "horizontal",
            "style": "IPY_MODEL_23ada92d482c409fb0f9a6bf6f8e1f1d",
            "value": 90868376
          }
        },
        "cbad1484e27c4267b25375336c4143aa": {
          "model_module": "@jupyter-widgets/controls",
          "model_name": "HTMLModel",
          "model_module_version": "1.5.0",
          "state": {
            "_dom_classes": [],
            "_model_module": "@jupyter-widgets/controls",
            "_model_module_version": "1.5.0",
            "_model_name": "HTMLModel",
            "_view_count": null,
            "_view_module": "@jupyter-widgets/controls",
            "_view_module_version": "1.5.0",
            "_view_name": "HTMLView",
            "description": "",
            "description_tooltip": null,
            "layout": "IPY_MODEL_4ec53de81b27460fbc274a4761acee45",
            "placeholder": "​",
            "style": "IPY_MODEL_3f5e94923a2944829a9cff438dbb1f86",
            "value": " 90.9M/90.9M [00:01&lt;00:00, 94.0MB/s]"
          }
        },
        "dcac1ce887214dbf87290b880589ebac": {
          "model_module": "@jupyter-widgets/base",
          "model_name": "LayoutModel",
          "model_module_version": "1.2.0",
          "state": {
            "_model_module": "@jupyter-widgets/base",
            "_model_module_version": "1.2.0",
            "_model_name": "LayoutModel",
            "_view_count": null,
            "_view_module": "@jupyter-widgets/base",
            "_view_module_version": "1.2.0",
            "_view_name": "LayoutView",
            "align_content": null,
            "align_items": null,
            "align_self": null,
            "border": null,
            "bottom": null,
            "display": null,
            "flex": null,
            "flex_flow": null,
            "grid_area": null,
            "grid_auto_columns": null,
            "grid_auto_flow": null,
            "grid_auto_rows": null,
            "grid_column": null,
            "grid_gap": null,
            "grid_row": null,
            "grid_template_areas": null,
            "grid_template_columns": null,
            "grid_template_rows": null,
            "height": null,
            "justify_content": null,
            "justify_items": null,
            "left": null,
            "margin": null,
            "max_height": null,
            "max_width": null,
            "min_height": null,
            "min_width": null,
            "object_fit": null,
            "object_position": null,
            "order": null,
            "overflow": null,
            "overflow_x": null,
            "overflow_y": null,
            "padding": null,
            "right": null,
            "top": null,
            "visibility": null,
            "width": null
          }
        },
        "51e78561e0c941b2aad6163c44935093": {
          "model_module": "@jupyter-widgets/base",
          "model_name": "LayoutModel",
          "model_module_version": "1.2.0",
          "state": {
            "_model_module": "@jupyter-widgets/base",
            "_model_module_version": "1.2.0",
            "_model_name": "LayoutModel",
            "_view_count": null,
            "_view_module": "@jupyter-widgets/base",
            "_view_module_version": "1.2.0",
            "_view_name": "LayoutView",
            "align_content": null,
            "align_items": null,
            "align_self": null,
            "border": null,
            "bottom": null,
            "display": null,
            "flex": null,
            "flex_flow": null,
            "grid_area": null,
            "grid_auto_columns": null,
            "grid_auto_flow": null,
            "grid_auto_rows": null,
            "grid_column": null,
            "grid_gap": null,
            "grid_row": null,
            "grid_template_areas": null,
            "grid_template_columns": null,
            "grid_template_rows": null,
            "height": null,
            "justify_content": null,
            "justify_items": null,
            "left": null,
            "margin": null,
            "max_height": null,
            "max_width": null,
            "min_height": null,
            "min_width": null,
            "object_fit": null,
            "object_position": null,
            "order": null,
            "overflow": null,
            "overflow_x": null,
            "overflow_y": null,
            "padding": null,
            "right": null,
            "top": null,
            "visibility": null,
            "width": null
          }
        },
        "177413748b504ed38efd67c8955574ed": {
          "model_module": "@jupyter-widgets/controls",
          "model_name": "DescriptionStyleModel",
          "model_module_version": "1.5.0",
          "state": {
            "_model_module": "@jupyter-widgets/controls",
            "_model_module_version": "1.5.0",
            "_model_name": "DescriptionStyleModel",
            "_view_count": null,
            "_view_module": "@jupyter-widgets/base",
            "_view_module_version": "1.2.0",
            "_view_name": "StyleView",
            "description_width": ""
          }
        },
        "d82c24fdcc4b42d995a3898b74bff2ae": {
          "model_module": "@jupyter-widgets/base",
          "model_name": "LayoutModel",
          "model_module_version": "1.2.0",
          "state": {
            "_model_module": "@jupyter-widgets/base",
            "_model_module_version": "1.2.0",
            "_model_name": "LayoutModel",
            "_view_count": null,
            "_view_module": "@jupyter-widgets/base",
            "_view_module_version": "1.2.0",
            "_view_name": "LayoutView",
            "align_content": null,
            "align_items": null,
            "align_self": null,
            "border": null,
            "bottom": null,
            "display": null,
            "flex": null,
            "flex_flow": null,
            "grid_area": null,
            "grid_auto_columns": null,
            "grid_auto_flow": null,
            "grid_auto_rows": null,
            "grid_column": null,
            "grid_gap": null,
            "grid_row": null,
            "grid_template_areas": null,
            "grid_template_columns": null,
            "grid_template_rows": null,
            "height": null,
            "justify_content": null,
            "justify_items": null,
            "left": null,
            "margin": null,
            "max_height": null,
            "max_width": null,
            "min_height": null,
            "min_width": null,
            "object_fit": null,
            "object_position": null,
            "order": null,
            "overflow": null,
            "overflow_x": null,
            "overflow_y": null,
            "padding": null,
            "right": null,
            "top": null,
            "visibility": null,
            "width": null
          }
        },
        "23ada92d482c409fb0f9a6bf6f8e1f1d": {
          "model_module": "@jupyter-widgets/controls",
          "model_name": "ProgressStyleModel",
          "model_module_version": "1.5.0",
          "state": {
            "_model_module": "@jupyter-widgets/controls",
            "_model_module_version": "1.5.0",
            "_model_name": "ProgressStyleModel",
            "_view_count": null,
            "_view_module": "@jupyter-widgets/base",
            "_view_module_version": "1.2.0",
            "_view_name": "StyleView",
            "bar_color": null,
            "description_width": ""
          }
        },
        "4ec53de81b27460fbc274a4761acee45": {
          "model_module": "@jupyter-widgets/base",
          "model_name": "LayoutModel",
          "model_module_version": "1.2.0",
          "state": {
            "_model_module": "@jupyter-widgets/base",
            "_model_module_version": "1.2.0",
            "_model_name": "LayoutModel",
            "_view_count": null,
            "_view_module": "@jupyter-widgets/base",
            "_view_module_version": "1.2.0",
            "_view_name": "LayoutView",
            "align_content": null,
            "align_items": null,
            "align_self": null,
            "border": null,
            "bottom": null,
            "display": null,
            "flex": null,
            "flex_flow": null,
            "grid_area": null,
            "grid_auto_columns": null,
            "grid_auto_flow": null,
            "grid_auto_rows": null,
            "grid_column": null,
            "grid_gap": null,
            "grid_row": null,
            "grid_template_areas": null,
            "grid_template_columns": null,
            "grid_template_rows": null,
            "height": null,
            "justify_content": null,
            "justify_items": null,
            "left": null,
            "margin": null,
            "max_height": null,
            "max_width": null,
            "min_height": null,
            "min_width": null,
            "object_fit": null,
            "object_position": null,
            "order": null,
            "overflow": null,
            "overflow_x": null,
            "overflow_y": null,
            "padding": null,
            "right": null,
            "top": null,
            "visibility": null,
            "width": null
          }
        },
        "3f5e94923a2944829a9cff438dbb1f86": {
          "model_module": "@jupyter-widgets/controls",
          "model_name": "DescriptionStyleModel",
          "model_module_version": "1.5.0",
          "state": {
            "_model_module": "@jupyter-widgets/controls",
            "_model_module_version": "1.5.0",
            "_model_name": "DescriptionStyleModel",
            "_view_count": null,
            "_view_module": "@jupyter-widgets/base",
            "_view_module_version": "1.2.0",
            "_view_name": "StyleView",
            "description_width": ""
          }
        },
        "9a91f057b9d24382b2ae0e21935d88ec": {
          "model_module": "@jupyter-widgets/controls",
          "model_name": "HBoxModel",
          "model_module_version": "1.5.0",
          "state": {
            "_dom_classes": [],
            "_model_module": "@jupyter-widgets/controls",
            "_model_module_version": "1.5.0",
            "_model_name": "HBoxModel",
            "_view_count": null,
            "_view_module": "@jupyter-widgets/controls",
            "_view_module_version": "1.5.0",
            "_view_name": "HBoxView",
            "box_style": "",
            "children": [
              "IPY_MODEL_64b9a26cac944480965dd4a6001305d2",
              "IPY_MODEL_c2136bb7834b45f19269436a1bd2cee7",
              "IPY_MODEL_dd44077232e9414db13c8ea1230f8ee7"
            ],
            "layout": "IPY_MODEL_6083d093cd0a4092a65d1bec365e33bd"
          }
        },
        "64b9a26cac944480965dd4a6001305d2": {
          "model_module": "@jupyter-widgets/controls",
          "model_name": "HTMLModel",
          "model_module_version": "1.5.0",
          "state": {
            "_dom_classes": [],
            "_model_module": "@jupyter-widgets/controls",
            "_model_module_version": "1.5.0",
            "_model_name": "HTMLModel",
            "_view_count": null,
            "_view_module": "@jupyter-widgets/controls",
            "_view_module_version": "1.5.0",
            "_view_name": "HTMLView",
            "description": "",
            "description_tooltip": null,
            "layout": "IPY_MODEL_f1a56c3cb7f0454182bddcac7dc41ae3",
            "placeholder": "​",
            "style": "IPY_MODEL_54e47c7cc83a44e8b1cf3c19bc6a04fc",
            "value": "tokenizer_config.json: 100%"
          }
        },
        "c2136bb7834b45f19269436a1bd2cee7": {
          "model_module": "@jupyter-widgets/controls",
          "model_name": "FloatProgressModel",
          "model_module_version": "1.5.0",
          "state": {
            "_dom_classes": [],
            "_model_module": "@jupyter-widgets/controls",
            "_model_module_version": "1.5.0",
            "_model_name": "FloatProgressModel",
            "_view_count": null,
            "_view_module": "@jupyter-widgets/controls",
            "_view_module_version": "1.5.0",
            "_view_name": "ProgressView",
            "bar_style": "success",
            "description": "",
            "description_tooltip": null,
            "layout": "IPY_MODEL_a1b4db00afb14bfaa19e18ddc9dd54b0",
            "max": 350,
            "min": 0,
            "orientation": "horizontal",
            "style": "IPY_MODEL_8ccc27315dc648f09125a085d0a7c3d4",
            "value": 350
          }
        },
        "dd44077232e9414db13c8ea1230f8ee7": {
          "model_module": "@jupyter-widgets/controls",
          "model_name": "HTMLModel",
          "model_module_version": "1.5.0",
          "state": {
            "_dom_classes": [],
            "_model_module": "@jupyter-widgets/controls",
            "_model_module_version": "1.5.0",
            "_model_name": "HTMLModel",
            "_view_count": null,
            "_view_module": "@jupyter-widgets/controls",
            "_view_module_version": "1.5.0",
            "_view_name": "HTMLView",
            "description": "",
            "description_tooltip": null,
            "layout": "IPY_MODEL_9030c8e262b642b2a30366966692dd1b",
            "placeholder": "​",
            "style": "IPY_MODEL_bec43fc96f5744b094eafbc703d3aea4",
            "value": " 350/350 [00:00&lt;00:00, 28.8kB/s]"
          }
        },
        "6083d093cd0a4092a65d1bec365e33bd": {
          "model_module": "@jupyter-widgets/base",
          "model_name": "LayoutModel",
          "model_module_version": "1.2.0",
          "state": {
            "_model_module": "@jupyter-widgets/base",
            "_model_module_version": "1.2.0",
            "_model_name": "LayoutModel",
            "_view_count": null,
            "_view_module": "@jupyter-widgets/base",
            "_view_module_version": "1.2.0",
            "_view_name": "LayoutView",
            "align_content": null,
            "align_items": null,
            "align_self": null,
            "border": null,
            "bottom": null,
            "display": null,
            "flex": null,
            "flex_flow": null,
            "grid_area": null,
            "grid_auto_columns": null,
            "grid_auto_flow": null,
            "grid_auto_rows": null,
            "grid_column": null,
            "grid_gap": null,
            "grid_row": null,
            "grid_template_areas": null,
            "grid_template_columns": null,
            "grid_template_rows": null,
            "height": null,
            "justify_content": null,
            "justify_items": null,
            "left": null,
            "margin": null,
            "max_height": null,
            "max_width": null,
            "min_height": null,
            "min_width": null,
            "object_fit": null,
            "object_position": null,
            "order": null,
            "overflow": null,
            "overflow_x": null,
            "overflow_y": null,
            "padding": null,
            "right": null,
            "top": null,
            "visibility": null,
            "width": null
          }
        },
        "f1a56c3cb7f0454182bddcac7dc41ae3": {
          "model_module": "@jupyter-widgets/base",
          "model_name": "LayoutModel",
          "model_module_version": "1.2.0",
          "state": {
            "_model_module": "@jupyter-widgets/base",
            "_model_module_version": "1.2.0",
            "_model_name": "LayoutModel",
            "_view_count": null,
            "_view_module": "@jupyter-widgets/base",
            "_view_module_version": "1.2.0",
            "_view_name": "LayoutView",
            "align_content": null,
            "align_items": null,
            "align_self": null,
            "border": null,
            "bottom": null,
            "display": null,
            "flex": null,
            "flex_flow": null,
            "grid_area": null,
            "grid_auto_columns": null,
            "grid_auto_flow": null,
            "grid_auto_rows": null,
            "grid_column": null,
            "grid_gap": null,
            "grid_row": null,
            "grid_template_areas": null,
            "grid_template_columns": null,
            "grid_template_rows": null,
            "height": null,
            "justify_content": null,
            "justify_items": null,
            "left": null,
            "margin": null,
            "max_height": null,
            "max_width": null,
            "min_height": null,
            "min_width": null,
            "object_fit": null,
            "object_position": null,
            "order": null,
            "overflow": null,
            "overflow_x": null,
            "overflow_y": null,
            "padding": null,
            "right": null,
            "top": null,
            "visibility": null,
            "width": null
          }
        },
        "54e47c7cc83a44e8b1cf3c19bc6a04fc": {
          "model_module": "@jupyter-widgets/controls",
          "model_name": "DescriptionStyleModel",
          "model_module_version": "1.5.0",
          "state": {
            "_model_module": "@jupyter-widgets/controls",
            "_model_module_version": "1.5.0",
            "_model_name": "DescriptionStyleModel",
            "_view_count": null,
            "_view_module": "@jupyter-widgets/base",
            "_view_module_version": "1.2.0",
            "_view_name": "StyleView",
            "description_width": ""
          }
        },
        "a1b4db00afb14bfaa19e18ddc9dd54b0": {
          "model_module": "@jupyter-widgets/base",
          "model_name": "LayoutModel",
          "model_module_version": "1.2.0",
          "state": {
            "_model_module": "@jupyter-widgets/base",
            "_model_module_version": "1.2.0",
            "_model_name": "LayoutModel",
            "_view_count": null,
            "_view_module": "@jupyter-widgets/base",
            "_view_module_version": "1.2.0",
            "_view_name": "LayoutView",
            "align_content": null,
            "align_items": null,
            "align_self": null,
            "border": null,
            "bottom": null,
            "display": null,
            "flex": null,
            "flex_flow": null,
            "grid_area": null,
            "grid_auto_columns": null,
            "grid_auto_flow": null,
            "grid_auto_rows": null,
            "grid_column": null,
            "grid_gap": null,
            "grid_row": null,
            "grid_template_areas": null,
            "grid_template_columns": null,
            "grid_template_rows": null,
            "height": null,
            "justify_content": null,
            "justify_items": null,
            "left": null,
            "margin": null,
            "max_height": null,
            "max_width": null,
            "min_height": null,
            "min_width": null,
            "object_fit": null,
            "object_position": null,
            "order": null,
            "overflow": null,
            "overflow_x": null,
            "overflow_y": null,
            "padding": null,
            "right": null,
            "top": null,
            "visibility": null,
            "width": null
          }
        },
        "8ccc27315dc648f09125a085d0a7c3d4": {
          "model_module": "@jupyter-widgets/controls",
          "model_name": "ProgressStyleModel",
          "model_module_version": "1.5.0",
          "state": {
            "_model_module": "@jupyter-widgets/controls",
            "_model_module_version": "1.5.0",
            "_model_name": "ProgressStyleModel",
            "_view_count": null,
            "_view_module": "@jupyter-widgets/base",
            "_view_module_version": "1.2.0",
            "_view_name": "StyleView",
            "bar_color": null,
            "description_width": ""
          }
        },
        "9030c8e262b642b2a30366966692dd1b": {
          "model_module": "@jupyter-widgets/base",
          "model_name": "LayoutModel",
          "model_module_version": "1.2.0",
          "state": {
            "_model_module": "@jupyter-widgets/base",
            "_model_module_version": "1.2.0",
            "_model_name": "LayoutModel",
            "_view_count": null,
            "_view_module": "@jupyter-widgets/base",
            "_view_module_version": "1.2.0",
            "_view_name": "LayoutView",
            "align_content": null,
            "align_items": null,
            "align_self": null,
            "border": null,
            "bottom": null,
            "display": null,
            "flex": null,
            "flex_flow": null,
            "grid_area": null,
            "grid_auto_columns": null,
            "grid_auto_flow": null,
            "grid_auto_rows": null,
            "grid_column": null,
            "grid_gap": null,
            "grid_row": null,
            "grid_template_areas": null,
            "grid_template_columns": null,
            "grid_template_rows": null,
            "height": null,
            "justify_content": null,
            "justify_items": null,
            "left": null,
            "margin": null,
            "max_height": null,
            "max_width": null,
            "min_height": null,
            "min_width": null,
            "object_fit": null,
            "object_position": null,
            "order": null,
            "overflow": null,
            "overflow_x": null,
            "overflow_y": null,
            "padding": null,
            "right": null,
            "top": null,
            "visibility": null,
            "width": null
          }
        },
        "bec43fc96f5744b094eafbc703d3aea4": {
          "model_module": "@jupyter-widgets/controls",
          "model_name": "DescriptionStyleModel",
          "model_module_version": "1.5.0",
          "state": {
            "_model_module": "@jupyter-widgets/controls",
            "_model_module_version": "1.5.0",
            "_model_name": "DescriptionStyleModel",
            "_view_count": null,
            "_view_module": "@jupyter-widgets/base",
            "_view_module_version": "1.2.0",
            "_view_name": "StyleView",
            "description_width": ""
          }
        },
        "154bc9dcff25451287b8ac9bf27316c7": {
          "model_module": "@jupyter-widgets/controls",
          "model_name": "HBoxModel",
          "model_module_version": "1.5.0",
          "state": {
            "_dom_classes": [],
            "_model_module": "@jupyter-widgets/controls",
            "_model_module_version": "1.5.0",
            "_model_name": "HBoxModel",
            "_view_count": null,
            "_view_module": "@jupyter-widgets/controls",
            "_view_module_version": "1.5.0",
            "_view_name": "HBoxView",
            "box_style": "",
            "children": [
              "IPY_MODEL_4793723a54b84c19825f4444cda83ca8",
              "IPY_MODEL_9d950d4a0f6a428fb28fc05b3f943b43",
              "IPY_MODEL_8aed938f5c024323a6e854433006807d"
            ],
            "layout": "IPY_MODEL_165d10f54e1944bd843e101414b57f39"
          }
        },
        "4793723a54b84c19825f4444cda83ca8": {
          "model_module": "@jupyter-widgets/controls",
          "model_name": "HTMLModel",
          "model_module_version": "1.5.0",
          "state": {
            "_dom_classes": [],
            "_model_module": "@jupyter-widgets/controls",
            "_model_module_version": "1.5.0",
            "_model_name": "HTMLModel",
            "_view_count": null,
            "_view_module": "@jupyter-widgets/controls",
            "_view_module_version": "1.5.0",
            "_view_name": "HTMLView",
            "description": "",
            "description_tooltip": null,
            "layout": "IPY_MODEL_4c59dfb2a93f4637ba30ca560e89ca48",
            "placeholder": "​",
            "style": "IPY_MODEL_4647351b71d4427cb76737c74506845f",
            "value": "vocab.txt: 100%"
          }
        },
        "9d950d4a0f6a428fb28fc05b3f943b43": {
          "model_module": "@jupyter-widgets/controls",
          "model_name": "FloatProgressModel",
          "model_module_version": "1.5.0",
          "state": {
            "_dom_classes": [],
            "_model_module": "@jupyter-widgets/controls",
            "_model_module_version": "1.5.0",
            "_model_name": "FloatProgressModel",
            "_view_count": null,
            "_view_module": "@jupyter-widgets/controls",
            "_view_module_version": "1.5.0",
            "_view_name": "ProgressView",
            "bar_style": "success",
            "description": "",
            "description_tooltip": null,
            "layout": "IPY_MODEL_ae4eb5ed2dd6461e82d9ace7c43ffb93",
            "max": 231508,
            "min": 0,
            "orientation": "horizontal",
            "style": "IPY_MODEL_e81d9d46ac0e4715bbe3191666ba11b6",
            "value": 231508
          }
        },
        "8aed938f5c024323a6e854433006807d": {
          "model_module": "@jupyter-widgets/controls",
          "model_name": "HTMLModel",
          "model_module_version": "1.5.0",
          "state": {
            "_dom_classes": [],
            "_model_module": "@jupyter-widgets/controls",
            "_model_module_version": "1.5.0",
            "_model_name": "HTMLModel",
            "_view_count": null,
            "_view_module": "@jupyter-widgets/controls",
            "_view_module_version": "1.5.0",
            "_view_name": "HTMLView",
            "description": "",
            "description_tooltip": null,
            "layout": "IPY_MODEL_2bf38574e1854ae295b16db541100643",
            "placeholder": "​",
            "style": "IPY_MODEL_cd840795580446d395585710cc60cd29",
            "value": " 232k/232k [00:00&lt;00:00, 9.22MB/s]"
          }
        },
        "165d10f54e1944bd843e101414b57f39": {
          "model_module": "@jupyter-widgets/base",
          "model_name": "LayoutModel",
          "model_module_version": "1.2.0",
          "state": {
            "_model_module": "@jupyter-widgets/base",
            "_model_module_version": "1.2.0",
            "_model_name": "LayoutModel",
            "_view_count": null,
            "_view_module": "@jupyter-widgets/base",
            "_view_module_version": "1.2.0",
            "_view_name": "LayoutView",
            "align_content": null,
            "align_items": null,
            "align_self": null,
            "border": null,
            "bottom": null,
            "display": null,
            "flex": null,
            "flex_flow": null,
            "grid_area": null,
            "grid_auto_columns": null,
            "grid_auto_flow": null,
            "grid_auto_rows": null,
            "grid_column": null,
            "grid_gap": null,
            "grid_row": null,
            "grid_template_areas": null,
            "grid_template_columns": null,
            "grid_template_rows": null,
            "height": null,
            "justify_content": null,
            "justify_items": null,
            "left": null,
            "margin": null,
            "max_height": null,
            "max_width": null,
            "min_height": null,
            "min_width": null,
            "object_fit": null,
            "object_position": null,
            "order": null,
            "overflow": null,
            "overflow_x": null,
            "overflow_y": null,
            "padding": null,
            "right": null,
            "top": null,
            "visibility": null,
            "width": null
          }
        },
        "4c59dfb2a93f4637ba30ca560e89ca48": {
          "model_module": "@jupyter-widgets/base",
          "model_name": "LayoutModel",
          "model_module_version": "1.2.0",
          "state": {
            "_model_module": "@jupyter-widgets/base",
            "_model_module_version": "1.2.0",
            "_model_name": "LayoutModel",
            "_view_count": null,
            "_view_module": "@jupyter-widgets/base",
            "_view_module_version": "1.2.0",
            "_view_name": "LayoutView",
            "align_content": null,
            "align_items": null,
            "align_self": null,
            "border": null,
            "bottom": null,
            "display": null,
            "flex": null,
            "flex_flow": null,
            "grid_area": null,
            "grid_auto_columns": null,
            "grid_auto_flow": null,
            "grid_auto_rows": null,
            "grid_column": null,
            "grid_gap": null,
            "grid_row": null,
            "grid_template_areas": null,
            "grid_template_columns": null,
            "grid_template_rows": null,
            "height": null,
            "justify_content": null,
            "justify_items": null,
            "left": null,
            "margin": null,
            "max_height": null,
            "max_width": null,
            "min_height": null,
            "min_width": null,
            "object_fit": null,
            "object_position": null,
            "order": null,
            "overflow": null,
            "overflow_x": null,
            "overflow_y": null,
            "padding": null,
            "right": null,
            "top": null,
            "visibility": null,
            "width": null
          }
        },
        "4647351b71d4427cb76737c74506845f": {
          "model_module": "@jupyter-widgets/controls",
          "model_name": "DescriptionStyleModel",
          "model_module_version": "1.5.0",
          "state": {
            "_model_module": "@jupyter-widgets/controls",
            "_model_module_version": "1.5.0",
            "_model_name": "DescriptionStyleModel",
            "_view_count": null,
            "_view_module": "@jupyter-widgets/base",
            "_view_module_version": "1.2.0",
            "_view_name": "StyleView",
            "description_width": ""
          }
        },
        "ae4eb5ed2dd6461e82d9ace7c43ffb93": {
          "model_module": "@jupyter-widgets/base",
          "model_name": "LayoutModel",
          "model_module_version": "1.2.0",
          "state": {
            "_model_module": "@jupyter-widgets/base",
            "_model_module_version": "1.2.0",
            "_model_name": "LayoutModel",
            "_view_count": null,
            "_view_module": "@jupyter-widgets/base",
            "_view_module_version": "1.2.0",
            "_view_name": "LayoutView",
            "align_content": null,
            "align_items": null,
            "align_self": null,
            "border": null,
            "bottom": null,
            "display": null,
            "flex": null,
            "flex_flow": null,
            "grid_area": null,
            "grid_auto_columns": null,
            "grid_auto_flow": null,
            "grid_auto_rows": null,
            "grid_column": null,
            "grid_gap": null,
            "grid_row": null,
            "grid_template_areas": null,
            "grid_template_columns": null,
            "grid_template_rows": null,
            "height": null,
            "justify_content": null,
            "justify_items": null,
            "left": null,
            "margin": null,
            "max_height": null,
            "max_width": null,
            "min_height": null,
            "min_width": null,
            "object_fit": null,
            "object_position": null,
            "order": null,
            "overflow": null,
            "overflow_x": null,
            "overflow_y": null,
            "padding": null,
            "right": null,
            "top": null,
            "visibility": null,
            "width": null
          }
        },
        "e81d9d46ac0e4715bbe3191666ba11b6": {
          "model_module": "@jupyter-widgets/controls",
          "model_name": "ProgressStyleModel",
          "model_module_version": "1.5.0",
          "state": {
            "_model_module": "@jupyter-widgets/controls",
            "_model_module_version": "1.5.0",
            "_model_name": "ProgressStyleModel",
            "_view_count": null,
            "_view_module": "@jupyter-widgets/base",
            "_view_module_version": "1.2.0",
            "_view_name": "StyleView",
            "bar_color": null,
            "description_width": ""
          }
        },
        "2bf38574e1854ae295b16db541100643": {
          "model_module": "@jupyter-widgets/base",
          "model_name": "LayoutModel",
          "model_module_version": "1.2.0",
          "state": {
            "_model_module": "@jupyter-widgets/base",
            "_model_module_version": "1.2.0",
            "_model_name": "LayoutModel",
            "_view_count": null,
            "_view_module": "@jupyter-widgets/base",
            "_view_module_version": "1.2.0",
            "_view_name": "LayoutView",
            "align_content": null,
            "align_items": null,
            "align_self": null,
            "border": null,
            "bottom": null,
            "display": null,
            "flex": null,
            "flex_flow": null,
            "grid_area": null,
            "grid_auto_columns": null,
            "grid_auto_flow": null,
            "grid_auto_rows": null,
            "grid_column": null,
            "grid_gap": null,
            "grid_row": null,
            "grid_template_areas": null,
            "grid_template_columns": null,
            "grid_template_rows": null,
            "height": null,
            "justify_content": null,
            "justify_items": null,
            "left": null,
            "margin": null,
            "max_height": null,
            "max_width": null,
            "min_height": null,
            "min_width": null,
            "object_fit": null,
            "object_position": null,
            "order": null,
            "overflow": null,
            "overflow_x": null,
            "overflow_y": null,
            "padding": null,
            "right": null,
            "top": null,
            "visibility": null,
            "width": null
          }
        },
        "cd840795580446d395585710cc60cd29": {
          "model_module": "@jupyter-widgets/controls",
          "model_name": "DescriptionStyleModel",
          "model_module_version": "1.5.0",
          "state": {
            "_model_module": "@jupyter-widgets/controls",
            "_model_module_version": "1.5.0",
            "_model_name": "DescriptionStyleModel",
            "_view_count": null,
            "_view_module": "@jupyter-widgets/base",
            "_view_module_version": "1.2.0",
            "_view_name": "StyleView",
            "description_width": ""
          }
        },
        "7c1a3b08574e43d18983be60afd6a211": {
          "model_module": "@jupyter-widgets/controls",
          "model_name": "HBoxModel",
          "model_module_version": "1.5.0",
          "state": {
            "_dom_classes": [],
            "_model_module": "@jupyter-widgets/controls",
            "_model_module_version": "1.5.0",
            "_model_name": "HBoxModel",
            "_view_count": null,
            "_view_module": "@jupyter-widgets/controls",
            "_view_module_version": "1.5.0",
            "_view_name": "HBoxView",
            "box_style": "",
            "children": [
              "IPY_MODEL_5889abef621644278692dc65517acac1",
              "IPY_MODEL_d877d4dac2e744428acdd5a96be1a87e",
              "IPY_MODEL_24b7c31813d94fdda32a3b5b256f168a"
            ],
            "layout": "IPY_MODEL_f8170c8ab83f4f9488c492bb9250b4de"
          }
        },
        "5889abef621644278692dc65517acac1": {
          "model_module": "@jupyter-widgets/controls",
          "model_name": "HTMLModel",
          "model_module_version": "1.5.0",
          "state": {
            "_dom_classes": [],
            "_model_module": "@jupyter-widgets/controls",
            "_model_module_version": "1.5.0",
            "_model_name": "HTMLModel",
            "_view_count": null,
            "_view_module": "@jupyter-widgets/controls",
            "_view_module_version": "1.5.0",
            "_view_name": "HTMLView",
            "description": "",
            "description_tooltip": null,
            "layout": "IPY_MODEL_baf0c11322054184a34792369d3c7f7c",
            "placeholder": "​",
            "style": "IPY_MODEL_6c8d90dea11141bd90f8f214cad55f76",
            "value": "tokenizer.json: 100%"
          }
        },
        "d877d4dac2e744428acdd5a96be1a87e": {
          "model_module": "@jupyter-widgets/controls",
          "model_name": "FloatProgressModel",
          "model_module_version": "1.5.0",
          "state": {
            "_dom_classes": [],
            "_model_module": "@jupyter-widgets/controls",
            "_model_module_version": "1.5.0",
            "_model_name": "FloatProgressModel",
            "_view_count": null,
            "_view_module": "@jupyter-widgets/controls",
            "_view_module_version": "1.5.0",
            "_view_name": "ProgressView",
            "bar_style": "success",
            "description": "",
            "description_tooltip": null,
            "layout": "IPY_MODEL_4448657a16ba4e83acab4b763c31aa56",
            "max": 466247,
            "min": 0,
            "orientation": "horizontal",
            "style": "IPY_MODEL_97ef1bf1a19d42abb503868e775cfe75",
            "value": 466247
          }
        },
        "24b7c31813d94fdda32a3b5b256f168a": {
          "model_module": "@jupyter-widgets/controls",
          "model_name": "HTMLModel",
          "model_module_version": "1.5.0",
          "state": {
            "_dom_classes": [],
            "_model_module": "@jupyter-widgets/controls",
            "_model_module_version": "1.5.0",
            "_model_name": "HTMLModel",
            "_view_count": null,
            "_view_module": "@jupyter-widgets/controls",
            "_view_module_version": "1.5.0",
            "_view_name": "HTMLView",
            "description": "",
            "description_tooltip": null,
            "layout": "IPY_MODEL_72b26e8cbde14e1bbd1f21430cdf8506",
            "placeholder": "​",
            "style": "IPY_MODEL_88d0eca3ef504914ba8b567bda8c808e",
            "value": " 466k/466k [00:00&lt;00:00, 18.4MB/s]"
          }
        },
        "f8170c8ab83f4f9488c492bb9250b4de": {
          "model_module": "@jupyter-widgets/base",
          "model_name": "LayoutModel",
          "model_module_version": "1.2.0",
          "state": {
            "_model_module": "@jupyter-widgets/base",
            "_model_module_version": "1.2.0",
            "_model_name": "LayoutModel",
            "_view_count": null,
            "_view_module": "@jupyter-widgets/base",
            "_view_module_version": "1.2.0",
            "_view_name": "LayoutView",
            "align_content": null,
            "align_items": null,
            "align_self": null,
            "border": null,
            "bottom": null,
            "display": null,
            "flex": null,
            "flex_flow": null,
            "grid_area": null,
            "grid_auto_columns": null,
            "grid_auto_flow": null,
            "grid_auto_rows": null,
            "grid_column": null,
            "grid_gap": null,
            "grid_row": null,
            "grid_template_areas": null,
            "grid_template_columns": null,
            "grid_template_rows": null,
            "height": null,
            "justify_content": null,
            "justify_items": null,
            "left": null,
            "margin": null,
            "max_height": null,
            "max_width": null,
            "min_height": null,
            "min_width": null,
            "object_fit": null,
            "object_position": null,
            "order": null,
            "overflow": null,
            "overflow_x": null,
            "overflow_y": null,
            "padding": null,
            "right": null,
            "top": null,
            "visibility": null,
            "width": null
          }
        },
        "baf0c11322054184a34792369d3c7f7c": {
          "model_module": "@jupyter-widgets/base",
          "model_name": "LayoutModel",
          "model_module_version": "1.2.0",
          "state": {
            "_model_module": "@jupyter-widgets/base",
            "_model_module_version": "1.2.0",
            "_model_name": "LayoutModel",
            "_view_count": null,
            "_view_module": "@jupyter-widgets/base",
            "_view_module_version": "1.2.0",
            "_view_name": "LayoutView",
            "align_content": null,
            "align_items": null,
            "align_self": null,
            "border": null,
            "bottom": null,
            "display": null,
            "flex": null,
            "flex_flow": null,
            "grid_area": null,
            "grid_auto_columns": null,
            "grid_auto_flow": null,
            "grid_auto_rows": null,
            "grid_column": null,
            "grid_gap": null,
            "grid_row": null,
            "grid_template_areas": null,
            "grid_template_columns": null,
            "grid_template_rows": null,
            "height": null,
            "justify_content": null,
            "justify_items": null,
            "left": null,
            "margin": null,
            "max_height": null,
            "max_width": null,
            "min_height": null,
            "min_width": null,
            "object_fit": null,
            "object_position": null,
            "order": null,
            "overflow": null,
            "overflow_x": null,
            "overflow_y": null,
            "padding": null,
            "right": null,
            "top": null,
            "visibility": null,
            "width": null
          }
        },
        "6c8d90dea11141bd90f8f214cad55f76": {
          "model_module": "@jupyter-widgets/controls",
          "model_name": "DescriptionStyleModel",
          "model_module_version": "1.5.0",
          "state": {
            "_model_module": "@jupyter-widgets/controls",
            "_model_module_version": "1.5.0",
            "_model_name": "DescriptionStyleModel",
            "_view_count": null,
            "_view_module": "@jupyter-widgets/base",
            "_view_module_version": "1.2.0",
            "_view_name": "StyleView",
            "description_width": ""
          }
        },
        "4448657a16ba4e83acab4b763c31aa56": {
          "model_module": "@jupyter-widgets/base",
          "model_name": "LayoutModel",
          "model_module_version": "1.2.0",
          "state": {
            "_model_module": "@jupyter-widgets/base",
            "_model_module_version": "1.2.0",
            "_model_name": "LayoutModel",
            "_view_count": null,
            "_view_module": "@jupyter-widgets/base",
            "_view_module_version": "1.2.0",
            "_view_name": "LayoutView",
            "align_content": null,
            "align_items": null,
            "align_self": null,
            "border": null,
            "bottom": null,
            "display": null,
            "flex": null,
            "flex_flow": null,
            "grid_area": null,
            "grid_auto_columns": null,
            "grid_auto_flow": null,
            "grid_auto_rows": null,
            "grid_column": null,
            "grid_gap": null,
            "grid_row": null,
            "grid_template_areas": null,
            "grid_template_columns": null,
            "grid_template_rows": null,
            "height": null,
            "justify_content": null,
            "justify_items": null,
            "left": null,
            "margin": null,
            "max_height": null,
            "max_width": null,
            "min_height": null,
            "min_width": null,
            "object_fit": null,
            "object_position": null,
            "order": null,
            "overflow": null,
            "overflow_x": null,
            "overflow_y": null,
            "padding": null,
            "right": null,
            "top": null,
            "visibility": null,
            "width": null
          }
        },
        "97ef1bf1a19d42abb503868e775cfe75": {
          "model_module": "@jupyter-widgets/controls",
          "model_name": "ProgressStyleModel",
          "model_module_version": "1.5.0",
          "state": {
            "_model_module": "@jupyter-widgets/controls",
            "_model_module_version": "1.5.0",
            "_model_name": "ProgressStyleModel",
            "_view_count": null,
            "_view_module": "@jupyter-widgets/base",
            "_view_module_version": "1.2.0",
            "_view_name": "StyleView",
            "bar_color": null,
            "description_width": ""
          }
        },
        "72b26e8cbde14e1bbd1f21430cdf8506": {
          "model_module": "@jupyter-widgets/base",
          "model_name": "LayoutModel",
          "model_module_version": "1.2.0",
          "state": {
            "_model_module": "@jupyter-widgets/base",
            "_model_module_version": "1.2.0",
            "_model_name": "LayoutModel",
            "_view_count": null,
            "_view_module": "@jupyter-widgets/base",
            "_view_module_version": "1.2.0",
            "_view_name": "LayoutView",
            "align_content": null,
            "align_items": null,
            "align_self": null,
            "border": null,
            "bottom": null,
            "display": null,
            "flex": null,
            "flex_flow": null,
            "grid_area": null,
            "grid_auto_columns": null,
            "grid_auto_flow": null,
            "grid_auto_rows": null,
            "grid_column": null,
            "grid_gap": null,
            "grid_row": null,
            "grid_template_areas": null,
            "grid_template_columns": null,
            "grid_template_rows": null,
            "height": null,
            "justify_content": null,
            "justify_items": null,
            "left": null,
            "margin": null,
            "max_height": null,
            "max_width": null,
            "min_height": null,
            "min_width": null,
            "object_fit": null,
            "object_position": null,
            "order": null,
            "overflow": null,
            "overflow_x": null,
            "overflow_y": null,
            "padding": null,
            "right": null,
            "top": null,
            "visibility": null,
            "width": null
          }
        },
        "88d0eca3ef504914ba8b567bda8c808e": {
          "model_module": "@jupyter-widgets/controls",
          "model_name": "DescriptionStyleModel",
          "model_module_version": "1.5.0",
          "state": {
            "_model_module": "@jupyter-widgets/controls",
            "_model_module_version": "1.5.0",
            "_model_name": "DescriptionStyleModel",
            "_view_count": null,
            "_view_module": "@jupyter-widgets/base",
            "_view_module_version": "1.2.0",
            "_view_name": "StyleView",
            "description_width": ""
          }
        },
        "7533242175ab471d80b5b2788699d284": {
          "model_module": "@jupyter-widgets/controls",
          "model_name": "HBoxModel",
          "model_module_version": "1.5.0",
          "state": {
            "_dom_classes": [],
            "_model_module": "@jupyter-widgets/controls",
            "_model_module_version": "1.5.0",
            "_model_name": "HBoxModel",
            "_view_count": null,
            "_view_module": "@jupyter-widgets/controls",
            "_view_module_version": "1.5.0",
            "_view_name": "HBoxView",
            "box_style": "",
            "children": [
              "IPY_MODEL_5f2d646a9c814271a24d4817911ac1f3",
              "IPY_MODEL_609001d032e34ecea6e40196ed3b1bfe",
              "IPY_MODEL_d6cbe4a9dab94701868d1f66b5d0145a"
            ],
            "layout": "IPY_MODEL_0b11a0bd42894161a57fbd7e3c5a86b4"
          }
        },
        "5f2d646a9c814271a24d4817911ac1f3": {
          "model_module": "@jupyter-widgets/controls",
          "model_name": "HTMLModel",
          "model_module_version": "1.5.0",
          "state": {
            "_dom_classes": [],
            "_model_module": "@jupyter-widgets/controls",
            "_model_module_version": "1.5.0",
            "_model_name": "HTMLModel",
            "_view_count": null,
            "_view_module": "@jupyter-widgets/controls",
            "_view_module_version": "1.5.0",
            "_view_name": "HTMLView",
            "description": "",
            "description_tooltip": null,
            "layout": "IPY_MODEL_2edfcce758404fd7a5d3a633c8dc1b03",
            "placeholder": "​",
            "style": "IPY_MODEL_1eb09a41b67e4f17832a594cb8987099",
            "value": "special_tokens_map.json: 100%"
          }
        },
        "609001d032e34ecea6e40196ed3b1bfe": {
          "model_module": "@jupyter-widgets/controls",
          "model_name": "FloatProgressModel",
          "model_module_version": "1.5.0",
          "state": {
            "_dom_classes": [],
            "_model_module": "@jupyter-widgets/controls",
            "_model_module_version": "1.5.0",
            "_model_name": "FloatProgressModel",
            "_view_count": null,
            "_view_module": "@jupyter-widgets/controls",
            "_view_module_version": "1.5.0",
            "_view_name": "ProgressView",
            "bar_style": "success",
            "description": "",
            "description_tooltip": null,
            "layout": "IPY_MODEL_4295aaec4eb4472c9d4e544777e52190",
            "max": 112,
            "min": 0,
            "orientation": "horizontal",
            "style": "IPY_MODEL_08b9d71df8564f98854775cdce1a8596",
            "value": 112
          }
        },
        "d6cbe4a9dab94701868d1f66b5d0145a": {
          "model_module": "@jupyter-widgets/controls",
          "model_name": "HTMLModel",
          "model_module_version": "1.5.0",
          "state": {
            "_dom_classes": [],
            "_model_module": "@jupyter-widgets/controls",
            "_model_module_version": "1.5.0",
            "_model_name": "HTMLModel",
            "_view_count": null,
            "_view_module": "@jupyter-widgets/controls",
            "_view_module_version": "1.5.0",
            "_view_name": "HTMLView",
            "description": "",
            "description_tooltip": null,
            "layout": "IPY_MODEL_bfd82310dfe549748e6babaa4e6ec99f",
            "placeholder": "​",
            "style": "IPY_MODEL_84b92e6fe1124eb0a2ce6adbf654b4d4",
            "value": " 112/112 [00:00&lt;00:00, 8.99kB/s]"
          }
        },
        "0b11a0bd42894161a57fbd7e3c5a86b4": {
          "model_module": "@jupyter-widgets/base",
          "model_name": "LayoutModel",
          "model_module_version": "1.2.0",
          "state": {
            "_model_module": "@jupyter-widgets/base",
            "_model_module_version": "1.2.0",
            "_model_name": "LayoutModel",
            "_view_count": null,
            "_view_module": "@jupyter-widgets/base",
            "_view_module_version": "1.2.0",
            "_view_name": "LayoutView",
            "align_content": null,
            "align_items": null,
            "align_self": null,
            "border": null,
            "bottom": null,
            "display": null,
            "flex": null,
            "flex_flow": null,
            "grid_area": null,
            "grid_auto_columns": null,
            "grid_auto_flow": null,
            "grid_auto_rows": null,
            "grid_column": null,
            "grid_gap": null,
            "grid_row": null,
            "grid_template_areas": null,
            "grid_template_columns": null,
            "grid_template_rows": null,
            "height": null,
            "justify_content": null,
            "justify_items": null,
            "left": null,
            "margin": null,
            "max_height": null,
            "max_width": null,
            "min_height": null,
            "min_width": null,
            "object_fit": null,
            "object_position": null,
            "order": null,
            "overflow": null,
            "overflow_x": null,
            "overflow_y": null,
            "padding": null,
            "right": null,
            "top": null,
            "visibility": null,
            "width": null
          }
        },
        "2edfcce758404fd7a5d3a633c8dc1b03": {
          "model_module": "@jupyter-widgets/base",
          "model_name": "LayoutModel",
          "model_module_version": "1.2.0",
          "state": {
            "_model_module": "@jupyter-widgets/base",
            "_model_module_version": "1.2.0",
            "_model_name": "LayoutModel",
            "_view_count": null,
            "_view_module": "@jupyter-widgets/base",
            "_view_module_version": "1.2.0",
            "_view_name": "LayoutView",
            "align_content": null,
            "align_items": null,
            "align_self": null,
            "border": null,
            "bottom": null,
            "display": null,
            "flex": null,
            "flex_flow": null,
            "grid_area": null,
            "grid_auto_columns": null,
            "grid_auto_flow": null,
            "grid_auto_rows": null,
            "grid_column": null,
            "grid_gap": null,
            "grid_row": null,
            "grid_template_areas": null,
            "grid_template_columns": null,
            "grid_template_rows": null,
            "height": null,
            "justify_content": null,
            "justify_items": null,
            "left": null,
            "margin": null,
            "max_height": null,
            "max_width": null,
            "min_height": null,
            "min_width": null,
            "object_fit": null,
            "object_position": null,
            "order": null,
            "overflow": null,
            "overflow_x": null,
            "overflow_y": null,
            "padding": null,
            "right": null,
            "top": null,
            "visibility": null,
            "width": null
          }
        },
        "1eb09a41b67e4f17832a594cb8987099": {
          "model_module": "@jupyter-widgets/controls",
          "model_name": "DescriptionStyleModel",
          "model_module_version": "1.5.0",
          "state": {
            "_model_module": "@jupyter-widgets/controls",
            "_model_module_version": "1.5.0",
            "_model_name": "DescriptionStyleModel",
            "_view_count": null,
            "_view_module": "@jupyter-widgets/base",
            "_view_module_version": "1.2.0",
            "_view_name": "StyleView",
            "description_width": ""
          }
        },
        "4295aaec4eb4472c9d4e544777e52190": {
          "model_module": "@jupyter-widgets/base",
          "model_name": "LayoutModel",
          "model_module_version": "1.2.0",
          "state": {
            "_model_module": "@jupyter-widgets/base",
            "_model_module_version": "1.2.0",
            "_model_name": "LayoutModel",
            "_view_count": null,
            "_view_module": "@jupyter-widgets/base",
            "_view_module_version": "1.2.0",
            "_view_name": "LayoutView",
            "align_content": null,
            "align_items": null,
            "align_self": null,
            "border": null,
            "bottom": null,
            "display": null,
            "flex": null,
            "flex_flow": null,
            "grid_area": null,
            "grid_auto_columns": null,
            "grid_auto_flow": null,
            "grid_auto_rows": null,
            "grid_column": null,
            "grid_gap": null,
            "grid_row": null,
            "grid_template_areas": null,
            "grid_template_columns": null,
            "grid_template_rows": null,
            "height": null,
            "justify_content": null,
            "justify_items": null,
            "left": null,
            "margin": null,
            "max_height": null,
            "max_width": null,
            "min_height": null,
            "min_width": null,
            "object_fit": null,
            "object_position": null,
            "order": null,
            "overflow": null,
            "overflow_x": null,
            "overflow_y": null,
            "padding": null,
            "right": null,
            "top": null,
            "visibility": null,
            "width": null
          }
        },
        "08b9d71df8564f98854775cdce1a8596": {
          "model_module": "@jupyter-widgets/controls",
          "model_name": "ProgressStyleModel",
          "model_module_version": "1.5.0",
          "state": {
            "_model_module": "@jupyter-widgets/controls",
            "_model_module_version": "1.5.0",
            "_model_name": "ProgressStyleModel",
            "_view_count": null,
            "_view_module": "@jupyter-widgets/base",
            "_view_module_version": "1.2.0",
            "_view_name": "StyleView",
            "bar_color": null,
            "description_width": ""
          }
        },
        "bfd82310dfe549748e6babaa4e6ec99f": {
          "model_module": "@jupyter-widgets/base",
          "model_name": "LayoutModel",
          "model_module_version": "1.2.0",
          "state": {
            "_model_module": "@jupyter-widgets/base",
            "_model_module_version": "1.2.0",
            "_model_name": "LayoutModel",
            "_view_count": null,
            "_view_module": "@jupyter-widgets/base",
            "_view_module_version": "1.2.0",
            "_view_name": "LayoutView",
            "align_content": null,
            "align_items": null,
            "align_self": null,
            "border": null,
            "bottom": null,
            "display": null,
            "flex": null,
            "flex_flow": null,
            "grid_area": null,
            "grid_auto_columns": null,
            "grid_auto_flow": null,
            "grid_auto_rows": null,
            "grid_column": null,
            "grid_gap": null,
            "grid_row": null,
            "grid_template_areas": null,
            "grid_template_columns": null,
            "grid_template_rows": null,
            "height": null,
            "justify_content": null,
            "justify_items": null,
            "left": null,
            "margin": null,
            "max_height": null,
            "max_width": null,
            "min_height": null,
            "min_width": null,
            "object_fit": null,
            "object_position": null,
            "order": null,
            "overflow": null,
            "overflow_x": null,
            "overflow_y": null,
            "padding": null,
            "right": null,
            "top": null,
            "visibility": null,
            "width": null
          }
        },
        "84b92e6fe1124eb0a2ce6adbf654b4d4": {
          "model_module": "@jupyter-widgets/controls",
          "model_name": "DescriptionStyleModel",
          "model_module_version": "1.5.0",
          "state": {
            "_model_module": "@jupyter-widgets/controls",
            "_model_module_version": "1.5.0",
            "_model_name": "DescriptionStyleModel",
            "_view_count": null,
            "_view_module": "@jupyter-widgets/base",
            "_view_module_version": "1.2.0",
            "_view_name": "StyleView",
            "description_width": ""
          }
        },
        "7ddd332cbf144cf1add88f2a0d730d87": {
          "model_module": "@jupyter-widgets/controls",
          "model_name": "HBoxModel",
          "model_module_version": "1.5.0",
          "state": {
            "_dom_classes": [],
            "_model_module": "@jupyter-widgets/controls",
            "_model_module_version": "1.5.0",
            "_model_name": "HBoxModel",
            "_view_count": null,
            "_view_module": "@jupyter-widgets/controls",
            "_view_module_version": "1.5.0",
            "_view_name": "HBoxView",
            "box_style": "",
            "children": [
              "IPY_MODEL_2f38a92203e34fa4a70c5beee6aebc35",
              "IPY_MODEL_7bc671ebb7f3467980bf9f902192c468",
              "IPY_MODEL_e8fe675e1a58497ba81d286676e6780f"
            ],
            "layout": "IPY_MODEL_ca0ff233821b40c5aa92f6b12e4d7713"
          }
        },
        "2f38a92203e34fa4a70c5beee6aebc35": {
          "model_module": "@jupyter-widgets/controls",
          "model_name": "HTMLModel",
          "model_module_version": "1.5.0",
          "state": {
            "_dom_classes": [],
            "_model_module": "@jupyter-widgets/controls",
            "_model_module_version": "1.5.0",
            "_model_name": "HTMLModel",
            "_view_count": null,
            "_view_module": "@jupyter-widgets/controls",
            "_view_module_version": "1.5.0",
            "_view_name": "HTMLView",
            "description": "",
            "description_tooltip": null,
            "layout": "IPY_MODEL_a17c5db167934703b0f53c310826e943",
            "placeholder": "​",
            "style": "IPY_MODEL_27bcdbe5b5114efb92c254f8a0754543",
            "value": "config.json: 100%"
          }
        },
        "7bc671ebb7f3467980bf9f902192c468": {
          "model_module": "@jupyter-widgets/controls",
          "model_name": "FloatProgressModel",
          "model_module_version": "1.5.0",
          "state": {
            "_dom_classes": [],
            "_model_module": "@jupyter-widgets/controls",
            "_model_module_version": "1.5.0",
            "_model_name": "FloatProgressModel",
            "_view_count": null,
            "_view_module": "@jupyter-widgets/controls",
            "_view_module_version": "1.5.0",
            "_view_name": "ProgressView",
            "bar_style": "success",
            "description": "",
            "description_tooltip": null,
            "layout": "IPY_MODEL_c7a2290caafa47c9b58d50d26096cca9",
            "max": 190,
            "min": 0,
            "orientation": "horizontal",
            "style": "IPY_MODEL_cdec3049c44544a1b37cd3ba84fae609",
            "value": 190
          }
        },
        "e8fe675e1a58497ba81d286676e6780f": {
          "model_module": "@jupyter-widgets/controls",
          "model_name": "HTMLModel",
          "model_module_version": "1.5.0",
          "state": {
            "_dom_classes": [],
            "_model_module": "@jupyter-widgets/controls",
            "_model_module_version": "1.5.0",
            "_model_name": "HTMLModel",
            "_view_count": null,
            "_view_module": "@jupyter-widgets/controls",
            "_view_module_version": "1.5.0",
            "_view_name": "HTMLView",
            "description": "",
            "description_tooltip": null,
            "layout": "IPY_MODEL_8ec4fce95dee464eaefb386f7d14e9be",
            "placeholder": "​",
            "style": "IPY_MODEL_4b2dfc2ed6e547d7923a4b77e4f7cb7e",
            "value": " 190/190 [00:00&lt;00:00, 10.1kB/s]"
          }
        },
        "ca0ff233821b40c5aa92f6b12e4d7713": {
          "model_module": "@jupyter-widgets/base",
          "model_name": "LayoutModel",
          "model_module_version": "1.2.0",
          "state": {
            "_model_module": "@jupyter-widgets/base",
            "_model_module_version": "1.2.0",
            "_model_name": "LayoutModel",
            "_view_count": null,
            "_view_module": "@jupyter-widgets/base",
            "_view_module_version": "1.2.0",
            "_view_name": "LayoutView",
            "align_content": null,
            "align_items": null,
            "align_self": null,
            "border": null,
            "bottom": null,
            "display": null,
            "flex": null,
            "flex_flow": null,
            "grid_area": null,
            "grid_auto_columns": null,
            "grid_auto_flow": null,
            "grid_auto_rows": null,
            "grid_column": null,
            "grid_gap": null,
            "grid_row": null,
            "grid_template_areas": null,
            "grid_template_columns": null,
            "grid_template_rows": null,
            "height": null,
            "justify_content": null,
            "justify_items": null,
            "left": null,
            "margin": null,
            "max_height": null,
            "max_width": null,
            "min_height": null,
            "min_width": null,
            "object_fit": null,
            "object_position": null,
            "order": null,
            "overflow": null,
            "overflow_x": null,
            "overflow_y": null,
            "padding": null,
            "right": null,
            "top": null,
            "visibility": null,
            "width": null
          }
        },
        "a17c5db167934703b0f53c310826e943": {
          "model_module": "@jupyter-widgets/base",
          "model_name": "LayoutModel",
          "model_module_version": "1.2.0",
          "state": {
            "_model_module": "@jupyter-widgets/base",
            "_model_module_version": "1.2.0",
            "_model_name": "LayoutModel",
            "_view_count": null,
            "_view_module": "@jupyter-widgets/base",
            "_view_module_version": "1.2.0",
            "_view_name": "LayoutView",
            "align_content": null,
            "align_items": null,
            "align_self": null,
            "border": null,
            "bottom": null,
            "display": null,
            "flex": null,
            "flex_flow": null,
            "grid_area": null,
            "grid_auto_columns": null,
            "grid_auto_flow": null,
            "grid_auto_rows": null,
            "grid_column": null,
            "grid_gap": null,
            "grid_row": null,
            "grid_template_areas": null,
            "grid_template_columns": null,
            "grid_template_rows": null,
            "height": null,
            "justify_content": null,
            "justify_items": null,
            "left": null,
            "margin": null,
            "max_height": null,
            "max_width": null,
            "min_height": null,
            "min_width": null,
            "object_fit": null,
            "object_position": null,
            "order": null,
            "overflow": null,
            "overflow_x": null,
            "overflow_y": null,
            "padding": null,
            "right": null,
            "top": null,
            "visibility": null,
            "width": null
          }
        },
        "27bcdbe5b5114efb92c254f8a0754543": {
          "model_module": "@jupyter-widgets/controls",
          "model_name": "DescriptionStyleModel",
          "model_module_version": "1.5.0",
          "state": {
            "_model_module": "@jupyter-widgets/controls",
            "_model_module_version": "1.5.0",
            "_model_name": "DescriptionStyleModel",
            "_view_count": null,
            "_view_module": "@jupyter-widgets/base",
            "_view_module_version": "1.2.0",
            "_view_name": "StyleView",
            "description_width": ""
          }
        },
        "c7a2290caafa47c9b58d50d26096cca9": {
          "model_module": "@jupyter-widgets/base",
          "model_name": "LayoutModel",
          "model_module_version": "1.2.0",
          "state": {
            "_model_module": "@jupyter-widgets/base",
            "_model_module_version": "1.2.0",
            "_model_name": "LayoutModel",
            "_view_count": null,
            "_view_module": "@jupyter-widgets/base",
            "_view_module_version": "1.2.0",
            "_view_name": "LayoutView",
            "align_content": null,
            "align_items": null,
            "align_self": null,
            "border": null,
            "bottom": null,
            "display": null,
            "flex": null,
            "flex_flow": null,
            "grid_area": null,
            "grid_auto_columns": null,
            "grid_auto_flow": null,
            "grid_auto_rows": null,
            "grid_column": null,
            "grid_gap": null,
            "grid_row": null,
            "grid_template_areas": null,
            "grid_template_columns": null,
            "grid_template_rows": null,
            "height": null,
            "justify_content": null,
            "justify_items": null,
            "left": null,
            "margin": null,
            "max_height": null,
            "max_width": null,
            "min_height": null,
            "min_width": null,
            "object_fit": null,
            "object_position": null,
            "order": null,
            "overflow": null,
            "overflow_x": null,
            "overflow_y": null,
            "padding": null,
            "right": null,
            "top": null,
            "visibility": null,
            "width": null
          }
        },
        "cdec3049c44544a1b37cd3ba84fae609": {
          "model_module": "@jupyter-widgets/controls",
          "model_name": "ProgressStyleModel",
          "model_module_version": "1.5.0",
          "state": {
            "_model_module": "@jupyter-widgets/controls",
            "_model_module_version": "1.5.0",
            "_model_name": "ProgressStyleModel",
            "_view_count": null,
            "_view_module": "@jupyter-widgets/base",
            "_view_module_version": "1.2.0",
            "_view_name": "StyleView",
            "bar_color": null,
            "description_width": ""
          }
        },
        "8ec4fce95dee464eaefb386f7d14e9be": {
          "model_module": "@jupyter-widgets/base",
          "model_name": "LayoutModel",
          "model_module_version": "1.2.0",
          "state": {
            "_model_module": "@jupyter-widgets/base",
            "_model_module_version": "1.2.0",
            "_model_name": "LayoutModel",
            "_view_count": null,
            "_view_module": "@jupyter-widgets/base",
            "_view_module_version": "1.2.0",
            "_view_name": "LayoutView",
            "align_content": null,
            "align_items": null,
            "align_self": null,
            "border": null,
            "bottom": null,
            "display": null,
            "flex": null,
            "flex_flow": null,
            "grid_area": null,
            "grid_auto_columns": null,
            "grid_auto_flow": null,
            "grid_auto_rows": null,
            "grid_column": null,
            "grid_gap": null,
            "grid_row": null,
            "grid_template_areas": null,
            "grid_template_columns": null,
            "grid_template_rows": null,
            "height": null,
            "justify_content": null,
            "justify_items": null,
            "left": null,
            "margin": null,
            "max_height": null,
            "max_width": null,
            "min_height": null,
            "min_width": null,
            "object_fit": null,
            "object_position": null,
            "order": null,
            "overflow": null,
            "overflow_x": null,
            "overflow_y": null,
            "padding": null,
            "right": null,
            "top": null,
            "visibility": null,
            "width": null
          }
        },
        "4b2dfc2ed6e547d7923a4b77e4f7cb7e": {
          "model_module": "@jupyter-widgets/controls",
          "model_name": "DescriptionStyleModel",
          "model_module_version": "1.5.0",
          "state": {
            "_model_module": "@jupyter-widgets/controls",
            "_model_module_version": "1.5.0",
            "_model_name": "DescriptionStyleModel",
            "_view_count": null,
            "_view_module": "@jupyter-widgets/base",
            "_view_module_version": "1.2.0",
            "_view_name": "StyleView",
            "description_width": ""
          }
        },
        "b0ee291fe15c445f8ca9e18ddcecaa71": {
          "model_module": "@jupyter-widgets/controls",
          "model_name": "HBoxModel",
          "model_module_version": "1.5.0",
          "state": {
            "_dom_classes": [],
            "_model_module": "@jupyter-widgets/controls",
            "_model_module_version": "1.5.0",
            "_model_name": "HBoxModel",
            "_view_count": null,
            "_view_module": "@jupyter-widgets/controls",
            "_view_module_version": "1.5.0",
            "_view_name": "HBoxView",
            "box_style": "",
            "children": [
              "IPY_MODEL_f9fd699cf8424d01a9267d700849fa98",
              "IPY_MODEL_df1c2fb937894f8a95bf13f390a5a68d",
              "IPY_MODEL_199c5868c57c4602a3af9648927d6a55"
            ],
            "layout": "IPY_MODEL_eee918aab5e944a1a679d5117368baed"
          }
        },
        "f9fd699cf8424d01a9267d700849fa98": {
          "model_module": "@jupyter-widgets/controls",
          "model_name": "HTMLModel",
          "model_module_version": "1.5.0",
          "state": {
            "_dom_classes": [],
            "_model_module": "@jupyter-widgets/controls",
            "_model_module_version": "1.5.0",
            "_model_name": "HTMLModel",
            "_view_count": null,
            "_view_module": "@jupyter-widgets/controls",
            "_view_module_version": "1.5.0",
            "_view_name": "HTMLView",
            "description": "",
            "description_tooltip": null,
            "layout": "IPY_MODEL_2cb40732c1694443bb40b7010e2e3543",
            "placeholder": "​",
            "style": "IPY_MODEL_06a33108975040b2af6c41448159b570",
            "value": "Batches: 100%"
          }
        },
        "df1c2fb937894f8a95bf13f390a5a68d": {
          "model_module": "@jupyter-widgets/controls",
          "model_name": "FloatProgressModel",
          "model_module_version": "1.5.0",
          "state": {
            "_dom_classes": [],
            "_model_module": "@jupyter-widgets/controls",
            "_model_module_version": "1.5.0",
            "_model_name": "FloatProgressModel",
            "_view_count": null,
            "_view_module": "@jupyter-widgets/controls",
            "_view_module_version": "1.5.0",
            "_view_name": "ProgressView",
            "bar_style": "success",
            "description": "",
            "description_tooltip": null,
            "layout": "IPY_MODEL_57f08440de584b55963c169cc39f3de3",
            "max": 122,
            "min": 0,
            "orientation": "horizontal",
            "style": "IPY_MODEL_3a43fab564554274bb13a491ff8b4589",
            "value": 122
          }
        },
        "199c5868c57c4602a3af9648927d6a55": {
          "model_module": "@jupyter-widgets/controls",
          "model_name": "HTMLModel",
          "model_module_version": "1.5.0",
          "state": {
            "_dom_classes": [],
            "_model_module": "@jupyter-widgets/controls",
            "_model_module_version": "1.5.0",
            "_model_name": "HTMLModel",
            "_view_count": null,
            "_view_module": "@jupyter-widgets/controls",
            "_view_module_version": "1.5.0",
            "_view_name": "HTMLView",
            "description": "",
            "description_tooltip": null,
            "layout": "IPY_MODEL_ed0e3811109146e2bfb2b2ab8fdb4169",
            "placeholder": "​",
            "style": "IPY_MODEL_937f9a1c5710450885c7d707f95aa1de",
            "value": " 122/122 [00:23&lt;00:00,  5.01it/s]"
          }
        },
        "eee918aab5e944a1a679d5117368baed": {
          "model_module": "@jupyter-widgets/base",
          "model_name": "LayoutModel",
          "model_module_version": "1.2.0",
          "state": {
            "_model_module": "@jupyter-widgets/base",
            "_model_module_version": "1.2.0",
            "_model_name": "LayoutModel",
            "_view_count": null,
            "_view_module": "@jupyter-widgets/base",
            "_view_module_version": "1.2.0",
            "_view_name": "LayoutView",
            "align_content": null,
            "align_items": null,
            "align_self": null,
            "border": null,
            "bottom": null,
            "display": null,
            "flex": null,
            "flex_flow": null,
            "grid_area": null,
            "grid_auto_columns": null,
            "grid_auto_flow": null,
            "grid_auto_rows": null,
            "grid_column": null,
            "grid_gap": null,
            "grid_row": null,
            "grid_template_areas": null,
            "grid_template_columns": null,
            "grid_template_rows": null,
            "height": null,
            "justify_content": null,
            "justify_items": null,
            "left": null,
            "margin": null,
            "max_height": null,
            "max_width": null,
            "min_height": null,
            "min_width": null,
            "object_fit": null,
            "object_position": null,
            "order": null,
            "overflow": null,
            "overflow_x": null,
            "overflow_y": null,
            "padding": null,
            "right": null,
            "top": null,
            "visibility": null,
            "width": null
          }
        },
        "2cb40732c1694443bb40b7010e2e3543": {
          "model_module": "@jupyter-widgets/base",
          "model_name": "LayoutModel",
          "model_module_version": "1.2.0",
          "state": {
            "_model_module": "@jupyter-widgets/base",
            "_model_module_version": "1.2.0",
            "_model_name": "LayoutModel",
            "_view_count": null,
            "_view_module": "@jupyter-widgets/base",
            "_view_module_version": "1.2.0",
            "_view_name": "LayoutView",
            "align_content": null,
            "align_items": null,
            "align_self": null,
            "border": null,
            "bottom": null,
            "display": null,
            "flex": null,
            "flex_flow": null,
            "grid_area": null,
            "grid_auto_columns": null,
            "grid_auto_flow": null,
            "grid_auto_rows": null,
            "grid_column": null,
            "grid_gap": null,
            "grid_row": null,
            "grid_template_areas": null,
            "grid_template_columns": null,
            "grid_template_rows": null,
            "height": null,
            "justify_content": null,
            "justify_items": null,
            "left": null,
            "margin": null,
            "max_height": null,
            "max_width": null,
            "min_height": null,
            "min_width": null,
            "object_fit": null,
            "object_position": null,
            "order": null,
            "overflow": null,
            "overflow_x": null,
            "overflow_y": null,
            "padding": null,
            "right": null,
            "top": null,
            "visibility": null,
            "width": null
          }
        },
        "06a33108975040b2af6c41448159b570": {
          "model_module": "@jupyter-widgets/controls",
          "model_name": "DescriptionStyleModel",
          "model_module_version": "1.5.0",
          "state": {
            "_model_module": "@jupyter-widgets/controls",
            "_model_module_version": "1.5.0",
            "_model_name": "DescriptionStyleModel",
            "_view_count": null,
            "_view_module": "@jupyter-widgets/base",
            "_view_module_version": "1.2.0",
            "_view_name": "StyleView",
            "description_width": ""
          }
        },
        "57f08440de584b55963c169cc39f3de3": {
          "model_module": "@jupyter-widgets/base",
          "model_name": "LayoutModel",
          "model_module_version": "1.2.0",
          "state": {
            "_model_module": "@jupyter-widgets/base",
            "_model_module_version": "1.2.0",
            "_model_name": "LayoutModel",
            "_view_count": null,
            "_view_module": "@jupyter-widgets/base",
            "_view_module_version": "1.2.0",
            "_view_name": "LayoutView",
            "align_content": null,
            "align_items": null,
            "align_self": null,
            "border": null,
            "bottom": null,
            "display": null,
            "flex": null,
            "flex_flow": null,
            "grid_area": null,
            "grid_auto_columns": null,
            "grid_auto_flow": null,
            "grid_auto_rows": null,
            "grid_column": null,
            "grid_gap": null,
            "grid_row": null,
            "grid_template_areas": null,
            "grid_template_columns": null,
            "grid_template_rows": null,
            "height": null,
            "justify_content": null,
            "justify_items": null,
            "left": null,
            "margin": null,
            "max_height": null,
            "max_width": null,
            "min_height": null,
            "min_width": null,
            "object_fit": null,
            "object_position": null,
            "order": null,
            "overflow": null,
            "overflow_x": null,
            "overflow_y": null,
            "padding": null,
            "right": null,
            "top": null,
            "visibility": null,
            "width": null
          }
        },
        "3a43fab564554274bb13a491ff8b4589": {
          "model_module": "@jupyter-widgets/controls",
          "model_name": "ProgressStyleModel",
          "model_module_version": "1.5.0",
          "state": {
            "_model_module": "@jupyter-widgets/controls",
            "_model_module_version": "1.5.0",
            "_model_name": "ProgressStyleModel",
            "_view_count": null,
            "_view_module": "@jupyter-widgets/base",
            "_view_module_version": "1.2.0",
            "_view_name": "StyleView",
            "bar_color": null,
            "description_width": ""
          }
        },
        "ed0e3811109146e2bfb2b2ab8fdb4169": {
          "model_module": "@jupyter-widgets/base",
          "model_name": "LayoutModel",
          "model_module_version": "1.2.0",
          "state": {
            "_model_module": "@jupyter-widgets/base",
            "_model_module_version": "1.2.0",
            "_model_name": "LayoutModel",
            "_view_count": null,
            "_view_module": "@jupyter-widgets/base",
            "_view_module_version": "1.2.0",
            "_view_name": "LayoutView",
            "align_content": null,
            "align_items": null,
            "align_self": null,
            "border": null,
            "bottom": null,
            "display": null,
            "flex": null,
            "flex_flow": null,
            "grid_area": null,
            "grid_auto_columns": null,
            "grid_auto_flow": null,
            "grid_auto_rows": null,
            "grid_column": null,
            "grid_gap": null,
            "grid_row": null,
            "grid_template_areas": null,
            "grid_template_columns": null,
            "grid_template_rows": null,
            "height": null,
            "justify_content": null,
            "justify_items": null,
            "left": null,
            "margin": null,
            "max_height": null,
            "max_width": null,
            "min_height": null,
            "min_width": null,
            "object_fit": null,
            "object_position": null,
            "order": null,
            "overflow": null,
            "overflow_x": null,
            "overflow_y": null,
            "padding": null,
            "right": null,
            "top": null,
            "visibility": null,
            "width": null
          }
        },
        "937f9a1c5710450885c7d707f95aa1de": {
          "model_module": "@jupyter-widgets/controls",
          "model_name": "DescriptionStyleModel",
          "model_module_version": "1.5.0",
          "state": {
            "_model_module": "@jupyter-widgets/controls",
            "_model_module_version": "1.5.0",
            "_model_name": "DescriptionStyleModel",
            "_view_count": null,
            "_view_module": "@jupyter-widgets/base",
            "_view_module_version": "1.2.0",
            "_view_name": "StyleView",
            "description_width": ""
          }
        }
      }
    }
  },
  "cells": [
    {
      "cell_type": "markdown",
      "metadata": {
        "id": "view-in-github",
        "colab_type": "text"
      },
      "source": [
        "<a href=\"https://colab.research.google.com/github/sayantika21175/RAG_Projects/blob/main/Semantic%2Bkeyword.ipynb\" target=\"_parent\"><img src=\"https://colab.research.google.com/assets/colab-badge.svg\" alt=\"Open In Colab\"/></a>"
      ]
    },
    {
      "cell_type": "markdown",
      "source": [
        "# Installing the required Libraries\n"
      ],
      "metadata": {
        "id": "C6suE9J1Qnfj"
      }
    },
    {
      "cell_type": "code",
      "source": [
        "# !pip install langchain faiss-cpu rank_bm25 sentence-transformers\n",
        "#!pip install -U langchain-community"
      ],
      "metadata": {
        "id": "gC_UyKUVB2jM"
      },
      "execution_count": 1,
      "outputs": []
    },
    {
      "cell_type": "markdown",
      "source": [
        "#Import the required packages"
      ],
      "metadata": {
        "id": "JKTrfpTqQ3m6"
      }
    },
    {
      "cell_type": "code",
      "source": [
        "import pandas as pd\n",
        "import os\n",
        "from sentence_transformers import SentenceTransformer\n",
        "from langchain.vectorstores import FAISS\n",
        "import string\n",
        "import faiss\n",
        "import re"
      ],
      "metadata": {
        "id": "EhyriFuQB7Mk"
      },
      "execution_count": 2,
      "outputs": []
    },
    {
      "cell_type": "markdown",
      "source": [
        "#Load the dataset"
      ],
      "metadata": {
        "id": "jPUa1MPFQ7do"
      }
    },
    {
      "cell_type": "code",
      "source": [
        "data = pd.read_csv(r'/content/drive/MyDrive/capstone_lumen/data.csv',encoding='ISO-8859-1')\n",
        "data.head()"
      ],
      "metadata": {
        "colab": {
          "base_uri": "https://localhost:8080/",
          "height": 206
        },
        "id": "KWrSod6WCtR_",
        "outputId": "10bd3033-3a9d-470b-be0b-8f8a046a6afe"
      },
      "execution_count": 44,
      "outputs": [
        {
          "output_type": "execute_result",
          "data": {
            "text/plain": [
              "  InvoiceNo StockCode                          Description  Quantity  \\\n",
              "0    536365    85123A   WHITE HANGING HEART T-LIGHT HOLDER         6   \n",
              "1    536365     71053                  WHITE METAL LANTERN         6   \n",
              "2    536365    84406B       CREAM CUPID HEARTS COAT HANGER         8   \n",
              "3    536365    84029G  KNITTED UNION FLAG HOT WATER BOTTLE         6   \n",
              "4    536365    84029E       RED WOOLLY HOTTIE WHITE HEART.         6   \n",
              "\n",
              "      InvoiceDate  UnitPrice  CustomerID         Country  \n",
              "0  12/1/2010 8:26       2.55     17850.0  United Kingdom  \n",
              "1  12/1/2010 8:26       3.39     17850.0  United Kingdom  \n",
              "2  12/1/2010 8:26       2.75     17850.0  United Kingdom  \n",
              "3  12/1/2010 8:26       3.39     17850.0  United Kingdom  \n",
              "4  12/1/2010 8:26       3.39     17850.0  United Kingdom  "
            ],
            "text/html": [
              "\n",
              "  <div id=\"df-d90bce4b-2719-4a9d-a34d-7999f58b491c\" class=\"colab-df-container\">\n",
              "    <div>\n",
              "<style scoped>\n",
              "    .dataframe tbody tr th:only-of-type {\n",
              "        vertical-align: middle;\n",
              "    }\n",
              "\n",
              "    .dataframe tbody tr th {\n",
              "        vertical-align: top;\n",
              "    }\n",
              "\n",
              "    .dataframe thead th {\n",
              "        text-align: right;\n",
              "    }\n",
              "</style>\n",
              "<table border=\"1\" class=\"dataframe\">\n",
              "  <thead>\n",
              "    <tr style=\"text-align: right;\">\n",
              "      <th></th>\n",
              "      <th>InvoiceNo</th>\n",
              "      <th>StockCode</th>\n",
              "      <th>Description</th>\n",
              "      <th>Quantity</th>\n",
              "      <th>InvoiceDate</th>\n",
              "      <th>UnitPrice</th>\n",
              "      <th>CustomerID</th>\n",
              "      <th>Country</th>\n",
              "    </tr>\n",
              "  </thead>\n",
              "  <tbody>\n",
              "    <tr>\n",
              "      <th>0</th>\n",
              "      <td>536365</td>\n",
              "      <td>85123A</td>\n",
              "      <td>WHITE HANGING HEART T-LIGHT HOLDER</td>\n",
              "      <td>6</td>\n",
              "      <td>12/1/2010 8:26</td>\n",
              "      <td>2.55</td>\n",
              "      <td>17850.0</td>\n",
              "      <td>United Kingdom</td>\n",
              "    </tr>\n",
              "    <tr>\n",
              "      <th>1</th>\n",
              "      <td>536365</td>\n",
              "      <td>71053</td>\n",
              "      <td>WHITE METAL LANTERN</td>\n",
              "      <td>6</td>\n",
              "      <td>12/1/2010 8:26</td>\n",
              "      <td>3.39</td>\n",
              "      <td>17850.0</td>\n",
              "      <td>United Kingdom</td>\n",
              "    </tr>\n",
              "    <tr>\n",
              "      <th>2</th>\n",
              "      <td>536365</td>\n",
              "      <td>84406B</td>\n",
              "      <td>CREAM CUPID HEARTS COAT HANGER</td>\n",
              "      <td>8</td>\n",
              "      <td>12/1/2010 8:26</td>\n",
              "      <td>2.75</td>\n",
              "      <td>17850.0</td>\n",
              "      <td>United Kingdom</td>\n",
              "    </tr>\n",
              "    <tr>\n",
              "      <th>3</th>\n",
              "      <td>536365</td>\n",
              "      <td>84029G</td>\n",
              "      <td>KNITTED UNION FLAG HOT WATER BOTTLE</td>\n",
              "      <td>6</td>\n",
              "      <td>12/1/2010 8:26</td>\n",
              "      <td>3.39</td>\n",
              "      <td>17850.0</td>\n",
              "      <td>United Kingdom</td>\n",
              "    </tr>\n",
              "    <tr>\n",
              "      <th>4</th>\n",
              "      <td>536365</td>\n",
              "      <td>84029E</td>\n",
              "      <td>RED WOOLLY HOTTIE WHITE HEART.</td>\n",
              "      <td>6</td>\n",
              "      <td>12/1/2010 8:26</td>\n",
              "      <td>3.39</td>\n",
              "      <td>17850.0</td>\n",
              "      <td>United Kingdom</td>\n",
              "    </tr>\n",
              "  </tbody>\n",
              "</table>\n",
              "</div>\n",
              "    <div class=\"colab-df-buttons\">\n",
              "\n",
              "  <div class=\"colab-df-container\">\n",
              "    <button class=\"colab-df-convert\" onclick=\"convertToInteractive('df-d90bce4b-2719-4a9d-a34d-7999f58b491c')\"\n",
              "            title=\"Convert this dataframe to an interactive table.\"\n",
              "            style=\"display:none;\">\n",
              "\n",
              "  <svg xmlns=\"http://www.w3.org/2000/svg\" height=\"24px\" viewBox=\"0 -960 960 960\">\n",
              "    <path d=\"M120-120v-720h720v720H120Zm60-500h600v-160H180v160Zm220 220h160v-160H400v160Zm0 220h160v-160H400v160ZM180-400h160v-160H180v160Zm440 0h160v-160H620v160ZM180-180h160v-160H180v160Zm440 0h160v-160H620v160Z\"/>\n",
              "  </svg>\n",
              "    </button>\n",
              "\n",
              "  <style>\n",
              "    .colab-df-container {\n",
              "      display:flex;\n",
              "      gap: 12px;\n",
              "    }\n",
              "\n",
              "    .colab-df-convert {\n",
              "      background-color: #E8F0FE;\n",
              "      border: none;\n",
              "      border-radius: 50%;\n",
              "      cursor: pointer;\n",
              "      display: none;\n",
              "      fill: #1967D2;\n",
              "      height: 32px;\n",
              "      padding: 0 0 0 0;\n",
              "      width: 32px;\n",
              "    }\n",
              "\n",
              "    .colab-df-convert:hover {\n",
              "      background-color: #E2EBFA;\n",
              "      box-shadow: 0px 1px 2px rgba(60, 64, 67, 0.3), 0px 1px 3px 1px rgba(60, 64, 67, 0.15);\n",
              "      fill: #174EA6;\n",
              "    }\n",
              "\n",
              "    .colab-df-buttons div {\n",
              "      margin-bottom: 4px;\n",
              "    }\n",
              "\n",
              "    [theme=dark] .colab-df-convert {\n",
              "      background-color: #3B4455;\n",
              "      fill: #D2E3FC;\n",
              "    }\n",
              "\n",
              "    [theme=dark] .colab-df-convert:hover {\n",
              "      background-color: #434B5C;\n",
              "      box-shadow: 0px 1px 3px 1px rgba(0, 0, 0, 0.15);\n",
              "      filter: drop-shadow(0px 1px 2px rgba(0, 0, 0, 0.3));\n",
              "      fill: #FFFFFF;\n",
              "    }\n",
              "  </style>\n",
              "\n",
              "    <script>\n",
              "      const buttonEl =\n",
              "        document.querySelector('#df-d90bce4b-2719-4a9d-a34d-7999f58b491c button.colab-df-convert');\n",
              "      buttonEl.style.display =\n",
              "        google.colab.kernel.accessAllowed ? 'block' : 'none';\n",
              "\n",
              "      async function convertToInteractive(key) {\n",
              "        const element = document.querySelector('#df-d90bce4b-2719-4a9d-a34d-7999f58b491c');\n",
              "        const dataTable =\n",
              "          await google.colab.kernel.invokeFunction('convertToInteractive',\n",
              "                                                    [key], {});\n",
              "        if (!dataTable) return;\n",
              "\n",
              "        const docLinkHtml = 'Like what you see? Visit the ' +\n",
              "          '<a target=\"_blank\" href=https://colab.research.google.com/notebooks/data_table.ipynb>data table notebook</a>'\n",
              "          + ' to learn more about interactive tables.';\n",
              "        element.innerHTML = '';\n",
              "        dataTable['output_type'] = 'display_data';\n",
              "        await google.colab.output.renderOutput(dataTable, element);\n",
              "        const docLink = document.createElement('div');\n",
              "        docLink.innerHTML = docLinkHtml;\n",
              "        element.appendChild(docLink);\n",
              "      }\n",
              "    </script>\n",
              "  </div>\n",
              "\n",
              "\n",
              "    <div id=\"df-7142b8a7-b2e3-4851-b9ca-4291071c0d9e\">\n",
              "      <button class=\"colab-df-quickchart\" onclick=\"quickchart('df-7142b8a7-b2e3-4851-b9ca-4291071c0d9e')\"\n",
              "                title=\"Suggest charts\"\n",
              "                style=\"display:none;\">\n",
              "\n",
              "<svg xmlns=\"http://www.w3.org/2000/svg\" height=\"24px\"viewBox=\"0 0 24 24\"\n",
              "     width=\"24px\">\n",
              "    <g>\n",
              "        <path d=\"M19 3H5c-1.1 0-2 .9-2 2v14c0 1.1.9 2 2 2h14c1.1 0 2-.9 2-2V5c0-1.1-.9-2-2-2zM9 17H7v-7h2v7zm4 0h-2V7h2v10zm4 0h-2v-4h2v4z\"/>\n",
              "    </g>\n",
              "</svg>\n",
              "      </button>\n",
              "\n",
              "<style>\n",
              "  .colab-df-quickchart {\n",
              "      --bg-color: #E8F0FE;\n",
              "      --fill-color: #1967D2;\n",
              "      --hover-bg-color: #E2EBFA;\n",
              "      --hover-fill-color: #174EA6;\n",
              "      --disabled-fill-color: #AAA;\n",
              "      --disabled-bg-color: #DDD;\n",
              "  }\n",
              "\n",
              "  [theme=dark] .colab-df-quickchart {\n",
              "      --bg-color: #3B4455;\n",
              "      --fill-color: #D2E3FC;\n",
              "      --hover-bg-color: #434B5C;\n",
              "      --hover-fill-color: #FFFFFF;\n",
              "      --disabled-bg-color: #3B4455;\n",
              "      --disabled-fill-color: #666;\n",
              "  }\n",
              "\n",
              "  .colab-df-quickchart {\n",
              "    background-color: var(--bg-color);\n",
              "    border: none;\n",
              "    border-radius: 50%;\n",
              "    cursor: pointer;\n",
              "    display: none;\n",
              "    fill: var(--fill-color);\n",
              "    height: 32px;\n",
              "    padding: 0;\n",
              "    width: 32px;\n",
              "  }\n",
              "\n",
              "  .colab-df-quickchart:hover {\n",
              "    background-color: var(--hover-bg-color);\n",
              "    box-shadow: 0 1px 2px rgba(60, 64, 67, 0.3), 0 1px 3px 1px rgba(60, 64, 67, 0.15);\n",
              "    fill: var(--button-hover-fill-color);\n",
              "  }\n",
              "\n",
              "  .colab-df-quickchart-complete:disabled,\n",
              "  .colab-df-quickchart-complete:disabled:hover {\n",
              "    background-color: var(--disabled-bg-color);\n",
              "    fill: var(--disabled-fill-color);\n",
              "    box-shadow: none;\n",
              "  }\n",
              "\n",
              "  .colab-df-spinner {\n",
              "    border: 2px solid var(--fill-color);\n",
              "    border-color: transparent;\n",
              "    border-bottom-color: var(--fill-color);\n",
              "    animation:\n",
              "      spin 1s steps(1) infinite;\n",
              "  }\n",
              "\n",
              "  @keyframes spin {\n",
              "    0% {\n",
              "      border-color: transparent;\n",
              "      border-bottom-color: var(--fill-color);\n",
              "      border-left-color: var(--fill-color);\n",
              "    }\n",
              "    20% {\n",
              "      border-color: transparent;\n",
              "      border-left-color: var(--fill-color);\n",
              "      border-top-color: var(--fill-color);\n",
              "    }\n",
              "    30% {\n",
              "      border-color: transparent;\n",
              "      border-left-color: var(--fill-color);\n",
              "      border-top-color: var(--fill-color);\n",
              "      border-right-color: var(--fill-color);\n",
              "    }\n",
              "    40% {\n",
              "      border-color: transparent;\n",
              "      border-right-color: var(--fill-color);\n",
              "      border-top-color: var(--fill-color);\n",
              "    }\n",
              "    60% {\n",
              "      border-color: transparent;\n",
              "      border-right-color: var(--fill-color);\n",
              "    }\n",
              "    80% {\n",
              "      border-color: transparent;\n",
              "      border-right-color: var(--fill-color);\n",
              "      border-bottom-color: var(--fill-color);\n",
              "    }\n",
              "    90% {\n",
              "      border-color: transparent;\n",
              "      border-bottom-color: var(--fill-color);\n",
              "    }\n",
              "  }\n",
              "</style>\n",
              "\n",
              "      <script>\n",
              "        async function quickchart(key) {\n",
              "          const quickchartButtonEl =\n",
              "            document.querySelector('#' + key + ' button');\n",
              "          quickchartButtonEl.disabled = true;  // To prevent multiple clicks.\n",
              "          quickchartButtonEl.classList.add('colab-df-spinner');\n",
              "          try {\n",
              "            const charts = await google.colab.kernel.invokeFunction(\n",
              "                'suggestCharts', [key], {});\n",
              "          } catch (error) {\n",
              "            console.error('Error during call to suggestCharts:', error);\n",
              "          }\n",
              "          quickchartButtonEl.classList.remove('colab-df-spinner');\n",
              "          quickchartButtonEl.classList.add('colab-df-quickchart-complete');\n",
              "        }\n",
              "        (() => {\n",
              "          let quickchartButtonEl =\n",
              "            document.querySelector('#df-7142b8a7-b2e3-4851-b9ca-4291071c0d9e button');\n",
              "          quickchartButtonEl.style.display =\n",
              "            google.colab.kernel.accessAllowed ? 'block' : 'none';\n",
              "        })();\n",
              "      </script>\n",
              "    </div>\n",
              "\n",
              "    </div>\n",
              "  </div>\n"
            ],
            "application/vnd.google.colaboratory.intrinsic+json": {
              "type": "dataframe",
              "variable_name": "data"
            }
          },
          "metadata": {},
          "execution_count": 44
        }
      ]
    },
    {
      "cell_type": "markdown",
      "source": [
        "#Dataset Understanding and Preprocessing\n",
        "** Here we need the column Description from the dataset"
      ],
      "metadata": {
        "id": "fjIG0VOhRA0w"
      }
    },
    {
      "cell_type": "code",
      "source": [
        "#get the unique customer_id\n",
        "customer_id = data['CustomerID'].unique()"
      ],
      "metadata": {
        "id": "UNpHZbqLDxHt"
      },
      "execution_count": 45,
      "outputs": []
    },
    {
      "cell_type": "code",
      "source": [
        "len(customer_id)"
      ],
      "metadata": {
        "colab": {
          "base_uri": "https://localhost:8080/"
        },
        "id": "LxQUpzCZD4_d",
        "outputId": "89c89566-dced-4049-b397-1f0542b0fb78"
      },
      "execution_count": 46,
      "outputs": [
        {
          "output_type": "execute_result",
          "data": {
            "text/plain": [
              "4373"
            ]
          },
          "metadata": {},
          "execution_count": 46
        }
      ]
    },
    {
      "cell_type": "code",
      "source": [
        "data.shape"
      ],
      "metadata": {
        "colab": {
          "base_uri": "https://localhost:8080/"
        },
        "id": "IdZtI0y-D9gi",
        "outputId": "99601963-1e03-456b-e876-79e7860f93c6"
      },
      "execution_count": 47,
      "outputs": [
        {
          "output_type": "execute_result",
          "data": {
            "text/plain": [
              "(541909, 8)"
            ]
          },
          "metadata": {},
          "execution_count": 47
        }
      ]
    },
    {
      "cell_type": "code",
      "source": [
        "#check if Description has some dublicates or not\n",
        "data['Description'].value_counts()"
      ],
      "metadata": {
        "colab": {
          "base_uri": "https://localhost:8080/",
          "height": 489
        },
        "id": "4wRNFN4EEEH9",
        "outputId": "0c55ca46-dd01-434d-de3d-2569a2c83a4e"
      },
      "execution_count": 48,
      "outputs": [
        {
          "output_type": "execute_result",
          "data": {
            "text/plain": [
              "Description\n",
              "WHITE HANGING HEART T-LIGHT HOLDER    2369\n",
              "REGENCY CAKESTAND 3 TIER              2200\n",
              "JUMBO BAG RED RETROSPOT               2159\n",
              "PARTY BUNTING                         1727\n",
              "LUNCH BAG RED RETROSPOT               1638\n",
              "                                      ... \n",
              "ANT SILVER TURQUOISE BOUDICCA RING       1\n",
              "Damages                                  1\n",
              "Found by jackie                          1\n",
              "water damaged                            1\n",
              "lost in space                            1\n",
              "Name: count, Length: 4223, dtype: int64"
            ],
            "text/html": [
              "<div>\n",
              "<style scoped>\n",
              "    .dataframe tbody tr th:only-of-type {\n",
              "        vertical-align: middle;\n",
              "    }\n",
              "\n",
              "    .dataframe tbody tr th {\n",
              "        vertical-align: top;\n",
              "    }\n",
              "\n",
              "    .dataframe thead th {\n",
              "        text-align: right;\n",
              "    }\n",
              "</style>\n",
              "<table border=\"1\" class=\"dataframe\">\n",
              "  <thead>\n",
              "    <tr style=\"text-align: right;\">\n",
              "      <th></th>\n",
              "      <th>count</th>\n",
              "    </tr>\n",
              "    <tr>\n",
              "      <th>Description</th>\n",
              "      <th></th>\n",
              "    </tr>\n",
              "  </thead>\n",
              "  <tbody>\n",
              "    <tr>\n",
              "      <th>WHITE HANGING HEART T-LIGHT HOLDER</th>\n",
              "      <td>2369</td>\n",
              "    </tr>\n",
              "    <tr>\n",
              "      <th>REGENCY CAKESTAND 3 TIER</th>\n",
              "      <td>2200</td>\n",
              "    </tr>\n",
              "    <tr>\n",
              "      <th>JUMBO BAG RED RETROSPOT</th>\n",
              "      <td>2159</td>\n",
              "    </tr>\n",
              "    <tr>\n",
              "      <th>PARTY BUNTING</th>\n",
              "      <td>1727</td>\n",
              "    </tr>\n",
              "    <tr>\n",
              "      <th>LUNCH BAG RED RETROSPOT</th>\n",
              "      <td>1638</td>\n",
              "    </tr>\n",
              "    <tr>\n",
              "      <th>...</th>\n",
              "      <td>...</td>\n",
              "    </tr>\n",
              "    <tr>\n",
              "      <th>ANT SILVER TURQUOISE BOUDICCA RING</th>\n",
              "      <td>1</td>\n",
              "    </tr>\n",
              "    <tr>\n",
              "      <th>Damages</th>\n",
              "      <td>1</td>\n",
              "    </tr>\n",
              "    <tr>\n",
              "      <th>Found by jackie</th>\n",
              "      <td>1</td>\n",
              "    </tr>\n",
              "    <tr>\n",
              "      <th>water damaged</th>\n",
              "      <td>1</td>\n",
              "    </tr>\n",
              "    <tr>\n",
              "      <th>lost in space</th>\n",
              "      <td>1</td>\n",
              "    </tr>\n",
              "  </tbody>\n",
              "</table>\n",
              "<p>4223 rows × 1 columns</p>\n",
              "</div><br><label><b>dtype:</b> int64</label>"
            ]
          },
          "metadata": {},
          "execution_count": 48
        }
      ]
    },
    {
      "cell_type": "code",
      "source": [
        "#check if data has some dublicate rows\n",
        "data.duplicated().sum()"
      ],
      "metadata": {
        "colab": {
          "base_uri": "https://localhost:8080/"
        },
        "id": "UEiGgwdIFZwP",
        "outputId": "5026ef70-0598-4fee-e6c1-51e06830c2ed"
      },
      "execution_count": 49,
      "outputs": [
        {
          "output_type": "execute_result",
          "data": {
            "text/plain": [
              "np.int64(5268)"
            ]
          },
          "metadata": {},
          "execution_count": 49
        }
      ]
    },
    {
      "cell_type": "code",
      "source": [
        "data.drop_duplicates(inplace=True)#Dropping the duplicates values"
      ],
      "metadata": {
        "id": "Tj-26YUVF5eo"
      },
      "execution_count": 50,
      "outputs": []
    },
    {
      "cell_type": "markdown",
      "source": [
        "#Check if in the column Description contains any non string value or not"
      ],
      "metadata": {
        "id": "WyS53v_5Rc9i"
      }
    },
    {
      "cell_type": "code",
      "source": [
        "non_string_mask = data['Description'].apply(lambda x: not isinstance(x, str))\n",
        "non_string_values = data[non_string_mask]\n",
        "print(non_string_values)\n"
      ],
      "metadata": {
        "colab": {
          "base_uri": "https://localhost:8080/"
        },
        "id": "KwNOjq27bORx",
        "outputId": "241b6e17-1d02-4ad0-e41e-d4ce13330eb3"
      },
      "execution_count": 51,
      "outputs": [
        {
          "output_type": "stream",
          "name": "stdout",
          "text": [
            "       InvoiceNo StockCode Description  Quantity      InvoiceDate  UnitPrice  \\\n",
            "622       536414     22139         NaN        56  12/1/2010 11:52        0.0   \n",
            "1970      536545     21134         NaN         1  12/1/2010 14:32        0.0   \n",
            "1971      536546     22145         NaN         1  12/1/2010 14:33        0.0   \n",
            "1972      536547     37509         NaN         1  12/1/2010 14:33        0.0   \n",
            "1987      536549    85226A         NaN         1  12/1/2010 14:34        0.0   \n",
            "...          ...       ...         ...       ...              ...        ...   \n",
            "535322    581199     84581         NaN        -2  12/7/2011 18:26        0.0   \n",
            "535326    581203     23406         NaN        15  12/7/2011 18:31        0.0   \n",
            "535332    581209     21620         NaN         6  12/7/2011 18:35        0.0   \n",
            "536981    581234     72817         NaN        27  12/8/2011 10:33        0.0   \n",
            "538554    581408     85175         NaN        20  12/8/2011 14:06        0.0   \n",
            "\n",
            "        CustomerID         Country  \n",
            "622            NaN  United Kingdom  \n",
            "1970           NaN  United Kingdom  \n",
            "1971           NaN  United Kingdom  \n",
            "1972           NaN  United Kingdom  \n",
            "1987           NaN  United Kingdom  \n",
            "...            ...             ...  \n",
            "535322         NaN  United Kingdom  \n",
            "535326         NaN  United Kingdom  \n",
            "535332         NaN  United Kingdom  \n",
            "536981         NaN  United Kingdom  \n",
            "538554         NaN  United Kingdom  \n",
            "\n",
            "[1454 rows x 8 columns]\n"
          ]
        }
      ]
    },
    {
      "cell_type": "markdown",
      "source": [
        "#Remove the NaN values from the column Description"
      ],
      "metadata": {
        "id": "BCZMzY9VRnSV"
      }
    },
    {
      "cell_type": "code",
      "source": [
        "#remove the Nan Value\n",
        "data.dropna(inplace=True)"
      ],
      "metadata": {
        "id": "gkiEwCYMbZTk"
      },
      "execution_count": 52,
      "outputs": []
    },
    {
      "cell_type": "code",
      "source": [
        "data.duplicated().sum()"
      ],
      "metadata": {
        "colab": {
          "base_uri": "https://localhost:8080/"
        },
        "id": "cWopEuxmGmt0",
        "outputId": "1051cbb3-49b5-437e-9a98-83642bda47df"
      },
      "execution_count": 53,
      "outputs": [
        {
          "output_type": "execute_result",
          "data": {
            "text/plain": [
              "np.int64(0)"
            ]
          },
          "metadata": {},
          "execution_count": 53
        }
      ]
    },
    {
      "cell_type": "code",
      "source": [
        "non_string_mask= data['Description'].apply(lambda x: not isinstance(x,str))\n",
        "non_string_values = data[non_string_mask]\n",
        "print(non_string_values)"
      ],
      "metadata": {
        "colab": {
          "base_uri": "https://localhost:8080/"
        },
        "id": "8GVNu6TrbihS",
        "outputId": "885c5027-9d8d-44dc-a57c-bcc3c128260c"
      },
      "execution_count": 54,
      "outputs": [
        {
          "output_type": "stream",
          "name": "stdout",
          "text": [
            "Empty DataFrame\n",
            "Columns: [InvoiceNo, StockCode, Description, Quantity, InvoiceDate, UnitPrice, CustomerID, Country]\n",
            "Index: []\n"
          ]
        }
      ]
    },
    {
      "cell_type": "markdown",
      "source": [
        "#Considered only the column Description from the data and created a new data named dataset"
      ],
      "metadata": {
        "id": "rqJPUSf_R1E3"
      }
    },
    {
      "cell_type": "code",
      "source": [
        "dataset=data['Description'].reset_index(drop=True)\n",
        "dataset.head()"
      ],
      "metadata": {
        "colab": {
          "base_uri": "https://localhost:8080/",
          "height": 241
        },
        "id": "S62vHFiNGua1",
        "outputId": "6b9b3621-7657-415f-aa47-0df09e07bee4"
      },
      "execution_count": 55,
      "outputs": [
        {
          "output_type": "execute_result",
          "data": {
            "text/plain": [
              "0     WHITE HANGING HEART T-LIGHT HOLDER\n",
              "1                    WHITE METAL LANTERN\n",
              "2         CREAM CUPID HEARTS COAT HANGER\n",
              "3    KNITTED UNION FLAG HOT WATER BOTTLE\n",
              "4         RED WOOLLY HOTTIE WHITE HEART.\n",
              "Name: Description, dtype: object"
            ],
            "text/html": [
              "<div>\n",
              "<style scoped>\n",
              "    .dataframe tbody tr th:only-of-type {\n",
              "        vertical-align: middle;\n",
              "    }\n",
              "\n",
              "    .dataframe tbody tr th {\n",
              "        vertical-align: top;\n",
              "    }\n",
              "\n",
              "    .dataframe thead th {\n",
              "        text-align: right;\n",
              "    }\n",
              "</style>\n",
              "<table border=\"1\" class=\"dataframe\">\n",
              "  <thead>\n",
              "    <tr style=\"text-align: right;\">\n",
              "      <th></th>\n",
              "      <th>Description</th>\n",
              "    </tr>\n",
              "  </thead>\n",
              "  <tbody>\n",
              "    <tr>\n",
              "      <th>0</th>\n",
              "      <td>WHITE HANGING HEART T-LIGHT HOLDER</td>\n",
              "    </tr>\n",
              "    <tr>\n",
              "      <th>1</th>\n",
              "      <td>WHITE METAL LANTERN</td>\n",
              "    </tr>\n",
              "    <tr>\n",
              "      <th>2</th>\n",
              "      <td>CREAM CUPID HEARTS COAT HANGER</td>\n",
              "    </tr>\n",
              "    <tr>\n",
              "      <th>3</th>\n",
              "      <td>KNITTED UNION FLAG HOT WATER BOTTLE</td>\n",
              "    </tr>\n",
              "    <tr>\n",
              "      <th>4</th>\n",
              "      <td>RED WOOLLY HOTTIE WHITE HEART.</td>\n",
              "    </tr>\n",
              "  </tbody>\n",
              "</table>\n",
              "</div><br><label><b>dtype:</b> object</label>"
            ]
          },
          "metadata": {},
          "execution_count": 55
        }
      ]
    },
    {
      "cell_type": "code",
      "source": [
        "dataset.value_counts()"
      ],
      "metadata": {
        "colab": {
          "base_uri": "https://localhost:8080/",
          "height": 489
        },
        "id": "H8ryy11rHKT-",
        "outputId": "13d9c126-ddbf-4850-c36c-3b2d7d29bd4a"
      },
      "execution_count": 56,
      "outputs": [
        {
          "output_type": "execute_result",
          "data": {
            "text/plain": [
              "Description\n",
              "WHITE HANGING HEART T-LIGHT HOLDER     2058\n",
              "REGENCY CAKESTAND 3 TIER               1894\n",
              "JUMBO BAG RED RETROSPOT                1659\n",
              "PARTY BUNTING                          1409\n",
              "ASSORTED COLOUR BIRD ORNAMENT          1405\n",
              "                                       ... \n",
              "LETTER \"W\" BLING KEY RING                 1\n",
              "CROCHET LILAC/RED BEAR KEYRING            1\n",
              "MIDNIGHT BLUE CRYSTAL DROP EARRINGS       1\n",
              "BLACK VINT ART DEC CRYSTAL BRACELET       1\n",
              "WHITE STONE/CRYSTAL EARRINGS              1\n",
              "Name: count, Length: 3896, dtype: int64"
            ],
            "text/html": [
              "<div>\n",
              "<style scoped>\n",
              "    .dataframe tbody tr th:only-of-type {\n",
              "        vertical-align: middle;\n",
              "    }\n",
              "\n",
              "    .dataframe tbody tr th {\n",
              "        vertical-align: top;\n",
              "    }\n",
              "\n",
              "    .dataframe thead th {\n",
              "        text-align: right;\n",
              "    }\n",
              "</style>\n",
              "<table border=\"1\" class=\"dataframe\">\n",
              "  <thead>\n",
              "    <tr style=\"text-align: right;\">\n",
              "      <th></th>\n",
              "      <th>count</th>\n",
              "    </tr>\n",
              "    <tr>\n",
              "      <th>Description</th>\n",
              "      <th></th>\n",
              "    </tr>\n",
              "  </thead>\n",
              "  <tbody>\n",
              "    <tr>\n",
              "      <th>WHITE HANGING HEART T-LIGHT HOLDER</th>\n",
              "      <td>2058</td>\n",
              "    </tr>\n",
              "    <tr>\n",
              "      <th>REGENCY CAKESTAND 3 TIER</th>\n",
              "      <td>1894</td>\n",
              "    </tr>\n",
              "    <tr>\n",
              "      <th>JUMBO BAG RED RETROSPOT</th>\n",
              "      <td>1659</td>\n",
              "    </tr>\n",
              "    <tr>\n",
              "      <th>PARTY BUNTING</th>\n",
              "      <td>1409</td>\n",
              "    </tr>\n",
              "    <tr>\n",
              "      <th>ASSORTED COLOUR BIRD ORNAMENT</th>\n",
              "      <td>1405</td>\n",
              "    </tr>\n",
              "    <tr>\n",
              "      <th>...</th>\n",
              "      <td>...</td>\n",
              "    </tr>\n",
              "    <tr>\n",
              "      <th>LETTER \"W\" BLING KEY RING</th>\n",
              "      <td>1</td>\n",
              "    </tr>\n",
              "    <tr>\n",
              "      <th>CROCHET LILAC/RED BEAR KEYRING</th>\n",
              "      <td>1</td>\n",
              "    </tr>\n",
              "    <tr>\n",
              "      <th>MIDNIGHT BLUE CRYSTAL DROP EARRINGS</th>\n",
              "      <td>1</td>\n",
              "    </tr>\n",
              "    <tr>\n",
              "      <th>BLACK VINT ART DEC CRYSTAL BRACELET</th>\n",
              "      <td>1</td>\n",
              "    </tr>\n",
              "    <tr>\n",
              "      <th>WHITE STONE/CRYSTAL EARRINGS</th>\n",
              "      <td>1</td>\n",
              "    </tr>\n",
              "  </tbody>\n",
              "</table>\n",
              "<p>3896 rows × 1 columns</p>\n",
              "</div><br><label><b>dtype:</b> int64</label>"
            ]
          },
          "metadata": {},
          "execution_count": 56
        }
      ]
    },
    {
      "cell_type": "markdown",
      "source": [
        "#Checked the number of unique values of the Description column"
      ],
      "metadata": {
        "id": "YZEpkQCcSBmK"
      }
    },
    {
      "cell_type": "code",
      "source": [
        "len(dataset.unique())"
      ],
      "metadata": {
        "colab": {
          "base_uri": "https://localhost:8080/"
        },
        "id": "5qt466EmIGI4",
        "outputId": "c9441762-0ead-4576-cdac-080a7c7b6d67"
      },
      "execution_count": 57,
      "outputs": [
        {
          "output_type": "execute_result",
          "data": {
            "text/plain": [
              "3896"
            ]
          },
          "metadata": {},
          "execution_count": 57
        }
      ]
    },
    {
      "cell_type": "markdown",
      "source": [
        "#Dropped the duplicates values from the dataset"
      ],
      "metadata": {
        "id": "sffIYMJ1SLQh"
      }
    },
    {
      "cell_type": "code",
      "source": [
        "dataset_modified=dataset.drop_duplicates().reset_index(drop=True)\n",
        "dataset_modified.head()"
      ],
      "metadata": {
        "colab": {
          "base_uri": "https://localhost:8080/",
          "height": 241
        },
        "id": "iVCAD0bWIJon",
        "outputId": "5373a7c8-95f7-4bfa-cfeb-d2a3ebac6d68"
      },
      "execution_count": 76,
      "outputs": [
        {
          "output_type": "execute_result",
          "data": {
            "text/plain": [
              "0     WHITE HANGING HEART T-LIGHT HOLDER\n",
              "1                    WHITE METAL LANTERN\n",
              "2         CREAM CUPID HEARTS COAT HANGER\n",
              "3    KNITTED UNION FLAG HOT WATER BOTTLE\n",
              "4         RED WOOLLY HOTTIE WHITE HEART.\n",
              "Name: Description, dtype: object"
            ],
            "text/html": [
              "<div>\n",
              "<style scoped>\n",
              "    .dataframe tbody tr th:only-of-type {\n",
              "        vertical-align: middle;\n",
              "    }\n",
              "\n",
              "    .dataframe tbody tr th {\n",
              "        vertical-align: top;\n",
              "    }\n",
              "\n",
              "    .dataframe thead th {\n",
              "        text-align: right;\n",
              "    }\n",
              "</style>\n",
              "<table border=\"1\" class=\"dataframe\">\n",
              "  <thead>\n",
              "    <tr style=\"text-align: right;\">\n",
              "      <th></th>\n",
              "      <th>Description</th>\n",
              "    </tr>\n",
              "  </thead>\n",
              "  <tbody>\n",
              "    <tr>\n",
              "      <th>0</th>\n",
              "      <td>WHITE HANGING HEART T-LIGHT HOLDER</td>\n",
              "    </tr>\n",
              "    <tr>\n",
              "      <th>1</th>\n",
              "      <td>WHITE METAL LANTERN</td>\n",
              "    </tr>\n",
              "    <tr>\n",
              "      <th>2</th>\n",
              "      <td>CREAM CUPID HEARTS COAT HANGER</td>\n",
              "    </tr>\n",
              "    <tr>\n",
              "      <th>3</th>\n",
              "      <td>KNITTED UNION FLAG HOT WATER BOTTLE</td>\n",
              "    </tr>\n",
              "    <tr>\n",
              "      <th>4</th>\n",
              "      <td>RED WOOLLY HOTTIE WHITE HEART.</td>\n",
              "    </tr>\n",
              "  </tbody>\n",
              "</table>\n",
              "</div><br><label><b>dtype:</b> object</label>"
            ]
          },
          "metadata": {},
          "execution_count": 76
        }
      ]
    },
    {
      "cell_type": "code",
      "source": [
        "dataset_modified.shape"
      ],
      "metadata": {
        "colab": {
          "base_uri": "https://localhost:8080/"
        },
        "id": "Gz2tYE5dIhbn",
        "outputId": "05555939-7e3a-444d-e8a2-7847061f2a79"
      },
      "execution_count": 77,
      "outputs": [
        {
          "output_type": "execute_result",
          "data": {
            "text/plain": [
              "(3896,)"
            ]
          },
          "metadata": {},
          "execution_count": 77
        }
      ]
    },
    {
      "cell_type": "code",
      "source": [
        "string.punctuation"
      ],
      "metadata": {
        "colab": {
          "base_uri": "https://localhost:8080/",
          "height": 36
        },
        "id": "kayMmXbfcij_",
        "outputId": "2bd164f5-42bc-431b-cbb7-1ce2c1da0904"
      },
      "execution_count": 60,
      "outputs": [
        {
          "output_type": "execute_result",
          "data": {
            "text/plain": [
              "'!\"#$%&\\'()*+,-./:;<=>?@[\\\\]^_`{|}~'"
            ],
            "application/vnd.google.colaboratory.intrinsic+json": {
              "type": "string"
            }
          },
          "metadata": {},
          "execution_count": 60
        }
      ]
    },
    {
      "cell_type": "markdown",
      "source": [
        "#Dataset Preprocessing\n",
        " * Remove the whitespaces\n",
        " * Remove the tabs,newlines\n",
        " * Remove the punctuations (?,@,!,#)"
      ],
      "metadata": {
        "id": "zKidIOM_SR14"
      }
    },
    {
      "cell_type": "code",
      "source": [
        "import re\n",
        "\n",
        "def fix_hyphenated_line_breaks(text):\n",
        "    return re.sub(r'(\\w+)-\\n(\\w+)', r'\\1\\2', text)\n",
        "\n",
        "def clean_whitespace(text):\n",
        "    text = re.sub(r'\\s+', ' ', text)         # Replace multiple whitespace (including newlines, tabs) with single space\n",
        "    text = re.sub(r'[?!#@]', '', text)  # Replace specific characters with empty string\n",
        "    return text.strip()"
      ],
      "metadata": {
        "id": "_NOZQNcHIs8q"
      },
      "execution_count": 80,
      "outputs": []
    },
    {
      "cell_type": "code",
      "source": [
        "dataset_modified_1 = dataset_modified.apply(fix_hyphenated_line_breaks)\n",
        "dataset_modified_1.head()"
      ],
      "metadata": {
        "colab": {
          "base_uri": "https://localhost:8080/",
          "height": 241
        },
        "id": "WYWSUk2dXfvq",
        "outputId": "832aff66-2e66-4803-a0a5-90a4b7c3fca6"
      },
      "execution_count": 78,
      "outputs": [
        {
          "output_type": "execute_result",
          "data": {
            "text/plain": [
              "0     WHITE HANGING HEART T-LIGHT HOLDER\n",
              "1                    WHITE METAL LANTERN\n",
              "2         CREAM CUPID HEARTS COAT HANGER\n",
              "3    KNITTED UNION FLAG HOT WATER BOTTLE\n",
              "4         RED WOOLLY HOTTIE WHITE HEART.\n",
              "Name: Description, dtype: object"
            ],
            "text/html": [
              "<div>\n",
              "<style scoped>\n",
              "    .dataframe tbody tr th:only-of-type {\n",
              "        vertical-align: middle;\n",
              "    }\n",
              "\n",
              "    .dataframe tbody tr th {\n",
              "        vertical-align: top;\n",
              "    }\n",
              "\n",
              "    .dataframe thead th {\n",
              "        text-align: right;\n",
              "    }\n",
              "</style>\n",
              "<table border=\"1\" class=\"dataframe\">\n",
              "  <thead>\n",
              "    <tr style=\"text-align: right;\">\n",
              "      <th></th>\n",
              "      <th>Description</th>\n",
              "    </tr>\n",
              "  </thead>\n",
              "  <tbody>\n",
              "    <tr>\n",
              "      <th>0</th>\n",
              "      <td>WHITE HANGING HEART T-LIGHT HOLDER</td>\n",
              "    </tr>\n",
              "    <tr>\n",
              "      <th>1</th>\n",
              "      <td>WHITE METAL LANTERN</td>\n",
              "    </tr>\n",
              "    <tr>\n",
              "      <th>2</th>\n",
              "      <td>CREAM CUPID HEARTS COAT HANGER</td>\n",
              "    </tr>\n",
              "    <tr>\n",
              "      <th>3</th>\n",
              "      <td>KNITTED UNION FLAG HOT WATER BOTTLE</td>\n",
              "    </tr>\n",
              "    <tr>\n",
              "      <th>4</th>\n",
              "      <td>RED WOOLLY HOTTIE WHITE HEART.</td>\n",
              "    </tr>\n",
              "  </tbody>\n",
              "</table>\n",
              "</div><br><label><b>dtype:</b> object</label>"
            ]
          },
          "metadata": {},
          "execution_count": 78
        }
      ]
    },
    {
      "cell_type": "code",
      "source": [
        "dataset_modified_1 = dataset_modified_1.apply(clean_whitespace)\n",
        "dataset_modified_1.head()"
      ],
      "metadata": {
        "colab": {
          "base_uri": "https://localhost:8080/",
          "height": 241
        },
        "id": "0FBS0FWOgTlS",
        "outputId": "1781b2f9-5abe-4c7e-fe9a-1d5c45e0c11d"
      },
      "execution_count": 81,
      "outputs": [
        {
          "output_type": "execute_result",
          "data": {
            "text/plain": [
              "0     WHITE HANGING HEART T-LIGHT HOLDER\n",
              "1                    WHITE METAL LANTERN\n",
              "2         CREAM CUPID HEARTS COAT HANGER\n",
              "3    KNITTED UNION FLAG HOT WATER BOTTLE\n",
              "4         RED WOOLLY HOTTIE WHITE HEART.\n",
              "Name: Description, dtype: object"
            ],
            "text/html": [
              "<div>\n",
              "<style scoped>\n",
              "    .dataframe tbody tr th:only-of-type {\n",
              "        vertical-align: middle;\n",
              "    }\n",
              "\n",
              "    .dataframe tbody tr th {\n",
              "        vertical-align: top;\n",
              "    }\n",
              "\n",
              "    .dataframe thead th {\n",
              "        text-align: right;\n",
              "    }\n",
              "</style>\n",
              "<table border=\"1\" class=\"dataframe\">\n",
              "  <thead>\n",
              "    <tr style=\"text-align: right;\">\n",
              "      <th></th>\n",
              "      <th>Description</th>\n",
              "    </tr>\n",
              "  </thead>\n",
              "  <tbody>\n",
              "    <tr>\n",
              "      <th>0</th>\n",
              "      <td>WHITE HANGING HEART T-LIGHT HOLDER</td>\n",
              "    </tr>\n",
              "    <tr>\n",
              "      <th>1</th>\n",
              "      <td>WHITE METAL LANTERN</td>\n",
              "    </tr>\n",
              "    <tr>\n",
              "      <th>2</th>\n",
              "      <td>CREAM CUPID HEARTS COAT HANGER</td>\n",
              "    </tr>\n",
              "    <tr>\n",
              "      <th>3</th>\n",
              "      <td>KNITTED UNION FLAG HOT WATER BOTTLE</td>\n",
              "    </tr>\n",
              "    <tr>\n",
              "      <th>4</th>\n",
              "      <td>RED WOOLLY HOTTIE WHITE HEART.</td>\n",
              "    </tr>\n",
              "  </tbody>\n",
              "</table>\n",
              "</div><br><label><b>dtype:</b> object</label>"
            ]
          },
          "metadata": {},
          "execution_count": 81
        }
      ]
    },
    {
      "cell_type": "code",
      "source": [
        "dataset_modified_1.shape"
      ],
      "metadata": {
        "colab": {
          "base_uri": "https://localhost:8080/"
        },
        "id": "wxbclLjVfyA4",
        "outputId": "f08d9f59-a963-4316-cb7c-ea62bcc2034c"
      },
      "execution_count": 82,
      "outputs": [
        {
          "output_type": "execute_result",
          "data": {
            "text/plain": [
              "(3896,)"
            ]
          },
          "metadata": {},
          "execution_count": 82
        }
      ]
    },
    {
      "cell_type": "code",
      "source": [
        "dataset_modified_1"
      ],
      "metadata": {
        "colab": {
          "base_uri": "https://localhost:8080/",
          "height": 458
        },
        "id": "kOYrh4i5hBTu",
        "outputId": "b7779a83-a3bb-4618-ddb0-8af8233dc49a"
      },
      "execution_count": 83,
      "outputs": [
        {
          "output_type": "execute_result",
          "data": {
            "text/plain": [
              "0        WHITE HANGING HEART T-LIGHT HOLDER\n",
              "1                       WHITE METAL LANTERN\n",
              "2            CREAM CUPID HEARTS COAT HANGER\n",
              "3       KNITTED UNION FLAG HOT WATER BOTTLE\n",
              "4            RED WOOLLY HOTTIE WHITE HEART.\n",
              "                       ...                 \n",
              "3891              LETTER \"W\" BLING KEY RING\n",
              "3892              LETTER \"Z\" BLING KEY RING\n",
              "3893         PINK CRYSTAL SKULL PHONE CHARM\n",
              "3894     CREAM HANGING HEART T-LIGHT HOLDER\n",
              "3895            PAPER CRAFT , LITTLE BIRDIE\n",
              "Name: Description, Length: 3896, dtype: object"
            ],
            "text/html": [
              "<div>\n",
              "<style scoped>\n",
              "    .dataframe tbody tr th:only-of-type {\n",
              "        vertical-align: middle;\n",
              "    }\n",
              "\n",
              "    .dataframe tbody tr th {\n",
              "        vertical-align: top;\n",
              "    }\n",
              "\n",
              "    .dataframe thead th {\n",
              "        text-align: right;\n",
              "    }\n",
              "</style>\n",
              "<table border=\"1\" class=\"dataframe\">\n",
              "  <thead>\n",
              "    <tr style=\"text-align: right;\">\n",
              "      <th></th>\n",
              "      <th>Description</th>\n",
              "    </tr>\n",
              "  </thead>\n",
              "  <tbody>\n",
              "    <tr>\n",
              "      <th>0</th>\n",
              "      <td>WHITE HANGING HEART T-LIGHT HOLDER</td>\n",
              "    </tr>\n",
              "    <tr>\n",
              "      <th>1</th>\n",
              "      <td>WHITE METAL LANTERN</td>\n",
              "    </tr>\n",
              "    <tr>\n",
              "      <th>2</th>\n",
              "      <td>CREAM CUPID HEARTS COAT HANGER</td>\n",
              "    </tr>\n",
              "    <tr>\n",
              "      <th>3</th>\n",
              "      <td>KNITTED UNION FLAG HOT WATER BOTTLE</td>\n",
              "    </tr>\n",
              "    <tr>\n",
              "      <th>4</th>\n",
              "      <td>RED WOOLLY HOTTIE WHITE HEART.</td>\n",
              "    </tr>\n",
              "    <tr>\n",
              "      <th>...</th>\n",
              "      <td>...</td>\n",
              "    </tr>\n",
              "    <tr>\n",
              "      <th>3891</th>\n",
              "      <td>LETTER \"W\" BLING KEY RING</td>\n",
              "    </tr>\n",
              "    <tr>\n",
              "      <th>3892</th>\n",
              "      <td>LETTER \"Z\" BLING KEY RING</td>\n",
              "    </tr>\n",
              "    <tr>\n",
              "      <th>3893</th>\n",
              "      <td>PINK CRYSTAL SKULL PHONE CHARM</td>\n",
              "    </tr>\n",
              "    <tr>\n",
              "      <th>3894</th>\n",
              "      <td>CREAM HANGING HEART T-LIGHT HOLDER</td>\n",
              "    </tr>\n",
              "    <tr>\n",
              "      <th>3895</th>\n",
              "      <td>PAPER CRAFT , LITTLE BIRDIE</td>\n",
              "    </tr>\n",
              "  </tbody>\n",
              "</table>\n",
              "<p>3896 rows × 1 columns</p>\n",
              "</div><br><label><b>dtype:</b> object</label>"
            ]
          },
          "metadata": {},
          "execution_count": 83
        }
      ]
    },
    {
      "cell_type": "markdown",
      "source": [
        "#Load the embedding model 'all-MiniLM-L6-v2' from sentence-transformer\n",
        " * Output embedding size is 384"
      ],
      "metadata": {
        "id": "lEYzchD9SmR1"
      }
    },
    {
      "cell_type": "code",
      "source": [
        "embed_model=SentenceTransformer(\"sentence-transformers/all-MiniLM-L6-v2\")"
      ],
      "metadata": {
        "colab": {
          "base_uri": "https://localhost:8080/",
          "height": 369,
          "referenced_widgets": [
            "bdef78cd33c84f36a2da9058a4b8ccca",
            "ca3764a9779047abaf81d0e79125d671",
            "f8cdaee5df1244128f86aca3c17b3bf5",
            "2608c5e038dd4d78b161072c66b3731e",
            "a8de834043ee4a59bf3a989691ebeb9f",
            "4f51bc629a884484be249044a43d36e9",
            "c99e5d63184c4238b4c59cc03d434af1",
            "cfad2c75d7e9436ea9fc13c6f27b0369",
            "8901ca0a0335409a90f52e486df1f764",
            "c837d32b0aeb49c19233f3a7b2f7a817",
            "a6ddb5dde260485d8ee216fe9d22455b",
            "63e638045e404aa5b46ee04ffdcbaf72",
            "deceb47cac3444a4850284cd19c9cee7",
            "b078a7c9ec7348b2bee7c689111baebc",
            "22c6a593d38243d19972e40081eb74a2",
            "716bbd831bd54519b8ef2894b2b7c9fa",
            "f06e83b6cd504d5aa30773f0184b846f",
            "5278be2b9ad14cfd990aaf7abc93cbc1",
            "d8d245e943814940a1e73ad579e3fda2",
            "2b7c68e807b149d7acee534757d31a00",
            "c57cfad4e7a44ff090f7c758db95a914",
            "c665ad5526584ed8b86af0a0abe6f037",
            "eb16ddb753974e5a920b5b61231cf03a",
            "7fe6ffb9b25c4aabbf432b68868d38cf",
            "1bad0c2897114600aee8493b6d5c9d63",
            "571fccdce9094f4eac7a0328f0920fe7",
            "c928560bf68e45e6bc76947b7e76c6bb",
            "4ee03f98e27f464e930cea2f6a0ded47",
            "48f6e50debc243f7866ca287a15a9efa",
            "31064cada0164f32b929a843c02ff1b9",
            "b099d4400d30427797cb0fe31babcf44",
            "e97c697a86ad49e5bfa4e733d23119e1",
            "e02f33b9338e489dbb1af45dbd9939d2",
            "c60f79a56ef245dfa2b6a0a62b3057b9",
            "253922d640ca4f59a6b9233e069aeaf6",
            "c343b26976224decb4f24730e3f42ee1",
            "36ca73b57a0444c58ec9b28e4e754d6d",
            "9d8a83bd39274ab68fd338ab63486e0e",
            "0b60d5928e9b4bfa95dbe0a1f533558b",
            "d0ee930395d943b6985516410e3032e0",
            "caaec18900ba456f998fd58d443b8668",
            "9b8198f6152d4102a06a1b77154c5457",
            "63c80169466a4f0e84418d1f95f8f781",
            "ba4e53be47584f80a598b4df6e83ca87",
            "a1863746732a46619adb34f3a606a9ee",
            "1650c46b8c354e758629e9c3484967f2",
            "4443945c61d54cdaa844c3d8f69ce797",
            "62fbae6d8c8f4dd986e5908dde2cfa7d",
            "a2a5581e8fb34f81871871b59a4be387",
            "62eb039a096d452ca55854d225b0a773",
            "36a22bd1d556473c8b5abb8db94fb30f",
            "fc02a889aded44c5aaf45e8ce7214221",
            "f280970e29cb4ee9a3c8603e4b9e6023",
            "02d09a09b89b4605a6bf360425c7f48a",
            "435db64a826b4abbb1f80fe275140b9f",
            "954799a53ed44cc2b9c5fd4a88d95aa2",
            "b9a914e7074348a2960eaa8b298440de",
            "dcaca96db19d477caee68718ad2084fc",
            "cbad1484e27c4267b25375336c4143aa",
            "dcac1ce887214dbf87290b880589ebac",
            "51e78561e0c941b2aad6163c44935093",
            "177413748b504ed38efd67c8955574ed",
            "d82c24fdcc4b42d995a3898b74bff2ae",
            "23ada92d482c409fb0f9a6bf6f8e1f1d",
            "4ec53de81b27460fbc274a4761acee45",
            "3f5e94923a2944829a9cff438dbb1f86",
            "9a91f057b9d24382b2ae0e21935d88ec",
            "64b9a26cac944480965dd4a6001305d2",
            "c2136bb7834b45f19269436a1bd2cee7",
            "dd44077232e9414db13c8ea1230f8ee7",
            "6083d093cd0a4092a65d1bec365e33bd",
            "f1a56c3cb7f0454182bddcac7dc41ae3",
            "54e47c7cc83a44e8b1cf3c19bc6a04fc",
            "a1b4db00afb14bfaa19e18ddc9dd54b0",
            "8ccc27315dc648f09125a085d0a7c3d4",
            "9030c8e262b642b2a30366966692dd1b",
            "bec43fc96f5744b094eafbc703d3aea4",
            "154bc9dcff25451287b8ac9bf27316c7",
            "4793723a54b84c19825f4444cda83ca8",
            "9d950d4a0f6a428fb28fc05b3f943b43",
            "8aed938f5c024323a6e854433006807d",
            "165d10f54e1944bd843e101414b57f39",
            "4c59dfb2a93f4637ba30ca560e89ca48",
            "4647351b71d4427cb76737c74506845f",
            "ae4eb5ed2dd6461e82d9ace7c43ffb93",
            "e81d9d46ac0e4715bbe3191666ba11b6",
            "2bf38574e1854ae295b16db541100643",
            "cd840795580446d395585710cc60cd29",
            "7c1a3b08574e43d18983be60afd6a211",
            "5889abef621644278692dc65517acac1",
            "d877d4dac2e744428acdd5a96be1a87e",
            "24b7c31813d94fdda32a3b5b256f168a",
            "f8170c8ab83f4f9488c492bb9250b4de",
            "baf0c11322054184a34792369d3c7f7c",
            "6c8d90dea11141bd90f8f214cad55f76",
            "4448657a16ba4e83acab4b763c31aa56",
            "97ef1bf1a19d42abb503868e775cfe75",
            "72b26e8cbde14e1bbd1f21430cdf8506",
            "88d0eca3ef504914ba8b567bda8c808e",
            "7533242175ab471d80b5b2788699d284",
            "5f2d646a9c814271a24d4817911ac1f3",
            "609001d032e34ecea6e40196ed3b1bfe",
            "d6cbe4a9dab94701868d1f66b5d0145a",
            "0b11a0bd42894161a57fbd7e3c5a86b4",
            "2edfcce758404fd7a5d3a633c8dc1b03",
            "1eb09a41b67e4f17832a594cb8987099",
            "4295aaec4eb4472c9d4e544777e52190",
            "08b9d71df8564f98854775cdce1a8596",
            "bfd82310dfe549748e6babaa4e6ec99f",
            "84b92e6fe1124eb0a2ce6adbf654b4d4",
            "7ddd332cbf144cf1add88f2a0d730d87",
            "2f38a92203e34fa4a70c5beee6aebc35",
            "7bc671ebb7f3467980bf9f902192c468",
            "e8fe675e1a58497ba81d286676e6780f",
            "ca0ff233821b40c5aa92f6b12e4d7713",
            "a17c5db167934703b0f53c310826e943",
            "27bcdbe5b5114efb92c254f8a0754543",
            "c7a2290caafa47c9b58d50d26096cca9",
            "cdec3049c44544a1b37cd3ba84fae609",
            "8ec4fce95dee464eaefb386f7d14e9be",
            "4b2dfc2ed6e547d7923a4b77e4f7cb7e"
          ]
        },
        "id": "t1JLYY40hDcP",
        "outputId": "5534d749-8636-4586-a0fd-e4194485098f"
      },
      "execution_count": 84,
      "outputs": [
        {
          "output_type": "display_data",
          "data": {
            "text/plain": [
              "modules.json:   0%|          | 0.00/349 [00:00<?, ?B/s]"
            ],
            "application/vnd.jupyter.widget-view+json": {
              "version_major": 2,
              "version_minor": 0,
              "model_id": "bdef78cd33c84f36a2da9058a4b8ccca"
            }
          },
          "metadata": {}
        },
        {
          "output_type": "display_data",
          "data": {
            "text/plain": [
              "config_sentence_transformers.json:   0%|          | 0.00/116 [00:00<?, ?B/s]"
            ],
            "application/vnd.jupyter.widget-view+json": {
              "version_major": 2,
              "version_minor": 0,
              "model_id": "63e638045e404aa5b46ee04ffdcbaf72"
            }
          },
          "metadata": {}
        },
        {
          "output_type": "display_data",
          "data": {
            "text/plain": [
              "README.md:   0%|          | 0.00/10.5k [00:00<?, ?B/s]"
            ],
            "application/vnd.jupyter.widget-view+json": {
              "version_major": 2,
              "version_minor": 0,
              "model_id": "eb16ddb753974e5a920b5b61231cf03a"
            }
          },
          "metadata": {}
        },
        {
          "output_type": "display_data",
          "data": {
            "text/plain": [
              "sentence_bert_config.json:   0%|          | 0.00/53.0 [00:00<?, ?B/s]"
            ],
            "application/vnd.jupyter.widget-view+json": {
              "version_major": 2,
              "version_minor": 0,
              "model_id": "c60f79a56ef245dfa2b6a0a62b3057b9"
            }
          },
          "metadata": {}
        },
        {
          "output_type": "display_data",
          "data": {
            "text/plain": [
              "config.json:   0%|          | 0.00/612 [00:00<?, ?B/s]"
            ],
            "application/vnd.jupyter.widget-view+json": {
              "version_major": 2,
              "version_minor": 0,
              "model_id": "a1863746732a46619adb34f3a606a9ee"
            }
          },
          "metadata": {}
        },
        {
          "output_type": "display_data",
          "data": {
            "text/plain": [
              "model.safetensors:   0%|          | 0.00/90.9M [00:00<?, ?B/s]"
            ],
            "application/vnd.jupyter.widget-view+json": {
              "version_major": 2,
              "version_minor": 0,
              "model_id": "954799a53ed44cc2b9c5fd4a88d95aa2"
            }
          },
          "metadata": {}
        },
        {
          "output_type": "display_data",
          "data": {
            "text/plain": [
              "tokenizer_config.json:   0%|          | 0.00/350 [00:00<?, ?B/s]"
            ],
            "application/vnd.jupyter.widget-view+json": {
              "version_major": 2,
              "version_minor": 0,
              "model_id": "9a91f057b9d24382b2ae0e21935d88ec"
            }
          },
          "metadata": {}
        },
        {
          "output_type": "display_data",
          "data": {
            "text/plain": [
              "vocab.txt:   0%|          | 0.00/232k [00:00<?, ?B/s]"
            ],
            "application/vnd.jupyter.widget-view+json": {
              "version_major": 2,
              "version_minor": 0,
              "model_id": "154bc9dcff25451287b8ac9bf27316c7"
            }
          },
          "metadata": {}
        },
        {
          "output_type": "display_data",
          "data": {
            "text/plain": [
              "tokenizer.json:   0%|          | 0.00/466k [00:00<?, ?B/s]"
            ],
            "application/vnd.jupyter.widget-view+json": {
              "version_major": 2,
              "version_minor": 0,
              "model_id": "7c1a3b08574e43d18983be60afd6a211"
            }
          },
          "metadata": {}
        },
        {
          "output_type": "display_data",
          "data": {
            "text/plain": [
              "special_tokens_map.json:   0%|          | 0.00/112 [00:00<?, ?B/s]"
            ],
            "application/vnd.jupyter.widget-view+json": {
              "version_major": 2,
              "version_minor": 0,
              "model_id": "7533242175ab471d80b5b2788699d284"
            }
          },
          "metadata": {}
        },
        {
          "output_type": "display_data",
          "data": {
            "text/plain": [
              "config.json:   0%|          | 0.00/190 [00:00<?, ?B/s]"
            ],
            "application/vnd.jupyter.widget-view+json": {
              "version_major": 2,
              "version_minor": 0,
              "model_id": "7ddd332cbf144cf1add88f2a0d730d87"
            }
          },
          "metadata": {}
        }
      ]
    },
    {
      "cell_type": "markdown",
      "source": [
        "#Generated the embeddings of the dataset or each rows of the dataset or the Descriptions\n",
        "* it has rows = 3896\n",
        "* each output embedding size is 384\n",
        "* Hence the output matrix shape is [3896,384]"
      ],
      "metadata": {
        "id": "QI54ay0iS0mt"
      }
    },
    {
      "cell_type": "code",
      "source": [
        "embeddings=embed_model.encode(dataset_modified_1,batch_size=32,show_progress_bar=True,convert_to_tensor=True)"
      ],
      "metadata": {
        "colab": {
          "base_uri": "https://localhost:8080/",
          "height": 49,
          "referenced_widgets": [
            "b0ee291fe15c445f8ca9e18ddcecaa71",
            "f9fd699cf8424d01a9267d700849fa98",
            "df1c2fb937894f8a95bf13f390a5a68d",
            "199c5868c57c4602a3af9648927d6a55",
            "eee918aab5e944a1a679d5117368baed",
            "2cb40732c1694443bb40b7010e2e3543",
            "06a33108975040b2af6c41448159b570",
            "57f08440de584b55963c169cc39f3de3",
            "3a43fab564554274bb13a491ff8b4589",
            "ed0e3811109146e2bfb2b2ab8fdb4169",
            "937f9a1c5710450885c7d707f95aa1de"
          ]
        },
        "id": "OOSrdADVhyPf",
        "outputId": "7da597a0-f553-4236-8e8d-638a579fe71c"
      },
      "execution_count": 85,
      "outputs": [
        {
          "output_type": "display_data",
          "data": {
            "text/plain": [
              "Batches:   0%|          | 0/122 [00:00<?, ?it/s]"
            ],
            "application/vnd.jupyter.widget-view+json": {
              "version_major": 2,
              "version_minor": 0,
              "model_id": "b0ee291fe15c445f8ca9e18ddcecaa71"
            }
          },
          "metadata": {}
        }
      ]
    },
    {
      "cell_type": "code",
      "source": [
        "embeddings.shape"
      ],
      "metadata": {
        "colab": {
          "base_uri": "https://localhost:8080/"
        },
        "id": "S7fYOONdiYXy",
        "outputId": "3c56c30b-7b64-4998-9408-1b5a0489eb6b"
      },
      "execution_count": 86,
      "outputs": [
        {
          "output_type": "execute_result",
          "data": {
            "text/plain": [
              "torch.Size([3896, 384])"
            ]
          },
          "metadata": {},
          "execution_count": 86
        }
      ]
    },
    {
      "cell_type": "code",
      "source": [
        "import numpy as np"
      ],
      "metadata": {
        "id": "RmUkSp2jr-Em"
      },
      "execution_count": 89,
      "outputs": []
    },
    {
      "cell_type": "markdown",
      "source": [
        "#Created a function which will normalise the embeddings\n",
        "* this will help to have the cosine similarity between two embedding vectors.\n",
        "* Cosine similarity between two vectors A and B is:\n",
        "![image.png](data:image/png;base64,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)\n",
        "\n",
        "\n",
        "* A.B is the dot product of the vectors\n",
        "* ||A|| and ||B|| are the magnitudes of the vectors\n",
        "* The similarity value 1 ->  Vectors point in the same direction (perfectly similar)\n",
        "* The similarity value 0 -> Vectors are orthogonal (completely dissimilar)"
      ],
      "metadata": {
        "id": "6Q5FrzUlTTej"
      }
    },
    {
      "cell_type": "code",
      "source": [
        "def normalise_vector(vecs):\n",
        "  norms = np.linalg.norm(vecs, axis=-1, keepdims=True)\n",
        "  return vecs / norms"
      ],
      "metadata": {
        "id": "o-3CG9ifq20U"
      },
      "execution_count": 90,
      "outputs": []
    },
    {
      "cell_type": "markdown",
      "source": [
        "#creating the list of the rows of the dataset. This list contains all the descriptions."
      ],
      "metadata": {
        "id": "3WSbb57TeDZK"
      }
    },
    {
      "cell_type": "code",
      "source": [
        "texts= dataset_modified_1.tolist()"
      ],
      "metadata": {
        "id": "GbFem8OrsRUg"
      },
      "execution_count": 91,
      "outputs": []
    },
    {
      "cell_type": "markdown",
      "source": [
        "#Normalize the embeddings"
      ],
      "metadata": {
        "id": "UYAGMPwteRY2"
      }
    },
    {
      "cell_type": "code",
      "source": [
        "normalize_embeddings=normalise_vector(np.array(embeddings)).astype('float32')"
      ],
      "metadata": {
        "id": "mgmkGYiysVQ0"
      },
      "execution_count": 96,
      "outputs": []
    },
    {
      "cell_type": "code",
      "source": [
        "normalize_embeddings.shape"
      ],
      "metadata": {
        "colab": {
          "base_uri": "https://localhost:8080/"
        },
        "id": "Y709ovpds6zG",
        "outputId": "1068a5cd-0a20-4d41-fff1-4980d7830546"
      },
      "execution_count": 102,
      "outputs": [
        {
          "output_type": "execute_result",
          "data": {
            "text/plain": [
              "(3896, 384)"
            ]
          },
          "metadata": {},
          "execution_count": 102
        }
      ]
    },
    {
      "cell_type": "markdown",
      "source": [
        "#Creating the Faiss Index using the inner product (Cosine similarity of normalise vectors)"
      ],
      "metadata": {
        "id": "llWVUP7Debaz"
      }
    },
    {
      "cell_type": "code",
      "source": [
        "index_faiss=faiss.IndexFlatIP(normalize_embeddings.shape[1])\n",
        "index_faiss.add(normalize_embeddings)\n",
        "#faiss_index=faiss.write_index(\"/content/drive/MyDrive/capstone_lumen/faiss_index.faiss\")   # read the index from the disk"
      ],
      "metadata": {
        "id": "I8IT1IS0ioxh"
      },
      "execution_count": 119,
      "outputs": []
    },
    {
      "cell_type": "code",
      "source": [
        "faiss.write_index(index_faiss,\"/content/drive/MyDrive/capstone_lumen/faiss_index.faiss\")"
      ],
      "metadata": {
        "id": "X7s0cuGcviN4"
      },
      "execution_count": 120,
      "outputs": []
    },
    {
      "cell_type": "code",
      "source": [
        "faiss_index=faiss.read_index(\"/content/drive/MyDrive/capstone_lumen/faiss_index.faiss\")   # read the index from the disk"
      ],
      "metadata": {
        "colab": {
          "base_uri": "https://localhost:8080/",
          "height": 146
        },
        "id": "lDd7nc5Rv7Hg",
        "outputId": "cc7b71bc-9246-4070-c4de-5e256906e335"
      },
      "execution_count": 1,
      "outputs": [
        {
          "output_type": "error",
          "ename": "NameError",
          "evalue": "name 'faiss' is not defined",
          "traceback": [
            "\u001b[0;31m---------------------------------------------------------------------------\u001b[0m",
            "\u001b[0;31mNameError\u001b[0m                                 Traceback (most recent call last)",
            "\u001b[0;32m<ipython-input-1-3051679690>\u001b[0m in \u001b[0;36m<cell line: 0>\u001b[0;34m()\u001b[0m\n\u001b[0;32m----> 1\u001b[0;31m \u001b[0mfaiss_index\u001b[0m\u001b[0;34m=\u001b[0m\u001b[0mfaiss\u001b[0m\u001b[0;34m.\u001b[0m\u001b[0mread_index\u001b[0m\u001b[0;34m(\u001b[0m\u001b[0;34m\"/content/drive/MyDrive/capstone_lumen/faiss_index.faiss\"\u001b[0m\u001b[0;34m)\u001b[0m   \u001b[0;31m# read the index from the disk\u001b[0m\u001b[0;34m\u001b[0m\u001b[0;34m\u001b[0m\u001b[0m\n\u001b[0m",
            "\u001b[0;31mNameError\u001b[0m: name 'faiss' is not defined"
          ]
        }
      ]
    },
    {
      "cell_type": "code",
      "source": [
        "Query1='LETTER \"W\" BLING KEY RING'\n",
        "embed_query1=embed_model.encode([Query1])\n",
        "k=3\n",
        "distances,indices=faiss_index.search(embed_query1,k)\n",
        "print(f\"Nearest intem indices:\",indices)\n",
        "print(f\"Nearest item distances:\",distances)"
      ],
      "metadata": {
        "colab": {
          "base_uri": "https://localhost:8080/"
        },
        "id": "sW-NCEwpwGV4",
        "outputId": "ab59d602-76c8-4a54-f3ed-a6d8b821f065"
      },
      "execution_count": 122,
      "outputs": [
        {
          "output_type": "stream",
          "name": "stdout",
          "text": [
            "Nearest intem indices: [[3891 3263 3261]]\n",
            "Nearest item distances: [[1.         0.8369267  0.83217824]]\n"
          ]
        }
      ]
    },
    {
      "cell_type": "code",
      "source": [
        "indices= indices.flatten().tolist()\n",
        "for i in indices:\n",
        "  print(dataset_modified_1[i])"
      ],
      "metadata": {
        "colab": {
          "base_uri": "https://localhost:8080/"
        },
        "id": "a0FM86mkwkie",
        "outputId": "108da259-b512-4569-859a-ff5e341832bd"
      },
      "execution_count": 123,
      "outputs": [
        {
          "output_type": "stream",
          "name": "stdout",
          "text": [
            "LETTER \"W\" BLING KEY RING\n",
            "LETTER \"H\" BLING KEY RING\n",
            "LETTER \"L\" BLING KEY RING\n"
          ]
        }
      ]
    },
    {
      "cell_type": "code",
      "source": [
        "#query2=\"Keychain with Alphabet 'W' in Bling Style\"\n",
        "query2=\"colourful heart-shaped hanging light holder\"\n",
        "#query2=\"holder\"\n",
        "embed_query2=embed_model.encode([query2])\n",
        "k=4\n",
        "distances_q2,indices_q2=faiss_index.search(embed_query2,k)\n",
        "# print(f\"Nearest item indices for query 2:\",indices_q2)\n",
        "# print(f\"Nearest item distances for query2:\",distances_q2)\n",
        "indices_q2= indices_q2.flatten().tolist()\n",
        "for i in indices_q2:\n",
        "  print(dataset_modified_1[i])"
      ],
      "metadata": {
        "colab": {
          "base_uri": "https://localhost:8080/"
        },
        "id": "qOpxcAOaxDh0",
        "outputId": "0b7572f2-875d-40bf-f94e-b69410416f1f"
      },
      "execution_count": 176,
      "outputs": [
        {
          "output_type": "stream",
          "name": "stdout",
          "text": [
            "WHITE HANGING HEART T-LIGHT HOLDER\n",
            "PINK HANGING HEART T-LIGHT HOLDER\n",
            "RED HANGING HEART T-LIGHT HOLDER\n",
            "CREAM HANGING HEART T-LIGHT HOLDER\n"
          ]
        }
      ]
    },
    {
      "cell_type": "code",
      "source": [
        "retrieved_set=set(indices_q2)\n",
        "#retrieved_indices\n",
        "relevant_set=set([3894,0,58,3759])\n",
        "true_positives = retrieved_set & relevant_set\n",
        "\n",
        "precision = len(true_positives) / len(retrieved_set)\n",
        "recall = len(true_positives) / len(relevant_set)\n",
        "\n",
        "print(f\"Precision: {precision:.2f}\")\n",
        "print(f\"Recall: {recall:.2f}\")"
      ],
      "metadata": {
        "colab": {
          "base_uri": "https://localhost:8080/"
        },
        "id": "UAxPAl1LFJZh",
        "outputId": "ec161910-9b48-42fb-ca1d-e3cbed108da4"
      },
      "execution_count": 177,
      "outputs": [
        {
          "output_type": "stream",
          "name": "stdout",
          "text": [
            "Precision: 1.00\n",
            "Recall: 1.00\n"
          ]
        }
      ]
    },
    {
      "cell_type": "code",
      "source": [
        "query4=\"Keychain with alphabet\"\n",
        "embed_query4=embed_model.encode([query4])\n",
        "k=24\n",
        "distances_q4,indices_q4=faiss_index.search(embed_query4,k)\n",
        "# print(f\"Nearest item indices for query 4:\",indices_q4)\n",
        "# print(f\"Nearest item distances for query4:\",distances_q4)\n",
        "indices_q4= indices_q4.flatten().tolist()\n",
        "for i in indices_q4:\n",
        "  print(dataset_modified_1[i])"
      ],
      "metadata": {
        "colab": {
          "base_uri": "https://localhost:8080/"
        },
        "id": "VgrNxSs763-G",
        "outputId": "afd98677-b5a8-40c3-8e5f-918f4568b3c4"
      },
      "execution_count": 191,
      "outputs": [
        {
          "output_type": "stream",
          "name": "stdout",
          "text": [
            "WRAP ALPHABET DESIGN\n",
            "ALPHABET STENCIL CRAFT\n",
            "LETTER \"A\" BLING KEY RING\n",
            "LETTER \"N\" BLING KEY RING\n",
            "LETTER \"C\" BLING KEY RING\n",
            "LETTER \"S\" BLING KEY RING\n",
            "LETTER \"K\" BLING KEY RING\n",
            "LETTER \"L\" BLING KEY RING\n",
            "LETTER \"H\" BLING KEY RING\n",
            "TRADTIONAL ALPHABET STAMP SET\n",
            "LETTER \"Z\" BLING KEY RING\n",
            "LETTER \"I\" BLING KEY RING\n",
            "LETTER \"U\" BLING KEY RING\n",
            "LETTER \"D\" BLING KEY RING\n",
            "LETTER \"F\" BLING KEY RING\n",
            "LETTER \"Y\" BLING KEY RING\n",
            "LETTER \"J\" BLING KEY RING\n",
            "LETTER \"O\" BLING KEY RING\n",
            "LETTER \"W\" BLING KEY RING\n",
            "LETTER \"T\" BLING KEY RING\n",
            "LETTER \"B\" BLING KEY RING\n",
            "LETTER \"E\" BLING KEY RING\n",
            "DINOSAUR KEYRINGS ASSORTED\n",
            "LETTER \"G\" BLING KEY RING\n"
          ]
        }
      ]
    },
    {
      "cell_type": "code",
      "source": [
        "query4_relevant_index=[906,907,908,909,1900,1901,1902,2402,2593,2619,2787,2849,3174,3240,3261,3262,3263,3421,3887,3888,3889,3890,3891,3892]\n",
        "print(len(query4_relevant_index))\n",
        "for i in query4_relevant_index:\n",
        "  print(texts[i])"
      ],
      "metadata": {
        "colab": {
          "base_uri": "https://localhost:8080/"
        },
        "id": "8QqcJ7FyIHMJ",
        "outputId": "8f67bf0a-f9ff-4585-b70b-aac63798e701"
      },
      "execution_count": 190,
      "outputs": [
        {
          "output_type": "stream",
          "name": "stdout",
          "text": [
            "24\n",
            "LETTER \"M\" BLING KEY RING\n",
            "LETTER \"V\" BLING KEY RING\n",
            "LETTER \"S\" BLING KEY RING\n",
            "LETTER \"J\" BLING KEY RING\n",
            "LETTER \"C\" BLING KEY RING\n",
            "LETTER \"B\" BLING KEY RING\n",
            "LETTER \"K\" BLING KEY RING\n",
            "LETTER \"D\" BLING KEY RING\n",
            "LETTER \"R\" BLING KEY RING\n",
            "LETTER \"G\" BLING KEY RING\n",
            "LETTER \"A\" BLING KEY RING\n",
            "LETTER \"P\" BLING KEY RING\n",
            "LETTER \"Y\" BLING KEY RING\n",
            "LETTER \"E\" BLING KEY RING\n",
            "LETTER \"L\" BLING KEY RING\n",
            "LETTER \"N\" BLING KEY RING\n",
            "LETTER \"H\" BLING KEY RING\n",
            "LETTER \"I\" BLING KEY RING\n",
            "LETTER \"F\" BLING KEY RING\n",
            "LETTER \"O\" BLING KEY RING\n",
            "LETTER \"T\" BLING KEY RING\n",
            "LETTER \"U\" BLING KEY RING\n",
            "LETTER \"W\" BLING KEY RING\n",
            "LETTER \"Z\" BLING KEY RING\n"
          ]
        }
      ]
    },
    {
      "cell_type": "code",
      "source": [
        "retrieved_set_q4=set(indices_q4)\n",
        "relevant_set_q4=set(query4_relevant_index)\n",
        "true_positives_q4 = retrieved_set_q4 & relevant_set_q4\n",
        "\n",
        "precision_q4 = len(true_positives_q4) / len(retrieved_set_q4)\n",
        "recall_q4 = len(true_positives_q4) / len(relevant_set_q4)\n",
        "\n",
        "print(f\"Precision: {precision_q4:.2f}\")\n",
        "print(f\"Recall: {recall_q4:.2f}\")"
      ],
      "metadata": {
        "colab": {
          "base_uri": "https://localhost:8080/"
        },
        "id": "4fot8zc2JVZU",
        "outputId": "89d0ebc8-c1e0-4f97-a663-545bdf81ebfb"
      },
      "execution_count": 192,
      "outputs": [
        {
          "output_type": "stream",
          "name": "stdout",
          "text": [
            "Precision: 0.83\n",
            "Recall: 0.83\n"
          ]
        }
      ]
    },
    {
      "cell_type": "code",
      "source": [
        "import nltk\n",
        "nltk.download('punkt_tab')"
      ],
      "metadata": {
        "colab": {
          "base_uri": "https://localhost:8080/"
        },
        "id": "TPikAep04vwJ",
        "outputId": "ed850220-9c36-495a-854b-5507be04a515"
      },
      "execution_count": 134,
      "outputs": [
        {
          "output_type": "stream",
          "name": "stderr",
          "text": [
            "[nltk_data] Downloading package punkt_tab to /root/nltk_data...\n",
            "[nltk_data]   Unzipping tokenizers/punkt_tab.zip.\n"
          ]
        },
        {
          "output_type": "execute_result",
          "data": {
            "text/plain": [
              "True"
            ]
          },
          "metadata": {},
          "execution_count": 134
        }
      ]
    },
    {
      "cell_type": "code",
      "source": [
        "from rank_bm25 import BM25Okapi\n",
        "from nltk.tokenize import word_tokenize\n",
        "\n",
        "tokenized_output = [word_tokenize(t.lower()) for t in texts]\n",
        "bm25 = BM25Okapi(tokenized_output)"
      ],
      "metadata": {
        "id": "Wx91_iX0zVRK"
      },
      "execution_count": 135,
      "outputs": []
    },
    {
      "cell_type": "code",
      "source": [
        "query=\"Keychain with alphabet\"\n",
        "tokenized_query=word_tokenize(query.lower())\n",
        "bm25_scores=bm25.get_scores(tokenized_query)\n",
        "bm25_scores"
      ],
      "metadata": {
        "colab": {
          "base_uri": "https://localhost:8080/"
        },
        "id": "c6J2V6N43Ba4",
        "outputId": "f0e71a21-72ba-4708-c567-2044b5867a06"
      },
      "execution_count": 193,
      "outputs": [
        {
          "output_type": "execute_result",
          "data": {
            "text/plain": [
              "array([0., 0., 0., ..., 0., 0., 0.])"
            ]
          },
          "metadata": {},
          "execution_count": 193
        }
      ]
    },
    {
      "cell_type": "code",
      "source": [
        "top_n = np.argsort(bm25_scores)[::-1][:26]\n",
        "for idx in top_n:\n",
        "    print(f\"Score: {bm25_scores[idx]:.4f} | Doc: {texts[idx]}\")"
      ],
      "metadata": {
        "colab": {
          "base_uri": "https://localhost:8080/"
        },
        "id": "v0WoaAVb4250",
        "outputId": "76ebc82a-4f73-4ee2-c026-fa44e7d7dbd5"
      },
      "execution_count": 195,
      "outputs": [
        {
          "output_type": "stream",
          "name": "stdout",
          "text": [
            "Score: 6.4563 | Doc: ALPHABET STENCIL CRAFT\n",
            "Score: 6.4563 | Doc: JUMBO BAG ALPHABET\n",
            "Score: 6.4563 | Doc: WRAP ALPHABET DESIGN\n",
            "Score: 6.4563 | Doc: WRAP ALPHABET POSTER\n",
            "Score: 5.7695 | Doc: ALPHABET HEARTS STICKER SHEET\n",
            "Score: 5.7695 | Doc: TRADTIONAL ALPHABET STAMP SET\n",
            "Score: 5.7695 | Doc: CHARLOTTE BAG ALPHABET DESIGN\n",
            "Score: 5.7695 | Doc: CHARLOTTE BAG VINTAGE ALPHABET\n",
            "Score: 5.7695 | Doc: LUNCH BAG ALPHABET DESIGN\n",
            "Score: 5.2148 | Doc: BOYS ALPHABET IRON ON PATCHES\n",
            "Score: 5.2148 | Doc: BOX OF VINTAGE ALPHABET BLOCKS\n",
            "Score: 5.2148 | Doc: 70'S ALPHABET WALL ART\n",
            "Score: 5.2148 | Doc: WALL ART 70'S ALPHABET\n",
            "Score: 5.2148 | Doc: GIRLS ALPHABET IRON ON PATCHES\n",
            "Score: 4.7575 | Doc: BUNDLE OF 3 ALPHABET EXERCISE BOOKS\n",
            "Score: 4.0443 | Doc: HEART DECORATION WITH PEARLS\n",
            "Score: 4.0443 | Doc: BROCANTE SHELF WITH HOOKS\n",
            "Score: 4.0443 | Doc: FILIGRIS HEART WITH BUTTERFLY\n",
            "Score: 4.0443 | Doc: JIGSAW TREE WITH BIRDHOUSE\n",
            "Score: 4.0443 | Doc: HANGING HEART WITH BELL\n",
            "Score: 4.0443 | Doc: UTILTY CABINET WITH HOOKS\n",
            "Score: 4.0443 | Doc: REGENCY MIRROR WITH SHUTTERS\n",
            "Score: 3.6555 | Doc: SKULL LUNCH BOX WITH CUTLERY\n",
            "Score: 3.6555 | Doc: WHITE WITH METAL BAG CHARM\n",
            "Score: 3.6555 | Doc: GREEN WITH METAL BAG CHARM\n",
            "Score: 3.6555 | Doc: BUNNY WOODEN PAINTED WITH BIRD\n"
          ]
        }
      ]
    },
    {
      "cell_type": "code",
      "source": [
        "top_n"
      ],
      "metadata": {
        "colab": {
          "base_uri": "https://localhost:8080/"
        },
        "id": "e3cuVMMCNQli",
        "outputId": "acbcabf2-59cf-4cdd-df82-01bd2779db6a"
      },
      "execution_count": 197,
      "outputs": [
        {
          "output_type": "execute_result",
          "data": {
            "text/plain": [
              "array([ 979, 2956, 2537, 3437, 1603, 3808, 2961, 2955, 2957, 2685,   16,\n",
              "       3691, 3715, 2684, 3120, 1508, 1021, 1059, 1617, 2732, 1612, 1959,\n",
              "       1428, 3403, 3404, 2048])"
            ]
          },
          "metadata": {},
          "execution_count": 197
        }
      ]
    },
    {
      "cell_type": "code",
      "source": [
        "retrieved_set_q4=set(top_n)\n",
        "relevant_set_q4=set(query4_relevant_index)\n",
        "true_positives_q4 = retrieved_set_q4 & relevant_set_q4\n",
        "\n",
        "precision_q4 = len(true_positives_q4) / len(retrieved_set_q4)\n",
        "recall_q4 = len(true_positives_q4) / len(relevant_set_q4)\n",
        "\n",
        "print(f\"Precision: {precision_q4:.2f}\")\n",
        "print(f\"Recall: {recall_q4:.2f}\")"
      ],
      "metadata": {
        "colab": {
          "base_uri": "https://localhost:8080/"
        },
        "id": "y0AAEqCLNJap",
        "outputId": "7b2cbe03-de7a-4764-a7a7-c54c5f3e13dd"
      },
      "execution_count": 198,
      "outputs": [
        {
          "output_type": "stream",
          "name": "stdout",
          "text": [
            "Precision: 0.00\n",
            "Recall: 0.00\n"
          ]
        }
      ]
    },
    {
      "cell_type": "code",
      "source": [
        "from datetime import datetime"
      ],
      "metadata": {
        "id": "pth6Ed48ODlD"
      },
      "execution_count": 202,
      "outputs": []
    },
    {
      "cell_type": "code",
      "source": [
        "start_time = datetime.now()\n",
        "query3=\"holder\"\n",
        "tokenized_query3=word_tokenize(query3.lower())\n",
        "bm25_scores_3=bm25.get_scores(tokenized_query3)\n",
        "top_n = np.argsort(bm25_scores_3)[::-1][:3]\n",
        "end_time = datetime.now()\n",
        "for idx in top_n:\n",
        "    print(f\"Score: {bm25_scores_3[idx]:.4f} | Doc: {texts[idx]}\")\n",
        "print(f\"total time taken for keyword search {end_time-start_time}\")"
      ],
      "metadata": {
        "colab": {
          "base_uri": "https://localhost:8080/"
        },
        "id": "xQ-3pYAF5Ic-",
        "outputId": "e9715069-887f-43b9-e292-b39e8a4e43e7"
      },
      "execution_count": 204,
      "outputs": [
        {
          "output_type": "stream",
          "name": "stdout",
          "text": [
            "Score: 4.6172 | Doc: POPCORN HOLDER\n",
            "Score: 4.0676 | Doc: SMALL POPCORN HOLDER\n",
            "Score: 4.0676 | Doc: LARGE POPCORN HOLDER\n",
            "total time taken for keyword search 0:00:00.002746\n"
          ]
        }
      ]
    },
    {
      "cell_type": "code",
      "source": [
        "dataset_modified_1.to_csv('/content/drive/MyDrive/capstone_lumen/dataset_modified.csv')"
      ],
      "metadata": {
        "id": "V4cJDfkq5lYR"
      },
      "execution_count": 173,
      "outputs": []
    },
    {
      "cell_type": "code",
      "source": [
        "start_time= datetime.now()\n",
        "query4=\"holder\"\n",
        "embed_query4=embed_model.encode([query4])\n",
        "k=3\n",
        "distances_q4,indices_q4=faiss_index.search(embed_query4,k)\n",
        "end_time=datetime.now()\n",
        "print(f\"total time taken for vector search {end_time-start_time}\")\n",
        "# print(f\"Nearest item indices for query 4:\",indices_q4)\n",
        "# print(f\"Nearest item distances for query4:\",distances_q4)\n",
        "indices_q4= indices_q4.flatten().tolist()\n",
        "for i in indices_q4:\n",
        "  print(dataset_modified_1[i])"
      ],
      "metadata": {
        "colab": {
          "base_uri": "https://localhost:8080/"
        },
        "id": "dC9l-qV6EPLq",
        "outputId": "18dc9a95-8f61-4ed3-ef8a-4ecf4b9e5496"
      },
      "execution_count": 206,
      "outputs": [
        {
          "output_type": "stream",
          "name": "stdout",
          "text": [
            "total time taken for vector search 0:00:00.023755\n",
            "POPCORN HOLDER\n",
            "RED STAR CARD HOLDER\n",
            "FRENCH ENAMEL UTENSIL HOLDER\n"
          ]
        }
      ]
    },
    {
      "cell_type": "code",
      "source": [],
      "metadata": {
        "id": "74W3EW_1O5RD"
      },
      "execution_count": null,
      "outputs": []
    }
  ]
}