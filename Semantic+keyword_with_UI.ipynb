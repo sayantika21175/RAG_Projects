{
  "cells": [
    {
      "cell_type": "markdown",
      "metadata": {
        "id": "view-in-github",
        "colab_type": "text"
      },
      "source": [
        "<a href=\"https://colab.research.google.com/github/sayantika21175/RAG_Projects/blob/main/Semantic%2Bkeyword_with_UI.ipynb\" target=\"_parent\"><img src=\"https://colab.research.google.com/assets/colab-badge.svg\" alt=\"Open In Colab\"/></a>"
      ]
    },
    {
      "cell_type": "markdown",
      "metadata": {
        "id": "C6suE9J1Qnfj"
      },
      "source": [
        "# Installing the required Libraries\n"
      ]
    },
    {
      "cell_type": "code",
      "execution_count": 1,
      "metadata": {
        "id": "gC_UyKUVB2jM"
      },
      "outputs": [],
      "source": [
        "# !pip install langchain faiss-cpu rank_bm25 sentence-transformers\n",
        "# !pip install -U langchain-community"
      ]
    },
    {
      "cell_type": "markdown",
      "metadata": {
        "id": "JKTrfpTqQ3m6"
      },
      "source": [
        "#Import the required packages"
      ]
    },
    {
      "cell_type": "code",
      "execution_count": 2,
      "metadata": {
        "id": "EhyriFuQB7Mk"
      },
      "outputs": [],
      "source": [
        "import pandas as pd\n",
        "import os\n",
        "from sentence_transformers import SentenceTransformer\n",
        "from langchain.vectorstores import FAISS\n",
        "import string\n",
        "import faiss\n",
        "import re\n",
        "import numpy as np\n",
        "import gradio as gr"
      ]
    },
    {
      "cell_type": "markdown",
      "metadata": {
        "id": "jPUa1MPFQ7do"
      },
      "source": [
        "#Load the dataset"
      ]
    },
    {
      "cell_type": "code",
      "source": [
        "from google.colab import drive\n",
        "drive.mount('/content/drive')"
      ],
      "metadata": {
        "colab": {
          "base_uri": "https://localhost:8080/"
        },
        "id": "SD9yMrUnsfPr",
        "outputId": "2f5e5946-a0f8-4538-b08b-befe66a36073"
      },
      "execution_count": 3,
      "outputs": [
        {
          "output_type": "stream",
          "name": "stdout",
          "text": [
            "Mounted at /content/drive\n"
          ]
        }
      ]
    },
    {
      "cell_type": "code",
      "execution_count": 4,
      "metadata": {
        "colab": {
          "base_uri": "https://localhost:8080/",
          "height": 206
        },
        "id": "KWrSod6WCtR_",
        "outputId": "e3c3d9a3-382e-4498-eabd-b0a48187cfcc"
      },
      "outputs": [
        {
          "output_type": "execute_result",
          "data": {
            "text/plain": [
              "  InvoiceNo StockCode                          Description  Quantity  \\\n",
              "0    536365    85123A   WHITE HANGING HEART T-LIGHT HOLDER         6   \n",
              "1    536365     71053                  WHITE METAL LANTERN         6   \n",
              "2    536365    84406B       CREAM CUPID HEARTS COAT HANGER         8   \n",
              "3    536365    84029G  KNITTED UNION FLAG HOT WATER BOTTLE         6   \n",
              "4    536365    84029E       RED WOOLLY HOTTIE WHITE HEART.         6   \n",
              "\n",
              "      InvoiceDate  UnitPrice  CustomerID         Country  \n",
              "0  12/1/2010 8:26       2.55     17850.0  United Kingdom  \n",
              "1  12/1/2010 8:26       3.39     17850.0  United Kingdom  \n",
              "2  12/1/2010 8:26       2.75     17850.0  United Kingdom  \n",
              "3  12/1/2010 8:26       3.39     17850.0  United Kingdom  \n",
              "4  12/1/2010 8:26       3.39     17850.0  United Kingdom  "
            ],
            "text/html": [
              "\n",
              "  <div id=\"df-d4706d67-b41f-4875-a274-91cdb734ada7\" class=\"colab-df-container\">\n",
              "    <div>\n",
              "<style scoped>\n",
              "    .dataframe tbody tr th:only-of-type {\n",
              "        vertical-align: middle;\n",
              "    }\n",
              "\n",
              "    .dataframe tbody tr th {\n",
              "        vertical-align: top;\n",
              "    }\n",
              "\n",
              "    .dataframe thead th {\n",
              "        text-align: right;\n",
              "    }\n",
              "</style>\n",
              "<table border=\"1\" class=\"dataframe\">\n",
              "  <thead>\n",
              "    <tr style=\"text-align: right;\">\n",
              "      <th></th>\n",
              "      <th>InvoiceNo</th>\n",
              "      <th>StockCode</th>\n",
              "      <th>Description</th>\n",
              "      <th>Quantity</th>\n",
              "      <th>InvoiceDate</th>\n",
              "      <th>UnitPrice</th>\n",
              "      <th>CustomerID</th>\n",
              "      <th>Country</th>\n",
              "    </tr>\n",
              "  </thead>\n",
              "  <tbody>\n",
              "    <tr>\n",
              "      <th>0</th>\n",
              "      <td>536365</td>\n",
              "      <td>85123A</td>\n",
              "      <td>WHITE HANGING HEART T-LIGHT HOLDER</td>\n",
              "      <td>6</td>\n",
              "      <td>12/1/2010 8:26</td>\n",
              "      <td>2.55</td>\n",
              "      <td>17850.0</td>\n",
              "      <td>United Kingdom</td>\n",
              "    </tr>\n",
              "    <tr>\n",
              "      <th>1</th>\n",
              "      <td>536365</td>\n",
              "      <td>71053</td>\n",
              "      <td>WHITE METAL LANTERN</td>\n",
              "      <td>6</td>\n",
              "      <td>12/1/2010 8:26</td>\n",
              "      <td>3.39</td>\n",
              "      <td>17850.0</td>\n",
              "      <td>United Kingdom</td>\n",
              "    </tr>\n",
              "    <tr>\n",
              "      <th>2</th>\n",
              "      <td>536365</td>\n",
              "      <td>84406B</td>\n",
              "      <td>CREAM CUPID HEARTS COAT HANGER</td>\n",
              "      <td>8</td>\n",
              "      <td>12/1/2010 8:26</td>\n",
              "      <td>2.75</td>\n",
              "      <td>17850.0</td>\n",
              "      <td>United Kingdom</td>\n",
              "    </tr>\n",
              "    <tr>\n",
              "      <th>3</th>\n",
              "      <td>536365</td>\n",
              "      <td>84029G</td>\n",
              "      <td>KNITTED UNION FLAG HOT WATER BOTTLE</td>\n",
              "      <td>6</td>\n",
              "      <td>12/1/2010 8:26</td>\n",
              "      <td>3.39</td>\n",
              "      <td>17850.0</td>\n",
              "      <td>United Kingdom</td>\n",
              "    </tr>\n",
              "    <tr>\n",
              "      <th>4</th>\n",
              "      <td>536365</td>\n",
              "      <td>84029E</td>\n",
              "      <td>RED WOOLLY HOTTIE WHITE HEART.</td>\n",
              "      <td>6</td>\n",
              "      <td>12/1/2010 8:26</td>\n",
              "      <td>3.39</td>\n",
              "      <td>17850.0</td>\n",
              "      <td>United Kingdom</td>\n",
              "    </tr>\n",
              "  </tbody>\n",
              "</table>\n",
              "</div>\n",
              "    <div class=\"colab-df-buttons\">\n",
              "\n",
              "  <div class=\"colab-df-container\">\n",
              "    <button class=\"colab-df-convert\" onclick=\"convertToInteractive('df-d4706d67-b41f-4875-a274-91cdb734ada7')\"\n",
              "            title=\"Convert this dataframe to an interactive table.\"\n",
              "            style=\"display:none;\">\n",
              "\n",
              "  <svg xmlns=\"http://www.w3.org/2000/svg\" height=\"24px\" viewBox=\"0 -960 960 960\">\n",
              "    <path d=\"M120-120v-720h720v720H120Zm60-500h600v-160H180v160Zm220 220h160v-160H400v160Zm0 220h160v-160H400v160ZM180-400h160v-160H180v160Zm440 0h160v-160H620v160ZM180-180h160v-160H180v160Zm440 0h160v-160H620v160Z\"/>\n",
              "  </svg>\n",
              "    </button>\n",
              "\n",
              "  <style>\n",
              "    .colab-df-container {\n",
              "      display:flex;\n",
              "      gap: 12px;\n",
              "    }\n",
              "\n",
              "    .colab-df-convert {\n",
              "      background-color: #E8F0FE;\n",
              "      border: none;\n",
              "      border-radius: 50%;\n",
              "      cursor: pointer;\n",
              "      display: none;\n",
              "      fill: #1967D2;\n",
              "      height: 32px;\n",
              "      padding: 0 0 0 0;\n",
              "      width: 32px;\n",
              "    }\n",
              "\n",
              "    .colab-df-convert:hover {\n",
              "      background-color: #E2EBFA;\n",
              "      box-shadow: 0px 1px 2px rgba(60, 64, 67, 0.3), 0px 1px 3px 1px rgba(60, 64, 67, 0.15);\n",
              "      fill: #174EA6;\n",
              "    }\n",
              "\n",
              "    .colab-df-buttons div {\n",
              "      margin-bottom: 4px;\n",
              "    }\n",
              "\n",
              "    [theme=dark] .colab-df-convert {\n",
              "      background-color: #3B4455;\n",
              "      fill: #D2E3FC;\n",
              "    }\n",
              "\n",
              "    [theme=dark] .colab-df-convert:hover {\n",
              "      background-color: #434B5C;\n",
              "      box-shadow: 0px 1px 3px 1px rgba(0, 0, 0, 0.15);\n",
              "      filter: drop-shadow(0px 1px 2px rgba(0, 0, 0, 0.3));\n",
              "      fill: #FFFFFF;\n",
              "    }\n",
              "  </style>\n",
              "\n",
              "    <script>\n",
              "      const buttonEl =\n",
              "        document.querySelector('#df-d4706d67-b41f-4875-a274-91cdb734ada7 button.colab-df-convert');\n",
              "      buttonEl.style.display =\n",
              "        google.colab.kernel.accessAllowed ? 'block' : 'none';\n",
              "\n",
              "      async function convertToInteractive(key) {\n",
              "        const element = document.querySelector('#df-d4706d67-b41f-4875-a274-91cdb734ada7');\n",
              "        const dataTable =\n",
              "          await google.colab.kernel.invokeFunction('convertToInteractive',\n",
              "                                                    [key], {});\n",
              "        if (!dataTable) return;\n",
              "\n",
              "        const docLinkHtml = 'Like what you see? Visit the ' +\n",
              "          '<a target=\"_blank\" href=https://colab.research.google.com/notebooks/data_table.ipynb>data table notebook</a>'\n",
              "          + ' to learn more about interactive tables.';\n",
              "        element.innerHTML = '';\n",
              "        dataTable['output_type'] = 'display_data';\n",
              "        await google.colab.output.renderOutput(dataTable, element);\n",
              "        const docLink = document.createElement('div');\n",
              "        docLink.innerHTML = docLinkHtml;\n",
              "        element.appendChild(docLink);\n",
              "      }\n",
              "    </script>\n",
              "  </div>\n",
              "\n",
              "\n",
              "    <div id=\"df-dfeb80f7-9ac3-42d0-a774-af23569afbef\">\n",
              "      <button class=\"colab-df-quickchart\" onclick=\"quickchart('df-dfeb80f7-9ac3-42d0-a774-af23569afbef')\"\n",
              "                title=\"Suggest charts\"\n",
              "                style=\"display:none;\">\n",
              "\n",
              "<svg xmlns=\"http://www.w3.org/2000/svg\" height=\"24px\"viewBox=\"0 0 24 24\"\n",
              "     width=\"24px\">\n",
              "    <g>\n",
              "        <path d=\"M19 3H5c-1.1 0-2 .9-2 2v14c0 1.1.9 2 2 2h14c1.1 0 2-.9 2-2V5c0-1.1-.9-2-2-2zM9 17H7v-7h2v7zm4 0h-2V7h2v10zm4 0h-2v-4h2v4z\"/>\n",
              "    </g>\n",
              "</svg>\n",
              "      </button>\n",
              "\n",
              "<style>\n",
              "  .colab-df-quickchart {\n",
              "      --bg-color: #E8F0FE;\n",
              "      --fill-color: #1967D2;\n",
              "      --hover-bg-color: #E2EBFA;\n",
              "      --hover-fill-color: #174EA6;\n",
              "      --disabled-fill-color: #AAA;\n",
              "      --disabled-bg-color: #DDD;\n",
              "  }\n",
              "\n",
              "  [theme=dark] .colab-df-quickchart {\n",
              "      --bg-color: #3B4455;\n",
              "      --fill-color: #D2E3FC;\n",
              "      --hover-bg-color: #434B5C;\n",
              "      --hover-fill-color: #FFFFFF;\n",
              "      --disabled-bg-color: #3B4455;\n",
              "      --disabled-fill-color: #666;\n",
              "  }\n",
              "\n",
              "  .colab-df-quickchart {\n",
              "    background-color: var(--bg-color);\n",
              "    border: none;\n",
              "    border-radius: 50%;\n",
              "    cursor: pointer;\n",
              "    display: none;\n",
              "    fill: var(--fill-color);\n",
              "    height: 32px;\n",
              "    padding: 0;\n",
              "    width: 32px;\n",
              "  }\n",
              "\n",
              "  .colab-df-quickchart:hover {\n",
              "    background-color: var(--hover-bg-color);\n",
              "    box-shadow: 0 1px 2px rgba(60, 64, 67, 0.3), 0 1px 3px 1px rgba(60, 64, 67, 0.15);\n",
              "    fill: var(--button-hover-fill-color);\n",
              "  }\n",
              "\n",
              "  .colab-df-quickchart-complete:disabled,\n",
              "  .colab-df-quickchart-complete:disabled:hover {\n",
              "    background-color: var(--disabled-bg-color);\n",
              "    fill: var(--disabled-fill-color);\n",
              "    box-shadow: none;\n",
              "  }\n",
              "\n",
              "  .colab-df-spinner {\n",
              "    border: 2px solid var(--fill-color);\n",
              "    border-color: transparent;\n",
              "    border-bottom-color: var(--fill-color);\n",
              "    animation:\n",
              "      spin 1s steps(1) infinite;\n",
              "  }\n",
              "\n",
              "  @keyframes spin {\n",
              "    0% {\n",
              "      border-color: transparent;\n",
              "      border-bottom-color: var(--fill-color);\n",
              "      border-left-color: var(--fill-color);\n",
              "    }\n",
              "    20% {\n",
              "      border-color: transparent;\n",
              "      border-left-color: var(--fill-color);\n",
              "      border-top-color: var(--fill-color);\n",
              "    }\n",
              "    30% {\n",
              "      border-color: transparent;\n",
              "      border-left-color: var(--fill-color);\n",
              "      border-top-color: var(--fill-color);\n",
              "      border-right-color: var(--fill-color);\n",
              "    }\n",
              "    40% {\n",
              "      border-color: transparent;\n",
              "      border-right-color: var(--fill-color);\n",
              "      border-top-color: var(--fill-color);\n",
              "    }\n",
              "    60% {\n",
              "      border-color: transparent;\n",
              "      border-right-color: var(--fill-color);\n",
              "    }\n",
              "    80% {\n",
              "      border-color: transparent;\n",
              "      border-right-color: var(--fill-color);\n",
              "      border-bottom-color: var(--fill-color);\n",
              "    }\n",
              "    90% {\n",
              "      border-color: transparent;\n",
              "      border-bottom-color: var(--fill-color);\n",
              "    }\n",
              "  }\n",
              "</style>\n",
              "\n",
              "      <script>\n",
              "        async function quickchart(key) {\n",
              "          const quickchartButtonEl =\n",
              "            document.querySelector('#' + key + ' button');\n",
              "          quickchartButtonEl.disabled = true;  // To prevent multiple clicks.\n",
              "          quickchartButtonEl.classList.add('colab-df-spinner');\n",
              "          try {\n",
              "            const charts = await google.colab.kernel.invokeFunction(\n",
              "                'suggestCharts', [key], {});\n",
              "          } catch (error) {\n",
              "            console.error('Error during call to suggestCharts:', error);\n",
              "          }\n",
              "          quickchartButtonEl.classList.remove('colab-df-spinner');\n",
              "          quickchartButtonEl.classList.add('colab-df-quickchart-complete');\n",
              "        }\n",
              "        (() => {\n",
              "          let quickchartButtonEl =\n",
              "            document.querySelector('#df-dfeb80f7-9ac3-42d0-a774-af23569afbef button');\n",
              "          quickchartButtonEl.style.display =\n",
              "            google.colab.kernel.accessAllowed ? 'block' : 'none';\n",
              "        })();\n",
              "      </script>\n",
              "    </div>\n",
              "\n",
              "    </div>\n",
              "  </div>\n"
            ],
            "application/vnd.google.colaboratory.intrinsic+json": {
              "type": "dataframe",
              "variable_name": "data"
            }
          },
          "metadata": {},
          "execution_count": 4
        }
      ],
      "source": [
        "data = pd.read_csv(r'/content/drive/MyDrive/capstone_lumen/data.csv',encoding='ISO-8859-1')\n",
        "data.head()"
      ]
    },
    {
      "cell_type": "markdown",
      "metadata": {
        "id": "fjIG0VOhRA0w"
      },
      "source": [
        "#Dataset Understanding and Preprocessing\n",
        "** Here we need the column Description from the dataset"
      ]
    },
    {
      "cell_type": "code",
      "execution_count": 5,
      "metadata": {
        "id": "UNpHZbqLDxHt"
      },
      "outputs": [],
      "source": [
        "#get the unique customer_id\n",
        "customer_id = data['CustomerID'].unique()"
      ]
    },
    {
      "cell_type": "code",
      "execution_count": 6,
      "metadata": {
        "colab": {
          "base_uri": "https://localhost:8080/"
        },
        "id": "LxQUpzCZD4_d",
        "outputId": "92e2a13d-4858-4247-e918-0e56841ea471"
      },
      "outputs": [
        {
          "output_type": "execute_result",
          "data": {
            "text/plain": [
              "4373"
            ]
          },
          "metadata": {},
          "execution_count": 6
        }
      ],
      "source": [
        "len(customer_id)"
      ]
    },
    {
      "cell_type": "code",
      "execution_count": 7,
      "metadata": {
        "colab": {
          "base_uri": "https://localhost:8080/"
        },
        "id": "IdZtI0y-D9gi",
        "outputId": "ac5e9699-11ef-4908-e4ff-de01df5f1ee0"
      },
      "outputs": [
        {
          "output_type": "execute_result",
          "data": {
            "text/plain": [
              "(541909, 8)"
            ]
          },
          "metadata": {},
          "execution_count": 7
        }
      ],
      "source": [
        "data.shape"
      ]
    },
    {
      "cell_type": "code",
      "execution_count": 8,
      "metadata": {
        "colab": {
          "base_uri": "https://localhost:8080/",
          "height": 489
        },
        "id": "4wRNFN4EEEH9",
        "outputId": "95b7cf63-cabc-4b2d-e396-a43a45922ed6"
      },
      "outputs": [
        {
          "output_type": "execute_result",
          "data": {
            "text/plain": [
              "Description\n",
              "WHITE HANGING HEART T-LIGHT HOLDER    2369\n",
              "REGENCY CAKESTAND 3 TIER              2200\n",
              "JUMBO BAG RED RETROSPOT               2159\n",
              "PARTY BUNTING                         1727\n",
              "LUNCH BAG RED RETROSPOT               1638\n",
              "                                      ... \n",
              "ANT SILVER TURQUOISE BOUDICCA RING       1\n",
              "Damages                                  1\n",
              "Found by jackie                          1\n",
              "water damaged                            1\n",
              "lost in space                            1\n",
              "Name: count, Length: 4223, dtype: int64"
            ],
            "text/html": [
              "<div>\n",
              "<style scoped>\n",
              "    .dataframe tbody tr th:only-of-type {\n",
              "        vertical-align: middle;\n",
              "    }\n",
              "\n",
              "    .dataframe tbody tr th {\n",
              "        vertical-align: top;\n",
              "    }\n",
              "\n",
              "    .dataframe thead th {\n",
              "        text-align: right;\n",
              "    }\n",
              "</style>\n",
              "<table border=\"1\" class=\"dataframe\">\n",
              "  <thead>\n",
              "    <tr style=\"text-align: right;\">\n",
              "      <th></th>\n",
              "      <th>count</th>\n",
              "    </tr>\n",
              "    <tr>\n",
              "      <th>Description</th>\n",
              "      <th></th>\n",
              "    </tr>\n",
              "  </thead>\n",
              "  <tbody>\n",
              "    <tr>\n",
              "      <th>WHITE HANGING HEART T-LIGHT HOLDER</th>\n",
              "      <td>2369</td>\n",
              "    </tr>\n",
              "    <tr>\n",
              "      <th>REGENCY CAKESTAND 3 TIER</th>\n",
              "      <td>2200</td>\n",
              "    </tr>\n",
              "    <tr>\n",
              "      <th>JUMBO BAG RED RETROSPOT</th>\n",
              "      <td>2159</td>\n",
              "    </tr>\n",
              "    <tr>\n",
              "      <th>PARTY BUNTING</th>\n",
              "      <td>1727</td>\n",
              "    </tr>\n",
              "    <tr>\n",
              "      <th>LUNCH BAG RED RETROSPOT</th>\n",
              "      <td>1638</td>\n",
              "    </tr>\n",
              "    <tr>\n",
              "      <th>...</th>\n",
              "      <td>...</td>\n",
              "    </tr>\n",
              "    <tr>\n",
              "      <th>ANT SILVER TURQUOISE BOUDICCA RING</th>\n",
              "      <td>1</td>\n",
              "    </tr>\n",
              "    <tr>\n",
              "      <th>Damages</th>\n",
              "      <td>1</td>\n",
              "    </tr>\n",
              "    <tr>\n",
              "      <th>Found by jackie</th>\n",
              "      <td>1</td>\n",
              "    </tr>\n",
              "    <tr>\n",
              "      <th>water damaged</th>\n",
              "      <td>1</td>\n",
              "    </tr>\n",
              "    <tr>\n",
              "      <th>lost in space</th>\n",
              "      <td>1</td>\n",
              "    </tr>\n",
              "  </tbody>\n",
              "</table>\n",
              "<p>4223 rows × 1 columns</p>\n",
              "</div><br><label><b>dtype:</b> int64</label>"
            ]
          },
          "metadata": {},
          "execution_count": 8
        }
      ],
      "source": [
        "#check if Description has some dublicates or not\n",
        "data['Description'].value_counts()"
      ]
    },
    {
      "cell_type": "code",
      "execution_count": 9,
      "metadata": {
        "colab": {
          "base_uri": "https://localhost:8080/"
        },
        "id": "UEiGgwdIFZwP",
        "outputId": "5903fad4-c8db-4551-cccc-f52ae9009365"
      },
      "outputs": [
        {
          "output_type": "execute_result",
          "data": {
            "text/plain": [
              "np.int64(5268)"
            ]
          },
          "metadata": {},
          "execution_count": 9
        }
      ],
      "source": [
        "#check if data has some dublicate rows\n",
        "data.duplicated().sum()"
      ]
    },
    {
      "cell_type": "code",
      "execution_count": 10,
      "metadata": {
        "id": "Tj-26YUVF5eo"
      },
      "outputs": [],
      "source": [
        "data.drop_duplicates(inplace=True)#Dropping the duplicates values"
      ]
    },
    {
      "cell_type": "markdown",
      "metadata": {
        "id": "WyS53v_5Rc9i"
      },
      "source": [
        "#Check if in the column Description contains any non string value or not"
      ]
    },
    {
      "cell_type": "code",
      "execution_count": 11,
      "metadata": {
        "colab": {
          "base_uri": "https://localhost:8080/"
        },
        "id": "KwNOjq27bORx",
        "outputId": "785f0f66-649b-48e3-fc96-e9cabb1a79d8"
      },
      "outputs": [
        {
          "output_type": "stream",
          "name": "stdout",
          "text": [
            "       InvoiceNo StockCode Description  Quantity      InvoiceDate  UnitPrice  \\\n",
            "622       536414     22139         NaN        56  12/1/2010 11:52        0.0   \n",
            "1970      536545     21134         NaN         1  12/1/2010 14:32        0.0   \n",
            "1971      536546     22145         NaN         1  12/1/2010 14:33        0.0   \n",
            "1972      536547     37509         NaN         1  12/1/2010 14:33        0.0   \n",
            "1987      536549    85226A         NaN         1  12/1/2010 14:34        0.0   \n",
            "...          ...       ...         ...       ...              ...        ...   \n",
            "535322    581199     84581         NaN        -2  12/7/2011 18:26        0.0   \n",
            "535326    581203     23406         NaN        15  12/7/2011 18:31        0.0   \n",
            "535332    581209     21620         NaN         6  12/7/2011 18:35        0.0   \n",
            "536981    581234     72817         NaN        27  12/8/2011 10:33        0.0   \n",
            "538554    581408     85175         NaN        20  12/8/2011 14:06        0.0   \n",
            "\n",
            "        CustomerID         Country  \n",
            "622            NaN  United Kingdom  \n",
            "1970           NaN  United Kingdom  \n",
            "1971           NaN  United Kingdom  \n",
            "1972           NaN  United Kingdom  \n",
            "1987           NaN  United Kingdom  \n",
            "...            ...             ...  \n",
            "535322         NaN  United Kingdom  \n",
            "535326         NaN  United Kingdom  \n",
            "535332         NaN  United Kingdom  \n",
            "536981         NaN  United Kingdom  \n",
            "538554         NaN  United Kingdom  \n",
            "\n",
            "[1454 rows x 8 columns]\n"
          ]
        }
      ],
      "source": [
        "non_string_mask = data['Description'].apply(lambda x: not isinstance(x, str))\n",
        "non_string_values = data[non_string_mask]\n",
        "print(non_string_values)\n"
      ]
    },
    {
      "cell_type": "markdown",
      "metadata": {
        "id": "BCZMzY9VRnSV"
      },
      "source": [
        "#Remove the NaN values from the column Description"
      ]
    },
    {
      "cell_type": "code",
      "execution_count": 12,
      "metadata": {
        "id": "gkiEwCYMbZTk"
      },
      "outputs": [],
      "source": [
        "#remove the Nan Value\n",
        "data.dropna(inplace=True)"
      ]
    },
    {
      "cell_type": "code",
      "execution_count": 13,
      "metadata": {
        "colab": {
          "base_uri": "https://localhost:8080/"
        },
        "id": "cWopEuxmGmt0",
        "outputId": "a85a7a3d-d504-4062-a72c-7b98fb37d5b7"
      },
      "outputs": [
        {
          "output_type": "execute_result",
          "data": {
            "text/plain": [
              "np.int64(0)"
            ]
          },
          "metadata": {},
          "execution_count": 13
        }
      ],
      "source": [
        "data.duplicated().sum()"
      ]
    },
    {
      "cell_type": "code",
      "execution_count": 14,
      "metadata": {
        "colab": {
          "base_uri": "https://localhost:8080/"
        },
        "id": "8GVNu6TrbihS",
        "outputId": "b71fbcce-6bfa-44e0-9b8e-8da4895eed83"
      },
      "outputs": [
        {
          "output_type": "stream",
          "name": "stdout",
          "text": [
            "Empty DataFrame\n",
            "Columns: [InvoiceNo, StockCode, Description, Quantity, InvoiceDate, UnitPrice, CustomerID, Country]\n",
            "Index: []\n"
          ]
        }
      ],
      "source": [
        "non_string_mask= data['Description'].apply(lambda x: not isinstance(x,str))\n",
        "non_string_values = data[non_string_mask]\n",
        "print(non_string_values)"
      ]
    },
    {
      "cell_type": "markdown",
      "metadata": {
        "id": "rqJPUSf_R1E3"
      },
      "source": [
        "#Considered only the column Description from the data and created a new data named dataset"
      ]
    },
    {
      "cell_type": "code",
      "execution_count": 15,
      "metadata": {
        "colab": {
          "base_uri": "https://localhost:8080/",
          "height": 241
        },
        "id": "S62vHFiNGua1",
        "outputId": "d5b5cabf-246e-466e-f35f-65b7f00ca2a3"
      },
      "outputs": [
        {
          "output_type": "execute_result",
          "data": {
            "text/plain": [
              "0     WHITE HANGING HEART T-LIGHT HOLDER\n",
              "1                    WHITE METAL LANTERN\n",
              "2         CREAM CUPID HEARTS COAT HANGER\n",
              "3    KNITTED UNION FLAG HOT WATER BOTTLE\n",
              "4         RED WOOLLY HOTTIE WHITE HEART.\n",
              "Name: Description, dtype: object"
            ],
            "text/html": [
              "<div>\n",
              "<style scoped>\n",
              "    .dataframe tbody tr th:only-of-type {\n",
              "        vertical-align: middle;\n",
              "    }\n",
              "\n",
              "    .dataframe tbody tr th {\n",
              "        vertical-align: top;\n",
              "    }\n",
              "\n",
              "    .dataframe thead th {\n",
              "        text-align: right;\n",
              "    }\n",
              "</style>\n",
              "<table border=\"1\" class=\"dataframe\">\n",
              "  <thead>\n",
              "    <tr style=\"text-align: right;\">\n",
              "      <th></th>\n",
              "      <th>Description</th>\n",
              "    </tr>\n",
              "  </thead>\n",
              "  <tbody>\n",
              "    <tr>\n",
              "      <th>0</th>\n",
              "      <td>WHITE HANGING HEART T-LIGHT HOLDER</td>\n",
              "    </tr>\n",
              "    <tr>\n",
              "      <th>1</th>\n",
              "      <td>WHITE METAL LANTERN</td>\n",
              "    </tr>\n",
              "    <tr>\n",
              "      <th>2</th>\n",
              "      <td>CREAM CUPID HEARTS COAT HANGER</td>\n",
              "    </tr>\n",
              "    <tr>\n",
              "      <th>3</th>\n",
              "      <td>KNITTED UNION FLAG HOT WATER BOTTLE</td>\n",
              "    </tr>\n",
              "    <tr>\n",
              "      <th>4</th>\n",
              "      <td>RED WOOLLY HOTTIE WHITE HEART.</td>\n",
              "    </tr>\n",
              "  </tbody>\n",
              "</table>\n",
              "</div><br><label><b>dtype:</b> object</label>"
            ]
          },
          "metadata": {},
          "execution_count": 15
        }
      ],
      "source": [
        "dataset=data['Description'].reset_index(drop=True)\n",
        "dataset.head()"
      ]
    },
    {
      "cell_type": "code",
      "execution_count": 16,
      "metadata": {
        "colab": {
          "base_uri": "https://localhost:8080/",
          "height": 489
        },
        "id": "H8ryy11rHKT-",
        "outputId": "2795565b-68b3-4b69-e1af-b913ab4288b4"
      },
      "outputs": [
        {
          "output_type": "execute_result",
          "data": {
            "text/plain": [
              "Description\n",
              "WHITE HANGING HEART T-LIGHT HOLDER     2058\n",
              "REGENCY CAKESTAND 3 TIER               1894\n",
              "JUMBO BAG RED RETROSPOT                1659\n",
              "PARTY BUNTING                          1409\n",
              "ASSORTED COLOUR BIRD ORNAMENT          1405\n",
              "                                       ... \n",
              "LETTER \"W\" BLING KEY RING                 1\n",
              "CROCHET LILAC/RED BEAR KEYRING            1\n",
              "MIDNIGHT BLUE CRYSTAL DROP EARRINGS       1\n",
              "BLACK VINT ART DEC CRYSTAL BRACELET       1\n",
              "WHITE STONE/CRYSTAL EARRINGS              1\n",
              "Name: count, Length: 3896, dtype: int64"
            ],
            "text/html": [
              "<div>\n",
              "<style scoped>\n",
              "    .dataframe tbody tr th:only-of-type {\n",
              "        vertical-align: middle;\n",
              "    }\n",
              "\n",
              "    .dataframe tbody tr th {\n",
              "        vertical-align: top;\n",
              "    }\n",
              "\n",
              "    .dataframe thead th {\n",
              "        text-align: right;\n",
              "    }\n",
              "</style>\n",
              "<table border=\"1\" class=\"dataframe\">\n",
              "  <thead>\n",
              "    <tr style=\"text-align: right;\">\n",
              "      <th></th>\n",
              "      <th>count</th>\n",
              "    </tr>\n",
              "    <tr>\n",
              "      <th>Description</th>\n",
              "      <th></th>\n",
              "    </tr>\n",
              "  </thead>\n",
              "  <tbody>\n",
              "    <tr>\n",
              "      <th>WHITE HANGING HEART T-LIGHT HOLDER</th>\n",
              "      <td>2058</td>\n",
              "    </tr>\n",
              "    <tr>\n",
              "      <th>REGENCY CAKESTAND 3 TIER</th>\n",
              "      <td>1894</td>\n",
              "    </tr>\n",
              "    <tr>\n",
              "      <th>JUMBO BAG RED RETROSPOT</th>\n",
              "      <td>1659</td>\n",
              "    </tr>\n",
              "    <tr>\n",
              "      <th>PARTY BUNTING</th>\n",
              "      <td>1409</td>\n",
              "    </tr>\n",
              "    <tr>\n",
              "      <th>ASSORTED COLOUR BIRD ORNAMENT</th>\n",
              "      <td>1405</td>\n",
              "    </tr>\n",
              "    <tr>\n",
              "      <th>...</th>\n",
              "      <td>...</td>\n",
              "    </tr>\n",
              "    <tr>\n",
              "      <th>LETTER \"W\" BLING KEY RING</th>\n",
              "      <td>1</td>\n",
              "    </tr>\n",
              "    <tr>\n",
              "      <th>CROCHET LILAC/RED BEAR KEYRING</th>\n",
              "      <td>1</td>\n",
              "    </tr>\n",
              "    <tr>\n",
              "      <th>MIDNIGHT BLUE CRYSTAL DROP EARRINGS</th>\n",
              "      <td>1</td>\n",
              "    </tr>\n",
              "    <tr>\n",
              "      <th>BLACK VINT ART DEC CRYSTAL BRACELET</th>\n",
              "      <td>1</td>\n",
              "    </tr>\n",
              "    <tr>\n",
              "      <th>WHITE STONE/CRYSTAL EARRINGS</th>\n",
              "      <td>1</td>\n",
              "    </tr>\n",
              "  </tbody>\n",
              "</table>\n",
              "<p>3896 rows × 1 columns</p>\n",
              "</div><br><label><b>dtype:</b> int64</label>"
            ]
          },
          "metadata": {},
          "execution_count": 16
        }
      ],
      "source": [
        "dataset.value_counts()"
      ]
    },
    {
      "cell_type": "markdown",
      "metadata": {
        "id": "YZEpkQCcSBmK"
      },
      "source": [
        "#Checked the number of unique values of the Description column"
      ]
    },
    {
      "cell_type": "code",
      "execution_count": 17,
      "metadata": {
        "colab": {
          "base_uri": "https://localhost:8080/"
        },
        "id": "5qt466EmIGI4",
        "outputId": "59357d34-7a7c-4a3a-81d3-bc072b2353d8"
      },
      "outputs": [
        {
          "output_type": "execute_result",
          "data": {
            "text/plain": [
              "3896"
            ]
          },
          "metadata": {},
          "execution_count": 17
        }
      ],
      "source": [
        "len(dataset.unique())"
      ]
    },
    {
      "cell_type": "markdown",
      "metadata": {
        "id": "sffIYMJ1SLQh"
      },
      "source": [
        "#Dropped the duplicates values or duplicate Descriptions from the dataset"
      ]
    },
    {
      "cell_type": "code",
      "execution_count": 18,
      "metadata": {
        "colab": {
          "base_uri": "https://localhost:8080/",
          "height": 241
        },
        "id": "iVCAD0bWIJon",
        "outputId": "95fb09a4-3cff-420b-93de-c1dba7dde347"
      },
      "outputs": [
        {
          "output_type": "execute_result",
          "data": {
            "text/plain": [
              "0     WHITE HANGING HEART T-LIGHT HOLDER\n",
              "1                    WHITE METAL LANTERN\n",
              "2         CREAM CUPID HEARTS COAT HANGER\n",
              "3    KNITTED UNION FLAG HOT WATER BOTTLE\n",
              "4         RED WOOLLY HOTTIE WHITE HEART.\n",
              "Name: Description, dtype: object"
            ],
            "text/html": [
              "<div>\n",
              "<style scoped>\n",
              "    .dataframe tbody tr th:only-of-type {\n",
              "        vertical-align: middle;\n",
              "    }\n",
              "\n",
              "    .dataframe tbody tr th {\n",
              "        vertical-align: top;\n",
              "    }\n",
              "\n",
              "    .dataframe thead th {\n",
              "        text-align: right;\n",
              "    }\n",
              "</style>\n",
              "<table border=\"1\" class=\"dataframe\">\n",
              "  <thead>\n",
              "    <tr style=\"text-align: right;\">\n",
              "      <th></th>\n",
              "      <th>Description</th>\n",
              "    </tr>\n",
              "  </thead>\n",
              "  <tbody>\n",
              "    <tr>\n",
              "      <th>0</th>\n",
              "      <td>WHITE HANGING HEART T-LIGHT HOLDER</td>\n",
              "    </tr>\n",
              "    <tr>\n",
              "      <th>1</th>\n",
              "      <td>WHITE METAL LANTERN</td>\n",
              "    </tr>\n",
              "    <tr>\n",
              "      <th>2</th>\n",
              "      <td>CREAM CUPID HEARTS COAT HANGER</td>\n",
              "    </tr>\n",
              "    <tr>\n",
              "      <th>3</th>\n",
              "      <td>KNITTED UNION FLAG HOT WATER BOTTLE</td>\n",
              "    </tr>\n",
              "    <tr>\n",
              "      <th>4</th>\n",
              "      <td>RED WOOLLY HOTTIE WHITE HEART.</td>\n",
              "    </tr>\n",
              "  </tbody>\n",
              "</table>\n",
              "</div><br><label><b>dtype:</b> object</label>"
            ]
          },
          "metadata": {},
          "execution_count": 18
        }
      ],
      "source": [
        "dataset_modified=dataset.drop_duplicates().reset_index(drop=True)\n",
        "dataset_modified.head()"
      ]
    },
    {
      "cell_type": "code",
      "execution_count": 19,
      "metadata": {
        "colab": {
          "base_uri": "https://localhost:8080/"
        },
        "id": "Gz2tYE5dIhbn",
        "outputId": "0b20c80a-333a-4eb6-a9df-09b802251130"
      },
      "outputs": [
        {
          "output_type": "execute_result",
          "data": {
            "text/plain": [
              "(3896,)"
            ]
          },
          "metadata": {},
          "execution_count": 19
        }
      ],
      "source": [
        "dataset_modified.shape"
      ]
    },
    {
      "cell_type": "markdown",
      "metadata": {
        "id": "zKidIOM_SR14"
      },
      "source": [
        "#Dataset Preprocessing\n",
        " * Remove the whitespaces\n",
        " * Remove the tabs,newlines\n",
        " * Remove the punctuations (?,@,!,#)"
      ]
    },
    {
      "cell_type": "code",
      "execution_count": 20,
      "metadata": {
        "id": "_NOZQNcHIs8q"
      },
      "outputs": [],
      "source": [
        "import re\n",
        "\n",
        "def fix_hyphenated_line_breaks(text):\n",
        "    return re.sub(r'(\\w+)-\\n(\\w+)', r'\\1\\2', text)\n",
        "\n",
        "def clean_whitespace(text):\n",
        "    text = re.sub(r'\\s+', ' ', text)    # Replace multiple whitespace (including newlines, tabs) with single space\n",
        "    text = re.sub(r'[?!#@]', '', text)  # Replace specific characters with empty string\n",
        "    return text.strip()"
      ]
    },
    {
      "cell_type": "code",
      "execution_count": 21,
      "metadata": {
        "colab": {
          "base_uri": "https://localhost:8080/",
          "height": 241
        },
        "id": "WYWSUk2dXfvq",
        "outputId": "b6c0e72c-d540-48ec-b9e3-4678c23bc394"
      },
      "outputs": [
        {
          "output_type": "execute_result",
          "data": {
            "text/plain": [
              "0     WHITE HANGING HEART T-LIGHT HOLDER\n",
              "1                    WHITE METAL LANTERN\n",
              "2         CREAM CUPID HEARTS COAT HANGER\n",
              "3    KNITTED UNION FLAG HOT WATER BOTTLE\n",
              "4         RED WOOLLY HOTTIE WHITE HEART.\n",
              "Name: Description, dtype: object"
            ],
            "text/html": [
              "<div>\n",
              "<style scoped>\n",
              "    .dataframe tbody tr th:only-of-type {\n",
              "        vertical-align: middle;\n",
              "    }\n",
              "\n",
              "    .dataframe tbody tr th {\n",
              "        vertical-align: top;\n",
              "    }\n",
              "\n",
              "    .dataframe thead th {\n",
              "        text-align: right;\n",
              "    }\n",
              "</style>\n",
              "<table border=\"1\" class=\"dataframe\">\n",
              "  <thead>\n",
              "    <tr style=\"text-align: right;\">\n",
              "      <th></th>\n",
              "      <th>Description</th>\n",
              "    </tr>\n",
              "  </thead>\n",
              "  <tbody>\n",
              "    <tr>\n",
              "      <th>0</th>\n",
              "      <td>WHITE HANGING HEART T-LIGHT HOLDER</td>\n",
              "    </tr>\n",
              "    <tr>\n",
              "      <th>1</th>\n",
              "      <td>WHITE METAL LANTERN</td>\n",
              "    </tr>\n",
              "    <tr>\n",
              "      <th>2</th>\n",
              "      <td>CREAM CUPID HEARTS COAT HANGER</td>\n",
              "    </tr>\n",
              "    <tr>\n",
              "      <th>3</th>\n",
              "      <td>KNITTED UNION FLAG HOT WATER BOTTLE</td>\n",
              "    </tr>\n",
              "    <tr>\n",
              "      <th>4</th>\n",
              "      <td>RED WOOLLY HOTTIE WHITE HEART.</td>\n",
              "    </tr>\n",
              "  </tbody>\n",
              "</table>\n",
              "</div><br><label><b>dtype:</b> object</label>"
            ]
          },
          "metadata": {},
          "execution_count": 21
        }
      ],
      "source": [
        "dataset_modified_1 = dataset_modified.apply(fix_hyphenated_line_breaks)\n",
        "dataset_modified_1.head()"
      ]
    },
    {
      "cell_type": "code",
      "execution_count": 22,
      "metadata": {
        "colab": {
          "base_uri": "https://localhost:8080/",
          "height": 241
        },
        "id": "0FBS0FWOgTlS",
        "outputId": "3ae559e3-ac73-4b68-c290-54789b117819"
      },
      "outputs": [
        {
          "output_type": "execute_result",
          "data": {
            "text/plain": [
              "0     WHITE HANGING HEART T-LIGHT HOLDER\n",
              "1                    WHITE METAL LANTERN\n",
              "2         CREAM CUPID HEARTS COAT HANGER\n",
              "3    KNITTED UNION FLAG HOT WATER BOTTLE\n",
              "4         RED WOOLLY HOTTIE WHITE HEART.\n",
              "Name: Description, dtype: object"
            ],
            "text/html": [
              "<div>\n",
              "<style scoped>\n",
              "    .dataframe tbody tr th:only-of-type {\n",
              "        vertical-align: middle;\n",
              "    }\n",
              "\n",
              "    .dataframe tbody tr th {\n",
              "        vertical-align: top;\n",
              "    }\n",
              "\n",
              "    .dataframe thead th {\n",
              "        text-align: right;\n",
              "    }\n",
              "</style>\n",
              "<table border=\"1\" class=\"dataframe\">\n",
              "  <thead>\n",
              "    <tr style=\"text-align: right;\">\n",
              "      <th></th>\n",
              "      <th>Description</th>\n",
              "    </tr>\n",
              "  </thead>\n",
              "  <tbody>\n",
              "    <tr>\n",
              "      <th>0</th>\n",
              "      <td>WHITE HANGING HEART T-LIGHT HOLDER</td>\n",
              "    </tr>\n",
              "    <tr>\n",
              "      <th>1</th>\n",
              "      <td>WHITE METAL LANTERN</td>\n",
              "    </tr>\n",
              "    <tr>\n",
              "      <th>2</th>\n",
              "      <td>CREAM CUPID HEARTS COAT HANGER</td>\n",
              "    </tr>\n",
              "    <tr>\n",
              "      <th>3</th>\n",
              "      <td>KNITTED UNION FLAG HOT WATER BOTTLE</td>\n",
              "    </tr>\n",
              "    <tr>\n",
              "      <th>4</th>\n",
              "      <td>RED WOOLLY HOTTIE WHITE HEART.</td>\n",
              "    </tr>\n",
              "  </tbody>\n",
              "</table>\n",
              "</div><br><label><b>dtype:</b> object</label>"
            ]
          },
          "metadata": {},
          "execution_count": 22
        }
      ],
      "source": [
        "dataset_modified_1 = dataset_modified_1.apply(clean_whitespace)\n",
        "dataset_modified_1.head()"
      ]
    },
    {
      "cell_type": "code",
      "execution_count": 23,
      "metadata": {
        "colab": {
          "base_uri": "https://localhost:8080/"
        },
        "id": "wxbclLjVfyA4",
        "outputId": "28f15d98-0bd5-45e1-ce2b-4c5a5f6687f8"
      },
      "outputs": [
        {
          "output_type": "execute_result",
          "data": {
            "text/plain": [
              "(3896,)"
            ]
          },
          "metadata": {},
          "execution_count": 23
        }
      ],
      "source": [
        "dataset_modified_1.shape"
      ]
    },
    {
      "cell_type": "code",
      "execution_count": 24,
      "metadata": {
        "colab": {
          "base_uri": "https://localhost:8080/",
          "height": 241
        },
        "id": "kOYrh4i5hBTu",
        "outputId": "9d3c023c-7578-4964-8972-172bdbabccad"
      },
      "outputs": [
        {
          "output_type": "execute_result",
          "data": {
            "text/plain": [
              "0     WHITE HANGING HEART T-LIGHT HOLDER\n",
              "1                    WHITE METAL LANTERN\n",
              "2         CREAM CUPID HEARTS COAT HANGER\n",
              "3    KNITTED UNION FLAG HOT WATER BOTTLE\n",
              "4         RED WOOLLY HOTTIE WHITE HEART.\n",
              "Name: Description, dtype: object"
            ],
            "text/html": [
              "<div>\n",
              "<style scoped>\n",
              "    .dataframe tbody tr th:only-of-type {\n",
              "        vertical-align: middle;\n",
              "    }\n",
              "\n",
              "    .dataframe tbody tr th {\n",
              "        vertical-align: top;\n",
              "    }\n",
              "\n",
              "    .dataframe thead th {\n",
              "        text-align: right;\n",
              "    }\n",
              "</style>\n",
              "<table border=\"1\" class=\"dataframe\">\n",
              "  <thead>\n",
              "    <tr style=\"text-align: right;\">\n",
              "      <th></th>\n",
              "      <th>Description</th>\n",
              "    </tr>\n",
              "  </thead>\n",
              "  <tbody>\n",
              "    <tr>\n",
              "      <th>0</th>\n",
              "      <td>WHITE HANGING HEART T-LIGHT HOLDER</td>\n",
              "    </tr>\n",
              "    <tr>\n",
              "      <th>1</th>\n",
              "      <td>WHITE METAL LANTERN</td>\n",
              "    </tr>\n",
              "    <tr>\n",
              "      <th>2</th>\n",
              "      <td>CREAM CUPID HEARTS COAT HANGER</td>\n",
              "    </tr>\n",
              "    <tr>\n",
              "      <th>3</th>\n",
              "      <td>KNITTED UNION FLAG HOT WATER BOTTLE</td>\n",
              "    </tr>\n",
              "    <tr>\n",
              "      <th>4</th>\n",
              "      <td>RED WOOLLY HOTTIE WHITE HEART.</td>\n",
              "    </tr>\n",
              "  </tbody>\n",
              "</table>\n",
              "</div><br><label><b>dtype:</b> object</label>"
            ]
          },
          "metadata": {},
          "execution_count": 24
        }
      ],
      "source": [
        "dataset_modified_1.head()"
      ]
    },
    {
      "cell_type": "markdown",
      "metadata": {
        "id": "lEYzchD9SmR1"
      },
      "source": [
        "#Load the embedding model 'all-MiniLM-L6-v2' from sentence-transformer\n",
        " * Output embedding size is 384"
      ]
    },
    {
      "cell_type": "code",
      "execution_count": 25,
      "metadata": {
        "colab": {
          "base_uri": "https://localhost:8080/",
          "height": 498,
          "referenced_widgets": [
            "3ccd690df71b49f297617dde4e5a7446",
            "7c801fdab48246a48277df829a29395b",
            "5209b5050ed74e55a880bc910bf867b4",
            "8f68042cb5f8443fa9d7988b5ec754e4",
            "1d94cfbcd1484b84b1835b15d14a35c9",
            "d7162aa4b4d44df8aefd2c83bca6450a",
            "cf9ff2e756ae4b5eb4497efae84dffa9",
            "ef01f20fd1854c8da252ebd1c94fea70",
            "eef07f8644ad4660ab12ccf0f8ac3ddb",
            "b766447439af4100857613209021a41e",
            "98ef1536046e4c0c92e3e108b2422df1",
            "57da4f745159498eaf148b854cde4f39",
            "86cbbc5899ea47e3bc733ebd2e3e2990",
            "0ee604fe9f5045759d13c03355bcac03",
            "d93ac13ac48c40c188d9d8e176b7c775",
            "32f296b4ddb64b82b8ae37b2f9720273",
            "94e480d2e953427fac73e8ad19b31c8c",
            "7d24f692ac634a10a095ed3f8db7c061",
            "ae408431d9bf4edc88000e5e0b1d332e",
            "594fef2c468c4bab93a60e998e8639d4",
            "cf7221cc3f564774a2a60dfd85763c19",
            "7eedeba2dc8c4431be14aaa15eef7b01",
            "62b255c159fa4c2bbd8f6148928653aa",
            "7778d7699d134d039e342a504e9f3b45",
            "30ef4634024b4cdda54463e4480d7caf",
            "49eda9212a764f63916ab98f01041a0a",
            "9e8b860a25a845e18f8fa36755e7b514",
            "42ddbb5d16074ccaa3ec1fb841a5a8b1",
            "1861b560afda4373859e5604cfe51dcb",
            "88485cb1de3b40258b99e283714438d6",
            "75202eb60ca3499595f4343567abdf65",
            "5539b377de6847a8a7f26344f8f91dec",
            "ea2396855f6647c094062c8d16c26dfb",
            "300487d9c6324478b4347c840ed13b39",
            "6b913defa1714a59a0c1700c73418fe3",
            "9ec1537449bd466d8312799e52a5b115",
            "09fa86dc760d471d9dff427a0b901e37",
            "c02979976cad4316a47b5e7abe37cea7",
            "45a98a70a2764e0288c3af888b119c1c",
            "f5344daaa5f548268fe8173a09a446c8",
            "791776cdfd934a31bb1628439af799bb",
            "2e273ddb9b664f2e9d06c924b0fabeac",
            "9fe21c0b5f5f44fc96771b02e3792321",
            "47b1b6be05094d4f8b927acc5ea9aecc",
            "e9154be6c3cd4094ab3ee94d07997a82",
            "f2d80533f1344f9fac8a70889a1e54f5",
            "2dbbbabf0a4d4902808e468e03652b13",
            "692113e99d574084bdfd25a57eac4e9f",
            "07988804379843c4b20561eba49e0aea",
            "d256cedd6f4042fb9799c543a46ccee1",
            "84a02413d12f409c81802a2109243173",
            "c2217f76a7b449c7883635cdbfc844ef",
            "a24067c324db49dfa5452b3e36e926c1",
            "30e83f1b6914419a8237660bb640927a",
            "23e6c4968742489f8bed5ae06261ba29",
            "9eaad31b8d264cbfb31c62a5446ef950",
            "9e164dcee8ca43c3afbdc89beea4d650",
            "fd67233152094d15bb74734b90c2d0c5",
            "ca5d2c7e68d144589e67dec0ddc79bc6",
            "5df8d762c83244ce99e35b8e692ffd20",
            "8426d292a32943a4a24fa7462fcc0a2d",
            "a9b7f91236a64c9faca4179bdc5cbd17",
            "db4a624ca7c94be59f1450dd454e5e5a",
            "e1d433282e844ce9be04bd7ec64826bb",
            "689533478cd94faf8a5ee1132afb35f9",
            "fc7e508085444165bf51665951d6a906",
            "15d63bed0f434631b8994bf63c787144",
            "11b8ad717f6048c6b591738d62e795f7",
            "9dace44420234e918c2180788b39f120",
            "a0cb011407b54240806cab5948f85b4c",
            "3829c99f4a8c4fa3b69c692cedda2d0f",
            "ed620adc03084b5b8f3612682172505d",
            "b6d3e59bbedb40ff814d3710d0c2c68a",
            "06f9ab32504c4848abd96d40831b0949",
            "f9d13c84d5cf4adf9b1c5a09a397594a",
            "21365204c5b14d9a9c8e60a0662d5395",
            "dcbb9e1586414aa0a57f4d11b0e5eaeb",
            "1cc3128a912c4b4db75125cd8723bc1a",
            "4f7fe43bb22a4462b76ab616c882f3ee",
            "297ba484ca5b49eeb620690d4658e9ac",
            "6ec898ec82b2480d927c1e8f2407e550",
            "2d3eb8821ff149d0a758b813cdd205e7",
            "7251a214939147de9a1e391d9ba44fb6",
            "c3bc4c6ca3654aeaa36a9e7528e5a66b",
            "47819a4feeac4c37a081655b99bdaee3",
            "185b3c632471471c90bc6ed3ae1df087",
            "938e70f5a40842dbabfd99da4829aeac",
            "d6bc9e94e2774972a8070c76308dc72a",
            "9564794817a4417bb29f622dee974fff",
            "62c3b6b111c441b186798ebda0af7043",
            "5565d3d9f7a74ce5aa10c265010508d5",
            "aa8c4d08c149487c931c777d50d8cc80",
            "38322e61af9d4f06874afb473a35fcde",
            "8be7e21367a94e61835f9848be3caed1",
            "54ceb6304e804eacbe3d6c6dd39023c5",
            "762b60a28c8344159d88cdff8ba21d7e",
            "d3b8bf930ec04d85bd50ba42b2b00fd8",
            "b15ac23b069d43a0aa0aa0d7f2154080",
            "172051bb5ef445a38552957fbfc56272",
            "f23e23ef4bb744458d4bee3d946a5abc",
            "cb88c90479aa42119abc7c43ddb47a6e",
            "0321b490f9da47e5a7753e1e8fe68a20",
            "97a84213c670428aa5d776e7b4f82e34",
            "92bdf236086c497f8c8b568ba8908379",
            "2772c47b830a4aa5b10253dd2fdd9b19",
            "b91847a709984b17b1430e361993d6e8",
            "ad5e443e43ff47b5a296d292591366c6",
            "e332c233638c4f94977c2b7797861ff2",
            "78caedd1a066465ab9c7c44ee5433115",
            "75fd2e08397241358744792fae4ccd57",
            "96d8619a109d48ed9ddce6d95777fd73",
            "80f70b80961c4e24b31518443e7149a1",
            "b1613ac95f48493dba8ac3f2994271a0",
            "a57bd094f50e4eb98c9aec5d4957937f",
            "0ab2201d1fc94f1193a27b2534b80ee2",
            "ffb98b0317c647f680c60d0e31a73af7",
            "f137e3c4398744aa9fa8d37fdb22d99b",
            "564a2e520a8e4d98a1c475a8ee16feba",
            "41bbbe1cd5f541ba91dd6ce9eca985a9",
            "8eba1e789c0a498ab9e5f84a85d17d7d",
            "145ee7bb8d9e40f7adc05afce4e92596"
          ]
        },
        "id": "t1JLYY40hDcP",
        "outputId": "564122b5-55a1-4132-ffba-41f8f20556a6"
      },
      "outputs": [
        {
          "output_type": "stream",
          "name": "stderr",
          "text": [
            "/usr/local/lib/python3.11/dist-packages/huggingface_hub/utils/_auth.py:94: UserWarning: \n",
            "The secret `HF_TOKEN` does not exist in your Colab secrets.\n",
            "To authenticate with the Hugging Face Hub, create a token in your settings tab (https://huggingface.co/settings/tokens), set it as secret in your Google Colab and restart your session.\n",
            "You will be able to reuse this secret in all of your notebooks.\n",
            "Please note that authentication is recommended but still optional to access public models or datasets.\n",
            "  warnings.warn(\n"
          ]
        },
        {
          "output_type": "display_data",
          "data": {
            "text/plain": [
              "modules.json:   0%|          | 0.00/349 [00:00<?, ?B/s]"
            ],
            "application/vnd.jupyter.widget-view+json": {
              "version_major": 2,
              "version_minor": 0,
              "model_id": "3ccd690df71b49f297617dde4e5a7446"
            }
          },
          "metadata": {}
        },
        {
          "output_type": "display_data",
          "data": {
            "text/plain": [
              "config_sentence_transformers.json:   0%|          | 0.00/116 [00:00<?, ?B/s]"
            ],
            "application/vnd.jupyter.widget-view+json": {
              "version_major": 2,
              "version_minor": 0,
              "model_id": "57da4f745159498eaf148b854cde4f39"
            }
          },
          "metadata": {}
        },
        {
          "output_type": "display_data",
          "data": {
            "text/plain": [
              "README.md:   0%|          | 0.00/10.5k [00:00<?, ?B/s]"
            ],
            "application/vnd.jupyter.widget-view+json": {
              "version_major": 2,
              "version_minor": 0,
              "model_id": "62b255c159fa4c2bbd8f6148928653aa"
            }
          },
          "metadata": {}
        },
        {
          "output_type": "display_data",
          "data": {
            "text/plain": [
              "sentence_bert_config.json:   0%|          | 0.00/53.0 [00:00<?, ?B/s]"
            ],
            "application/vnd.jupyter.widget-view+json": {
              "version_major": 2,
              "version_minor": 0,
              "model_id": "300487d9c6324478b4347c840ed13b39"
            }
          },
          "metadata": {}
        },
        {
          "output_type": "display_data",
          "data": {
            "text/plain": [
              "config.json:   0%|          | 0.00/612 [00:00<?, ?B/s]"
            ],
            "application/vnd.jupyter.widget-view+json": {
              "version_major": 2,
              "version_minor": 0,
              "model_id": "e9154be6c3cd4094ab3ee94d07997a82"
            }
          },
          "metadata": {}
        },
        {
          "output_type": "display_data",
          "data": {
            "text/plain": [
              "model.safetensors:   0%|          | 0.00/90.9M [00:00<?, ?B/s]"
            ],
            "application/vnd.jupyter.widget-view+json": {
              "version_major": 2,
              "version_minor": 0,
              "model_id": "9eaad31b8d264cbfb31c62a5446ef950"
            }
          },
          "metadata": {}
        },
        {
          "output_type": "display_data",
          "data": {
            "text/plain": [
              "tokenizer_config.json:   0%|          | 0.00/350 [00:00<?, ?B/s]"
            ],
            "application/vnd.jupyter.widget-view+json": {
              "version_major": 2,
              "version_minor": 0,
              "model_id": "15d63bed0f434631b8994bf63c787144"
            }
          },
          "metadata": {}
        },
        {
          "output_type": "display_data",
          "data": {
            "text/plain": [
              "vocab.txt:   0%|          | 0.00/232k [00:00<?, ?B/s]"
            ],
            "application/vnd.jupyter.widget-view+json": {
              "version_major": 2,
              "version_minor": 0,
              "model_id": "1cc3128a912c4b4db75125cd8723bc1a"
            }
          },
          "metadata": {}
        },
        {
          "output_type": "display_data",
          "data": {
            "text/plain": [
              "tokenizer.json:   0%|          | 0.00/466k [00:00<?, ?B/s]"
            ],
            "application/vnd.jupyter.widget-view+json": {
              "version_major": 2,
              "version_minor": 0,
              "model_id": "9564794817a4417bb29f622dee974fff"
            }
          },
          "metadata": {}
        },
        {
          "output_type": "display_data",
          "data": {
            "text/plain": [
              "special_tokens_map.json:   0%|          | 0.00/112 [00:00<?, ?B/s]"
            ],
            "application/vnd.jupyter.widget-view+json": {
              "version_major": 2,
              "version_minor": 0,
              "model_id": "f23e23ef4bb744458d4bee3d946a5abc"
            }
          },
          "metadata": {}
        },
        {
          "output_type": "display_data",
          "data": {
            "text/plain": [
              "config.json:   0%|          | 0.00/190 [00:00<?, ?B/s]"
            ],
            "application/vnd.jupyter.widget-view+json": {
              "version_major": 2,
              "version_minor": 0,
              "model_id": "96d8619a109d48ed9ddce6d95777fd73"
            }
          },
          "metadata": {}
        }
      ],
      "source": [
        "embed_model=SentenceTransformer(\"sentence-transformers/all-MiniLM-L6-v2\")"
      ]
    },
    {
      "cell_type": "markdown",
      "metadata": {
        "id": "QI54ay0iS0mt"
      },
      "source": [
        "# Generated the embeddings of the dataset or each rows of the dataset or the Descriptions\n",
        "* it has rows = 3896\n",
        "* each output embedding size is 384\n",
        "* Hence the output matrix shape is [3896,384]\n",
        "* Here batch size = 32 we have considered.\n",
        "* In one batch 32 rows are getting embedded. So no of batches 3896/32 = 122"
      ]
    },
    {
      "cell_type": "code",
      "execution_count": 26,
      "metadata": {
        "colab": {
          "base_uri": "https://localhost:8080/",
          "height": 49,
          "referenced_widgets": [
            "75f074149b4c4c8f86b614b6b71c2844",
            "04a4a4e6f02748fb990c86f26d135781",
            "22578226745d43238ec50d9b5ad4a248",
            "1efd11ece08841ff9debdf6be58a81bf",
            "cfb5309b4d6f4cb9a178f2efb908e9bc",
            "994cd509b74144aa8ca2821853977f21",
            "88534661b0724afe944a9f04cec7a816",
            "54d769f6324c4e4a8a75aa39464b4833",
            "eb970be7af04445cb944899ee316b45a",
            "e98e3e70460a4a2faa5e81a43f595d85",
            "4a6e579893bb41899296849ebea85215"
          ]
        },
        "id": "OOSrdADVhyPf",
        "outputId": "80579f0a-51e9-42a9-bc3d-453e777d8b8f"
      },
      "outputs": [
        {
          "output_type": "display_data",
          "data": {
            "text/plain": [
              "Batches:   0%|          | 0/122 [00:00<?, ?it/s]"
            ],
            "application/vnd.jupyter.widget-view+json": {
              "version_major": 2,
              "version_minor": 0,
              "model_id": "75f074149b4c4c8f86b614b6b71c2844"
            }
          },
          "metadata": {}
        }
      ],
      "source": [
        "embeddings=embed_model.encode(dataset_modified_1,batch_size=32,show_progress_bar=True,convert_to_tensor=True)"
      ]
    },
    {
      "cell_type": "code",
      "execution_count": 27,
      "metadata": {
        "colab": {
          "base_uri": "https://localhost:8080/"
        },
        "id": "S7fYOONdiYXy",
        "outputId": "2bbfbf0a-e281-4fbc-ea16-2c765be25e58"
      },
      "outputs": [
        {
          "output_type": "execute_result",
          "data": {
            "text/plain": [
              "torch.Size([3896, 384])"
            ]
          },
          "metadata": {},
          "execution_count": 27
        }
      ],
      "source": [
        "embeddings.shape"
      ]
    },
    {
      "cell_type": "markdown",
      "metadata": {
        "id": "cN7OIkusrYeW"
      },
      "source": [
        "# Created a function which will normalize the embeddings\n",
        "* this will help to have the cosine similarity between two embedding vectors.\n",
        "* Cosine similarity between two vectors A and B is:\n",
        "![image.png](data:image/png;base64,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)\n",
        "\n",
        "\n",
        "* A.B is the dot product of the vectors\n",
        "* ||A|| and ||B|| are the magnitudes of the vectors\n",
        "* The similarity value 1 ->  Vectors point in the same direction (perfectly similar)\n",
        "* The similarity value 0 -> Vectors are orthogonal (completely dissimilar)"
      ]
    },
    {
      "cell_type": "code",
      "execution_count": 28,
      "metadata": {
        "id": "o-3CG9ifq20U"
      },
      "outputs": [],
      "source": [
        "def normalise_vector(vecs):\n",
        "  norms = np.linalg.norm(vecs, axis=-1, keepdims=True)\n",
        "  return vecs / norms"
      ]
    },
    {
      "cell_type": "markdown",
      "metadata": {
        "id": "3WSbb57TeDZK"
      },
      "source": [
        "# creating the list of the rows of the dataset. This list contains all the descriptions."
      ]
    },
    {
      "cell_type": "code",
      "execution_count": 29,
      "metadata": {
        "id": "GbFem8OrsRUg"
      },
      "outputs": [],
      "source": [
        "texts= dataset_modified_1.tolist()"
      ]
    },
    {
      "cell_type": "markdown",
      "metadata": {
        "id": "UYAGMPwteRY2"
      },
      "source": [
        "# Normalize the embeddings"
      ]
    },
    {
      "cell_type": "code",
      "execution_count": 30,
      "metadata": {
        "id": "mgmkGYiysVQ0"
      },
      "outputs": [],
      "source": [
        "normalize_embeddings=normalise_vector(np.array(embeddings)).astype('float32')"
      ]
    },
    {
      "cell_type": "code",
      "execution_count": 31,
      "metadata": {
        "colab": {
          "base_uri": "https://localhost:8080/"
        },
        "id": "Y709ovpds6zG",
        "outputId": "b2d02e13-fc35-4b47-aa63-b078c6778820"
      },
      "outputs": [
        {
          "output_type": "execute_result",
          "data": {
            "text/plain": [
              "(3896, 384)"
            ]
          },
          "metadata": {},
          "execution_count": 31
        }
      ],
      "source": [
        "normalize_embeddings.shape"
      ]
    },
    {
      "cell_type": "markdown",
      "metadata": {
        "id": "llWVUP7Debaz"
      },
      "source": [
        "# Creating the Faiss Index using the inner product (Cosine similarity of normalise vectors)"
      ]
    },
    {
      "cell_type": "code",
      "execution_count": 33,
      "metadata": {
        "id": "I8IT1IS0ioxh"
      },
      "outputs": [],
      "source": [
        "index_faiss=faiss.IndexFlatIP(normalize_embeddings.shape[1])\n",
        "index_faiss.add(normalize_embeddings)"
      ]
    },
    {
      "cell_type": "markdown",
      "metadata": {
        "id": "rO5TEp4frYfG"
      },
      "source": [
        "# Store the Index into the disk"
      ]
    },
    {
      "cell_type": "code",
      "execution_count": 34,
      "metadata": {
        "id": "X7s0cuGcviN4"
      },
      "outputs": [],
      "source": [
        "faiss.write_index(index_faiss,\"/content/drive/MyDrive/capstone_lumen/faiss_index.faiss\")"
      ]
    },
    {
      "cell_type": "markdown",
      "metadata": {
        "id": "dqn53T29rYfI"
      },
      "source": [
        "# Read the Index from the Disk"
      ]
    },
    {
      "cell_type": "code",
      "execution_count": 35,
      "metadata": {
        "id": "lDd7nc5Rv7Hg"
      },
      "outputs": [],
      "source": [
        "faiss_index=faiss.read_index(\"/content/drive/MyDrive/capstone_lumen/faiss_index.faiss\")   # read the index from the disk"
      ]
    },
    {
      "cell_type": "markdown",
      "metadata": {
        "id": "xhpuBXzJrYfN"
      },
      "source": [
        "# Ask Query → Convert Query to Embedding → Search in Vector Database (Faiss Index) → Retrieve Top-k Relevant Vectors/Documents\n",
        "* Similarity is measured using cosine similarity, so a higher score indicates that the document is more similar to the query."
      ]
    },
    {
      "cell_type": "code",
      "execution_count": 36,
      "metadata": {
        "colab": {
          "base_uri": "https://localhost:8080/"
        },
        "id": "sW-NCEwpwGV4",
        "outputId": "b712dcdb-d4c6-4a64-ba7d-7012e3735dfb"
      },
      "outputs": [
        {
          "output_type": "stream",
          "name": "stdout",
          "text": [
            "Nearest intem indices: [[3891 3263 3261 1901 2787]]\n",
            "Nearest item distances: [[1.         0.8369267  0.83217824 0.83146894 0.8251783 ]]\n"
          ]
        }
      ],
      "source": [
        "Query1='LETTER \"W\" BLING KEY RING'\n",
        "embed_query1=embed_model.encode([Query1])\n",
        "k=5\n",
        "distances,indices=faiss_index.search(embed_query1,k)\n",
        "print(f\"Nearest intem indices:\",indices)\n",
        "print(f\"Nearest item distances:\",distances)"
      ]
    },
    {
      "cell_type": "code",
      "execution_count": 37,
      "metadata": {
        "colab": {
          "base_uri": "https://localhost:8080/"
        },
        "id": "a0FM86mkwkie",
        "outputId": "4ba4f862-c9b9-41be-f381-306c45c44a1c"
      },
      "outputs": [
        {
          "output_type": "stream",
          "name": "stdout",
          "text": [
            "LETTER \"W\" BLING KEY RING\n",
            "LETTER \"H\" BLING KEY RING\n",
            "LETTER \"L\" BLING KEY RING\n",
            "LETTER \"B\" BLING KEY RING\n",
            "LETTER \"A\" BLING KEY RING\n"
          ]
        }
      ],
      "source": [
        "indices= indices.flatten().tolist()\n",
        "for i in indices:\n",
        "  print(dataset_modified_1[i])"
      ]
    },
    {
      "cell_type": "code",
      "execution_count": 38,
      "metadata": {
        "colab": {
          "base_uri": "https://localhost:8080/"
        },
        "id": "qOpxcAOaxDh0",
        "outputId": "5a082a45-7b15-492e-dc36-acb641f5ad63"
      },
      "outputs": [
        {
          "output_type": "stream",
          "name": "stdout",
          "text": [
            "WHITE HANGING HEART T-LIGHT HOLDER\n",
            "PINK HANGING HEART T-LIGHT HOLDER\n",
            "RED HANGING HEART T-LIGHT HOLDER\n",
            "CREAM HANGING HEART T-LIGHT HOLDER\n"
          ]
        }
      ],
      "source": [
        "#query2=\"Keychain with Alphabet 'W' in Bling Style\"\n",
        "query2=\"colourful heart-shaped hanging light holder\"\n",
        "#query2=\"holder\"\n",
        "embed_query2=embed_model.encode([query2])\n",
        "k=4\n",
        "distances_q2,indices_q2=faiss_index.search(embed_query2,k)\n",
        "# print(f\"Nearest item indices for query 2:\",indices_q2)\n",
        "# print(f\"Nearest item distances for query2:\",distances_q2)\n",
        "indices_q2= indices_q2.flatten().tolist()\n",
        "for i in indices_q2:\n",
        "  print(dataset_modified_1[i])"
      ]
    },
    {
      "cell_type": "markdown",
      "metadata": {
        "id": "U4nIV-GJrYfW"
      },
      "source": [
        "# Calculated the Precision and Recall\n",
        "* Precision = Of the items recommended, how many are actually relevant?\n",
        "        --  [TP/ (TP+FP)] ; TP = True Positives, FP = False Positives\n",
        "* Recall = Of all relevant items, how many were actually recommended?\n",
        "        -- [TP / (TP+FN)] ; FN = False Negatives\n",
        "* In recommender systems, high precision means recommendations are usually relevant, and high recall means most relevant items are being recommended.\n",
        "* Since we are selecting the top-k results, increasing the value of k can improve both precision and recall — particularly when the number of ground truth relevant items exceeds k."
      ]
    },
    {
      "cell_type": "code",
      "execution_count": 39,
      "metadata": {
        "colab": {
          "base_uri": "https://localhost:8080/"
        },
        "id": "UAxPAl1LFJZh",
        "outputId": "c168dca2-4272-4bc2-9988-defca5609289"
      },
      "outputs": [
        {
          "output_type": "stream",
          "name": "stdout",
          "text": [
            "Precision@4: 1.00\n",
            "Recall@4: 1.00\n"
          ]
        }
      ],
      "source": [
        "retrieved_set=set(indices_q2)\n",
        "#retrieved_indices\n",
        "relevant_set=set([3894,0,58,3759])# in the dataset only 4 are relevant items or ground truth\n",
        "true_positives = retrieved_set & relevant_set\n",
        "\n",
        "precision = len(true_positives) / len(retrieved_set)\n",
        "recall = len(true_positives) / len(relevant_set)\n",
        "\n",
        "print(f\"Precision@4: {precision:.2f}\")\n",
        "print(f\"Recall@4: {recall:.2f}\")"
      ]
    },
    {
      "cell_type": "markdown",
      "metadata": {
        "id": "5E90_2CGrYfZ"
      },
      "source": [
        "# Here we have selected k=24 because in our dataset total 24 are ground truth values for the below query.\n",
        "** So for k=24 the Precision and Recall are the highest = 0.83"
      ]
    },
    {
      "cell_type": "code",
      "execution_count": 40,
      "metadata": {
        "colab": {
          "base_uri": "https://localhost:8080/"
        },
        "id": "VgrNxSs763-G",
        "outputId": "c5bfb533-d47c-4a1e-f3ce-678397a06b44"
      },
      "outputs": [
        {
          "output_type": "stream",
          "name": "stdout",
          "text": [
            "WRAP ALPHABET DESIGN\n",
            "ALPHABET STENCIL CRAFT\n",
            "LETTER \"A\" BLING KEY RING\n",
            "LETTER \"N\" BLING KEY RING\n",
            "LETTER \"C\" BLING KEY RING\n",
            "LETTER \"S\" BLING KEY RING\n",
            "LETTER \"K\" BLING KEY RING\n",
            "LETTER \"L\" BLING KEY RING\n",
            "LETTER \"H\" BLING KEY RING\n",
            "TRADTIONAL ALPHABET STAMP SET\n",
            "LETTER \"Z\" BLING KEY RING\n",
            "LETTER \"I\" BLING KEY RING\n",
            "LETTER \"U\" BLING KEY RING\n",
            "LETTER \"D\" BLING KEY RING\n",
            "LETTER \"F\" BLING KEY RING\n",
            "LETTER \"Y\" BLING KEY RING\n",
            "LETTER \"J\" BLING KEY RING\n",
            "LETTER \"O\" BLING KEY RING\n",
            "LETTER \"W\" BLING KEY RING\n",
            "LETTER \"T\" BLING KEY RING\n",
            "LETTER \"B\" BLING KEY RING\n",
            "LETTER \"E\" BLING KEY RING\n",
            "DINOSAUR KEYRINGS ASSORTED\n",
            "LETTER \"G\" BLING KEY RING\n"
          ]
        }
      ],
      "source": [
        "query4=\"Keychain with alphabet\"\n",
        "embed_query4=embed_model.encode([query4])\n",
        "k=24\n",
        "distances_q4,indices_q4=faiss_index.search(embed_query4,k)\n",
        "# print(f\"Nearest item indices for query 4:\",indices_q4)\n",
        "# print(f\"Nearest item distances for query4:\",distances_q4)\n",
        "indices_q4= indices_q4.flatten().tolist()\n",
        "for i in indices_q4:\n",
        "  print(dataset_modified_1[i])"
      ]
    },
    {
      "cell_type": "markdown",
      "metadata": {
        "id": "hmL9G18HrYff"
      },
      "source": [
        "** Relevant items in our dataset for the above query4=\"Keychain with alphabet\""
      ]
    },
    {
      "cell_type": "code",
      "execution_count": 41,
      "metadata": {
        "colab": {
          "base_uri": "https://localhost:8080/"
        },
        "id": "8QqcJ7FyIHMJ",
        "outputId": "a222e1ab-c55b-4482-9992-b0bb1e3aa98f"
      },
      "outputs": [
        {
          "output_type": "stream",
          "name": "stdout",
          "text": [
            "Precision@24: 0.83\n",
            "Recall@24: 0.83\n"
          ]
        }
      ],
      "source": [
        "query4_relevant_index=[906,907,908,909,1900,1901,1902,2402,2593,2619,2787,2849,3174,3240,3261,3262,3263,3421,3887,3888,3889,3890,3891,3892]\n",
        "\n",
        "\n",
        "retrieved_set_q4=set(indices_q4)\n",
        "relevant_set_q4=set(query4_relevant_index)\n",
        "true_positives_q4 = retrieved_set_q4 & relevant_set_q4\n",
        "\n",
        "precision_q4 = len(true_positives_q4) / len(retrieved_set_q4)\n",
        "recall_q4 = len(true_positives_q4) / len(relevant_set_q4)\n",
        "\n",
        "print(f\"Precision@24: {precision_q4:.2f}\")\n",
        "print(f\"Recall@24: {recall_q4:.2f}\")"
      ]
    },
    {
      "cell_type": "markdown",
      "metadata": {
        "id": "VpbFNsBHrYfh"
      },
      "source": [
        "# Check Precision and Recall when K=5 and get the precision = 0.60 and Recall = 0.12"
      ]
    },
    {
      "cell_type": "code",
      "execution_count": 42,
      "metadata": {
        "colab": {
          "base_uri": "https://localhost:8080/"
        },
        "id": "T6z5rha9rYfi",
        "outputId": "05264b55-7510-42d9-af8d-c596ba1b58b5"
      },
      "outputs": [
        {
          "output_type": "stream",
          "name": "stdout",
          "text": [
            "WRAP ALPHABET DESIGN\n",
            "ALPHABET STENCIL CRAFT\n",
            "LETTER \"A\" BLING KEY RING\n",
            "LETTER \"N\" BLING KEY RING\n",
            "LETTER \"C\" BLING KEY RING\n"
          ]
        }
      ],
      "source": [
        "query4=\"Keychain with alphabet\"\n",
        "embed_query4=embed_model.encode([query4])\n",
        "k=5\n",
        "distances_q4,indices_q4=faiss_index.search(embed_query4,k)\n",
        "# print(f\"Nearest item indices for query 4:\",indices_q4)\n",
        "# print(f\"Nearest item distances for query4:\",distances_q4)\n",
        "indices_q4= indices_q4.flatten().tolist()\n",
        "for i in indices_q4:\n",
        "  print(dataset_modified_1[i])"
      ]
    },
    {
      "cell_type": "code",
      "execution_count": 43,
      "metadata": {
        "colab": {
          "base_uri": "https://localhost:8080/"
        },
        "id": "BSZL7JBmrYfj",
        "outputId": "4459e905-7dd0-458f-c50e-26b19c1e3f9c"
      },
      "outputs": [
        {
          "output_type": "stream",
          "name": "stdout",
          "text": [
            "Precision@4: 0.60\n",
            "Recall@4: 0.12\n"
          ]
        }
      ],
      "source": [
        "retrieved_set_q4=set(indices_q4)\n",
        "relevant_set_q4=set(query4_relevant_index)\n",
        "true_positives_q4 = retrieved_set_q4 & relevant_set_q4\n",
        "\n",
        "precision_q4 = len(true_positives_q4) / len(retrieved_set_q4)\n",
        "recall_q4 = len(true_positives_q4) / len(relevant_set_q4)\n",
        "\n",
        "print(f\"Precision@4: {precision_q4:.2f}\")\n",
        "print(f\"Recall@4: {recall_q4:.2f}\")"
      ]
    },
    {
      "cell_type": "markdown",
      "source": [
        "# BM25 Or Keyword Search\n",
        "![image.png](data:image/png;base64,iVBORw0KGgoAAAANSUhEUgAAA0AAAADKCAYAAACMoCBhAAAAAXNSR0IArs4c6QAAAARnQU1BAACxjwv8YQUAAAAJcEhZcwAAEnQAABJ0Ad5mH3gAAGjOSURBVHhe7Z0HnNXE2ocHEFAUGwpXL3bRKwpiw4LlqljvFbsoYgEVK58KiL0rdrB3VLAi2C9YUEQRFBt2sWDFgoIKogjC5sszm1my2eSU3Zzds3v+z8/Injk5ySSZzLzvvGUaeT5GCCGEEEIIIUqAxsG/QgghhBBCCNHgkQIkhBBCCCGEKBmkAAkhhBBCCCFKBilAQgghhBBCiJJBCpAQQgghhBCiZJACJIQQQgghhCgZpAAJIYQQQgghSgYpQEIIIYQQQoiSQQqQEEIIIYQQomSQAiSEEEIIIYQoGaQACSGEEEIIIUoGKUBCCCGEEEKIkkEKkBBCCCGEEKJkkAIkhBBCCCGEKBkaeT7B36ky5btF5u9FNT/0In/bsM0SZtnm5Z+FEEIIIYQQorqkrgDdOG6Oefnzv02jFs1NoyY1MzA1amRM06bGNGveyKyxfBMzYKtmZqklgi+FEEIIIYQQIk9SVYBe+PgvM/jJmaZFm5ZmyVYtTOMUFKBmzYxZ0leAmviK0BpmgTllyyWDb4UQQgghhBAiP1KNARr58q8Gdcor84y3qPLW2C/b6R+NzMpNq37H1sj/vnMrY7r6+7RsXF5WttAzCxd45u+//W2+MZ/OwCFOCFFf+PHHH0379u3Nsssua7c999zT/PHHH8G3QgghhBC1T6oK0B/zFlnlpyxQXhYFG38fu0ET07NdY7N168YV5eHttI5NzHHtm5ge/j6XdV7CtG5WXr5gvmfm/1lm5s8rM7PnlgVnyo933nnHtGnTpkIIi27LL7+86dSpk7n44outwBYl6ff77ruvmTdvXrBXVb7//nuz4YYbVvldnBDIcUaOHGl22mkn06pVq4p9+f2gQYPM77//HuxZmaeffrrSseO26gidixYtMpMnTza9evUya6+9dqXjrb766raejzzyiFm4cGHwi9IgKtAnbbQX2o0QQgghhCguCpMFDitQaDtkvSZmi9aN7Fd4xYW/Y2P/5Zs3Mp/+5pmRny8yLZoas3PbJhXf/+3L2H/NK1eGCkFZWZn54osvzFVXXWU23nhj8+yzzwbfZObNN980X375ZfCpKgjA3377bfApGY6z7rrrmqOOOsr+/ffffwffGPv7yy+/3Gy55ZbmvffeC0oXM23atOCv9JgxY4ZV7nbZZRer5MycOTP4ppzffvvN1nPo0KFm/vz5QakQQgghhBDFT8oKUEhBCWk4Ky9pzDxnKAiVu40wpNNeWWAufv1v89GsciuPVZci+/n/o7SgYIk5/fTTzfTp04OSZGbPnm1eeeWV4FNluKannnoq+JSZn3/+OdHC46A+p5xyipkzZ05QUk5YWUoDrr9v375m/PjxQYkQQgghhBANh/QtQFZXKVdq3DZkyt/m6rcWBDtU/d5tq7Qwpu/GTe0+L323MGYf+1WN2Xbbbc0PP/xglQkUi4EDBwbflIM16OOPPw4+VaZRo0ZmqaWWCj6Vu6DFucFx/Jdfftn+3bRpU/u7bOCq9uqrr5pff/3VblhflltuueBbY9566y27hcFVzXHhhRfaa4puY8aMMUsvvXSwV2Zee+21Shawxo0bm/PPP9/eJ45Fvbg31157rXWNK3Xatm1rPv300yr3HCsabpVCCCGEEKK4SFcBcgoK/2LICW+ZvvO3lk2M6bdpU7PiksaM+GSh+eo3f8fwPu53KUO8xkknnWQ22WSToCQzKGKbb7558CnZDS7s/rbRRhuZ1q1b27/jWGaZZcxDDz1kHnzwQRvz06RJE7vhgnbMMccEe5Wf+8MPPww+lfPZZ58Ff6UD9eY8jv3339/069fP3iegXv/85z9N7969zY033pizYiWEEEIIIUQxkLoFaLG1JroFO/iaTPS75k0803/zZuYfLRqZRz5baJ6cFmf98bcKLSpdFixYUClJwKqrrmrWW2+94FNVOnToYJZYonxBojg3OOoadn/beeedreKQxHbbbWetP3FWopYtWwZ/ZQfFJG2+++67rO55Ub7++mvTv39/s/7661ckBSDRxNZbb21eeumlYK9yuFcffPCBTbZAcgW3/z/+8Q9z4IEHWgWTfcLwrLhfbl+SEnz11Vfmsssuq0hWMXbs2GDvclAUjz/+eHtc9zviqlA6MyWySBPcFR9//PEqiS64T2eddVZsAo64LGpY404++WR7T2mr77//fux+PDfuN9dJGfsfeeSR9pkC35933nlmtdVWs99TpzPOOMP8+eef9nvHkCFDKo7LhtUzTDQRB/vnCud67LHHbMxZ+PnzN66Yrq5CCCGEEGmRvgscIK8itEa3hO+6r7eEWXf5cuG/w0qNzdlbNjP7rusrDJH97JYyv/zyi00ygBsT4PI1YMAAs8Yaa9jPcXTs2NEqQY6oG1zY/Q0XNlzFcB3LFwT/sACIgoSFyPHXX3+ZWbNmBZ/yU5aSQBgOM2nSJNOnTx+r1GQDAf/KK6+09+aOO+6w98FBogmsV2+//XZQUh5vdOqpp5ptttnGuvuRXMGBYIwrHsoC+2RSUjj2OeecYxUgt5/LTsc9vP32280WW2xh7r///krCPa58xx57rFW0qvN88gG3SlwvDz/88CqJLrhPWNN4tigDUYUvzNy5c83RRx9t7r77bnvduECG3SAdfIeb4l577VXhzknZo48+avbee2/r6ti1a1e7D0o8UKebb77ZKoppx5YlwbM94ogjzAsvvFDp+fP3sGHDzFZbbVXF7VMIIYQQoiYURgECZLjQ9v3cMrPAl9O+/K2synfv/rTIzAvkrfVWaGzat2ps2i2HAlT+faUtBbDYrLLKKnamec011zR33nmnLcfq88QTT9hsbJlYYYUVzO677x58quoGF3Z/w11unXXWsX/nC8rCiBEjgk/GtGvXrpIChOAbFui7d+9eMYPOObHC5DuDvsMOO5gNNtgg+FQOMUQoNfvtt1+sRQYou+mmm8wll1wSlGQGBQWrx1133RWUJMM+F1xwQaJiQLrxpIQTDz/8sFVoEf6TQFm96KKLCpbSm2dw0EEHJcaVOVA6sIRlSkDx7rvvWqU0G8SSkdUwDpR92kpSfUaPHm2mTJkSfKpbUM7OPfdcrR0khBBCiNRIOQbIF1CRUVkI1f/bLogabHP+8syRo/80r5HcIFTONuXHReaop/80PZ5cvF0x+a8q+2WaGU8DBNCpU6day0o2cGtr1qyZ/TvsBkcdw8L4HnvsUSlpQq68/vrr5oADDqiYnYfTTjstYyxRGDLLYYXZdNNNc07rDSuvvLK1AoSTLzief/55a5HZcccdzeeffx6UlsN9u+6664JP5WCpYD+SAvz000+2PrhhAcrdvffea/8G7hHfY9FiY02kcB0eeOCBjAoESh/WE+4X7nCdO3e2rmJYhRwkLODZuH1wu3JgGalOSnHOgeLsFE+3YVlyDB8+vMLCCFgQUWKoRzQJB4ra9ddfn2jxon2htPN77isKUZyCzX6HHXaYdY3Derf99tsH35SDxQt3N5I1oLCHj4FLKO2vNqC94YaHwsVz55p4NljlHFiA0o51E0IIIUTpUgALEEoKilDlre0yjczuay1h/rkMX1f9frWWjUybFvHfLd44fuHAioOSwew4glgm/vWvf1lB1uHc4L755hvz4osv2jIEeNye8gGrzq233moVp7B7G/EQWGDCEMOBsJgJ6sRvccHKlc0228y6SOE+FQfKC0qQu0545plnKtUXKxrucE5hW3LJJe19xcIB7I+g7WARWr4nYx7bbrvtZmf+HSgLmRS5q6++2iqluAmuuOKKNp6FdZPC142VBwuX2+e4446riOVCIeDZpQ2uXFyrgzaBSx6JMagHyhKWOuruQLn55JNPgk+VQemmffB7IKYpzvWRWCjacosWLazFknOEY8xQ2lBQUTxx0aSNhKktFzgshljoUMBo+1jLUMjC8Wy04bA7pRBCCCFETUhVAbL6SVhfCbZu7ZqaK3dayhzeoZn/bwvz79WXqLJPv85LmnO6LFWl3G1Or0qDcBpsBF/c3rAOOHBBwp0rEwiuZGlzOKH1jTfesC5ZgPvbWmutZf/OBdzZyEiHRcAJoMQkXXHFFVZ4RzEIw+z5hAkTKmbO2biu2267rZLVCStAvuv6IIASM0OAPZYE6hEGhQQBG4EVawOJDBwoFbh8OeUiCq5m4Rl96hrOrOcIJ5sArExxIODHpZz+6KOPgr/KIXNd2EqDkhV2eyuECxwKkGsPQKICAvzDcP3hLISZBH6UFZImZAN3SdqHg3uEEupgwd/w97iEhinEArtx0DZxhST2DGUZ98t99tnHxiYJIYQQQhSCwsQAWWUl0Fz8ba91m5kZf3jmtrf/MvN9GbNbu2aVvl/Zl9XbLN3ITJ9NfNDi8orNalXBMVOG7GxYM7AghMGdKmzRiCPs3obQiqsOwdyOfNzfUF569uxplQ4HStn//vc/G5Qel0WOMiwdYcWItNSHHHKIdaMKM3ny5OCv/CAZBMogCQzILBYGt66JEydaxS0ssFOfTNc9f/78Kvc2qmABx4gqfXFwzXEue7XhNpW0DhBKKKAA8dnBMwtbYhy5JrBYaaWVKiky1QXFMq4ejtqwANGmcKkkAQQKNW0A5RBLJ++kEEIIIUQhSFcBCnQVq6iULd7OG/+HOXfcH+bjnxeaP/72TAtCZ0Lft29VLtx/8NNC03vj5ubSf7eo9H35WkD+vwVQgBykEw4L7WTbyiYEMsuOu5gDpQkLEOTj/sZ5yGJGjI2DzGi4mOXrQufASpCr8pULWISGDh1apT5YgBDqcbUKkynpQPPmza3ilg2UyvAzyEUZCoOVJwwJJaKKSnhDYU0bYp6i9Ygjmmo8yXrWUMDads0119gYKMDah0KEJfGee+6x7olCCCGEEIUgdQsQKooz3Ljtuzll5q+Fnrmq6zKm1VKNzOvTWedn8fcbrFyuAG23RlOz7WpNzdorNDbrrNCk0j7+f/bfQkGwPgK3g8VJswncWB5w13HgjuaC3fNxfyOBwvDhw4NPxvz73/+22cuI46guCJPh68l1jSDOG05VHSZJccEiEb5WzkvmuKSkFQj3KI8O9o8LusdtL+yWRkKHfIhms8M6l1SnQuHW6nHgUhhNKY7yFXZRxF0t6iZXTLgMh44k18RMYPEJu00S0xRuo9FzCCGEEEKkRfoucFbA9DertSzeFvgK0ItflQe9r76cf9rQd0sEnjiULxXoHNuvvkSlfSq2lMHCwKKZxLOEQSCLc6uKgkXE7RcWrnN1fyPjHC5mzmKCcnDmmWfmZDV47rnn7Bo9uLe5zHX8y+Ke/fr1s5+BwPlw2u5MYNFBAeO4COvOAoOQTpa3cIY7XKhc7E23bt0qubGRAIHU1WR/A36Pksf6NUB9XBY9IAkCSQ44HxvWmnAcCPEqLBibD6whE36GJB8I14mgexJfcL/DCR3SBAUofO8R/Hk2JGegvbAOFXUivbijS5cuGdehqm2iyvMtt9xi3QupP0rl4MGDg29yh2eMldWBAswxeSa8j7QHIYQQQohCkLILXKAAWF2lPG11k0aeuX7PZcyhHZuboW/NMzP/9MyqyzSu+J7t5tf/NBeO/8Nu0+eUWWvP0LfnVdrHbuVHrzHhdYCwaOy///6VYlIQmk888cSc3JCwfEQD+PNxf+O84ZlwLB4E51O3uC28yj7C4kMPPWSTMRBAzvf8SwrmsPWnR48elYLsc4HjIohzfzgusS4XXnhhJdc2FCXSTQPKBot8hqGu6667bsXvSfDgFrukPtTLgWJA6mPOx3bMMcdUugaylHGsfCDTGanEw4TrhKWFZAAooLmkPq8uxHaF00yTMAPFkXYSXocKKCNjWxpxPmkRnQwgQQKun5SRShzlNl9QDEkI4XDH5JnwPlbnmEIIIYQQuZCqAuTrKOX/Ywvid8oWeaZp40Zmt3Wbm0E7L2NWatHITPtlUcX3bAsXeuajH/+227y/PWMNQqHvK20FBqsNAmk4ticT7B+NHcnH/Y31eshEVygOPfRQc/nll+cdP5MNFB/WC8INEDg+5+F8ucD+pEBG2M0G8VEopJmC9uNAgUVpC7sp1gVkOBs2bFjWNoHid9999+Xc9moLXAnDymoYFDuee76g4JGVLy75Ba6f4RToQgghhBBpkqoCtMhXdjx/K1tYZv/FZIPB4KoJc82cv8rMass1MZO+/tvc9Nof9ru47atfF5lps3wFKeY7uxUIhFPc4FhYEgtMPrC2DDPXjnyyv9UElBAWs9xwww0rCZIkJECxGDdunFVSogkKMoH1CGGddWnIOBaGz3vvvbddpBR3tahrFOfhfKyJxO/DShcz/ihHYWUEK8xdd91l68k9D9fT7U9mPdKCV1eB4xy43VHnaJ04H2W423Xt2jUoLQysGcXaSmSHiz4v2h5pzlm3iLZUbKB4oqySKdGly6b+pEcnSyFWrOrAe0IKeherxTF33XVX2364R0IIIYQQhaCRh29ZShxy2Rfm59/LTNOlmpumyzQ1SzRfAukp+LZ68PPGTRpZq1CjBQvNiBPLF9YUQgghhBBCiHxJ1QL0z9ZLGm9hmVm0YIFZ+OcCs2DufLPwD//vGmx/s83lWAvMKi1qpkwJIYQQQgghSptULUCzfl9kDr7kc1NmGpnGSzQ2jRqz1VBp8X+OC07TJRqZU/dubXbaqPCuZUIIIYQQQoiGSaoKkGPUpDlm4vtzjIfi0qRRjUJ3GvvH6LhOC9Nzh+wpqYUQQgghhBAiEwVRgIQQQgghhBCiGEk1BkgIIYQQQgghihkpQEIIIYQQQoiSQQqQEEIIIYQQomSQAiSEEEIIIYQoGaQACSGEEEIIIUoGKUBCCCGEEEKIkkEKkBBCCCGEEKJkkAIkhBBCCCGEKBmkAAkhhBBCCCFKBilAQgghhBBCiJJBCpAQQgghhBCiZJACJIQQQgghhCgZpAAJIYQQQgghSgYpQEIIIYQQQoiSQQqQEEIIIYQQomSQAiSEEEIIIYQoGaQACSGEEEIIIUoGKUBCCCGEEEKIkkEKkBBCCCGEEKJkkAIkhBBCCCGEKBmkAAkhhBBCCCFKBilAQgghhBBCiJJBCpAQQgghhBCiZJACJIQQQgghhCgZGnk+wd+ixPj777/NhAkTzL333msmT55sy5ZYYgmz0047mRNPPNG0a9fOlgkhhBCi9Fi4cKF59dVXzaxZs4KSeJo3b246depk/vGPf5hGjRoFpUIUL1KAShAe+csvv2z+7//+z34+99xzrdKz3HLLmQ8//NCWv/322+aiiy4yffv2NU2aNLH7CSGEEKJ0mD17tjn66KPN+++/b3788UdTVlZmmjZtatq0aRPsUc4vv/xi/vzzT7PWWmuZm266yWy77bbBN0IUJ3KBKzGw+pxzzjmmW7dupnv37ua1114zBxxwgFlxxRWtotOxY0fz5JNPmn//+9/mvPPOM6NGjQp+mT4oYmeddZZZe+21beeajT/++MPsueee5thjjw1KhBCZGDJkiGnfvr0VXIRIgxkzZpgjjjjCLLvssna8+Omnn4Jvag/aNQL4O++8E5SIQsHE6MiRI62ssPHGG9uyq666ynz00UeVth9++ME89thjVhHae++9zdNPP233zcTPP/9sFaX999/fju9C1CY1VoAQRukI4zY6KVE8oPz079/f3HDDDebCCy80Z555pllqqaWCbxfDs8MKhBmbjq5QA9yiRYvMggULgk9CiPoMwihCaXgMWH755c0ee+xhpk6dGuy1GDd27LvvvmbevHlBaTxMlgwYMMDuH50AwTWH73C94ftWrVqZ3r17m++++y7YYzEIZa5u4U3CdG7wnPAKeOaZZ8yll15qTjrpJOs2LRo+KL5fffWVlRlwdYuCvLDzzjuba6+91rrNXXDBBVbByQTjPxYlIeqCVCxAzBBcf/31Zvjw4ZU2ZutFcYAAgVn6nnvuMbvvvrsVIjL56W600Ubmn//8p/n000/Nm2++GZSmCwPn1Vdfbb744gvToUOHoLTc5E4M0m233RaUpAuD93777VcnM5dCpM1ff/1lhdEzzjgjKKlbDjzwQNv/33jjjXZmF3faXXbZxbz77rvBHouhD5o0aVJWCzAK1COPPBJ8WgwuN7169TKPPvqo6devnz3vaaedZkaPHm3++9//mm+//TbYsxxmqZs1a2YuueSSSmPVXXfdZdZYY41gL5HE559/bl555RXb1lCE+vTpY70HRHGTRh/xySefmF9//dW+J5neFbxH1l9/ffPxxx9nnVRAxuD9591eeumlg1IhaodUFKCWLVtaoXqfffaptPESiOJg/PjxdkaG2RvczuIsP2GWWWYZs9pqq9m/6fhqE2YZX3zxRSvcFAI6ZgQqzTyJhgCW1IkTJ1rhpBhg8oT+//DDDzdDhw61yggzvffdd1+wx2Jwu0Uhefjhh+0kTRKPP/64vc6VV145KFnMkUceaWMXBw4caM+LkPfQQw+ZL7/8sooLL5MrrVu3NgcddFClseo///mPWWGFFYK9RBIzZ860rkr/+te/ghJRH0ijjyBhEjBZmUnpXXLJJc1KK61k//7ggw/sv0IUI4oBKgEYsHBlQ+BnoEdAyQYmbGaNIM59RRQ/+GIzu83M+LPPPmsHwd9//93OtrlnWyhQXvEH59z4j6PUslGGENpQKdXrzkTbtm2tW9qcOXOCksXgtkY84ogRI+zERBxYammzeBQQfB2mRYsW1pobndDZYIMNzKqrrlql7+IdENWHfiOToioaJsgQTDJAly5dcs7yNm3atOAvIYqPWlOA6DSZgdh1112tXzh+1wx+mNHxLQ2DnzY+2ZjaTz/9dLs/g1+mIDkEO4L211lnHXtsfsPMYPTYSbjfY/Xg9/x7++23WxetqH847mNx9SHQmIDjaOwT1/7EE0+YzTbbrKJuJB7AnSCMC1jGVcQFmeJCwmwKbh1RUFLwdd98880zunORwpJ7T6fVo0ePnHy2uTZ37zKlw8ZSgwskM7hhXDxAtN64w1Du9o8GaXNv11tvPTN9+nRz/vnn23sQ55+Pfz/P17UlLJDR+xnF1YnjcnzOw2/DMQUIsHwfbgd8DlujuDcuGQNtlPvPvrTb8HfUh3q5a6A9IYCFy6k/bTxq7XL1CLdn2kQuQjTt7cEHH7Qzdd988405+OCD7ew7bYnBa8yYMTZlaaF46aWXrJI9duxYe26eOfeEWJBbb721wWYVrIvr5v1ZZZVVbDvkmdNWXFsMg+B63XXXVbRrrPMoFVFhNte+Kh9QxOlft9xyy6CkMigwwHnjwPpDX4RrXePG+Q1ZUYXps88+M2uuuab1WqgO3AfqgULH/eF+4lochncclzyu1z0P7vf//ve/YI90x8Nc+qxMoKDjbrzhhhtW1Je/6a+IGwU3tpE4B/iX/cJ9Zxz001xTOD4LC12udYuOyyTMwY07SZGNygFsPAfaVrStQ7R+0X6W6wvfa0fcWO+e0+uvv27jbF2d6evph7mX4XLGDZ5plFzfQTd2EpcTfbdx83bXm2sfkQnGSxSgpPifMNwr9gfetUyEx8swJFwIvxvh94ffkGRhm222iY3zEyJXakUB4kXEHxxBgI7PxQsddthh5oEHHrAdRNRXG3DZoiMmyBWhLZOPKEGwuFvwInHsU045xQ6c+ChHO68ozEweeuihdiBDcOH3Z599tu1UqGtN4No5Du4gZFDB15wOiYEYv/jorCcdOC5q7E8njOC63XbbWeEqmoef2ZUXXnjBCra4dSTB7D/1YCaWDjMX6LCdUrX66qvbf+Pg+aAgoQi5DhcQ/hhYGQx+++23oLRcCaFD69y5c1BSmWOOOcbec5QqF0sQ9c/n3jEAu8GQ2XY6TFJ1ImwlwTE4FscNx61xTqAd8PwRVolBct/RdlG2uJ4wb731lhUSGKz4Le3bQR2PO+44G4dw55132hlplEHaGM92q622ssdHIb3llltsUgp3/zgP5+N3p556qt2PNsE7Eq1DFPeucW7ORzvmXl9zzTV2UGKwzGcGL1/IIIhAy3XT7jk3AgkDGW2CrFG4VzY06uq6ER7uuOMO+w4iENBW2Fy2JkD54R1hIoS+h/qhjNFXUubIt6/KBsfDAkNClU022cQKcXEg3CDQoJBFJ3J4r3Bn4/zslyu43nz//fc2HiEKgiACIf0QgjLPiX43G1w/9SCwm3eW+8P9D7sII+TyzvL+IlTzDvM8cLNzkzzuHU1jPMy3z4rixj76CvoFrok6r7vuunZMJWkO10R/SdtgXAX+dedKgnGX7xmjqDv702/ffPPNtl9iAi8Trm7hcRk3R7wZ4sZl7lnXrl3t/ryL7M99QAnm3lJ/18cC/Tf9cDh+jOOyz/z584O98ofzuHeNe/jGG29YOeTyyy+3lk76Yvbh2VOv8HuV7zuY9G737NnTnhdy6SOygayRS/wPMM44Jb468WHIEtSZ39IW2Wj3uLQKkSr+C1cj/Bfba9myZZXNF/i8H374we4zZcoUzxfQvb59+3oLFiywZY4333zT8wVzz+9ovbKyMlvmd+72GOGybPiCqOcPMMEnz/7u3HPPtef1O7qgNJ5BgwZ5fgfv+QpTUFKOrwR4nTp1ssfgGhxcsz94eXPnzg1KyuF6ue7BgwcHJYuv/eqrr650LV9//bXXoUMHz+8ggxLP/o7rvu2224KSckaOHGnrN3bs2KCkHPbj3n344YdBSVX8gd3bdddd7XH9TtHzB7Pgm8y4ukSvPQrX5Avb3hZbbOHNnDnTlvmDrucrZZ7fYXurrbZaxe85N3XgO/YBzhNuKxB3H4H7zX2PPivqcPHFF3u+QOONGzcuKE0m7pxAOdfrDxxBSTmjRo3y/M644tiuHnH33n3XqlUrb+LEiUGp5/mDs+cPOPae+gNVRVvwB0HPF44q3b/33nvP8wU0zx/o7WcH744vNASf4qHuXMOOO+7o+Qp0ULr4mfBd9H3guNSvprg27Quqnq9oBaXl0M65dl9ZDErK6/Tyyy/be+jaQ30k3+tOG9fm6JeiuPc42vfSNmmj4f4nn74qDvd7zhfefOHV84WiYK/FUF/3Hk6ePNn+1ld2gm/L4b7xLlBf1y/EXWcY12/vtddeld4B+h/a22OPPWa3YcOGeb6gZesY3TeOG264Ifb9CbddX1iz/VD4HY/i7lMa42GufVYS/D5u7OM8XEN03HF14d9s0C4Zl31FKCgp72sOOeQQ+67EtYkwSXVjnKe/5LrDY4uvANp7xz0Mwzm51+H+2le0vc6dO9t2QntJIp+x3t0bX3mp9FzdOxg9F/eVtjJ06NCgpHryQi7vdqY+IhdcP9a7d+/Edu3getg3/HySiKsXzzHaPjinr5QGn4RIh1QsQH4nVTGL5TZmIigHZkcJdGVWOuqSsOmmm9pZ0+eee65KysTtt98+55lqZpowPzv43dZbb21nwDK5wfkvoE0Q4AuM1uQaBpMyM1A1gWtnphErTfhaOLbfiVuzcthChYkZ03gYZm3IlhI2a/MbLFzMCuHKlQTX52YTmQHKxf2Ne8ZCqcC5M828ck2kviSTGxnjgJlOZqz8Ts26mjADDszu8jf3mUDJ6oJLA+d0uDow81Xd2BasVNxP6hY18TNLSPB11A0Pa1qSdQz3BWb9HcwG+wOYbaPMBru2wPNm5pU2SoAx0F7YaJfhoFXenUxuVMyoMrvK8/MFOnsMB88E10o3g8esLjN1zEjS9n0FMtiz+tx///3WwsTxwveFe4slkCBz15ZwZ2D2k3vK7DNtE9ex+kg+110X0MawBoT7Xtous6rMsjvy7auSCFtusUqwRgjvAm0tCd4N+hpcsVydaMd33323fd+xIOUClh/iHBlvsASE3wH6PqzpLvEBs+y0QxZ85l3D0pQJ3mH6F2aowy5Yri/j3mDFYlFprGvhexgmrfGwOn1WGPf7uLGP85AognGHfaoDFirGZeK0HFwvbYl+LVOKZMYtxru4utGHUrcw9GV4OmBh4h6G4Zy4ivtKgvEVQluGdQTLHdYk2nea8P6EnyvPgrZHuvfwuXwFyloiw1ad6sgL0XebvgbvCLwhnLxQEzgf54Vs3gO8H74iaP/OJjskQZtjvMKrw9Wfc/LOCJEmqShACLmY7d3AwoZgzssJ+GnyQhKUGoWGjQCP8BdWVPht27Ztg0/ZQaCjc0OYYgDimM5fORNOQWCAdfUNU1O/fa6d60IAoGNzG8ohQdIITmH3C4SlsCIHdJJ77LGH9dn94YcfbBkdEiZ83EpyUWqA55QLpKQl4wv+9rivxN2XMChs1JsOCxD6cP3B/YTBCIEB4ZwBh2tNcn/LFdpF1B2SOjIIVDdhAx03AzLubJjew8+KgQp3muix4+rhwPc57PLEM0IQoI5R5c8pbgh8gBCN6wluDayqjTDFubMNZs4lknuB4BAG9wEUUAYk2h7t6N5777X1qWkbB9xyCPQHlK/wIEn7p51zT2jbKMe4NeCe0rdvXytg8c6iMOfrZlXX5HPddUVcn8Jzp+3S9zmBKt++KgmXBY6+6bLLLrNp9BFYcePk2cdBm+3Vq5dV0uk/gH6IFLlMQmXrg1BIcAOj3TPx9fzzz+ck2PK8ECDp/1E6Mk2gIIjjWoW7Kgo7652EXW65N9yjpLHEkdZ4WJ0+K4z7fVJ9ee5MluAOnWvMThR+x/tx8sknW+GZ6yY+KRv5jssocyjOjC3hd9CB8kr8kbsfjEUoiLj6pQl1jU6KUcb7Fh1/uQbG2PAkRL7vINcUbUcuCxt9fHWfWxiUS+QNriOqaEdhInTy5Mn2GfA+xz27bDAxgUzB7zkfE0xpXIcQUWotCUJ1yDXglY6S1YQZnBCg6GgHDRpk/YxzJTxLlTYIscSKMCsa3cKWMuCao507nQkCBIMiAgEwO8YAH7UWRaHTzRaIGAZFkplTZsvoiLiv2WBwwZ+YoF6EeBQeBiI6YQQSrD4I3yhs3It86hMHykTcIJcGzNLFPSe2qL97oerBMTkXwiI+71hGuJ/4evN8kmDwcX7aUeEPhRYFiudBvRmkWQh3t912S1Ti8oF38Ouvv7bCNnEVYRBqqRfXgGJMMC+TFc7qhHDArD3KRDgmpT6Qz3XXFXF9ShL59FW5wvMl0xvCdqZkCkyY0I8QB0M/gkJDX7HDDjsEe8TDvkwYEGdCbA6/y3WyB5wyiJCVFFwPCKJYteiDscZwPhQhZu3DFGosSRoP8+mzapMpU6ZYKyOxmfT/vOODBw+2CmeuFHJc5p3g2RcbhXgHawLKohtX2JJgfBk2bJiNXSaRBJO21QELENa8p556yr7/xx9/vG1HtCch0qRWFCAaNMIZM1JReGlwnWJ2K25GLBdY64GZEWb9cGlAsGL2kVmwbNABMlOPsBIXlJk048msSNQdBLNtNFEBgyYDK2bwsIXMbWFLWSaciwjmZWaJGHQxk7dunZz8ABjY6TwA9xBnReAYCA0E4YeFEo7LjDzCCIsF5jJAMONE0CL3kE4KSxCfAWUUof29996z5biq1aUwmIRrB2VlZdYFJe5ZZVM204ZZXWbNmX3DskmSj1zcxFBuwkoNM73cfxSfXN6JmoClwa0B4XDBuLhwALO6WHuYsHDUxCWyGMjluoHngCBDX4GwjWJKpkn+zSR81wZp9VXVhfMT7E4bpx/n36OOOip27R8H/RmKCNYbNvr9fCcl6McR0JlNz5YdkWNj4SL5Cu8lChsTCYxtrg+hn8tkSUprPKxpn8U7x72lz3bW5zAIsij3WI3zVUS4DoR4FFGOT/Yx+jLqFLWQxJHvuMyYQvvBeujGuDBubHbucSgRWEic23Ymch3r06Cu38E4cl3/B9kBF9Z8ZIckUE6Z+MC6ycQq18yEdvQ5CFETakUBwj3OzehFZ7CxDjDYMTOd6eXKBK4/zMDiKubgPPhjZ4NzEq/B4Bn1l6ZzjFu8jwGMwSusONDpch3RgYQZdgbXuJSz+UAHwIwKnRHHYjaVzEm54FxI6EhwZ2DWGpcEOlQGb1w6OB6zLieccIJd5C7qP58NBhY6JzLqcC6ndDGQ42ZAObEA+ODnSiHXEMBlgmt20A6Y1Y1rB7UNA3540Od+MnvKvwy8SSAEoOQgyIUVChRf2g3PIVO8WBy8Ry5Gh/adhBNAUALC56a90a54P13WISyGCP24vQHvBTFn1Bv3pTCck3NTh0zWL0BgJrYFgTi8Ly4mCNIcGwUkDJ8p5/uwKwrkcu58rhvrNO8ullye50knnWSzTSHU4AroXOmqS01dXtLqq6LQJ2LVycXliD4JZXLAgAFWiadOmeCecmyEo3DMXa5wnfweayv9Ke9PEljFw/eFcYCJHty1EMjpQ7B0MRHHs08irfGwpn0WbZe6YLHnGGG4zocffti2KTeZlQ9cH5NsjMnh68BlMFM/4uA3+YzLjDOMLcSZuZhTB/cYyx1KnOtfENJpZ2ROi773YfIZ69OgUO+gI98+wsUxQlL8DxM3uFMTZ4XiRsa5fGSHKNHJAyYceG70m5kmFoTIl1pRgJgBPeecc+ysGR07M6BYGRAs8KtmRpgBrLruRHRmdFLEStBps9GRhAXcJDgncS50jgyAV155pa0b/zJDHTdjzn4IowT7EseABQoBCree6CwwsxiYg1EyGNypG8enk2BgiQ48meCamFVBeMSSkqswG56lZGYGn1ruOwMGszoEGeNedcghh9gB0bnX5QOCIv66zPpxPjdrixBDp0iHzuxqLkGRzm2P2R+Ox6ySC8JMA+qA0MIz5tlxfNoBSiGzrtxn2ibPiY0gaZ55JuUjTVBYeCauLdJmeD7MWtLWk0Dp5BkgzLlBnZlm3GAYrF38Tz7gM097wS8d95UkYcEJIJyPgQpwm0ChzhYHg2sk7YM2Gl5hnoGa58+5CYbP5ALBvqyxwWwtlrLwzC4+6fjP04YQhMJwfMr53g30kOu587lulDzeL9oaQg6uQaTtRSmg3TExEQbBlN9mcwuk78I1heMzcUG9q+NKmFZfRfvld7xbPFMEWd5lUidnU4CwaGPZ5h7yzmWzFiCYOguOe1/D2+jRo+2xgH3o0+k/+Y7r4zpJg811c75M4F4XHr/o+xGgeSeJbXFjCUoJCT6wcnIP2Lh24t4grfEwjT6LJBXR+rr7QqwO9yZTn5OEUzZoh9wTjst7RPvPpGQ6uDaSRBD4zmQBKaS5LvpE3MHdpIKDY9JuGX+5h+5ecG/dPSZmy43nPC8SIPDOMD6hjLI/bR2vCNoK5DPWp0Ga8kKYfPsIFA3aDn0i/SMWGd5NytyGgsukDXWmHaEAMdGZ1M/nCmMd76m7djx6+JfJBRRj3neeCx4x1EGIauPVEL/TjE0pHIU0hr5g7XXp0sWmSGTzBXjP75QqpckE0knmkkLRQQrI66+/3qa55LhrrbWW53e23lNPPWU/55Ky0xcabZpgX0C0v+ncubM3YcIEm2oyri58xz7sy28GDhzo+YNxldSY4AtTnt/B2utlfzb+9oWDitTHwO8y3UvuIalQ+b0vsAWlucFv/c7b8wdL+3tfgfJGjBjh+QOFvV9cyyuvvFKR4nLhwoWVUmvmgt9p22P7QkdQUo4/WNh0n6TLdsd3JF3zu+++6/mCkz2eL9jb5+MrLYmpPHk+PKfovY+D6/IH94pnTb0dvgDtnXTSSTaFLN+xjz9Aeg8++GDF/chUj0zfJb0r0TbG9/4gXFEH/vUFFM8Xsu33meC+dezY0T7P7t2723Sx/sBpjxNOt+rIVF/g+169etnn5yvLGd9z7h3tims89NBDvfbt29t/OXdSCmXSwvqCknffffdVaRtAnbl+zp/tPWZfXyix7Yx3zkGdd9llF9v2/UE/KC2Htkk592DWrFlBaTm5njvX6/799989X7CwqeDD78KXX37p+YqBfR/D0C54fuE+Ignq4AvB9py0JVLhQtL75Z47G387cu2r4nDvoPud23baaadKfYsj6X3wBS5v0003rZJinv3YP9xWub7o+cJb+L367bffvCOPPLLivWLjPfGV76zp5WH8+PEVfT6bL0R7vkBeZfyaM2eOXYKB79mPPoT2F05Vzb1IazzMpc/KBOfjOlx92XhmY8eOrfLMqAvf5zKmctzTTz+9ol70S74A711zzTUZrydMdFymXrzD0T7TQRtljPSFcLs/v+P3b7/9drDHYrg22iXPxh2fe8B4EO4/ch3rk54TnykP7wtx7RlqKi8kvdtJfUQUnhtp4d25M230db6yXaUOueLqGr4H999/vz1u+ByMD+Hx11eG7LjBNQlRXWqsADV0kjrauoAOm84dxWDGjBlBaX7MC9ZeYY2Hc845x3vyySe9s88+u8oaE5QzOIj6B8LcTz/9ZDeEbgazFVZYwZs0aVKwx2LiBqA4OA5rQGQb6GhDKBK0TwYs1nRgEIsK98C6Kyh6CILA/lHhz8GaSLkIXYUgl3Pnet3fffedHdDDyigTBu3atbOKkOPvYM2sJMVRCCGEENWnVlzgRDoQV4DvcS7JD5IgTgGXHVwyMC2Tuhc3AwIY8afHXxo/aszkGxQ4YF4UBtwVcEFkmzlzpn2u1Yn/CYOrAe2EuIFM4Lqy4oor2vbpKzM2lXE4DsZBO8MVCTcw3HeANO/ET0TBHYN4MNxWaptcz53rdRNUzjFdMDaxXrjVkG0RlxpcSvieAHTc+HDfEUIIIUS6SAGqRxBYi3CVzVc9X/APxqcXX2gC0YkZwecZgU7Ub0g8QRxLdeJ/HJ7n2RgdMkqFA/2zQQzM1KlTq8T/oPyQqIBgZQR+YgTY8EsnpiYK+5EsIJfsUWlTnXMnXTcQ78Q75mLsCApnnRxiI0jIgILEPeZf4hqyrbshhBBCiPyRAlTkEIxJ7n+CWgkoxnKTtmUGQS0M6zSwBpCovxC4ShAp62EByQsIJHWpd0kQguWFJBivvPKKtfqRgIDF5/6MZAlilXyOh1KcCwTzY9Ug4QbJF9gI3mU9CeB4JCwgIJdAcLfxfVTpRnkjeJmkAgQj1yb5njvbdQOWIYLO3XWSJIR1P7gXKJkEEgMWIrI2EuAuhBBCiHRphB9c8LeIgSw/ZKDB+lIXs7EoQGSKwv0N5YfsQDXJrx8HM/Jk+mK2G+EMC1Pa5xC1B25VZDsjG1cYsvAhzCNw58NLL71kf5OrFQSrDhnMoqBYO9evXMGagvsdGX+yZcVKm3zPnct1o1zyboXfL9LI4vKGhS7XBUuFEEIIUX2kAAkhhBBCCCFKBrnACSGEEEIIIUoGKUBCCCGEEEKIkkEKkBBCCCGEEKJkkAIkhBBCCCGEKBmkAAkhhBBCCCFKBilAQgghhBBCiJJBCpAQQgghhBCiZJACJIQQQgghhCgZpAAJIYQQQgghSgYpQEIIIYQQQoiSQQqQEEIIIYQQomSQAiSEEEIIIYQoGaQACSGEEEIIIUoGKUBCCCGEEEKIkkEKkBBCCCGEEKJkkAIkhBBCCCGEKBmkAAkhhBBCCCFKBilAQgghhBBCiJJBCpAQQgghhBCiZJACJIQQQgghhCgZpAAJIYQQQgghSgYpQEIIIYQQQoiSQQqQEEIIIYQQomSQAiSEEEIIIYQoGaQACSGEEEIIIUqGRp5P8LcQQogCMGvWLDN69GjTsWNHs/HGG5svv/zSjBkzxqy88spmzz33NC1btgz2FEIIIUShkQVICCEKyLx588zVV19tlZwePXqYY4891ipDe++9t3nhhRfMySefbBYuXBjsLYQQQohCIwVICCEKyCeffGJat25t1lprLfPbb7+Z9u3bm5NOOsmsttpqZoMNNjA//vijmT9/frC3EEIIIQqNFCAhhCgg//rXv8zxxx9vPv30U7PCCiuYgw46yDRq1Mhafd5++23TqlUr07x582BvIYQQQhQaKUBCCFFAllxySavgvPjii9bis+KKK9ryn376ySpAe+21l1liiSVsmRAiPRYtWmSuvfZaM2DAgAblZvrdd9+Z/fbbz7z33ntBSe3y66+/moMPPtjGMQpj29bpp59ubr/9dqOw+vqDkiAIIUSBwfWNmJ999tnHnHrqqbZs1KhR5rzzzjNPP/20mTZtmll33XXN6quvbr8TQsTz+eefmzPOOMNMmjTJTh5cddVVZtlllw2+XQyizXXXXWcnHu69997YfeqC77//3rz++uvBp2Rwkd1www3tBEocb731ljn66KPNnXfeaTbbbLOgtPDMmTPHHHbYYWbHHXe08YtYsx1//vmnmTBhgvn444/NF198YdZZZx0b85h0DQ2JTPdFFCkoQEIIIQrHe++956255preuHHjghLPO/HEE72ePXt6M2bM8Pr37+/Nnj07+EYIEcc333zjderUyTv33HO9888/32vZsqV3ww03BN9Whndtgw028D766KOgpDgYNWqU16FDB89XcGz92dZaay1bV7e1a9eu4rsBAwZ4f/zxR/DryvjKj7fFFlt406dPD0oKS1lZmTdw4EDvwAMP9HxlJyhdzGeffeZ16dLFa9Omja1779697W/qO1zD+PHj7bXRlydBW+P5jR49OigRxYxc4IQQosD4AoqN9WFG17H++uubH374wVx88cV25rBYZqiFKFbuu+8+8/XXX9tU8g8//LAti3tvfvnlF3PhhRfarIvE4BUT+++/v3VdIzMkUL833njD+MJzxUa8IG5uvqJhbrvtNts/+EqQ3T/Mvvvua1q0aGGuv/76WnG9evXVV83IkSPNKaecYpZaaqmgdDFYsV955RVzwgkn2M++wlBvLSG4+T3yyCOmf//+xle6rbXRV/CsW2USPEvaHG3v559/DkpFsSIFSAghCkzXrl3Nyy+/bLPBOfr27WsHWFx4EOiEEMngRvrMM8/Yd2iLLbawEwd33XWXOeSQQ4I9FjN27Fi71hZxMsUqgKP0QIcOHSriAsO0bNnSDBkyxGyzzTb2eh566KHgm8XwOwRulMGpU6cGpYXh77//tsoYfdUmm2wSlFYFN7g333zTxjVusMEGQWnt0q9fP3vPasLvv/9uJk+ebCeuLr/8crPKKqsE3yRDW6PNkdnzySefDEpFsSIFSAghCkzTpk3tTG2U5ZZbriT844WoKTNmzDBfffWVWWONNazgjyXlgAMOsO9WGCwlw4YNM9tvv71Zb731gtLiYu7cuRUJDDJZSbBukTUSnnjiCatcRNlhhx1MWVmZefzxx4OSwvDhhx9aBRSFM8764yC5CzFAWIPq6v7TBmqa9IJ4zCuvvNKcddZZVuFr0qRJ8E1m1l57baug33///TYuSBQvUoCEEEIIUdR888031i2pbdu2Zumllw5Kq4KbEgkCCEYv1uyKuLdhsUGRwL0qE87yQPKHOIGa+4FrLckH4tzk0oJkEkzWZLNW48KHsoqLLxM8pQb3CKUWhZFEEKJ4kQIkhBBCiKIDt6vx48db60bYBQxryP/+9z8za9asoGQxpJbnd7m4XxHPgbvWueeea6644grrukQszcSJE60AWyjI+ogyhzWLLRdwAYyLK0EZRAGivsQaFoK//vrL3pM111zTtGnTJiiNh/sJYQUUy9WIESPMaaedZhW5hg5KLfeMtiiKFylAQgghhCg6vv32W5sqHjck5+KFJYLPl112mZk5c6YtC+MWF84Ws4GVgiQCBPRvt912VhHZY489zBFHHGHd6+bPnx/smT5cAyTF/4RBWQLc4ZL2RdlDocJKVgiwPJGYAbewZZZZJiitChao1157rVL8zyeffGLT/1M/FFOUoDhXvobEqquuapZffnkpQEWOFCAhhBBCFB3EU5A8hHVzNt98c7PCCivYdbNws8IigZtVGARrlADigjLF1qFYdevWzf774IMPml133dUu7Hn88cdbRQtBP1fLTL6gJDjrUrYsaVijpkyZYv9GAUq6JqfscT2FAGURZZM4xkxuhViocEF08T/U/dJLL7XrMKEAkbQCxbI2MtbVJbj+YZnDooglSBQnUoCEEEIIUbQgfBNPgfvVSiutFJRWBcGa4HdctciiFgdWiEGDBtlA/bPPPtsuOOpo166dVUiilhmE2NmzZwefagZuaihAucT/kM77/ffft3+z2GmSBQhrA4pJrnUkwxmKZK4xKrgKsmVLKR6O/yHG6cYbb7Qbz41zAspmNCEMz6RQ7nt1AYrqyiuvbBXyTGmzRd0iBUgIIfLkzDPPNO3bt6/VjZS4QpQirJdFvE8agfVYJVjLBsWHFNNhSCSAEhW2zKD89O7d27pxpaEE5RP/Q6Y4XMioC255SdYilKloNrwkUBBPPvlk0717d7PnnnvadZXSwsX/4Po1fPhw22e5dZpQOnGlw+WQ63BKD7FBxAuR1jxXUCyeffZZa62L27gm1iyK+46N9NaFtELxLDIl6hDFgRQgIYTIE1w8GLzdRlYnXGgY5KuzXXTRRVbA6dy5sz1++NhuI60qKWaFKDWw1iC4Y6HJ5IKFUJttxh3lZ8GCBTZNdjhOCEUHhSMcvwLNmzc3hx9+uI05SiOrWa7xP1zL6NGjKxSyrbfeOvgmPUjtnIviRJrtbLj4H8DaQ9IKFBsSVsQpGyi1uMZx/lxTTAuRKn7DFEIIkQe+AOX17dvXa9myZcW21157ebNnzw72qBkc//XXX/f69Onj+UJXxTl84S3YQ4jS4cQTT7Tt3xemg5J45s6d6+2xxx524+8o7nuONXTo0KC0nC+//NJbd911vS222MKbOXNmUJouvmLg7brrrrHnj/LRRx95a665pte2bVvvzTffDErjmTRpkrfCCit4gwcPDkoyM2fOHG/MmDHeN998E5RkZsqUKV7r1q0zHj96/6ZPn+7ttttu3rLLLpvxublnQl+XFhyL60sLX1nzfKXY3gPuRTZ+/fVXz1ewE9uhKA5kARJCiDxh1pJsRuuss05QYmy6XgJ+/X41KKk+HJ/F9Fh5nXgBX7my5ViB5s2bZ/8WohRwiQ3IPrbWWmsFpfHgWoUFhwVTXcxJHOwXPZYvwFsLa9jNDre722+/3bp2pfFe57r+D65ip59+unWVI4aG+J9MkCIbC1muFipfAbMZ78LxT5nAQsNG3ZMg+QHxP86y9c9//tOccMIJ9r6NGzfO7sM95n5igWvIYE0kIQSxTrJuFS9SgIQQohogPNx0002mWbNmQYmxCsuTTz4ZfEoHBIn77rvPXH311VYQc0HRQpQCKAOsHUPyg2xr0CBwksGN+JK47Fu4s5EimyB1Mso52P/hhx+2wrpbvwZl5YILLrCK0tFHH23efffdYO9y+A2TILjlsSZRLnCMbPE/nLdnz542+x39C9nqsoE7WZxSlxYu+QTKKIpWHMTcQDh+yqXwxmUYcP9DqQz3mQ0RYsVwCeR5ZMpGKOoWKUBC1DPI3POf//ynyoDcEOCaWJsDIaA+gF/+OeecE3wq95VnUcW01+NAoDjmmGNM//79KwQ1IUqB77//3grNpFV2AfWZ2HTTTe3+KAVRUGz23ntvqxy5BTmJGbr++uutdTUc//PCCy+YAw880JYh+GO1CYM1hN9g9Rg8eLBV1OLgXSWbG32amxxh8gRLLmmS3UYGNRSqjh072iB+lKpDDz20QpnIBDFSrVu3LpgCxH3n/tOvzZ07NyhdTFL8lLNIYSnnHjzzzDM2mUR9gHaBFYdng+UKiyJKL+2KMqyFfI6DNotVDiu+KF6kAAlRj2CdB2YH+/TpYzbeeOOgtDJYCeIy34Q3Blc69UKm6OTY1IWsPwzqLptZr169El1KuKYjjzzSCh6FWtMiTZxiwqyxA/ebvn372hnANOFcBGMjhEzN4IpSn6FNPPbYY6ZHjx6p37/6plyLclBUUBboQ3KZTd9oo41M48aNrVIQBwoQWdBOPPFEq2BsueWW5o033rBuYW79Gthvv/1sljgSEXDuqMWGNYp23313+16SphslKY7nn3/epuVGMXAK0NixY21fyLncxmKsXOsDDzxgs6htu+22dt9suHWFuO5sFrLqwn3HDY++DYUvCsofC6WSJju8NtNuu+1m68UkEe9e165ds6bSLhZQfnbYYQf7bLgOrDpYv8ieRxmufm49pyjvvPOOVRq5dlG8NPIHHE0lClEPQAhglXJm+S6//PLYmUFm4ljbgjUeGKiYoUIY+Mc//mH/dTCLxwwVgz6znwz2ucw05goC+nHHHWf9ws8//3wbw8IMJTObWEhQwFCEyKwUnVmlSzrjjDPsMRAG6kM6UZSS//73v1ZAcJDZDUErzfuaDVLmJgl+xBUh0DFzmbRPGGapN9xww0Shk1lOFqjMB54lgl30mTvIGHXFFVfY1Li5xifkQ6GPL9IHqwhxI0zchCcakkAYx8qA6+jdd99trRJxoDgwq08fOGnSJJuFEeUo/Bva+C677GL7sIMOOsiWRaEv5T0n/o9+trbhnWdtHfp9JsYKBe86abNvvvnm2HuBgoCLYbS/YAzC7Y/v4mKUeA5MePE+4kKcBscee6xtA8Q51TaMwUxSMgHI+JXU14kiAAVICFH8PPTQQ97666/vTZs2LShJxh90PL8TttmGBgwYEJRW5v333/c6dOhg97npppuC0ppRVlbm+YOYzVzWu3dvm20oSjiD2sUXX2x/E4Vr5FrvvPPOoKT48QW0ShnbWrVq5U2cODH4tnbgfpGtyFeSK+pBnbiXW221lffBBx9U7OMLHBX7tGnTxpa5jf3dtRx++OE2o1OUcePGVTmOO1f4WOHv+S7uWEDWK/bnuIWCtjZw4ECvW7duys5UpPCMxo4d6/lKjzdjxgybXXGzzTazf+cKfRDZ0z788MOgJDMXXnihbZ/RzGxkXaRNfvXVV97o0aO9b7/9NvhmMVOnTvWOO+44b968eUFJ7cK18l5Rx0Ly559/er5SYTf+Tgvew7SzwJ166qnec889F3yqXWhzq6++ujJ21gOkAAlRD5g1a5a3ww47eP37949VGKKQhpR0pAzqmVKQvvHGGza1J+lWEUBrAvUaMmSIPScKDopOEgwSCChJQgrH4lo7d+7s/fTTT0FpceOEayfss3Xq1CnnVLNp4tK2UgdSCMcR3mfEiBFB6WIQcnieK664om0fb7/9dvBNZcLHueqqq4LSyvAMDz300MQ0srQVFC22TO0mDeqjcl1KTJ482U4e0FZGjRplUysPGjQo+DY3aG/0HUkTLGGcAE4aadJJh0EoR7mh/6UOUcGfY1966aV11pbcuJDLdaYBkxP02WlO7BRCAaoreAY8C54Jz0YUN4oBEqIewAJzH3zwQcbVwMPgasZGpiNf2AtKq4KPMr7nBA0T9FsT8G8na5IvDFs3t0wL7OFPjw81bhOs6B2FayTRA+4dL730UlBa3FBn3FD+/e9/ByXlWZB8pSAxWLY2CKfqTsJXXoK/FoPrBvFbd911l3VhYTX8bHFZSSlfV155ZRsoznPHtz4KMRjERRx22GEZ200a4EKKuyJuVXF1EXULfQLvC/E1BJvThxH7lg+0N9zWcEFKipcjZoe+h/cTFzhchHHzmjBhQkWmM/pH4nt4r6lP1J2J1PfEgeDCVRcQL0e9STddG662jBUHHHCAufbaa2ucjp93j9gaxoFXXnnFuqUSH4RrNM+mPkJbI0kNi1tnWuRWFAdSgIQocjzPM0899ZQNuiX4MhcIwmSAYkDBFz4J/LVJCws1Sa9MTAnCMnVFWEAAyQTpat0q7EkCCoobdUcx47j1AQJfEbyWC/m633PPPWb48OHBp/oHiig+7ShzxM8kpcHNBjFgnTt3tspUGJ4tK8KTTnjzzTcPSgtHfVSuSwnSKB9//PE2Yxj9HkpMpj4sCeI/iIkhnjAuQxvJMJ577jmbnQwFi8QbtHESEThF/qSTTrJxKUOGDDGbbLKJLQuD8kEcYy7Z6dLmrbfesmsEocDVlrBNbNSFF15o5s+fb+9LTfplxggUULKa8nyISWUsIAaL8aG+wTXQ1pgoIjuoKH6kAIkGBYPZLbfcYnbaaSc7kCKwjRo1yq6jEiW8LxluCGRNyk42ffp0O6vDMVmXgd9FF9pDoCJQ94477jADBw60FhjWciCId+TIkVVmzPhMOcfjuByfGc8o1JPBDoUgLFgnQf2ZUQeyF7GAYC6Q3rM6M28IxKxXgRWJ+xi2gCRBgKhbDA+rQlzGLwZ1rElcO/egvsA9YM2eMFjGuI76CEIPAcUoDiQRINtTrpAcAkuLW5OFFMWUhaHd8Z6gHC2//PJBaTwusyAWRt5t3hfa+8SJExMzMsVRH5XrUgHhlyQvJHFBCXJryOQL7ZVsjCROICFJVHFH4b7mmmtsEpjwhgXCWVP4l34oKREIWcJYd6i2QXkj6cKwYcOyLpKaNih7TOrglUCyHVE+BvI8mFip7cQ3ovpIARINBiwYZLki2wwzhwg3DE6kO426ujDzhHDNPtddd53NSoaQhjKEy48DgQtlBwVl1VVXteZtZgNRMLbaaiu79oEDM36/fv3sWi0MTFhCmKEjk9BRRx1lLr744mDPcqEfRYFzMzhzTo5F1q3oQpr8HgWMATspo1EYpzABLguZQOFBAAVm5KqTsQaBGMEYDj744JxmQ7nXZCMDLEFxM34IHbgrce3cg/oEWfVI5+3ArYf2EDcTXR8gQxPKSZLLYhK4D5EGmPcIcCOKKshMHPCMs62ZgUBMKl0sjbRr3OmY5SczIq6hzErnSn1VrkV+YMmhvTAhkUvfWV9AeX/00UftBFddgFviQw89ZLPCifJJIiZksDhK+ak/SAESDQbcjBCKSNFJul0EaARyUmKGQehhZW9cGlA88EFGaHfxDeHUvsx0Yda+8sorrUDLwENMBeZ/3HXwh8aEDyg5uFDgD451B6Hu1ltvrbJ+BEIwa8fgCkSdO3XqZGekmX1E4GcmKaywMctNqtW4OI04uI5c4n+AOrgZfYTC6nTezAQiGKM8MYufCwjG7r5xf5LOi9KJdYj9cwFf/vCaQ/lu3Ps0II7l9NNPr+SySN1wj6uuC1ldguXRpSMnFi0Xqwn7sPI7bdfB84y6uWG5QVBFyUqCNo2llH8ffPBBm/aXdxtXKayuTHRE37NM1GflWgghRM2RAiQaDCgWxL4goDkQrBG4XLyJc9dCYEdRctYKhDvc1lCWcFkDlAj8q/ltdFE6BFxmnVFOWBfBCYScz800EmiNUoHPNIoR/wICG8Iws9gIYQ5iJLAq4QcdvgYnMOe6gByL6OUS/wMoP84ClMsaG1Gc+xFwPhb8ywVWPWdGHzLFfVB/zuFcqLLBooZY9caNG1etDetdWlB3FOCwVQ3/dhZWrM9kcpVkFtQpk0wUuDafCdo771OS9ZGAeNxDiTPDihZWlLCK8s4xicG75sDihGXHWZ7iyFe5FkII0XCQAiQaDFgfEPyZHUb4wiKDssFCdswWAzO+ZPlB2MLyEgbXHBQe53POzDSzwyQfiItNcNmqCKSNyyaFOxuwH+5l/Isw7wKvUWxwHaOObqP+7PPll1/affKF3+YT/zNmzBj7GywV1QlAD7vQMQufS7wR50PZgGznzdXq5cCSwL1mQcLqbEm+/tUF//wzzzwz+GRMWVmZVbCd9auhgQ88ygobC+Hm8vxQcEjEwf2PY8qUKTZWDsUHF9cwvMu0J1xUw1bE+++/31o/iRdKIl/lmmdGzEM09k8IIUT9QwqQaDCQyQd/b0AhQWiiLByrQ6YZF4dBBp9MEJuQCSxDKFJYMnJ1owkrDHE+6XvttZd1i0Npc+STQjmf+B9icHBRgkMPPdRaoGoCcTy5+NkTBE/MFeDCVNPzFjMI5VgViX1xYG10ynN9JClmC0gbTMIENiyqJAQJKybVgfeYhBnbb799hSUXUFx4r2lzxPOEQVG64YYbbNKFJPJRrrEGE+/QvXt3G+ScqxsjFmZt2rRp05b/VnA8IRoYs2fPtqtAn3baaRUr4rvVq1mEkQX22OIWZAzjC1D2tyzSxmJtUXxFwx6HVZ+nTp0alJYvnsfvxowZE5QsZt68ed7+++9vvx88eHBQmhmOk3S8KEl1ioPF+zguK61zz6qLu95cFrJzC8Xlel4W6Mz12sEXTO0iiL6SWa2N51MIvvzyS7tYKIsIvvnmm0Fp4eBaOB/3LqmdhffJdn/de8O+0dXyM52L3x188MGx7w/QHnr37m1/z3GiuEUS487LPWWRTBb8nTlzZlCaO/m8V6yyv/7669v9WRizNhadFEIIUThkARINBlLjElvDzAEWFBIXEEvDYmuTJ0+26zvgRkOwNK5m2aw2uLAxe+0LP7FuL1h+OA7uduGZ6UzgYuXSliYFkzOzHXbLcVYVYiWykev6P1iJSM1M3YmJqslsC3E3wH1yAe/cL9yg9t57b5skwcF5mZnP9byke+UZ5OqaxnPeeeedbTa/6mykxU0bnjHujVgluebaTlubBsSK0a6Im+H+5grvEDFySRYjnm0uVkP2C8fLAW6iWDFxdXPp4bGWkkWR1PfUNxP5uLLRZ/iKkrVG0UZqatUSQghRt0gBEg0GhCFSg4aVCgQv3GFwO2rZsqWNNSCVLrDydNS9jOB8srjhJkdMEXFBHDe6dgm4WBvcx/JRIHAPoh4oAwj4Yaj7OeecU+EiBsRGEFuTTWDDLce5tCXF/3B89iF7nUtlmpR9izoQZE7MSiY3PGKuiJPierh/3DsWEEQwZcVw1oEhgB13JVwSeSZk38uU9cuBkkr8FYJ3LvCsOQ/1qM5GkH3aIJCzWOKdd95pM5nVN0gUQDZEIHshsV65gqsf7SyTwsA+rCEVtwYWKe15V1CAOY6D9khKetozyTtQomj/3GfORaY4ElBkIl/lmjbOZEqSMieEEKL+IAVINChQasJprBGUmL0m5XWbNm1sGesCodiQgACh1GWKYsZ46NChdtV7FBqUJqwkKE6s1RNewR5LA/ENpMZGqAcERYQqtx9/I9SRcS7MBhtsYBUDLCakRQ4rNgjLxBuwvokD4b9t27bms88+i4094BpR0hD8qRdgYeHc4Y31WFx8BorC2LFjE9NkE6uE4oKVi8xlBKInQd3I9kXdzjvvPPPYY4/ZRARkyWPWnvOxsCFWOa6FJBBxq6pHwQrGLD+Z5dyzq2+gFLIYI4kQ6kr5yZQJLRu0LdKzs8YV7wwKUCZlJh+rigNrJeeJs9ig2GBFpC1gwQWuhzqR6CAc/8N7zrtKzB/psrMtGpyvci2EEPUJrNau36wpHIfjNSg8IRoI+OYfeOCBni8A2biBE044wevUqZO32267edOnTw/2KmfOnDnegAEDPF9I8tZee20bI0Qcgi/0V/Hv57e+kmNjINinXbt23iqrrOL5SoyNK3IQ/0CMQHSLi43hHOPHj/c222wzWwfiC4hn2HfffT1fWQn2KscXDr1evXolxjr4Cl3seaMb13nyySd7vqAY/DIzxFysuOKKnq8M5hQnMWHCBK9jx472XB06dPAeeOABz1eMbBnX9sgjj9gYHeD658+fb/9Owlcgvfbt23v9+/evlzEX06ZNs+3PV4C8BQsWBKWFhZgZYmmIM3Lxb4cddpgt85VZW4+4fXxl3pa5jTb/6KOPel26dLHf+4p+lXgtX2GpchzeP35L+W+//RbsmZlx48bZNka8VxzU+dxzz7XvX48ePew70717d89XXCq9E9SHzVfs7TuaKQaO/YjF23777b1ff/01KBVCiIYDcb5xsc7vvvuuHZfiNuQi+mQ3Vjs4DsdrSDTif4EuJES9hvgTsrKR3Q0rDJmjfKGsYgHHOJhZJjMcv8HFJlN2LrcvqZZZc4R/awqvn6srdU+atSamgbTCTz31lNl6662D0tqBVdSJ5QhbpZJgJp/YJtIPMyNPfBDuTc8884zxFaKKtV74HgsYrnhJOFc9rHpdu3YNSusHbuFO1qe58cYbaxRjlQ9DhgyxVsU4uPfPPvusva9J+4ThXSAuigVdiVuKWn5ICU1WtCQOOeQQu2BwNrB44lpGBkTS0CeBhRULE+80sX5YGLEOYaF0cUS8TyeccILtC8LlUbD+YJGkTXPOTFYtIYSoj+DRQt8dXfIDWYY+EIs+nhu4pDs5CQ8a4qnxIsH12Y1dxBfj0cDyIg0GFCAhRHHD7D0z37VtDWGmHMtatoxymWBmv1WrVnZWCWsW//qCdUZLFNfIte644441ylBXF1BfMtzVNLteqeAsnPlYY7AsYnGKZoYjWxtW2pEjR9o2+9JLLwXfVIY2iHUTa5EQQjREkixA4LJoYvGJgvcCVvRBgwYFJQ3TAqQYICHqAa1bt7Zr5pCYgLiY2uLtt9828+fPzyvwPQpB5li4mK3Hcsa/LH7qFpyNg2vkWllDp7asJ2mABYwkFliAappdr1TAStOjR48Ky2E2sASRWTAc/+MgkQXWHKykvpJjY9Gi+OOeGT16tNl4441tohMhhCg1GGPJTEoSmSiM93hvjB8/viKza0NECpAQ9YSDDz7YJi3ArQghrtCQAIFkDbgUOde16kAWu2bNmgWfjA2mJ9taktsR18Y10gHvt99+QWnxg/KDuyApr0mukUuWu3xhoVtcvxD0GxJdunSx6bXvvfdeex/jIDEHLny4rOECh9sq7hoTJkyoSA5CQgOyxl133XXWRZUEC1Hqq3IthBBpgTsbLve4uiXBRJ4UICFEnYOPLvEkCHxkiys08+bNs6ve40NcE7bYYgvrS0zGPNZmIvV2JsGTa+MaL7nkkowxWcUEShsWHwRvsgPW9J7FwTmGDx9u05uvt956QWnDAAUbpRjFhoxzcZBV8bnnnrNKIJkXsRpNmzbNZidy8XhYdYhN4lh9+vSpomTXV+XaQbwgEyENLRvTu+++a5cn4BmLmkEbJxMn7wfWUiGiEAOEFZ3YXrK4RkHpYekPxppCjcHF8M4rCYIQ9YwvvvjCplZmoVEEvoYEnSKpx1H0Mi3kWmyQUh2Bm9ThuPilDd00SSR47pwjU/KI+gz38YorrrCJLwphQSv08fOF54rCT5p91s8i4QRBxnHWUb4/7LDDrMsKExPFkrgBt8Xp06cHn+LBXRFhC9eapOQxxfZsonz44Yd2Y/033IKPPvpou95asVHs9zETWHmZ/GLdOMY5rBNYanNdq6vQFHv9oiQlQUDpwOKelHjmk08+sev7bb/99hXJZAqRBKHO2yoKkBBCiOpBGmi/8/aGDBlSkAQVpGw/9dRTbdA/acH9wSv4puHB/SP99iGHHGLTdaeJP4DbdPfRlPh1yeOPP+61bdvWJm3YZZddbHr99957L/h2MdyXgQMH2jTj4dT7dQ1JUvr162cTT5BUgjbq0vpT5jbeD74jdfmoUaNi3xN3jd26dUv92afBJZdcYgPDuQ5SsvvCYPBN8fDRRx/Z+02Sj0zQhq655hqbCv6PP/4ISuuezz77zKbeb9Omjb3PPXv2tElSioVir1+UpCQItA/e09GjRwcllSG5DNdHv+QoRBKEun7n5QInhBDVxB8UrDWGxV5ZYDetWXkW+2QW7rTTTrMLwRJTBKRt9oVk+3dDhPuHWwTWrkzp66sD1lJcg4rFsohFB5fJtdde2yYJwSUFV8C42eRXX33V+MKIOeWUU2oUj5c21NUXpO0izHvuuactI7Xu1KlTbZya23Cnwb2R+KxevXqZW265xe4bhmfPbDrtHjfZYgO3SlwwWZR5jTXWsFsxQewcC07jcrztttsGpYvhvrrFu+lTsLRj0fDlwGCPuofEOLjAEncKWDuTUtnXBcVev1zBipUU/4PbJMtuEKuLFaiQ1PU7LwVICCGqAQGivXv3tvFMxJSQWYwECPluDDasu/B///d/du0c4ntYkwpBhngVlxSAweI///lPakqWqFtwp8KtBKFq9913NxdffLFtC+3atQv2KIfnTztAgdtkk02C0uJi9uzZVoiB7bbbzv4bZaONNrLrjaDA4XaDG1GUtdZay/z3v/+1bp5kqKop77//vlW4EPTT4LPPPrPJYUhGk7RmW12Ba97YsWOtm2Rc3AZKKPcDtyZcLosV4lNQqOOyPNaEtNpCoepXW7j6x8X/oAyjJLM2GzG4tZEkJu13Pi+sHUgIIUTOuLV+cBOora0+rokkknFuJr4yEJTEg+sJLlcjRowISooP3MGo4+qrr55xzTBc5nC74rpvuOGGoLQyzj0n7H5TXbh3Bx98cGruNUnrT9U1uBKxXluua2mNGTPGXscee+xRdO6Gbn2aLbbYwps5c2ZQWnPSaguFql8hiHOBc/WPrv8za9Ys62q9+eabx77DHCdtFzhHmu98PsgCJIQQecJsFdnHmEGrrY2AVaVtbjiwxhZky+j34osvWlezYk54giWLrJGkHc/kYsh14AYHzMjHgXWFY7zwwgtF5Z6Vaf2puuaHH34wL7/8sl3Xavnllw9K6yekqf/pp5+K0soGxV6/JH788UfTtWtXawHEismSA+3bt7cb7y3u1bRr2hHXVpvU1TsvBUgIIfJkwIABlWIcamM79dRTg7OL+sqsWbPsGkRkPSKuB2GaVN64QrLooHN3dOCuMnHiRBuzQexJNnDvIc6pX79+NmYIpYSNMtzUCgECC+5XQFY0UufmAkJ7nDsSiyUjiJFxipTnxQLuObjA4bLolFauferUqdaFlVT/0edXW+B+SCY+3GbrO8SncF8R1GkDxEGSKQwBvhgo9volwXp8zz//vHWFJP6Q+rqxhTY8efJkG79XFzGGdfXOSwESQgghagGsOQMHDrQCM8J0WVmZje8566yzzP3331+xoKsDQeXTTz+16aOzKRYvvfSSjbMhDoS1grAwkZiAmd1bb701Mf10TUFgQXCBpPgfBwoPig+svPLKscIWViLiAhDov//++6C07kFQDMf/oOyw8DGxW5QNGTLEKrF1AfFkPN/6lvY6iotPIc6RBCH33XefjXv87bffrHXLtbO6otjrV1+pq3deCpAQQghRC5AxEEGajEcI/7ik4D5GGcHHUYUAgXvmzJmmRYsWGbNNsZYQC7sSTIxghjB23nnnWXcoFKF8LDP5QjIQgqZJ3JHNdYaFXFHogFnfpIQeq666qnU549qLBdY7AjJ/YQE455xzrGvqpZdeagPGcY2KKrC1BTP4JD6oi9n7NMEqwVpwtIszzzzTXH/99TYb2UknnWTfAe4zFs26otjrV5+pi3deCpAQQghRixA/hqDErCezn0mQDp0NH/0kcGlBGMei0r9//4oMYAjDuGtB1DKDoMGWBihYXEu2+B9A+XEWIBSJJDgOSgYz7sVAOP4Hd0Qsdl26dLFZG7EEsZFSGAtcFGa183WNY5HNp59+2vz+++9BSWY4PrFVuDnVZ1x8DfGO3bt3r1CQsW41btzYfPDBB3ZSoK6oaf1o08S+YQmWolSZunjnpQAJIYQQtQgz9pBGzAauc1999ZVVKHCVc+CW8/rrr1exzOCytssuu9i1TGpqsUBgySf+Z8yYMfY3xNBsvvnmQWlVWrZsGfyVHdy/oqnl3YagiYWKuKu47yknLisbLv4HIRfLGpa7bt262e9IW04c15QpU6wLGtfHPebcffr0sW6IuZzDgTWN3yBgn3zyyXVmVYoDRQs3v7h7mW3jOWUDFzLuX3R9HeLXUEJxCaVdJ1HotlDT+vGu8Nu9997bXHvttUFp4UBBJ911GnAcjlco8nnn00IKkBBCCFFLuDgCBKhsMRvECGUCgY0EB8CsdNiljJloFKNoAgUEDdacIg4pk1tdLuQT/8PMOUIoHHrooaZ169b27/qAi/9B+MV616NHD9O3b9/Y2f758+ebBx980Fq6iBWqiQLTvHnzrLFb1KmYlKTqwnuRlGUPKyfuk3Vp5Uq7fpksv1HI/lmdjbpQp7jv8t3ctcV9l8tWlPgvjxBCiBrCWhy+QOgtWLAgKKk53377barHE3WPLzR7HTp08NZff31v+vTpQWk8rL3B+jqDBw8OSirjvo9bf4d1g1jrJbreR5r4yk9O6/8Aa4hQH9bPyraelas769XUBO5PGmu/hNf/8ZUNb9iwYXbdkmzr6PDcfGHZ85WhoCQ3pk2b5j3zzDPeH3/8EZRkpk+fPnmdpxjXAXLvBRt/h3H3nzWk5s2bF5TmR03bQhr1Y4x47733vBdffFH9eoS03vl8kAVICCFS4JVXXrExHU888URQkj9+n1wj9xlR/PjCkw30xQ0M97RMMPvP5isXQUk8WHhWWmml4FM5zjUt7GaHC9ANN9xg3bnSINf1f7ASXXDBBTZO5qabbso6I/zdd99Za1Y+s+SFgsx1JEAgpqpTp072eZBwYsstt7TxHFjZeG9Jg00MSBqsvfbaZrfddrOB9blA3Bf9RLGnYs4E1k4sWVgsw66UuJXhdkd7OPzww+usTaRRP/bxFSibOMHF6oly6uKdlwIkhBApgEBLKlyUluqSpvuMKE4Iip87d66N18km4DrFBiE8ri2Q5Q1lgn3CggMuOc8++6xVsNwCqmSvIkPcKqusYl24oulmEeTw8Wd/4lmyQX2cS1tS/A+KAfuQ/Y66kP0ul1TN1I1rIzNUXYPr3scff2zWWGMNuwHPD2WSayL5BJMWZOJrWQdxDIACSnxOfQ6sJ74K9zL6vWbNmgWl5coziTb22Wcfm9K9rij2+qXB8OHDrXts3DZo0CDr/sk7HSbuN+eff37e647VxTsvBUgIIVIAYbVXr145z9rGgRB74oknWgG1GIQ/kT4uGHzTTTe1/2YC5QbFGoUGoTsKaZiJvSFrmEsfSywCCQ7C8T8ILWQVO/74462iw0wr8SVhWAhx9OjRNtMVVqIk5RtBG6WAOCZ+A1h2sD6ENxZdRChk22abbez6RNnSZAOxFtQhGrtUV7jMX9Qd4ReYvUfh4/4vvfTS9lr5PpyEojYhQJ1sgShlSXBf3bNxFkDaAoInZShxUeG2NkGR3HXXXa2ySV2Ads2ivttuu61NGlCXVpNir18akJzhiCOOsAkh6KdOOeUUm/Hw9NNPt8o/ax7Rt4QXMA7/BkWQ2DjSgmdLiBKmrt55KUBCCFEDEBpefvllM3To0JzT1orSBKUCS0xcIHUcKMSbbbaZVWZwnYvCcViIE0Gc2eeePXtaYYyZVGA9IPc3QgnWn6eeesrssMMONqg5DK45W221lVWOOBfWyDhOPfVUm14bNx4EZ2BxVxS18Hbsscdal1Dcx8hUl6tgg3CJkInrnlM46hIEQd5xMudxv4F7d+SRR1oFkGxtw4YNs/eXe1cX4DLHs3Vuj3FgiXPPhrTpgBJL+6KMthMWbGsb7t1pp51mJ35oWyTKoC2jdDz88MNZ3UULTbHXLw1433Blpd9hgoR3lsQHlHG9KPokgjj77LMrJkjCv2HChvuDspgteUeYunrnpQAJIUQNuP322+1MIB04gqCbRSUtqptxzbbl6y4g6ic8508++cQqEAidubDzzjvbtoTiFAfCB9YVYtAGDx5s43Kc0uPifxDemJFlHR6EXmJYoiDoPPfcczbjWSbr44033mgtB9k2UkMzK06a6Hzg/vBO7L777nWmUIRBkSM19WGHHRaUlMNMOO/9XXfdZeP+MsVAFRrOjZWNtOdJaZhRkOOek9tIUY41qy5B4OZe0pavueYae3+vuOKKGlnV06TY61docF/Finzvvfdaa09a1NU7LwVICCGqCa4xBG8S48AsPUKm68CJ9WC2LJeNIPe6dD8RhYNZ9TvuuMPOntIm2Lbffnuz4oorBntkBssMbm7EhiXFeNDmOB6ppVGWCM4Px/84cIPDlQV3rVGjRsVaLFGSOE5dCMO8A7jhUW+sVzWFWWhmpmsiVOHWxL2MOwaz1dyrunZ9wjKF2yxJGLC41WdcW0Yh59mlRRptAQpVv2ygIKBsEWODiyqfHSTAwP2RMiYesODSV2C9pJwkDa7vYJ8HHnjATmSwL65rvXv3NhMnTrTfZ4P1u7iXI0eODEpqRtrvfD5IARJCiGqCYHTGGWfYGA0Cx8MJEBAyXQxEto2MUjUdmEVxQuKB/v37W+sMLkoLFiwwBx10UM7Pm+xjCD0ItrkkJ0ARR6GO+tOjGE2YMMGuF4SVAMEo6qdPfA+KFgt91gXEASCQYXVJY+0QlMe77767JGbou3TpYq2FzM7zHEVl6nNbIE6LZ4sFmUQ7uDsyKeLW4MJd9dFHHzUbbbSRdU8jHgxwy95pp52sBRPYH0sgFkMWZCVrHZZlXFWzZZp0kAwCUK7oU2pK2u98PkgBEkKIasLMLwMqGbeIw9hkk02Cb4QoBwsh7QT3DmZicaXKJQFCGIQdrIy4lCVZgVBosOpccskldh82XNpwLwF8+lHKyeR02WWX2eOFlTBmYolloD0T21DbcP7bbrvNTgbEuejVJ84880ybme3CCy+0Fj/c07beeuuKBBiFAEUZ4XfSpEnWRUs0HLA0EquF9RbrC0oMrqUodIDLKslzKKevwSpJe6Dd8a6TpIByUtCTsIR3jMQZ++67r3Xpw53zqKOOsseqTer6nZcCJIQQNQD/eQLLEXDJZuPWAUIYbd++fU4bwbVYBkTDg0xKxOJceumlVknmXxdMnyvsjzDNTC8CA4JDFCxEJONAGCJAn4QGCMJulpZjXH311eaiiy4yN998c5V01MwaE9xPCtu6cOkijTQWKhS4ujh/miB0MqOOpY3+gViRV1991QqdhQQ3Ip4xilCmjHCifoE76vDhw22a+nHjxpmrrrrKxpyGLX2832Rkow/AjZUkBcTz4W7rSNMyyERJLokOsFrxbsdR5++835EKIYSoJqwwzirs/OsrPZ4/QAXf1IzqriIvGi6//PKL1717d2/06NFBScPgnXfe8fbZZx9v+vTpQYmoLmVlZd6jjz7q+cKyN3fu3KBU1Gf+/PNPz1dqvU033dR74okn7Jiwxx57eH369An2KGfGjBneZptt5g0aNMj78MMPPV+xsO3B8dprr3m+kuxNnjzZmzZtmrfzzjt7119/ffBtORybcYfjx7Uf+p6WLVt6t912W1CS+TdTp071Lr/88uDTYorhnW/E/wJdSAghRJ7g4oQvNTPu+Eefd955NZrNwn3mscces8GqrD7OIpfEctx5550Fn0EWQghRXGD9Offcc20SEzwGsOoeeOCB1orLGj3Eoro03Fh4cbXFbZZ1e8KJBYgPAyyTJPDZf//9rdUw7ArLuEPcEDGEJDoIJ0PBgnT00UdbV048HVzmw0y/wROCMfLkk08OSooHucAJIUQNYBAgiw2B7gw+NTXl15X7jBBCiOKDxCbE9Lg1clCAUGCA9Z1ckgPAFRsFhYQp0TEDdzQyvxFvQ8wQmeyS1vuKQkwhrne4rJHVMpe072QlZEwkaUMxIguQEEIIIYQQRQgWFBIZkHa7W7dudoKMhCYoF7vttptNjuIyqKGokBKdhAh9+vSxZQ6ywGEVii54y8K4LHCM98KIESPMzJkzrTcDChL/4onAZBwWI7KehpUfPBbifkM8LGXA99Sn2JACJIQQQgghRBGDBYdkJW5dKhLn4HEQTamPgkN52Bvh559/Nj179rTJVHDXBo5FUgXc0+65555aX4enrpELnBBCCCGEEEUMLnAswuoUnmbNmlVRfoAMbVFXbOJ05s6dWyn7I1ncSM9Oem2Uq1JDCpAQQgghhBANFNalIk02sarvv/++VYj4Fzc51gaqi7W/6hq5wAkhhBBCCNHA+eWXX8zkyZPNr7/+auOGOnbsaK1CcZakho4UICGEEEIIIUTJIBc4IYQQQgghRMkgBUgIIYQQQghRMkgBEkIIIYQQQpQMUoCEEEIIIYQQJYMUICGEEEIIIUTJIAVICCGEEEIIUTJIARJCCCGEEEKUDFKAhBBCCCGEECWDFCAhhBBCCCFEySAFSAghhBBCCFEySAESQgghhBBClAxSgIQQQgghhBAlgxQgIYQQQgghRMkgBUgIIYQQQghRIhjz/9KKvU/IRDk+AAAAAElFTkSuQmCC)"
      ],
      "metadata": {
        "id": "YSPyOtcgwX2B"
      }
    },
    {
      "cell_type": "markdown",
      "source": [
        "** Tokenize each sentence or descriptions"
      ],
      "metadata": {
        "id": "QOvD_A7IzH96"
      }
    },
    {
      "cell_type": "code",
      "execution_count": 44,
      "metadata": {
        "colab": {
          "base_uri": "https://localhost:8080/"
        },
        "id": "A0-gJrderYfl",
        "outputId": "7239002f-f699-4cf8-e74b-488e01ca7ea2"
      },
      "outputs": [
        {
          "output_type": "stream",
          "name": "stderr",
          "text": [
            "[nltk_data] Downloading package punkt to /root/nltk_data...\n",
            "[nltk_data]   Unzipping tokenizers/punkt.zip.\n"
          ]
        },
        {
          "output_type": "stream",
          "name": "stdout",
          "text": [
            "/root/nltk_data/tokenizers/punkt\n"
          ]
        }
      ],
      "source": [
        "import nltk\n",
        "nltk.download('punkt')\n",
        "print(nltk.data.find(\"tokenizers/punkt\"))\n"
      ]
    },
    {
      "cell_type": "code",
      "execution_count": 46,
      "metadata": {
        "colab": {
          "base_uri": "https://localhost:8080/"
        },
        "id": "Df-3_5A7rYfl",
        "outputId": "f4be135a-0bd1-40e5-ba64-f34a976e0115"
      },
      "outputs": [
        {
          "output_type": "stream",
          "name": "stderr",
          "text": [
            "[nltk_data] Downloading package punkt_tab to /root/nltk_data...\n",
            "[nltk_data]   Unzipping tokenizers/punkt_tab.zip.\n"
          ]
        }
      ],
      "source": [
        "from rank_bm25 import BM25Okapi\n",
        "#nltk.data.path.append(r\"C:/Users/sayantika.chatterjee/AppData/Roaming/nltk_data\")\n",
        "nltk.download('punkt_tab')\n",
        "\n",
        "from nltk.tokenize import word_tokenize\n",
        "tokenized_output = [word_tokenize(t.lower()) for t in texts]\n",
        "bm25 = BM25Okapi(tokenized_output)"
      ]
    },
    {
      "cell_type": "code",
      "execution_count": 48,
      "metadata": {
        "colab": {
          "base_uri": "https://localhost:8080/"
        },
        "id": "CJivqJNZrYfm",
        "outputId": "4212c91d-3407-40f1-e0e4-374d1d50d94a"
      },
      "outputs": [
        {
          "output_type": "execute_result",
          "data": {
            "text/plain": [
              "['white', 'hanging', 'heart', 't-light', 'holder']"
            ]
          },
          "metadata": {},
          "execution_count": 48
        }
      ],
      "source": [
        "tokenized_output[0]"
      ]
    },
    {
      "cell_type": "code",
      "source": [
        "bm25.corpus_size"
      ],
      "metadata": {
        "colab": {
          "base_uri": "https://localhost:8080/"
        },
        "id": "cZahAGCgxzjb",
        "outputId": "af5e2a5b-5d1f-468a-9c8f-cec3cfc1309e"
      },
      "execution_count": 51,
      "outputs": [
        {
          "output_type": "execute_result",
          "data": {
            "text/plain": [
              "3896"
            ]
          },
          "metadata": {},
          "execution_count": 51
        }
      ]
    },
    {
      "cell_type": "code",
      "source": [
        "bm25.get_scores(tokenized_output[0])"
      ],
      "metadata": {
        "colab": {
          "base_uri": "https://localhost:8080/"
        },
        "id": "YbxF_gt3ySVD",
        "outputId": "07b69cdd-93fc-4aa0-be53-5503fb328829"
      },
      "execution_count": 57,
      "outputs": [
        {
          "output_type": "execute_result",
          "data": {
            "text/plain": [
              "array([15.99592257,  3.93991845,  0.        , ...,  0.        ,\n",
              "       12.81357189,  0.        ])"
            ]
          },
          "metadata": {},
          "execution_count": 57
        }
      ]
    },
    {
      "cell_type": "markdown",
      "source": [
        "# Get the score of the Query using BM25"
      ],
      "metadata": {
        "id": "JQwLsXEMzdpR"
      }
    },
    {
      "cell_type": "code",
      "execution_count": 58,
      "metadata": {
        "colab": {
          "base_uri": "https://localhost:8080/"
        },
        "id": "c6J2V6N43Ba4",
        "outputId": "49b4536c-071c-4fca-c801-22db478cfe21"
      },
      "outputs": [
        {
          "output_type": "execute_result",
          "data": {
            "text/plain": [
              "array([0., 0., 0., ..., 0., 0., 0.])"
            ]
          },
          "metadata": {},
          "execution_count": 58
        }
      ],
      "source": [
        "query=\"Keychain with alphabet\"\n",
        "tokenized_query=word_tokenize(query.lower())\n",
        "bm25_scores=bm25.get_scores(tokenized_query)\n",
        "bm25_scores"
      ]
    },
    {
      "cell_type": "code",
      "execution_count": 59,
      "metadata": {
        "colab": {
          "base_uri": "https://localhost:8080/"
        },
        "id": "v0WoaAVb4250",
        "outputId": "4ca2de54-19e4-4679-e894-731b6ae0fe68"
      },
      "outputs": [
        {
          "output_type": "stream",
          "name": "stdout",
          "text": [
            "Score: 6.4563 | Doc: ALPHABET STENCIL CRAFT\n",
            "Score: 6.4563 | Doc: JUMBO BAG ALPHABET\n",
            "Score: 6.4563 | Doc: WRAP ALPHABET DESIGN\n",
            "Score: 6.4563 | Doc: WRAP ALPHABET POSTER\n",
            "Score: 5.7695 | Doc: ALPHABET HEARTS STICKER SHEET\n",
            "Score: 5.7695 | Doc: TRADTIONAL ALPHABET STAMP SET\n",
            "Score: 5.7695 | Doc: CHARLOTTE BAG ALPHABET DESIGN\n",
            "Score: 5.7695 | Doc: CHARLOTTE BAG VINTAGE ALPHABET\n",
            "Score: 5.7695 | Doc: LUNCH BAG ALPHABET DESIGN\n",
            "Score: 5.2148 | Doc: BOYS ALPHABET IRON ON PATCHES\n",
            "Score: 5.2148 | Doc: BOX OF VINTAGE ALPHABET BLOCKS\n",
            "Score: 5.2148 | Doc: 70'S ALPHABET WALL ART\n",
            "Score: 5.2148 | Doc: WALL ART 70'S ALPHABET\n",
            "Score: 5.2148 | Doc: GIRLS ALPHABET IRON ON PATCHES\n",
            "Score: 4.7575 | Doc: BUNDLE OF 3 ALPHABET EXERCISE BOOKS\n",
            "Score: 4.0443 | Doc: HEART DECORATION WITH PEARLS\n",
            "Score: 4.0443 | Doc: BROCANTE SHELF WITH HOOKS\n",
            "Score: 4.0443 | Doc: FILIGRIS HEART WITH BUTTERFLY\n",
            "Score: 4.0443 | Doc: JIGSAW TREE WITH BIRDHOUSE\n",
            "Score: 4.0443 | Doc: HANGING HEART WITH BELL\n",
            "Score: 4.0443 | Doc: UTILTY CABINET WITH HOOKS\n",
            "Score: 4.0443 | Doc: REGENCY MIRROR WITH SHUTTERS\n",
            "Score: 3.6555 | Doc: SKULL LUNCH BOX WITH CUTLERY\n",
            "Score: 3.6555 | Doc: WHITE WITH METAL BAG CHARM\n"
          ]
        }
      ],
      "source": [
        "top_n = np.argsort(bm25_scores)[::-1][:24]\n",
        "for idx in top_n:\n",
        "    print(f\"Score: {bm25_scores[idx]:.4f} | Doc: {texts[idx]}\")"
      ]
    },
    {
      "cell_type": "code",
      "execution_count": 60,
      "metadata": {
        "colab": {
          "base_uri": "https://localhost:8080/"
        },
        "id": "e3cuVMMCNQli",
        "outputId": "c593524c-48b5-453a-92f9-18a3b0edb7ac"
      },
      "outputs": [
        {
          "output_type": "execute_result",
          "data": {
            "text/plain": [
              "array([ 979, 2956, 2537, 3437, 1603, 3808, 2961, 2955, 2957, 2685,   16,\n",
              "       3691, 3715, 2684, 3120, 1508, 1021, 1059, 1617, 2732, 1612, 1959,\n",
              "       1428, 3403])"
            ]
          },
          "metadata": {},
          "execution_count": 60
        }
      ],
      "source": [
        "top_n"
      ]
    },
    {
      "cell_type": "markdown",
      "source": [
        "# Calculate the Precision and Recall of the Retrieved Results(Using BM25)"
      ],
      "metadata": {
        "id": "apMfSjzKzlMG"
      }
    },
    {
      "cell_type": "code",
      "execution_count": 61,
      "metadata": {
        "colab": {
          "base_uri": "https://localhost:8080/"
        },
        "id": "y0AAEqCLNJap",
        "outputId": "82c77662-22b7-429e-e4cf-e79d7c10aa9a"
      },
      "outputs": [
        {
          "output_type": "stream",
          "name": "stdout",
          "text": [
            "Precision: 0.00\n",
            "Recall: 0.00\n"
          ]
        }
      ],
      "source": [
        "retrieved_set_q4=set(top_n)\n",
        "relevant_set_q4=set(query4_relevant_index)\n",
        "true_positives_q4 = retrieved_set_q4 & relevant_set_q4\n",
        "\n",
        "precision_q4 = len(true_positives_q4) / len(retrieved_set_q4)\n",
        "recall_q4 = len(true_positives_q4) / len(relevant_set_q4)\n",
        "\n",
        "print(f\"Precision: {precision_q4:.2f}\")\n",
        "print(f\"Recall: {recall_q4:.2f}\")"
      ]
    },
    {
      "cell_type": "code",
      "execution_count": null,
      "metadata": {
        "id": "pth6Ed48ODlD"
      },
      "outputs": [],
      "source": [
        "from datetime import datetime"
      ]
    },
    {
      "cell_type": "code",
      "execution_count": null,
      "metadata": {
        "colab": {
          "base_uri": "https://localhost:8080/"
        },
        "id": "xQ-3pYAF5Ic-",
        "outputId": "e9715069-887f-43b9-e292-b39e8a4e43e7"
      },
      "outputs": [
        {
          "name": "stdout",
          "output_type": "stream",
          "text": [
            "Score: 4.6172 | Doc: POPCORN HOLDER\n",
            "Score: 4.0676 | Doc: SMALL POPCORN HOLDER\n",
            "Score: 4.0676 | Doc: LARGE POPCORN HOLDER\n",
            "total time taken for keyword search 0:00:00.002746\n"
          ]
        }
      ],
      "source": [
        "start_time = datetime.now()\n",
        "query3=\"holder\"\n",
        "tokenized_query3=word_tokenize(query3.lower())\n",
        "bm25_scores_3=bm25.get_scores(tokenized_query3)\n",
        "top_n = np.argsort(bm25_scores_3)[::-1][:3]\n",
        "end_time = datetime.now()\n",
        "for idx in top_n:\n",
        "    print(f\"Score: {bm25_scores_3[idx]:.4f} | Doc: {texts[idx]}\")\n",
        "print(f\"total time taken for keyword search {end_time-start_time}\")"
      ]
    },
    {
      "cell_type": "code",
      "execution_count": null,
      "metadata": {
        "id": "V4cJDfkq5lYR"
      },
      "outputs": [],
      "source": [
        "dataset_modified_1.to_csv('/content/drive/MyDrive/capstone_lumen/dataset_modified.csv')"
      ]
    },
    {
      "cell_type": "code",
      "execution_count": null,
      "metadata": {
        "colab": {
          "base_uri": "https://localhost:8080/"
        },
        "id": "dC9l-qV6EPLq",
        "outputId": "18dc9a95-8f61-4ed3-ef8a-4ecf4b9e5496"
      },
      "outputs": [
        {
          "name": "stdout",
          "output_type": "stream",
          "text": [
            "total time taken for vector search 0:00:00.023755\n",
            "POPCORN HOLDER\n",
            "RED STAR CARD HOLDER\n",
            "FRENCH ENAMEL UTENSIL HOLDER\n"
          ]
        }
      ],
      "source": [
        "start_time= datetime.now()\n",
        "query4=\"holder\"\n",
        "embed_query4=embed_model.encode([query4])\n",
        "k=3\n",
        "distances_q4,indices_q4=faiss_index.search(embed_query4,k)\n",
        "end_time=datetime.now()\n",
        "print(f\"total time taken for vector search {end_time-start_time}\")\n",
        "# print(f\"Nearest item indices for query 4:\",indices_q4)\n",
        "# print(f\"Nearest item distances for query4:\",distances_q4)\n",
        "indices_q4= indices_q4.flatten().tolist()\n",
        "for i in indices_q4:\n",
        "  print(dataset_modified_1[i])"
      ]
    },
    {
      "cell_type": "code",
      "source": [
        "def search_result(query, top_k=5):\n",
        "    # Semantic Search\n",
        "    query_embedding = embed_model.encode([query])\n",
        "    distances, indices = faiss_index.search(query_embedding, top_k)\n",
        "    indices = indices.flatten().tolist()\n",
        "    semantic_outcome = [dataset_modified_1[i] for i in indices]\n",
        "\n",
        "    # Keyword Search using BM25\n",
        "    tokenized_query = word_tokenize(query.lower())\n",
        "    bm25_scores = bm25.get_scores(tokenized_query)\n",
        "    keyword_indices = np.argsort(bm25_scores)[::-1][:top_k]\n",
        "    keyword_search_outcome = [dataset_modified_1[i] for i in keyword_indices]\n",
        "\n",
        "    # Build HTML with <br> for line breaks\n",
        "    semantic_html = \"<br>\".join([f\"- {r}\" for r in semantic_outcome])\n",
        "    keyword_html = \"<br>\".join([f\"- {r}\" for r in keyword_search_outcome])\n",
        "\n",
        "    results = f\"\"\"\n",
        "        <h3 style='color:#1f77b4;'>🔍 Semantic Search Results</h3>\n",
        "        {semantic_html}\n",
        "        <br><br>\n",
        "        <h3 style='color:#2ca02c;'>📚 Keyword Search Results (BM25)</h3>\n",
        "        {keyword_html}\n",
        "    \"\"\"\n",
        "\n",
        "    return results"
      ],
      "metadata": {
        "id": "xAGhu3Eq3abe"
      },
      "execution_count": 70,
      "outputs": []
    },
    {
      "cell_type": "code",
      "source": [
        "with gr.Blocks(title=\"E-Commerce Search Engine\") as demo:\n",
        "    gr.Markdown(\"## 🛍️ Semantic vs Keyword Search Demo\")\n",
        "\n",
        "    query_input = gr.Textbox(label=\"Enter your product search query\", placeholder=\"e.g. heart candle holder\")\n",
        "    output_html = gr.HTML()\n",
        "\n",
        "    search_button = gr.Button(\"Search 🔎\")\n",
        "    search_button.click(fn=search_result, inputs=query_input, outputs=output_html)\n",
        "\n",
        "demo.launch()\n"
      ],
      "metadata": {
        "colab": {
          "base_uri": "https://localhost:8080/",
          "height": 650
        },
        "id": "kc7g9vw_3MMx",
        "outputId": "923d58a5-8b9c-44cb-c5da-33d76bddb584"
      },
      "execution_count": 71,
      "outputs": [
        {
          "output_type": "stream",
          "name": "stdout",
          "text": [
            "It looks like you are running Gradio on a hosted a Jupyter notebook. For the Gradio app to work, sharing must be enabled. Automatically setting `share=True` (you can turn this off by setting `share=False` in `launch()` explicitly).\n",
            "\n",
            "Colab notebook detected. To show errors in colab notebook, set debug=True in launch()\n",
            "* Running on public URL: https://82ea84b674d742adf1.gradio.live\n",
            "\n",
            "This share link expires in 1 week. For free permanent hosting and GPU upgrades, run `gradio deploy` from the terminal in the working directory to deploy to Hugging Face Spaces (https://huggingface.co/spaces)\n"
          ]
        },
        {
          "output_type": "display_data",
          "data": {
            "text/plain": [
              "<IPython.core.display.HTML object>"
            ],
            "text/html": [
              "<div><iframe src=\"https://82ea84b674d742adf1.gradio.live\" width=\"100%\" height=\"500\" allow=\"autoplay; camera; microphone; clipboard-read; clipboard-write;\" frameborder=\"0\" allowfullscreen></iframe></div>"
            ]
          },
          "metadata": {}
        },
        {
          "output_type": "execute_result",
          "data": {
            "text/plain": []
          },
          "metadata": {},
          "execution_count": 71
        }
      ]
    },
    {
      "cell_type": "code",
      "source": [],
      "metadata": {
        "id": "3yv5Dvq52SD9"
      },
      "execution_count": null,
      "outputs": []
    }
  ],
  "metadata": {
    "colab": {
      "provenance": [],
      "include_colab_link": true
    },
    "kernelspec": {
      "display_name": "venv",
      "language": "python",
      "name": "python3"
    },
    "language_info": {
      "codemirror_mode": {
        "name": "ipython",
        "version": 3
      },
      "file_extension": ".py",
      "mimetype": "text/x-python",
      "name": "python",
      "nbconvert_exporter": "python",
      "pygments_lexer": "ipython3",
      "version": "3.13.0"
    },
    "widgets": {
      "application/vnd.jupyter.widget-state+json": {
        "3ccd690df71b49f297617dde4e5a7446": {
          "model_module": "@jupyter-widgets/controls",
          "model_name": "HBoxModel",
          "model_module_version": "1.5.0",
          "state": {
            "_dom_classes": [],
            "_model_module": "@jupyter-widgets/controls",
            "_model_module_version": "1.5.0",
            "_model_name": "HBoxModel",
            "_view_count": null,
            "_view_module": "@jupyter-widgets/controls",
            "_view_module_version": "1.5.0",
            "_view_name": "HBoxView",
            "box_style": "",
            "children": [
              "IPY_MODEL_7c801fdab48246a48277df829a29395b",
              "IPY_MODEL_5209b5050ed74e55a880bc910bf867b4",
              "IPY_MODEL_8f68042cb5f8443fa9d7988b5ec754e4"
            ],
            "layout": "IPY_MODEL_1d94cfbcd1484b84b1835b15d14a35c9"
          }
        },
        "7c801fdab48246a48277df829a29395b": {
          "model_module": "@jupyter-widgets/controls",
          "model_name": "HTMLModel",
          "model_module_version": "1.5.0",
          "state": {
            "_dom_classes": [],
            "_model_module": "@jupyter-widgets/controls",
            "_model_module_version": "1.5.0",
            "_model_name": "HTMLModel",
            "_view_count": null,
            "_view_module": "@jupyter-widgets/controls",
            "_view_module_version": "1.5.0",
            "_view_name": "HTMLView",
            "description": "",
            "description_tooltip": null,
            "layout": "IPY_MODEL_d7162aa4b4d44df8aefd2c83bca6450a",
            "placeholder": "​",
            "style": "IPY_MODEL_cf9ff2e756ae4b5eb4497efae84dffa9",
            "value": "modules.json: 100%"
          }
        },
        "5209b5050ed74e55a880bc910bf867b4": {
          "model_module": "@jupyter-widgets/controls",
          "model_name": "FloatProgressModel",
          "model_module_version": "1.5.0",
          "state": {
            "_dom_classes": [],
            "_model_module": "@jupyter-widgets/controls",
            "_model_module_version": "1.5.0",
            "_model_name": "FloatProgressModel",
            "_view_count": null,
            "_view_module": "@jupyter-widgets/controls",
            "_view_module_version": "1.5.0",
            "_view_name": "ProgressView",
            "bar_style": "success",
            "description": "",
            "description_tooltip": null,
            "layout": "IPY_MODEL_ef01f20fd1854c8da252ebd1c94fea70",
            "max": 349,
            "min": 0,
            "orientation": "horizontal",
            "style": "IPY_MODEL_eef07f8644ad4660ab12ccf0f8ac3ddb",
            "value": 349
          }
        },
        "8f68042cb5f8443fa9d7988b5ec754e4": {
          "model_module": "@jupyter-widgets/controls",
          "model_name": "HTMLModel",
          "model_module_version": "1.5.0",
          "state": {
            "_dom_classes": [],
            "_model_module": "@jupyter-widgets/controls",
            "_model_module_version": "1.5.0",
            "_model_name": "HTMLModel",
            "_view_count": null,
            "_view_module": "@jupyter-widgets/controls",
            "_view_module_version": "1.5.0",
            "_view_name": "HTMLView",
            "description": "",
            "description_tooltip": null,
            "layout": "IPY_MODEL_b766447439af4100857613209021a41e",
            "placeholder": "​",
            "style": "IPY_MODEL_98ef1536046e4c0c92e3e108b2422df1",
            "value": " 349/349 [00:00&lt;00:00, 13.9kB/s]"
          }
        },
        "1d94cfbcd1484b84b1835b15d14a35c9": {
          "model_module": "@jupyter-widgets/base",
          "model_name": "LayoutModel",
          "model_module_version": "1.2.0",
          "state": {
            "_model_module": "@jupyter-widgets/base",
            "_model_module_version": "1.2.0",
            "_model_name": "LayoutModel",
            "_view_count": null,
            "_view_module": "@jupyter-widgets/base",
            "_view_module_version": "1.2.0",
            "_view_name": "LayoutView",
            "align_content": null,
            "align_items": null,
            "align_self": null,
            "border": null,
            "bottom": null,
            "display": null,
            "flex": null,
            "flex_flow": null,
            "grid_area": null,
            "grid_auto_columns": null,
            "grid_auto_flow": null,
            "grid_auto_rows": null,
            "grid_column": null,
            "grid_gap": null,
            "grid_row": null,
            "grid_template_areas": null,
            "grid_template_columns": null,
            "grid_template_rows": null,
            "height": null,
            "justify_content": null,
            "justify_items": null,
            "left": null,
            "margin": null,
            "max_height": null,
            "max_width": null,
            "min_height": null,
            "min_width": null,
            "object_fit": null,
            "object_position": null,
            "order": null,
            "overflow": null,
            "overflow_x": null,
            "overflow_y": null,
            "padding": null,
            "right": null,
            "top": null,
            "visibility": null,
            "width": null
          }
        },
        "d7162aa4b4d44df8aefd2c83bca6450a": {
          "model_module": "@jupyter-widgets/base",
          "model_name": "LayoutModel",
          "model_module_version": "1.2.0",
          "state": {
            "_model_module": "@jupyter-widgets/base",
            "_model_module_version": "1.2.0",
            "_model_name": "LayoutModel",
            "_view_count": null,
            "_view_module": "@jupyter-widgets/base",
            "_view_module_version": "1.2.0",
            "_view_name": "LayoutView",
            "align_content": null,
            "align_items": null,
            "align_self": null,
            "border": null,
            "bottom": null,
            "display": null,
            "flex": null,
            "flex_flow": null,
            "grid_area": null,
            "grid_auto_columns": null,
            "grid_auto_flow": null,
            "grid_auto_rows": null,
            "grid_column": null,
            "grid_gap": null,
            "grid_row": null,
            "grid_template_areas": null,
            "grid_template_columns": null,
            "grid_template_rows": null,
            "height": null,
            "justify_content": null,
            "justify_items": null,
            "left": null,
            "margin": null,
            "max_height": null,
            "max_width": null,
            "min_height": null,
            "min_width": null,
            "object_fit": null,
            "object_position": null,
            "order": null,
            "overflow": null,
            "overflow_x": null,
            "overflow_y": null,
            "padding": null,
            "right": null,
            "top": null,
            "visibility": null,
            "width": null
          }
        },
        "cf9ff2e756ae4b5eb4497efae84dffa9": {
          "model_module": "@jupyter-widgets/controls",
          "model_name": "DescriptionStyleModel",
          "model_module_version": "1.5.0",
          "state": {
            "_model_module": "@jupyter-widgets/controls",
            "_model_module_version": "1.5.0",
            "_model_name": "DescriptionStyleModel",
            "_view_count": null,
            "_view_module": "@jupyter-widgets/base",
            "_view_module_version": "1.2.0",
            "_view_name": "StyleView",
            "description_width": ""
          }
        },
        "ef01f20fd1854c8da252ebd1c94fea70": {
          "model_module": "@jupyter-widgets/base",
          "model_name": "LayoutModel",
          "model_module_version": "1.2.0",
          "state": {
            "_model_module": "@jupyter-widgets/base",
            "_model_module_version": "1.2.0",
            "_model_name": "LayoutModel",
            "_view_count": null,
            "_view_module": "@jupyter-widgets/base",
            "_view_module_version": "1.2.0",
            "_view_name": "LayoutView",
            "align_content": null,
            "align_items": null,
            "align_self": null,
            "border": null,
            "bottom": null,
            "display": null,
            "flex": null,
            "flex_flow": null,
            "grid_area": null,
            "grid_auto_columns": null,
            "grid_auto_flow": null,
            "grid_auto_rows": null,
            "grid_column": null,
            "grid_gap": null,
            "grid_row": null,
            "grid_template_areas": null,
            "grid_template_columns": null,
            "grid_template_rows": null,
            "height": null,
            "justify_content": null,
            "justify_items": null,
            "left": null,
            "margin": null,
            "max_height": null,
            "max_width": null,
            "min_height": null,
            "min_width": null,
            "object_fit": null,
            "object_position": null,
            "order": null,
            "overflow": null,
            "overflow_x": null,
            "overflow_y": null,
            "padding": null,
            "right": null,
            "top": null,
            "visibility": null,
            "width": null
          }
        },
        "eef07f8644ad4660ab12ccf0f8ac3ddb": {
          "model_module": "@jupyter-widgets/controls",
          "model_name": "ProgressStyleModel",
          "model_module_version": "1.5.0",
          "state": {
            "_model_module": "@jupyter-widgets/controls",
            "_model_module_version": "1.5.0",
            "_model_name": "ProgressStyleModel",
            "_view_count": null,
            "_view_module": "@jupyter-widgets/base",
            "_view_module_version": "1.2.0",
            "_view_name": "StyleView",
            "bar_color": null,
            "description_width": ""
          }
        },
        "b766447439af4100857613209021a41e": {
          "model_module": "@jupyter-widgets/base",
          "model_name": "LayoutModel",
          "model_module_version": "1.2.0",
          "state": {
            "_model_module": "@jupyter-widgets/base",
            "_model_module_version": "1.2.0",
            "_model_name": "LayoutModel",
            "_view_count": null,
            "_view_module": "@jupyter-widgets/base",
            "_view_module_version": "1.2.0",
            "_view_name": "LayoutView",
            "align_content": null,
            "align_items": null,
            "align_self": null,
            "border": null,
            "bottom": null,
            "display": null,
            "flex": null,
            "flex_flow": null,
            "grid_area": null,
            "grid_auto_columns": null,
            "grid_auto_flow": null,
            "grid_auto_rows": null,
            "grid_column": null,
            "grid_gap": null,
            "grid_row": null,
            "grid_template_areas": null,
            "grid_template_columns": null,
            "grid_template_rows": null,
            "height": null,
            "justify_content": null,
            "justify_items": null,
            "left": null,
            "margin": null,
            "max_height": null,
            "max_width": null,
            "min_height": null,
            "min_width": null,
            "object_fit": null,
            "object_position": null,
            "order": null,
            "overflow": null,
            "overflow_x": null,
            "overflow_y": null,
            "padding": null,
            "right": null,
            "top": null,
            "visibility": null,
            "width": null
          }
        },
        "98ef1536046e4c0c92e3e108b2422df1": {
          "model_module": "@jupyter-widgets/controls",
          "model_name": "DescriptionStyleModel",
          "model_module_version": "1.5.0",
          "state": {
            "_model_module": "@jupyter-widgets/controls",
            "_model_module_version": "1.5.0",
            "_model_name": "DescriptionStyleModel",
            "_view_count": null,
            "_view_module": "@jupyter-widgets/base",
            "_view_module_version": "1.2.0",
            "_view_name": "StyleView",
            "description_width": ""
          }
        },
        "57da4f745159498eaf148b854cde4f39": {
          "model_module": "@jupyter-widgets/controls",
          "model_name": "HBoxModel",
          "model_module_version": "1.5.0",
          "state": {
            "_dom_classes": [],
            "_model_module": "@jupyter-widgets/controls",
            "_model_module_version": "1.5.0",
            "_model_name": "HBoxModel",
            "_view_count": null,
            "_view_module": "@jupyter-widgets/controls",
            "_view_module_version": "1.5.0",
            "_view_name": "HBoxView",
            "box_style": "",
            "children": [
              "IPY_MODEL_86cbbc5899ea47e3bc733ebd2e3e2990",
              "IPY_MODEL_0ee604fe9f5045759d13c03355bcac03",
              "IPY_MODEL_d93ac13ac48c40c188d9d8e176b7c775"
            ],
            "layout": "IPY_MODEL_32f296b4ddb64b82b8ae37b2f9720273"
          }
        },
        "86cbbc5899ea47e3bc733ebd2e3e2990": {
          "model_module": "@jupyter-widgets/controls",
          "model_name": "HTMLModel",
          "model_module_version": "1.5.0",
          "state": {
            "_dom_classes": [],
            "_model_module": "@jupyter-widgets/controls",
            "_model_module_version": "1.5.0",
            "_model_name": "HTMLModel",
            "_view_count": null,
            "_view_module": "@jupyter-widgets/controls",
            "_view_module_version": "1.5.0",
            "_view_name": "HTMLView",
            "description": "",
            "description_tooltip": null,
            "layout": "IPY_MODEL_94e480d2e953427fac73e8ad19b31c8c",
            "placeholder": "​",
            "style": "IPY_MODEL_7d24f692ac634a10a095ed3f8db7c061",
            "value": "config_sentence_transformers.json: 100%"
          }
        },
        "0ee604fe9f5045759d13c03355bcac03": {
          "model_module": "@jupyter-widgets/controls",
          "model_name": "FloatProgressModel",
          "model_module_version": "1.5.0",
          "state": {
            "_dom_classes": [],
            "_model_module": "@jupyter-widgets/controls",
            "_model_module_version": "1.5.0",
            "_model_name": "FloatProgressModel",
            "_view_count": null,
            "_view_module": "@jupyter-widgets/controls",
            "_view_module_version": "1.5.0",
            "_view_name": "ProgressView",
            "bar_style": "success",
            "description": "",
            "description_tooltip": null,
            "layout": "IPY_MODEL_ae408431d9bf4edc88000e5e0b1d332e",
            "max": 116,
            "min": 0,
            "orientation": "horizontal",
            "style": "IPY_MODEL_594fef2c468c4bab93a60e998e8639d4",
            "value": 116
          }
        },
        "d93ac13ac48c40c188d9d8e176b7c775": {
          "model_module": "@jupyter-widgets/controls",
          "model_name": "HTMLModel",
          "model_module_version": "1.5.0",
          "state": {
            "_dom_classes": [],
            "_model_module": "@jupyter-widgets/controls",
            "_model_module_version": "1.5.0",
            "_model_name": "HTMLModel",
            "_view_count": null,
            "_view_module": "@jupyter-widgets/controls",
            "_view_module_version": "1.5.0",
            "_view_name": "HTMLView",
            "description": "",
            "description_tooltip": null,
            "layout": "IPY_MODEL_cf7221cc3f564774a2a60dfd85763c19",
            "placeholder": "​",
            "style": "IPY_MODEL_7eedeba2dc8c4431be14aaa15eef7b01",
            "value": " 116/116 [00:00&lt;00:00, 6.12kB/s]"
          }
        },
        "32f296b4ddb64b82b8ae37b2f9720273": {
          "model_module": "@jupyter-widgets/base",
          "model_name": "LayoutModel",
          "model_module_version": "1.2.0",
          "state": {
            "_model_module": "@jupyter-widgets/base",
            "_model_module_version": "1.2.0",
            "_model_name": "LayoutModel",
            "_view_count": null,
            "_view_module": "@jupyter-widgets/base",
            "_view_module_version": "1.2.0",
            "_view_name": "LayoutView",
            "align_content": null,
            "align_items": null,
            "align_self": null,
            "border": null,
            "bottom": null,
            "display": null,
            "flex": null,
            "flex_flow": null,
            "grid_area": null,
            "grid_auto_columns": null,
            "grid_auto_flow": null,
            "grid_auto_rows": null,
            "grid_column": null,
            "grid_gap": null,
            "grid_row": null,
            "grid_template_areas": null,
            "grid_template_columns": null,
            "grid_template_rows": null,
            "height": null,
            "justify_content": null,
            "justify_items": null,
            "left": null,
            "margin": null,
            "max_height": null,
            "max_width": null,
            "min_height": null,
            "min_width": null,
            "object_fit": null,
            "object_position": null,
            "order": null,
            "overflow": null,
            "overflow_x": null,
            "overflow_y": null,
            "padding": null,
            "right": null,
            "top": null,
            "visibility": null,
            "width": null
          }
        },
        "94e480d2e953427fac73e8ad19b31c8c": {
          "model_module": "@jupyter-widgets/base",
          "model_name": "LayoutModel",
          "model_module_version": "1.2.0",
          "state": {
            "_model_module": "@jupyter-widgets/base",
            "_model_module_version": "1.2.0",
            "_model_name": "LayoutModel",
            "_view_count": null,
            "_view_module": "@jupyter-widgets/base",
            "_view_module_version": "1.2.0",
            "_view_name": "LayoutView",
            "align_content": null,
            "align_items": null,
            "align_self": null,
            "border": null,
            "bottom": null,
            "display": null,
            "flex": null,
            "flex_flow": null,
            "grid_area": null,
            "grid_auto_columns": null,
            "grid_auto_flow": null,
            "grid_auto_rows": null,
            "grid_column": null,
            "grid_gap": null,
            "grid_row": null,
            "grid_template_areas": null,
            "grid_template_columns": null,
            "grid_template_rows": null,
            "height": null,
            "justify_content": null,
            "justify_items": null,
            "left": null,
            "margin": null,
            "max_height": null,
            "max_width": null,
            "min_height": null,
            "min_width": null,
            "object_fit": null,
            "object_position": null,
            "order": null,
            "overflow": null,
            "overflow_x": null,
            "overflow_y": null,
            "padding": null,
            "right": null,
            "top": null,
            "visibility": null,
            "width": null
          }
        },
        "7d24f692ac634a10a095ed3f8db7c061": {
          "model_module": "@jupyter-widgets/controls",
          "model_name": "DescriptionStyleModel",
          "model_module_version": "1.5.0",
          "state": {
            "_model_module": "@jupyter-widgets/controls",
            "_model_module_version": "1.5.0",
            "_model_name": "DescriptionStyleModel",
            "_view_count": null,
            "_view_module": "@jupyter-widgets/base",
            "_view_module_version": "1.2.0",
            "_view_name": "StyleView",
            "description_width": ""
          }
        },
        "ae408431d9bf4edc88000e5e0b1d332e": {
          "model_module": "@jupyter-widgets/base",
          "model_name": "LayoutModel",
          "model_module_version": "1.2.0",
          "state": {
            "_model_module": "@jupyter-widgets/base",
            "_model_module_version": "1.2.0",
            "_model_name": "LayoutModel",
            "_view_count": null,
            "_view_module": "@jupyter-widgets/base",
            "_view_module_version": "1.2.0",
            "_view_name": "LayoutView",
            "align_content": null,
            "align_items": null,
            "align_self": null,
            "border": null,
            "bottom": null,
            "display": null,
            "flex": null,
            "flex_flow": null,
            "grid_area": null,
            "grid_auto_columns": null,
            "grid_auto_flow": null,
            "grid_auto_rows": null,
            "grid_column": null,
            "grid_gap": null,
            "grid_row": null,
            "grid_template_areas": null,
            "grid_template_columns": null,
            "grid_template_rows": null,
            "height": null,
            "justify_content": null,
            "justify_items": null,
            "left": null,
            "margin": null,
            "max_height": null,
            "max_width": null,
            "min_height": null,
            "min_width": null,
            "object_fit": null,
            "object_position": null,
            "order": null,
            "overflow": null,
            "overflow_x": null,
            "overflow_y": null,
            "padding": null,
            "right": null,
            "top": null,
            "visibility": null,
            "width": null
          }
        },
        "594fef2c468c4bab93a60e998e8639d4": {
          "model_module": "@jupyter-widgets/controls",
          "model_name": "ProgressStyleModel",
          "model_module_version": "1.5.0",
          "state": {
            "_model_module": "@jupyter-widgets/controls",
            "_model_module_version": "1.5.0",
            "_model_name": "ProgressStyleModel",
            "_view_count": null,
            "_view_module": "@jupyter-widgets/base",
            "_view_module_version": "1.2.0",
            "_view_name": "StyleView",
            "bar_color": null,
            "description_width": ""
          }
        },
        "cf7221cc3f564774a2a60dfd85763c19": {
          "model_module": "@jupyter-widgets/base",
          "model_name": "LayoutModel",
          "model_module_version": "1.2.0",
          "state": {
            "_model_module": "@jupyter-widgets/base",
            "_model_module_version": "1.2.0",
            "_model_name": "LayoutModel",
            "_view_count": null,
            "_view_module": "@jupyter-widgets/base",
            "_view_module_version": "1.2.0",
            "_view_name": "LayoutView",
            "align_content": null,
            "align_items": null,
            "align_self": null,
            "border": null,
            "bottom": null,
            "display": null,
            "flex": null,
            "flex_flow": null,
            "grid_area": null,
            "grid_auto_columns": null,
            "grid_auto_flow": null,
            "grid_auto_rows": null,
            "grid_column": null,
            "grid_gap": null,
            "grid_row": null,
            "grid_template_areas": null,
            "grid_template_columns": null,
            "grid_template_rows": null,
            "height": null,
            "justify_content": null,
            "justify_items": null,
            "left": null,
            "margin": null,
            "max_height": null,
            "max_width": null,
            "min_height": null,
            "min_width": null,
            "object_fit": null,
            "object_position": null,
            "order": null,
            "overflow": null,
            "overflow_x": null,
            "overflow_y": null,
            "padding": null,
            "right": null,
            "top": null,
            "visibility": null,
            "width": null
          }
        },
        "7eedeba2dc8c4431be14aaa15eef7b01": {
          "model_module": "@jupyter-widgets/controls",
          "model_name": "DescriptionStyleModel",
          "model_module_version": "1.5.0",
          "state": {
            "_model_module": "@jupyter-widgets/controls",
            "_model_module_version": "1.5.0",
            "_model_name": "DescriptionStyleModel",
            "_view_count": null,
            "_view_module": "@jupyter-widgets/base",
            "_view_module_version": "1.2.0",
            "_view_name": "StyleView",
            "description_width": ""
          }
        },
        "62b255c159fa4c2bbd8f6148928653aa": {
          "model_module": "@jupyter-widgets/controls",
          "model_name": "HBoxModel",
          "model_module_version": "1.5.0",
          "state": {
            "_dom_classes": [],
            "_model_module": "@jupyter-widgets/controls",
            "_model_module_version": "1.5.0",
            "_model_name": "HBoxModel",
            "_view_count": null,
            "_view_module": "@jupyter-widgets/controls",
            "_view_module_version": "1.5.0",
            "_view_name": "HBoxView",
            "box_style": "",
            "children": [
              "IPY_MODEL_7778d7699d134d039e342a504e9f3b45",
              "IPY_MODEL_30ef4634024b4cdda54463e4480d7caf",
              "IPY_MODEL_49eda9212a764f63916ab98f01041a0a"
            ],
            "layout": "IPY_MODEL_9e8b860a25a845e18f8fa36755e7b514"
          }
        },
        "7778d7699d134d039e342a504e9f3b45": {
          "model_module": "@jupyter-widgets/controls",
          "model_name": "HTMLModel",
          "model_module_version": "1.5.0",
          "state": {
            "_dom_classes": [],
            "_model_module": "@jupyter-widgets/controls",
            "_model_module_version": "1.5.0",
            "_model_name": "HTMLModel",
            "_view_count": null,
            "_view_module": "@jupyter-widgets/controls",
            "_view_module_version": "1.5.0",
            "_view_name": "HTMLView",
            "description": "",
            "description_tooltip": null,
            "layout": "IPY_MODEL_42ddbb5d16074ccaa3ec1fb841a5a8b1",
            "placeholder": "​",
            "style": "IPY_MODEL_1861b560afda4373859e5604cfe51dcb",
            "value": "README.md: 100%"
          }
        },
        "30ef4634024b4cdda54463e4480d7caf": {
          "model_module": "@jupyter-widgets/controls",
          "model_name": "FloatProgressModel",
          "model_module_version": "1.5.0",
          "state": {
            "_dom_classes": [],
            "_model_module": "@jupyter-widgets/controls",
            "_model_module_version": "1.5.0",
            "_model_name": "FloatProgressModel",
            "_view_count": null,
            "_view_module": "@jupyter-widgets/controls",
            "_view_module_version": "1.5.0",
            "_view_name": "ProgressView",
            "bar_style": "success",
            "description": "",
            "description_tooltip": null,
            "layout": "IPY_MODEL_88485cb1de3b40258b99e283714438d6",
            "max": 10454,
            "min": 0,
            "orientation": "horizontal",
            "style": "IPY_MODEL_75202eb60ca3499595f4343567abdf65",
            "value": 10454
          }
        },
        "49eda9212a764f63916ab98f01041a0a": {
          "model_module": "@jupyter-widgets/controls",
          "model_name": "HTMLModel",
          "model_module_version": "1.5.0",
          "state": {
            "_dom_classes": [],
            "_model_module": "@jupyter-widgets/controls",
            "_model_module_version": "1.5.0",
            "_model_name": "HTMLModel",
            "_view_count": null,
            "_view_module": "@jupyter-widgets/controls",
            "_view_module_version": "1.5.0",
            "_view_name": "HTMLView",
            "description": "",
            "description_tooltip": null,
            "layout": "IPY_MODEL_5539b377de6847a8a7f26344f8f91dec",
            "placeholder": "​",
            "style": "IPY_MODEL_ea2396855f6647c094062c8d16c26dfb",
            "value": " 10.5k/10.5k [00:00&lt;00:00, 710kB/s]"
          }
        },
        "9e8b860a25a845e18f8fa36755e7b514": {
          "model_module": "@jupyter-widgets/base",
          "model_name": "LayoutModel",
          "model_module_version": "1.2.0",
          "state": {
            "_model_module": "@jupyter-widgets/base",
            "_model_module_version": "1.2.0",
            "_model_name": "LayoutModel",
            "_view_count": null,
            "_view_module": "@jupyter-widgets/base",
            "_view_module_version": "1.2.0",
            "_view_name": "LayoutView",
            "align_content": null,
            "align_items": null,
            "align_self": null,
            "border": null,
            "bottom": null,
            "display": null,
            "flex": null,
            "flex_flow": null,
            "grid_area": null,
            "grid_auto_columns": null,
            "grid_auto_flow": null,
            "grid_auto_rows": null,
            "grid_column": null,
            "grid_gap": null,
            "grid_row": null,
            "grid_template_areas": null,
            "grid_template_columns": null,
            "grid_template_rows": null,
            "height": null,
            "justify_content": null,
            "justify_items": null,
            "left": null,
            "margin": null,
            "max_height": null,
            "max_width": null,
            "min_height": null,
            "min_width": null,
            "object_fit": null,
            "object_position": null,
            "order": null,
            "overflow": null,
            "overflow_x": null,
            "overflow_y": null,
            "padding": null,
            "right": null,
            "top": null,
            "visibility": null,
            "width": null
          }
        },
        "42ddbb5d16074ccaa3ec1fb841a5a8b1": {
          "model_module": "@jupyter-widgets/base",
          "model_name": "LayoutModel",
          "model_module_version": "1.2.0",
          "state": {
            "_model_module": "@jupyter-widgets/base",
            "_model_module_version": "1.2.0",
            "_model_name": "LayoutModel",
            "_view_count": null,
            "_view_module": "@jupyter-widgets/base",
            "_view_module_version": "1.2.0",
            "_view_name": "LayoutView",
            "align_content": null,
            "align_items": null,
            "align_self": null,
            "border": null,
            "bottom": null,
            "display": null,
            "flex": null,
            "flex_flow": null,
            "grid_area": null,
            "grid_auto_columns": null,
            "grid_auto_flow": null,
            "grid_auto_rows": null,
            "grid_column": null,
            "grid_gap": null,
            "grid_row": null,
            "grid_template_areas": null,
            "grid_template_columns": null,
            "grid_template_rows": null,
            "height": null,
            "justify_content": null,
            "justify_items": null,
            "left": null,
            "margin": null,
            "max_height": null,
            "max_width": null,
            "min_height": null,
            "min_width": null,
            "object_fit": null,
            "object_position": null,
            "order": null,
            "overflow": null,
            "overflow_x": null,
            "overflow_y": null,
            "padding": null,
            "right": null,
            "top": null,
            "visibility": null,
            "width": null
          }
        },
        "1861b560afda4373859e5604cfe51dcb": {
          "model_module": "@jupyter-widgets/controls",
          "model_name": "DescriptionStyleModel",
          "model_module_version": "1.5.0",
          "state": {
            "_model_module": "@jupyter-widgets/controls",
            "_model_module_version": "1.5.0",
            "_model_name": "DescriptionStyleModel",
            "_view_count": null,
            "_view_module": "@jupyter-widgets/base",
            "_view_module_version": "1.2.0",
            "_view_name": "StyleView",
            "description_width": ""
          }
        },
        "88485cb1de3b40258b99e283714438d6": {
          "model_module": "@jupyter-widgets/base",
          "model_name": "LayoutModel",
          "model_module_version": "1.2.0",
          "state": {
            "_model_module": "@jupyter-widgets/base",
            "_model_module_version": "1.2.0",
            "_model_name": "LayoutModel",
            "_view_count": null,
            "_view_module": "@jupyter-widgets/base",
            "_view_module_version": "1.2.0",
            "_view_name": "LayoutView",
            "align_content": null,
            "align_items": null,
            "align_self": null,
            "border": null,
            "bottom": null,
            "display": null,
            "flex": null,
            "flex_flow": null,
            "grid_area": null,
            "grid_auto_columns": null,
            "grid_auto_flow": null,
            "grid_auto_rows": null,
            "grid_column": null,
            "grid_gap": null,
            "grid_row": null,
            "grid_template_areas": null,
            "grid_template_columns": null,
            "grid_template_rows": null,
            "height": null,
            "justify_content": null,
            "justify_items": null,
            "left": null,
            "margin": null,
            "max_height": null,
            "max_width": null,
            "min_height": null,
            "min_width": null,
            "object_fit": null,
            "object_position": null,
            "order": null,
            "overflow": null,
            "overflow_x": null,
            "overflow_y": null,
            "padding": null,
            "right": null,
            "top": null,
            "visibility": null,
            "width": null
          }
        },
        "75202eb60ca3499595f4343567abdf65": {
          "model_module": "@jupyter-widgets/controls",
          "model_name": "ProgressStyleModel",
          "model_module_version": "1.5.0",
          "state": {
            "_model_module": "@jupyter-widgets/controls",
            "_model_module_version": "1.5.0",
            "_model_name": "ProgressStyleModel",
            "_view_count": null,
            "_view_module": "@jupyter-widgets/base",
            "_view_module_version": "1.2.0",
            "_view_name": "StyleView",
            "bar_color": null,
            "description_width": ""
          }
        },
        "5539b377de6847a8a7f26344f8f91dec": {
          "model_module": "@jupyter-widgets/base",
          "model_name": "LayoutModel",
          "model_module_version": "1.2.0",
          "state": {
            "_model_module": "@jupyter-widgets/base",
            "_model_module_version": "1.2.0",
            "_model_name": "LayoutModel",
            "_view_count": null,
            "_view_module": "@jupyter-widgets/base",
            "_view_module_version": "1.2.0",
            "_view_name": "LayoutView",
            "align_content": null,
            "align_items": null,
            "align_self": null,
            "border": null,
            "bottom": null,
            "display": null,
            "flex": null,
            "flex_flow": null,
            "grid_area": null,
            "grid_auto_columns": null,
            "grid_auto_flow": null,
            "grid_auto_rows": null,
            "grid_column": null,
            "grid_gap": null,
            "grid_row": null,
            "grid_template_areas": null,
            "grid_template_columns": null,
            "grid_template_rows": null,
            "height": null,
            "justify_content": null,
            "justify_items": null,
            "left": null,
            "margin": null,
            "max_height": null,
            "max_width": null,
            "min_height": null,
            "min_width": null,
            "object_fit": null,
            "object_position": null,
            "order": null,
            "overflow": null,
            "overflow_x": null,
            "overflow_y": null,
            "padding": null,
            "right": null,
            "top": null,
            "visibility": null,
            "width": null
          }
        },
        "ea2396855f6647c094062c8d16c26dfb": {
          "model_module": "@jupyter-widgets/controls",
          "model_name": "DescriptionStyleModel",
          "model_module_version": "1.5.0",
          "state": {
            "_model_module": "@jupyter-widgets/controls",
            "_model_module_version": "1.5.0",
            "_model_name": "DescriptionStyleModel",
            "_view_count": null,
            "_view_module": "@jupyter-widgets/base",
            "_view_module_version": "1.2.0",
            "_view_name": "StyleView",
            "description_width": ""
          }
        },
        "300487d9c6324478b4347c840ed13b39": {
          "model_module": "@jupyter-widgets/controls",
          "model_name": "HBoxModel",
          "model_module_version": "1.5.0",
          "state": {
            "_dom_classes": [],
            "_model_module": "@jupyter-widgets/controls",
            "_model_module_version": "1.5.0",
            "_model_name": "HBoxModel",
            "_view_count": null,
            "_view_module": "@jupyter-widgets/controls",
            "_view_module_version": "1.5.0",
            "_view_name": "HBoxView",
            "box_style": "",
            "children": [
              "IPY_MODEL_6b913defa1714a59a0c1700c73418fe3",
              "IPY_MODEL_9ec1537449bd466d8312799e52a5b115",
              "IPY_MODEL_09fa86dc760d471d9dff427a0b901e37"
            ],
            "layout": "IPY_MODEL_c02979976cad4316a47b5e7abe37cea7"
          }
        },
        "6b913defa1714a59a0c1700c73418fe3": {
          "model_module": "@jupyter-widgets/controls",
          "model_name": "HTMLModel",
          "model_module_version": "1.5.0",
          "state": {
            "_dom_classes": [],
            "_model_module": "@jupyter-widgets/controls",
            "_model_module_version": "1.5.0",
            "_model_name": "HTMLModel",
            "_view_count": null,
            "_view_module": "@jupyter-widgets/controls",
            "_view_module_version": "1.5.0",
            "_view_name": "HTMLView",
            "description": "",
            "description_tooltip": null,
            "layout": "IPY_MODEL_45a98a70a2764e0288c3af888b119c1c",
            "placeholder": "​",
            "style": "IPY_MODEL_f5344daaa5f548268fe8173a09a446c8",
            "value": "sentence_bert_config.json: 100%"
          }
        },
        "9ec1537449bd466d8312799e52a5b115": {
          "model_module": "@jupyter-widgets/controls",
          "model_name": "FloatProgressModel",
          "model_module_version": "1.5.0",
          "state": {
            "_dom_classes": [],
            "_model_module": "@jupyter-widgets/controls",
            "_model_module_version": "1.5.0",
            "_model_name": "FloatProgressModel",
            "_view_count": null,
            "_view_module": "@jupyter-widgets/controls",
            "_view_module_version": "1.5.0",
            "_view_name": "ProgressView",
            "bar_style": "success",
            "description": "",
            "description_tooltip": null,
            "layout": "IPY_MODEL_791776cdfd934a31bb1628439af799bb",
            "max": 53,
            "min": 0,
            "orientation": "horizontal",
            "style": "IPY_MODEL_2e273ddb9b664f2e9d06c924b0fabeac",
            "value": 53
          }
        },
        "09fa86dc760d471d9dff427a0b901e37": {
          "model_module": "@jupyter-widgets/controls",
          "model_name": "HTMLModel",
          "model_module_version": "1.5.0",
          "state": {
            "_dom_classes": [],
            "_model_module": "@jupyter-widgets/controls",
            "_model_module_version": "1.5.0",
            "_model_name": "HTMLModel",
            "_view_count": null,
            "_view_module": "@jupyter-widgets/controls",
            "_view_module_version": "1.5.0",
            "_view_name": "HTMLView",
            "description": "",
            "description_tooltip": null,
            "layout": "IPY_MODEL_9fe21c0b5f5f44fc96771b02e3792321",
            "placeholder": "​",
            "style": "IPY_MODEL_47b1b6be05094d4f8b927acc5ea9aecc",
            "value": " 53.0/53.0 [00:00&lt;00:00, 2.13kB/s]"
          }
        },
        "c02979976cad4316a47b5e7abe37cea7": {
          "model_module": "@jupyter-widgets/base",
          "model_name": "LayoutModel",
          "model_module_version": "1.2.0",
          "state": {
            "_model_module": "@jupyter-widgets/base",
            "_model_module_version": "1.2.0",
            "_model_name": "LayoutModel",
            "_view_count": null,
            "_view_module": "@jupyter-widgets/base",
            "_view_module_version": "1.2.0",
            "_view_name": "LayoutView",
            "align_content": null,
            "align_items": null,
            "align_self": null,
            "border": null,
            "bottom": null,
            "display": null,
            "flex": null,
            "flex_flow": null,
            "grid_area": null,
            "grid_auto_columns": null,
            "grid_auto_flow": null,
            "grid_auto_rows": null,
            "grid_column": null,
            "grid_gap": null,
            "grid_row": null,
            "grid_template_areas": null,
            "grid_template_columns": null,
            "grid_template_rows": null,
            "height": null,
            "justify_content": null,
            "justify_items": null,
            "left": null,
            "margin": null,
            "max_height": null,
            "max_width": null,
            "min_height": null,
            "min_width": null,
            "object_fit": null,
            "object_position": null,
            "order": null,
            "overflow": null,
            "overflow_x": null,
            "overflow_y": null,
            "padding": null,
            "right": null,
            "top": null,
            "visibility": null,
            "width": null
          }
        },
        "45a98a70a2764e0288c3af888b119c1c": {
          "model_module": "@jupyter-widgets/base",
          "model_name": "LayoutModel",
          "model_module_version": "1.2.0",
          "state": {
            "_model_module": "@jupyter-widgets/base",
            "_model_module_version": "1.2.0",
            "_model_name": "LayoutModel",
            "_view_count": null,
            "_view_module": "@jupyter-widgets/base",
            "_view_module_version": "1.2.0",
            "_view_name": "LayoutView",
            "align_content": null,
            "align_items": null,
            "align_self": null,
            "border": null,
            "bottom": null,
            "display": null,
            "flex": null,
            "flex_flow": null,
            "grid_area": null,
            "grid_auto_columns": null,
            "grid_auto_flow": null,
            "grid_auto_rows": null,
            "grid_column": null,
            "grid_gap": null,
            "grid_row": null,
            "grid_template_areas": null,
            "grid_template_columns": null,
            "grid_template_rows": null,
            "height": null,
            "justify_content": null,
            "justify_items": null,
            "left": null,
            "margin": null,
            "max_height": null,
            "max_width": null,
            "min_height": null,
            "min_width": null,
            "object_fit": null,
            "object_position": null,
            "order": null,
            "overflow": null,
            "overflow_x": null,
            "overflow_y": null,
            "padding": null,
            "right": null,
            "top": null,
            "visibility": null,
            "width": null
          }
        },
        "f5344daaa5f548268fe8173a09a446c8": {
          "model_module": "@jupyter-widgets/controls",
          "model_name": "DescriptionStyleModel",
          "model_module_version": "1.5.0",
          "state": {
            "_model_module": "@jupyter-widgets/controls",
            "_model_module_version": "1.5.0",
            "_model_name": "DescriptionStyleModel",
            "_view_count": null,
            "_view_module": "@jupyter-widgets/base",
            "_view_module_version": "1.2.0",
            "_view_name": "StyleView",
            "description_width": ""
          }
        },
        "791776cdfd934a31bb1628439af799bb": {
          "model_module": "@jupyter-widgets/base",
          "model_name": "LayoutModel",
          "model_module_version": "1.2.0",
          "state": {
            "_model_module": "@jupyter-widgets/base",
            "_model_module_version": "1.2.0",
            "_model_name": "LayoutModel",
            "_view_count": null,
            "_view_module": "@jupyter-widgets/base",
            "_view_module_version": "1.2.0",
            "_view_name": "LayoutView",
            "align_content": null,
            "align_items": null,
            "align_self": null,
            "border": null,
            "bottom": null,
            "display": null,
            "flex": null,
            "flex_flow": null,
            "grid_area": null,
            "grid_auto_columns": null,
            "grid_auto_flow": null,
            "grid_auto_rows": null,
            "grid_column": null,
            "grid_gap": null,
            "grid_row": null,
            "grid_template_areas": null,
            "grid_template_columns": null,
            "grid_template_rows": null,
            "height": null,
            "justify_content": null,
            "justify_items": null,
            "left": null,
            "margin": null,
            "max_height": null,
            "max_width": null,
            "min_height": null,
            "min_width": null,
            "object_fit": null,
            "object_position": null,
            "order": null,
            "overflow": null,
            "overflow_x": null,
            "overflow_y": null,
            "padding": null,
            "right": null,
            "top": null,
            "visibility": null,
            "width": null
          }
        },
        "2e273ddb9b664f2e9d06c924b0fabeac": {
          "model_module": "@jupyter-widgets/controls",
          "model_name": "ProgressStyleModel",
          "model_module_version": "1.5.0",
          "state": {
            "_model_module": "@jupyter-widgets/controls",
            "_model_module_version": "1.5.0",
            "_model_name": "ProgressStyleModel",
            "_view_count": null,
            "_view_module": "@jupyter-widgets/base",
            "_view_module_version": "1.2.0",
            "_view_name": "StyleView",
            "bar_color": null,
            "description_width": ""
          }
        },
        "9fe21c0b5f5f44fc96771b02e3792321": {
          "model_module": "@jupyter-widgets/base",
          "model_name": "LayoutModel",
          "model_module_version": "1.2.0",
          "state": {
            "_model_module": "@jupyter-widgets/base",
            "_model_module_version": "1.2.0",
            "_model_name": "LayoutModel",
            "_view_count": null,
            "_view_module": "@jupyter-widgets/base",
            "_view_module_version": "1.2.0",
            "_view_name": "LayoutView",
            "align_content": null,
            "align_items": null,
            "align_self": null,
            "border": null,
            "bottom": null,
            "display": null,
            "flex": null,
            "flex_flow": null,
            "grid_area": null,
            "grid_auto_columns": null,
            "grid_auto_flow": null,
            "grid_auto_rows": null,
            "grid_column": null,
            "grid_gap": null,
            "grid_row": null,
            "grid_template_areas": null,
            "grid_template_columns": null,
            "grid_template_rows": null,
            "height": null,
            "justify_content": null,
            "justify_items": null,
            "left": null,
            "margin": null,
            "max_height": null,
            "max_width": null,
            "min_height": null,
            "min_width": null,
            "object_fit": null,
            "object_position": null,
            "order": null,
            "overflow": null,
            "overflow_x": null,
            "overflow_y": null,
            "padding": null,
            "right": null,
            "top": null,
            "visibility": null,
            "width": null
          }
        },
        "47b1b6be05094d4f8b927acc5ea9aecc": {
          "model_module": "@jupyter-widgets/controls",
          "model_name": "DescriptionStyleModel",
          "model_module_version": "1.5.0",
          "state": {
            "_model_module": "@jupyter-widgets/controls",
            "_model_module_version": "1.5.0",
            "_model_name": "DescriptionStyleModel",
            "_view_count": null,
            "_view_module": "@jupyter-widgets/base",
            "_view_module_version": "1.2.0",
            "_view_name": "StyleView",
            "description_width": ""
          }
        },
        "e9154be6c3cd4094ab3ee94d07997a82": {
          "model_module": "@jupyter-widgets/controls",
          "model_name": "HBoxModel",
          "model_module_version": "1.5.0",
          "state": {
            "_dom_classes": [],
            "_model_module": "@jupyter-widgets/controls",
            "_model_module_version": "1.5.0",
            "_model_name": "HBoxModel",
            "_view_count": null,
            "_view_module": "@jupyter-widgets/controls",
            "_view_module_version": "1.5.0",
            "_view_name": "HBoxView",
            "box_style": "",
            "children": [
              "IPY_MODEL_f2d80533f1344f9fac8a70889a1e54f5",
              "IPY_MODEL_2dbbbabf0a4d4902808e468e03652b13",
              "IPY_MODEL_692113e99d574084bdfd25a57eac4e9f"
            ],
            "layout": "IPY_MODEL_07988804379843c4b20561eba49e0aea"
          }
        },
        "f2d80533f1344f9fac8a70889a1e54f5": {
          "model_module": "@jupyter-widgets/controls",
          "model_name": "HTMLModel",
          "model_module_version": "1.5.0",
          "state": {
            "_dom_classes": [],
            "_model_module": "@jupyter-widgets/controls",
            "_model_module_version": "1.5.0",
            "_model_name": "HTMLModel",
            "_view_count": null,
            "_view_module": "@jupyter-widgets/controls",
            "_view_module_version": "1.5.0",
            "_view_name": "HTMLView",
            "description": "",
            "description_tooltip": null,
            "layout": "IPY_MODEL_d256cedd6f4042fb9799c543a46ccee1",
            "placeholder": "​",
            "style": "IPY_MODEL_84a02413d12f409c81802a2109243173",
            "value": "config.json: 100%"
          }
        },
        "2dbbbabf0a4d4902808e468e03652b13": {
          "model_module": "@jupyter-widgets/controls",
          "model_name": "FloatProgressModel",
          "model_module_version": "1.5.0",
          "state": {
            "_dom_classes": [],
            "_model_module": "@jupyter-widgets/controls",
            "_model_module_version": "1.5.0",
            "_model_name": "FloatProgressModel",
            "_view_count": null,
            "_view_module": "@jupyter-widgets/controls",
            "_view_module_version": "1.5.0",
            "_view_name": "ProgressView",
            "bar_style": "success",
            "description": "",
            "description_tooltip": null,
            "layout": "IPY_MODEL_c2217f76a7b449c7883635cdbfc844ef",
            "max": 612,
            "min": 0,
            "orientation": "horizontal",
            "style": "IPY_MODEL_a24067c324db49dfa5452b3e36e926c1",
            "value": 612
          }
        },
        "692113e99d574084bdfd25a57eac4e9f": {
          "model_module": "@jupyter-widgets/controls",
          "model_name": "HTMLModel",
          "model_module_version": "1.5.0",
          "state": {
            "_dom_classes": [],
            "_model_module": "@jupyter-widgets/controls",
            "_model_module_version": "1.5.0",
            "_model_name": "HTMLModel",
            "_view_count": null,
            "_view_module": "@jupyter-widgets/controls",
            "_view_module_version": "1.5.0",
            "_view_name": "HTMLView",
            "description": "",
            "description_tooltip": null,
            "layout": "IPY_MODEL_30e83f1b6914419a8237660bb640927a",
            "placeholder": "​",
            "style": "IPY_MODEL_23e6c4968742489f8bed5ae06261ba29",
            "value": " 612/612 [00:00&lt;00:00, 31.3kB/s]"
          }
        },
        "07988804379843c4b20561eba49e0aea": {
          "model_module": "@jupyter-widgets/base",
          "model_name": "LayoutModel",
          "model_module_version": "1.2.0",
          "state": {
            "_model_module": "@jupyter-widgets/base",
            "_model_module_version": "1.2.0",
            "_model_name": "LayoutModel",
            "_view_count": null,
            "_view_module": "@jupyter-widgets/base",
            "_view_module_version": "1.2.0",
            "_view_name": "LayoutView",
            "align_content": null,
            "align_items": null,
            "align_self": null,
            "border": null,
            "bottom": null,
            "display": null,
            "flex": null,
            "flex_flow": null,
            "grid_area": null,
            "grid_auto_columns": null,
            "grid_auto_flow": null,
            "grid_auto_rows": null,
            "grid_column": null,
            "grid_gap": null,
            "grid_row": null,
            "grid_template_areas": null,
            "grid_template_columns": null,
            "grid_template_rows": null,
            "height": null,
            "justify_content": null,
            "justify_items": null,
            "left": null,
            "margin": null,
            "max_height": null,
            "max_width": null,
            "min_height": null,
            "min_width": null,
            "object_fit": null,
            "object_position": null,
            "order": null,
            "overflow": null,
            "overflow_x": null,
            "overflow_y": null,
            "padding": null,
            "right": null,
            "top": null,
            "visibility": null,
            "width": null
          }
        },
        "d256cedd6f4042fb9799c543a46ccee1": {
          "model_module": "@jupyter-widgets/base",
          "model_name": "LayoutModel",
          "model_module_version": "1.2.0",
          "state": {
            "_model_module": "@jupyter-widgets/base",
            "_model_module_version": "1.2.0",
            "_model_name": "LayoutModel",
            "_view_count": null,
            "_view_module": "@jupyter-widgets/base",
            "_view_module_version": "1.2.0",
            "_view_name": "LayoutView",
            "align_content": null,
            "align_items": null,
            "align_self": null,
            "border": null,
            "bottom": null,
            "display": null,
            "flex": null,
            "flex_flow": null,
            "grid_area": null,
            "grid_auto_columns": null,
            "grid_auto_flow": null,
            "grid_auto_rows": null,
            "grid_column": null,
            "grid_gap": null,
            "grid_row": null,
            "grid_template_areas": null,
            "grid_template_columns": null,
            "grid_template_rows": null,
            "height": null,
            "justify_content": null,
            "justify_items": null,
            "left": null,
            "margin": null,
            "max_height": null,
            "max_width": null,
            "min_height": null,
            "min_width": null,
            "object_fit": null,
            "object_position": null,
            "order": null,
            "overflow": null,
            "overflow_x": null,
            "overflow_y": null,
            "padding": null,
            "right": null,
            "top": null,
            "visibility": null,
            "width": null
          }
        },
        "84a02413d12f409c81802a2109243173": {
          "model_module": "@jupyter-widgets/controls",
          "model_name": "DescriptionStyleModel",
          "model_module_version": "1.5.0",
          "state": {
            "_model_module": "@jupyter-widgets/controls",
            "_model_module_version": "1.5.0",
            "_model_name": "DescriptionStyleModel",
            "_view_count": null,
            "_view_module": "@jupyter-widgets/base",
            "_view_module_version": "1.2.0",
            "_view_name": "StyleView",
            "description_width": ""
          }
        },
        "c2217f76a7b449c7883635cdbfc844ef": {
          "model_module": "@jupyter-widgets/base",
          "model_name": "LayoutModel",
          "model_module_version": "1.2.0",
          "state": {
            "_model_module": "@jupyter-widgets/base",
            "_model_module_version": "1.2.0",
            "_model_name": "LayoutModel",
            "_view_count": null,
            "_view_module": "@jupyter-widgets/base",
            "_view_module_version": "1.2.0",
            "_view_name": "LayoutView",
            "align_content": null,
            "align_items": null,
            "align_self": null,
            "border": null,
            "bottom": null,
            "display": null,
            "flex": null,
            "flex_flow": null,
            "grid_area": null,
            "grid_auto_columns": null,
            "grid_auto_flow": null,
            "grid_auto_rows": null,
            "grid_column": null,
            "grid_gap": null,
            "grid_row": null,
            "grid_template_areas": null,
            "grid_template_columns": null,
            "grid_template_rows": null,
            "height": null,
            "justify_content": null,
            "justify_items": null,
            "left": null,
            "margin": null,
            "max_height": null,
            "max_width": null,
            "min_height": null,
            "min_width": null,
            "object_fit": null,
            "object_position": null,
            "order": null,
            "overflow": null,
            "overflow_x": null,
            "overflow_y": null,
            "padding": null,
            "right": null,
            "top": null,
            "visibility": null,
            "width": null
          }
        },
        "a24067c324db49dfa5452b3e36e926c1": {
          "model_module": "@jupyter-widgets/controls",
          "model_name": "ProgressStyleModel",
          "model_module_version": "1.5.0",
          "state": {
            "_model_module": "@jupyter-widgets/controls",
            "_model_module_version": "1.5.0",
            "_model_name": "ProgressStyleModel",
            "_view_count": null,
            "_view_module": "@jupyter-widgets/base",
            "_view_module_version": "1.2.0",
            "_view_name": "StyleView",
            "bar_color": null,
            "description_width": ""
          }
        },
        "30e83f1b6914419a8237660bb640927a": {
          "model_module": "@jupyter-widgets/base",
          "model_name": "LayoutModel",
          "model_module_version": "1.2.0",
          "state": {
            "_model_module": "@jupyter-widgets/base",
            "_model_module_version": "1.2.0",
            "_model_name": "LayoutModel",
            "_view_count": null,
            "_view_module": "@jupyter-widgets/base",
            "_view_module_version": "1.2.0",
            "_view_name": "LayoutView",
            "align_content": null,
            "align_items": null,
            "align_self": null,
            "border": null,
            "bottom": null,
            "display": null,
            "flex": null,
            "flex_flow": null,
            "grid_area": null,
            "grid_auto_columns": null,
            "grid_auto_flow": null,
            "grid_auto_rows": null,
            "grid_column": null,
            "grid_gap": null,
            "grid_row": null,
            "grid_template_areas": null,
            "grid_template_columns": null,
            "grid_template_rows": null,
            "height": null,
            "justify_content": null,
            "justify_items": null,
            "left": null,
            "margin": null,
            "max_height": null,
            "max_width": null,
            "min_height": null,
            "min_width": null,
            "object_fit": null,
            "object_position": null,
            "order": null,
            "overflow": null,
            "overflow_x": null,
            "overflow_y": null,
            "padding": null,
            "right": null,
            "top": null,
            "visibility": null,
            "width": null
          }
        },
        "23e6c4968742489f8bed5ae06261ba29": {
          "model_module": "@jupyter-widgets/controls",
          "model_name": "DescriptionStyleModel",
          "model_module_version": "1.5.0",
          "state": {
            "_model_module": "@jupyter-widgets/controls",
            "_model_module_version": "1.5.0",
            "_model_name": "DescriptionStyleModel",
            "_view_count": null,
            "_view_module": "@jupyter-widgets/base",
            "_view_module_version": "1.2.0",
            "_view_name": "StyleView",
            "description_width": ""
          }
        },
        "9eaad31b8d264cbfb31c62a5446ef950": {
          "model_module": "@jupyter-widgets/controls",
          "model_name": "HBoxModel",
          "model_module_version": "1.5.0",
          "state": {
            "_dom_classes": [],
            "_model_module": "@jupyter-widgets/controls",
            "_model_module_version": "1.5.0",
            "_model_name": "HBoxModel",
            "_view_count": null,
            "_view_module": "@jupyter-widgets/controls",
            "_view_module_version": "1.5.0",
            "_view_name": "HBoxView",
            "box_style": "",
            "children": [
              "IPY_MODEL_9e164dcee8ca43c3afbdc89beea4d650",
              "IPY_MODEL_fd67233152094d15bb74734b90c2d0c5",
              "IPY_MODEL_ca5d2c7e68d144589e67dec0ddc79bc6"
            ],
            "layout": "IPY_MODEL_5df8d762c83244ce99e35b8e692ffd20"
          }
        },
        "9e164dcee8ca43c3afbdc89beea4d650": {
          "model_module": "@jupyter-widgets/controls",
          "model_name": "HTMLModel",
          "model_module_version": "1.5.0",
          "state": {
            "_dom_classes": [],
            "_model_module": "@jupyter-widgets/controls",
            "_model_module_version": "1.5.0",
            "_model_name": "HTMLModel",
            "_view_count": null,
            "_view_module": "@jupyter-widgets/controls",
            "_view_module_version": "1.5.0",
            "_view_name": "HTMLView",
            "description": "",
            "description_tooltip": null,
            "layout": "IPY_MODEL_8426d292a32943a4a24fa7462fcc0a2d",
            "placeholder": "​",
            "style": "IPY_MODEL_a9b7f91236a64c9faca4179bdc5cbd17",
            "value": "model.safetensors: 100%"
          }
        },
        "fd67233152094d15bb74734b90c2d0c5": {
          "model_module": "@jupyter-widgets/controls",
          "model_name": "FloatProgressModel",
          "model_module_version": "1.5.0",
          "state": {
            "_dom_classes": [],
            "_model_module": "@jupyter-widgets/controls",
            "_model_module_version": "1.5.0",
            "_model_name": "FloatProgressModel",
            "_view_count": null,
            "_view_module": "@jupyter-widgets/controls",
            "_view_module_version": "1.5.0",
            "_view_name": "ProgressView",
            "bar_style": "success",
            "description": "",
            "description_tooltip": null,
            "layout": "IPY_MODEL_db4a624ca7c94be59f1450dd454e5e5a",
            "max": 90868376,
            "min": 0,
            "orientation": "horizontal",
            "style": "IPY_MODEL_e1d433282e844ce9be04bd7ec64826bb",
            "value": 90868376
          }
        },
        "ca5d2c7e68d144589e67dec0ddc79bc6": {
          "model_module": "@jupyter-widgets/controls",
          "model_name": "HTMLModel",
          "model_module_version": "1.5.0",
          "state": {
            "_dom_classes": [],
            "_model_module": "@jupyter-widgets/controls",
            "_model_module_version": "1.5.0",
            "_model_name": "HTMLModel",
            "_view_count": null,
            "_view_module": "@jupyter-widgets/controls",
            "_view_module_version": "1.5.0",
            "_view_name": "HTMLView",
            "description": "",
            "description_tooltip": null,
            "layout": "IPY_MODEL_689533478cd94faf8a5ee1132afb35f9",
            "placeholder": "​",
            "style": "IPY_MODEL_fc7e508085444165bf51665951d6a906",
            "value": " 90.9M/90.9M [00:01&lt;00:00, 67.8MB/s]"
          }
        },
        "5df8d762c83244ce99e35b8e692ffd20": {
          "model_module": "@jupyter-widgets/base",
          "model_name": "LayoutModel",
          "model_module_version": "1.2.0",
          "state": {
            "_model_module": "@jupyter-widgets/base",
            "_model_module_version": "1.2.0",
            "_model_name": "LayoutModel",
            "_view_count": null,
            "_view_module": "@jupyter-widgets/base",
            "_view_module_version": "1.2.0",
            "_view_name": "LayoutView",
            "align_content": null,
            "align_items": null,
            "align_self": null,
            "border": null,
            "bottom": null,
            "display": null,
            "flex": null,
            "flex_flow": null,
            "grid_area": null,
            "grid_auto_columns": null,
            "grid_auto_flow": null,
            "grid_auto_rows": null,
            "grid_column": null,
            "grid_gap": null,
            "grid_row": null,
            "grid_template_areas": null,
            "grid_template_columns": null,
            "grid_template_rows": null,
            "height": null,
            "justify_content": null,
            "justify_items": null,
            "left": null,
            "margin": null,
            "max_height": null,
            "max_width": null,
            "min_height": null,
            "min_width": null,
            "object_fit": null,
            "object_position": null,
            "order": null,
            "overflow": null,
            "overflow_x": null,
            "overflow_y": null,
            "padding": null,
            "right": null,
            "top": null,
            "visibility": null,
            "width": null
          }
        },
        "8426d292a32943a4a24fa7462fcc0a2d": {
          "model_module": "@jupyter-widgets/base",
          "model_name": "LayoutModel",
          "model_module_version": "1.2.0",
          "state": {
            "_model_module": "@jupyter-widgets/base",
            "_model_module_version": "1.2.0",
            "_model_name": "LayoutModel",
            "_view_count": null,
            "_view_module": "@jupyter-widgets/base",
            "_view_module_version": "1.2.0",
            "_view_name": "LayoutView",
            "align_content": null,
            "align_items": null,
            "align_self": null,
            "border": null,
            "bottom": null,
            "display": null,
            "flex": null,
            "flex_flow": null,
            "grid_area": null,
            "grid_auto_columns": null,
            "grid_auto_flow": null,
            "grid_auto_rows": null,
            "grid_column": null,
            "grid_gap": null,
            "grid_row": null,
            "grid_template_areas": null,
            "grid_template_columns": null,
            "grid_template_rows": null,
            "height": null,
            "justify_content": null,
            "justify_items": null,
            "left": null,
            "margin": null,
            "max_height": null,
            "max_width": null,
            "min_height": null,
            "min_width": null,
            "object_fit": null,
            "object_position": null,
            "order": null,
            "overflow": null,
            "overflow_x": null,
            "overflow_y": null,
            "padding": null,
            "right": null,
            "top": null,
            "visibility": null,
            "width": null
          }
        },
        "a9b7f91236a64c9faca4179bdc5cbd17": {
          "model_module": "@jupyter-widgets/controls",
          "model_name": "DescriptionStyleModel",
          "model_module_version": "1.5.0",
          "state": {
            "_model_module": "@jupyter-widgets/controls",
            "_model_module_version": "1.5.0",
            "_model_name": "DescriptionStyleModel",
            "_view_count": null,
            "_view_module": "@jupyter-widgets/base",
            "_view_module_version": "1.2.0",
            "_view_name": "StyleView",
            "description_width": ""
          }
        },
        "db4a624ca7c94be59f1450dd454e5e5a": {
          "model_module": "@jupyter-widgets/base",
          "model_name": "LayoutModel",
          "model_module_version": "1.2.0",
          "state": {
            "_model_module": "@jupyter-widgets/base",
            "_model_module_version": "1.2.0",
            "_model_name": "LayoutModel",
            "_view_count": null,
            "_view_module": "@jupyter-widgets/base",
            "_view_module_version": "1.2.0",
            "_view_name": "LayoutView",
            "align_content": null,
            "align_items": null,
            "align_self": null,
            "border": null,
            "bottom": null,
            "display": null,
            "flex": null,
            "flex_flow": null,
            "grid_area": null,
            "grid_auto_columns": null,
            "grid_auto_flow": null,
            "grid_auto_rows": null,
            "grid_column": null,
            "grid_gap": null,
            "grid_row": null,
            "grid_template_areas": null,
            "grid_template_columns": null,
            "grid_template_rows": null,
            "height": null,
            "justify_content": null,
            "justify_items": null,
            "left": null,
            "margin": null,
            "max_height": null,
            "max_width": null,
            "min_height": null,
            "min_width": null,
            "object_fit": null,
            "object_position": null,
            "order": null,
            "overflow": null,
            "overflow_x": null,
            "overflow_y": null,
            "padding": null,
            "right": null,
            "top": null,
            "visibility": null,
            "width": null
          }
        },
        "e1d433282e844ce9be04bd7ec64826bb": {
          "model_module": "@jupyter-widgets/controls",
          "model_name": "ProgressStyleModel",
          "model_module_version": "1.5.0",
          "state": {
            "_model_module": "@jupyter-widgets/controls",
            "_model_module_version": "1.5.0",
            "_model_name": "ProgressStyleModel",
            "_view_count": null,
            "_view_module": "@jupyter-widgets/base",
            "_view_module_version": "1.2.0",
            "_view_name": "StyleView",
            "bar_color": null,
            "description_width": ""
          }
        },
        "689533478cd94faf8a5ee1132afb35f9": {
          "model_module": "@jupyter-widgets/base",
          "model_name": "LayoutModel",
          "model_module_version": "1.2.0",
          "state": {
            "_model_module": "@jupyter-widgets/base",
            "_model_module_version": "1.2.0",
            "_model_name": "LayoutModel",
            "_view_count": null,
            "_view_module": "@jupyter-widgets/base",
            "_view_module_version": "1.2.0",
            "_view_name": "LayoutView",
            "align_content": null,
            "align_items": null,
            "align_self": null,
            "border": null,
            "bottom": null,
            "display": null,
            "flex": null,
            "flex_flow": null,
            "grid_area": null,
            "grid_auto_columns": null,
            "grid_auto_flow": null,
            "grid_auto_rows": null,
            "grid_column": null,
            "grid_gap": null,
            "grid_row": null,
            "grid_template_areas": null,
            "grid_template_columns": null,
            "grid_template_rows": null,
            "height": null,
            "justify_content": null,
            "justify_items": null,
            "left": null,
            "margin": null,
            "max_height": null,
            "max_width": null,
            "min_height": null,
            "min_width": null,
            "object_fit": null,
            "object_position": null,
            "order": null,
            "overflow": null,
            "overflow_x": null,
            "overflow_y": null,
            "padding": null,
            "right": null,
            "top": null,
            "visibility": null,
            "width": null
          }
        },
        "fc7e508085444165bf51665951d6a906": {
          "model_module": "@jupyter-widgets/controls",
          "model_name": "DescriptionStyleModel",
          "model_module_version": "1.5.0",
          "state": {
            "_model_module": "@jupyter-widgets/controls",
            "_model_module_version": "1.5.0",
            "_model_name": "DescriptionStyleModel",
            "_view_count": null,
            "_view_module": "@jupyter-widgets/base",
            "_view_module_version": "1.2.0",
            "_view_name": "StyleView",
            "description_width": ""
          }
        },
        "15d63bed0f434631b8994bf63c787144": {
          "model_module": "@jupyter-widgets/controls",
          "model_name": "HBoxModel",
          "model_module_version": "1.5.0",
          "state": {
            "_dom_classes": [],
            "_model_module": "@jupyter-widgets/controls",
            "_model_module_version": "1.5.0",
            "_model_name": "HBoxModel",
            "_view_count": null,
            "_view_module": "@jupyter-widgets/controls",
            "_view_module_version": "1.5.0",
            "_view_name": "HBoxView",
            "box_style": "",
            "children": [
              "IPY_MODEL_11b8ad717f6048c6b591738d62e795f7",
              "IPY_MODEL_9dace44420234e918c2180788b39f120",
              "IPY_MODEL_a0cb011407b54240806cab5948f85b4c"
            ],
            "layout": "IPY_MODEL_3829c99f4a8c4fa3b69c692cedda2d0f"
          }
        },
        "11b8ad717f6048c6b591738d62e795f7": {
          "model_module": "@jupyter-widgets/controls",
          "model_name": "HTMLModel",
          "model_module_version": "1.5.0",
          "state": {
            "_dom_classes": [],
            "_model_module": "@jupyter-widgets/controls",
            "_model_module_version": "1.5.0",
            "_model_name": "HTMLModel",
            "_view_count": null,
            "_view_module": "@jupyter-widgets/controls",
            "_view_module_version": "1.5.0",
            "_view_name": "HTMLView",
            "description": "",
            "description_tooltip": null,
            "layout": "IPY_MODEL_ed620adc03084b5b8f3612682172505d",
            "placeholder": "​",
            "style": "IPY_MODEL_b6d3e59bbedb40ff814d3710d0c2c68a",
            "value": "tokenizer_config.json: 100%"
          }
        },
        "9dace44420234e918c2180788b39f120": {
          "model_module": "@jupyter-widgets/controls",
          "model_name": "FloatProgressModel",
          "model_module_version": "1.5.0",
          "state": {
            "_dom_classes": [],
            "_model_module": "@jupyter-widgets/controls",
            "_model_module_version": "1.5.0",
            "_model_name": "FloatProgressModel",
            "_view_count": null,
            "_view_module": "@jupyter-widgets/controls",
            "_view_module_version": "1.5.0",
            "_view_name": "ProgressView",
            "bar_style": "success",
            "description": "",
            "description_tooltip": null,
            "layout": "IPY_MODEL_06f9ab32504c4848abd96d40831b0949",
            "max": 350,
            "min": 0,
            "orientation": "horizontal",
            "style": "IPY_MODEL_f9d13c84d5cf4adf9b1c5a09a397594a",
            "value": 350
          }
        },
        "a0cb011407b54240806cab5948f85b4c": {
          "model_module": "@jupyter-widgets/controls",
          "model_name": "HTMLModel",
          "model_module_version": "1.5.0",
          "state": {
            "_dom_classes": [],
            "_model_module": "@jupyter-widgets/controls",
            "_model_module_version": "1.5.0",
            "_model_name": "HTMLModel",
            "_view_count": null,
            "_view_module": "@jupyter-widgets/controls",
            "_view_module_version": "1.5.0",
            "_view_name": "HTMLView",
            "description": "",
            "description_tooltip": null,
            "layout": "IPY_MODEL_21365204c5b14d9a9c8e60a0662d5395",
            "placeholder": "​",
            "style": "IPY_MODEL_dcbb9e1586414aa0a57f4d11b0e5eaeb",
            "value": " 350/350 [00:00&lt;00:00, 30.9kB/s]"
          }
        },
        "3829c99f4a8c4fa3b69c692cedda2d0f": {
          "model_module": "@jupyter-widgets/base",
          "model_name": "LayoutModel",
          "model_module_version": "1.2.0",
          "state": {
            "_model_module": "@jupyter-widgets/base",
            "_model_module_version": "1.2.0",
            "_model_name": "LayoutModel",
            "_view_count": null,
            "_view_module": "@jupyter-widgets/base",
            "_view_module_version": "1.2.0",
            "_view_name": "LayoutView",
            "align_content": null,
            "align_items": null,
            "align_self": null,
            "border": null,
            "bottom": null,
            "display": null,
            "flex": null,
            "flex_flow": null,
            "grid_area": null,
            "grid_auto_columns": null,
            "grid_auto_flow": null,
            "grid_auto_rows": null,
            "grid_column": null,
            "grid_gap": null,
            "grid_row": null,
            "grid_template_areas": null,
            "grid_template_columns": null,
            "grid_template_rows": null,
            "height": null,
            "justify_content": null,
            "justify_items": null,
            "left": null,
            "margin": null,
            "max_height": null,
            "max_width": null,
            "min_height": null,
            "min_width": null,
            "object_fit": null,
            "object_position": null,
            "order": null,
            "overflow": null,
            "overflow_x": null,
            "overflow_y": null,
            "padding": null,
            "right": null,
            "top": null,
            "visibility": null,
            "width": null
          }
        },
        "ed620adc03084b5b8f3612682172505d": {
          "model_module": "@jupyter-widgets/base",
          "model_name": "LayoutModel",
          "model_module_version": "1.2.0",
          "state": {
            "_model_module": "@jupyter-widgets/base",
            "_model_module_version": "1.2.0",
            "_model_name": "LayoutModel",
            "_view_count": null,
            "_view_module": "@jupyter-widgets/base",
            "_view_module_version": "1.2.0",
            "_view_name": "LayoutView",
            "align_content": null,
            "align_items": null,
            "align_self": null,
            "border": null,
            "bottom": null,
            "display": null,
            "flex": null,
            "flex_flow": null,
            "grid_area": null,
            "grid_auto_columns": null,
            "grid_auto_flow": null,
            "grid_auto_rows": null,
            "grid_column": null,
            "grid_gap": null,
            "grid_row": null,
            "grid_template_areas": null,
            "grid_template_columns": null,
            "grid_template_rows": null,
            "height": null,
            "justify_content": null,
            "justify_items": null,
            "left": null,
            "margin": null,
            "max_height": null,
            "max_width": null,
            "min_height": null,
            "min_width": null,
            "object_fit": null,
            "object_position": null,
            "order": null,
            "overflow": null,
            "overflow_x": null,
            "overflow_y": null,
            "padding": null,
            "right": null,
            "top": null,
            "visibility": null,
            "width": null
          }
        },
        "b6d3e59bbedb40ff814d3710d0c2c68a": {
          "model_module": "@jupyter-widgets/controls",
          "model_name": "DescriptionStyleModel",
          "model_module_version": "1.5.0",
          "state": {
            "_model_module": "@jupyter-widgets/controls",
            "_model_module_version": "1.5.0",
            "_model_name": "DescriptionStyleModel",
            "_view_count": null,
            "_view_module": "@jupyter-widgets/base",
            "_view_module_version": "1.2.0",
            "_view_name": "StyleView",
            "description_width": ""
          }
        },
        "06f9ab32504c4848abd96d40831b0949": {
          "model_module": "@jupyter-widgets/base",
          "model_name": "LayoutModel",
          "model_module_version": "1.2.0",
          "state": {
            "_model_module": "@jupyter-widgets/base",
            "_model_module_version": "1.2.0",
            "_model_name": "LayoutModel",
            "_view_count": null,
            "_view_module": "@jupyter-widgets/base",
            "_view_module_version": "1.2.0",
            "_view_name": "LayoutView",
            "align_content": null,
            "align_items": null,
            "align_self": null,
            "border": null,
            "bottom": null,
            "display": null,
            "flex": null,
            "flex_flow": null,
            "grid_area": null,
            "grid_auto_columns": null,
            "grid_auto_flow": null,
            "grid_auto_rows": null,
            "grid_column": null,
            "grid_gap": null,
            "grid_row": null,
            "grid_template_areas": null,
            "grid_template_columns": null,
            "grid_template_rows": null,
            "height": null,
            "justify_content": null,
            "justify_items": null,
            "left": null,
            "margin": null,
            "max_height": null,
            "max_width": null,
            "min_height": null,
            "min_width": null,
            "object_fit": null,
            "object_position": null,
            "order": null,
            "overflow": null,
            "overflow_x": null,
            "overflow_y": null,
            "padding": null,
            "right": null,
            "top": null,
            "visibility": null,
            "width": null
          }
        },
        "f9d13c84d5cf4adf9b1c5a09a397594a": {
          "model_module": "@jupyter-widgets/controls",
          "model_name": "ProgressStyleModel",
          "model_module_version": "1.5.0",
          "state": {
            "_model_module": "@jupyter-widgets/controls",
            "_model_module_version": "1.5.0",
            "_model_name": "ProgressStyleModel",
            "_view_count": null,
            "_view_module": "@jupyter-widgets/base",
            "_view_module_version": "1.2.0",
            "_view_name": "StyleView",
            "bar_color": null,
            "description_width": ""
          }
        },
        "21365204c5b14d9a9c8e60a0662d5395": {
          "model_module": "@jupyter-widgets/base",
          "model_name": "LayoutModel",
          "model_module_version": "1.2.0",
          "state": {
            "_model_module": "@jupyter-widgets/base",
            "_model_module_version": "1.2.0",
            "_model_name": "LayoutModel",
            "_view_count": null,
            "_view_module": "@jupyter-widgets/base",
            "_view_module_version": "1.2.0",
            "_view_name": "LayoutView",
            "align_content": null,
            "align_items": null,
            "align_self": null,
            "border": null,
            "bottom": null,
            "display": null,
            "flex": null,
            "flex_flow": null,
            "grid_area": null,
            "grid_auto_columns": null,
            "grid_auto_flow": null,
            "grid_auto_rows": null,
            "grid_column": null,
            "grid_gap": null,
            "grid_row": null,
            "grid_template_areas": null,
            "grid_template_columns": null,
            "grid_template_rows": null,
            "height": null,
            "justify_content": null,
            "justify_items": null,
            "left": null,
            "margin": null,
            "max_height": null,
            "max_width": null,
            "min_height": null,
            "min_width": null,
            "object_fit": null,
            "object_position": null,
            "order": null,
            "overflow": null,
            "overflow_x": null,
            "overflow_y": null,
            "padding": null,
            "right": null,
            "top": null,
            "visibility": null,
            "width": null
          }
        },
        "dcbb9e1586414aa0a57f4d11b0e5eaeb": {
          "model_module": "@jupyter-widgets/controls",
          "model_name": "DescriptionStyleModel",
          "model_module_version": "1.5.0",
          "state": {
            "_model_module": "@jupyter-widgets/controls",
            "_model_module_version": "1.5.0",
            "_model_name": "DescriptionStyleModel",
            "_view_count": null,
            "_view_module": "@jupyter-widgets/base",
            "_view_module_version": "1.2.0",
            "_view_name": "StyleView",
            "description_width": ""
          }
        },
        "1cc3128a912c4b4db75125cd8723bc1a": {
          "model_module": "@jupyter-widgets/controls",
          "model_name": "HBoxModel",
          "model_module_version": "1.5.0",
          "state": {
            "_dom_classes": [],
            "_model_module": "@jupyter-widgets/controls",
            "_model_module_version": "1.5.0",
            "_model_name": "HBoxModel",
            "_view_count": null,
            "_view_module": "@jupyter-widgets/controls",
            "_view_module_version": "1.5.0",
            "_view_name": "HBoxView",
            "box_style": "",
            "children": [
              "IPY_MODEL_4f7fe43bb22a4462b76ab616c882f3ee",
              "IPY_MODEL_297ba484ca5b49eeb620690d4658e9ac",
              "IPY_MODEL_6ec898ec82b2480d927c1e8f2407e550"
            ],
            "layout": "IPY_MODEL_2d3eb8821ff149d0a758b813cdd205e7"
          }
        },
        "4f7fe43bb22a4462b76ab616c882f3ee": {
          "model_module": "@jupyter-widgets/controls",
          "model_name": "HTMLModel",
          "model_module_version": "1.5.0",
          "state": {
            "_dom_classes": [],
            "_model_module": "@jupyter-widgets/controls",
            "_model_module_version": "1.5.0",
            "_model_name": "HTMLModel",
            "_view_count": null,
            "_view_module": "@jupyter-widgets/controls",
            "_view_module_version": "1.5.0",
            "_view_name": "HTMLView",
            "description": "",
            "description_tooltip": null,
            "layout": "IPY_MODEL_7251a214939147de9a1e391d9ba44fb6",
            "placeholder": "​",
            "style": "IPY_MODEL_c3bc4c6ca3654aeaa36a9e7528e5a66b",
            "value": "vocab.txt: 100%"
          }
        },
        "297ba484ca5b49eeb620690d4658e9ac": {
          "model_module": "@jupyter-widgets/controls",
          "model_name": "FloatProgressModel",
          "model_module_version": "1.5.0",
          "state": {
            "_dom_classes": [],
            "_model_module": "@jupyter-widgets/controls",
            "_model_module_version": "1.5.0",
            "_model_name": "FloatProgressModel",
            "_view_count": null,
            "_view_module": "@jupyter-widgets/controls",
            "_view_module_version": "1.5.0",
            "_view_name": "ProgressView",
            "bar_style": "success",
            "description": "",
            "description_tooltip": null,
            "layout": "IPY_MODEL_47819a4feeac4c37a081655b99bdaee3",
            "max": 231508,
            "min": 0,
            "orientation": "horizontal",
            "style": "IPY_MODEL_185b3c632471471c90bc6ed3ae1df087",
            "value": 231508
          }
        },
        "6ec898ec82b2480d927c1e8f2407e550": {
          "model_module": "@jupyter-widgets/controls",
          "model_name": "HTMLModel",
          "model_module_version": "1.5.0",
          "state": {
            "_dom_classes": [],
            "_model_module": "@jupyter-widgets/controls",
            "_model_module_version": "1.5.0",
            "_model_name": "HTMLModel",
            "_view_count": null,
            "_view_module": "@jupyter-widgets/controls",
            "_view_module_version": "1.5.0",
            "_view_name": "HTMLView",
            "description": "",
            "description_tooltip": null,
            "layout": "IPY_MODEL_938e70f5a40842dbabfd99da4829aeac",
            "placeholder": "​",
            "style": "IPY_MODEL_d6bc9e94e2774972a8070c76308dc72a",
            "value": " 232k/232k [00:00&lt;00:00, 4.32MB/s]"
          }
        },
        "2d3eb8821ff149d0a758b813cdd205e7": {
          "model_module": "@jupyter-widgets/base",
          "model_name": "LayoutModel",
          "model_module_version": "1.2.0",
          "state": {
            "_model_module": "@jupyter-widgets/base",
            "_model_module_version": "1.2.0",
            "_model_name": "LayoutModel",
            "_view_count": null,
            "_view_module": "@jupyter-widgets/base",
            "_view_module_version": "1.2.0",
            "_view_name": "LayoutView",
            "align_content": null,
            "align_items": null,
            "align_self": null,
            "border": null,
            "bottom": null,
            "display": null,
            "flex": null,
            "flex_flow": null,
            "grid_area": null,
            "grid_auto_columns": null,
            "grid_auto_flow": null,
            "grid_auto_rows": null,
            "grid_column": null,
            "grid_gap": null,
            "grid_row": null,
            "grid_template_areas": null,
            "grid_template_columns": null,
            "grid_template_rows": null,
            "height": null,
            "justify_content": null,
            "justify_items": null,
            "left": null,
            "margin": null,
            "max_height": null,
            "max_width": null,
            "min_height": null,
            "min_width": null,
            "object_fit": null,
            "object_position": null,
            "order": null,
            "overflow": null,
            "overflow_x": null,
            "overflow_y": null,
            "padding": null,
            "right": null,
            "top": null,
            "visibility": null,
            "width": null
          }
        },
        "7251a214939147de9a1e391d9ba44fb6": {
          "model_module": "@jupyter-widgets/base",
          "model_name": "LayoutModel",
          "model_module_version": "1.2.0",
          "state": {
            "_model_module": "@jupyter-widgets/base",
            "_model_module_version": "1.2.0",
            "_model_name": "LayoutModel",
            "_view_count": null,
            "_view_module": "@jupyter-widgets/base",
            "_view_module_version": "1.2.0",
            "_view_name": "LayoutView",
            "align_content": null,
            "align_items": null,
            "align_self": null,
            "border": null,
            "bottom": null,
            "display": null,
            "flex": null,
            "flex_flow": null,
            "grid_area": null,
            "grid_auto_columns": null,
            "grid_auto_flow": null,
            "grid_auto_rows": null,
            "grid_column": null,
            "grid_gap": null,
            "grid_row": null,
            "grid_template_areas": null,
            "grid_template_columns": null,
            "grid_template_rows": null,
            "height": null,
            "justify_content": null,
            "justify_items": null,
            "left": null,
            "margin": null,
            "max_height": null,
            "max_width": null,
            "min_height": null,
            "min_width": null,
            "object_fit": null,
            "object_position": null,
            "order": null,
            "overflow": null,
            "overflow_x": null,
            "overflow_y": null,
            "padding": null,
            "right": null,
            "top": null,
            "visibility": null,
            "width": null
          }
        },
        "c3bc4c6ca3654aeaa36a9e7528e5a66b": {
          "model_module": "@jupyter-widgets/controls",
          "model_name": "DescriptionStyleModel",
          "model_module_version": "1.5.0",
          "state": {
            "_model_module": "@jupyter-widgets/controls",
            "_model_module_version": "1.5.0",
            "_model_name": "DescriptionStyleModel",
            "_view_count": null,
            "_view_module": "@jupyter-widgets/base",
            "_view_module_version": "1.2.0",
            "_view_name": "StyleView",
            "description_width": ""
          }
        },
        "47819a4feeac4c37a081655b99bdaee3": {
          "model_module": "@jupyter-widgets/base",
          "model_name": "LayoutModel",
          "model_module_version": "1.2.0",
          "state": {
            "_model_module": "@jupyter-widgets/base",
            "_model_module_version": "1.2.0",
            "_model_name": "LayoutModel",
            "_view_count": null,
            "_view_module": "@jupyter-widgets/base",
            "_view_module_version": "1.2.0",
            "_view_name": "LayoutView",
            "align_content": null,
            "align_items": null,
            "align_self": null,
            "border": null,
            "bottom": null,
            "display": null,
            "flex": null,
            "flex_flow": null,
            "grid_area": null,
            "grid_auto_columns": null,
            "grid_auto_flow": null,
            "grid_auto_rows": null,
            "grid_column": null,
            "grid_gap": null,
            "grid_row": null,
            "grid_template_areas": null,
            "grid_template_columns": null,
            "grid_template_rows": null,
            "height": null,
            "justify_content": null,
            "justify_items": null,
            "left": null,
            "margin": null,
            "max_height": null,
            "max_width": null,
            "min_height": null,
            "min_width": null,
            "object_fit": null,
            "object_position": null,
            "order": null,
            "overflow": null,
            "overflow_x": null,
            "overflow_y": null,
            "padding": null,
            "right": null,
            "top": null,
            "visibility": null,
            "width": null
          }
        },
        "185b3c632471471c90bc6ed3ae1df087": {
          "model_module": "@jupyter-widgets/controls",
          "model_name": "ProgressStyleModel",
          "model_module_version": "1.5.0",
          "state": {
            "_model_module": "@jupyter-widgets/controls",
            "_model_module_version": "1.5.0",
            "_model_name": "ProgressStyleModel",
            "_view_count": null,
            "_view_module": "@jupyter-widgets/base",
            "_view_module_version": "1.2.0",
            "_view_name": "StyleView",
            "bar_color": null,
            "description_width": ""
          }
        },
        "938e70f5a40842dbabfd99da4829aeac": {
          "model_module": "@jupyter-widgets/base",
          "model_name": "LayoutModel",
          "model_module_version": "1.2.0",
          "state": {
            "_model_module": "@jupyter-widgets/base",
            "_model_module_version": "1.2.0",
            "_model_name": "LayoutModel",
            "_view_count": null,
            "_view_module": "@jupyter-widgets/base",
            "_view_module_version": "1.2.0",
            "_view_name": "LayoutView",
            "align_content": null,
            "align_items": null,
            "align_self": null,
            "border": null,
            "bottom": null,
            "display": null,
            "flex": null,
            "flex_flow": null,
            "grid_area": null,
            "grid_auto_columns": null,
            "grid_auto_flow": null,
            "grid_auto_rows": null,
            "grid_column": null,
            "grid_gap": null,
            "grid_row": null,
            "grid_template_areas": null,
            "grid_template_columns": null,
            "grid_template_rows": null,
            "height": null,
            "justify_content": null,
            "justify_items": null,
            "left": null,
            "margin": null,
            "max_height": null,
            "max_width": null,
            "min_height": null,
            "min_width": null,
            "object_fit": null,
            "object_position": null,
            "order": null,
            "overflow": null,
            "overflow_x": null,
            "overflow_y": null,
            "padding": null,
            "right": null,
            "top": null,
            "visibility": null,
            "width": null
          }
        },
        "d6bc9e94e2774972a8070c76308dc72a": {
          "model_module": "@jupyter-widgets/controls",
          "model_name": "DescriptionStyleModel",
          "model_module_version": "1.5.0",
          "state": {
            "_model_module": "@jupyter-widgets/controls",
            "_model_module_version": "1.5.0",
            "_model_name": "DescriptionStyleModel",
            "_view_count": null,
            "_view_module": "@jupyter-widgets/base",
            "_view_module_version": "1.2.0",
            "_view_name": "StyleView",
            "description_width": ""
          }
        },
        "9564794817a4417bb29f622dee974fff": {
          "model_module": "@jupyter-widgets/controls",
          "model_name": "HBoxModel",
          "model_module_version": "1.5.0",
          "state": {
            "_dom_classes": [],
            "_model_module": "@jupyter-widgets/controls",
            "_model_module_version": "1.5.0",
            "_model_name": "HBoxModel",
            "_view_count": null,
            "_view_module": "@jupyter-widgets/controls",
            "_view_module_version": "1.5.0",
            "_view_name": "HBoxView",
            "box_style": "",
            "children": [
              "IPY_MODEL_62c3b6b111c441b186798ebda0af7043",
              "IPY_MODEL_5565d3d9f7a74ce5aa10c265010508d5",
              "IPY_MODEL_aa8c4d08c149487c931c777d50d8cc80"
            ],
            "layout": "IPY_MODEL_38322e61af9d4f06874afb473a35fcde"
          }
        },
        "62c3b6b111c441b186798ebda0af7043": {
          "model_module": "@jupyter-widgets/controls",
          "model_name": "HTMLModel",
          "model_module_version": "1.5.0",
          "state": {
            "_dom_classes": [],
            "_model_module": "@jupyter-widgets/controls",
            "_model_module_version": "1.5.0",
            "_model_name": "HTMLModel",
            "_view_count": null,
            "_view_module": "@jupyter-widgets/controls",
            "_view_module_version": "1.5.0",
            "_view_name": "HTMLView",
            "description": "",
            "description_tooltip": null,
            "layout": "IPY_MODEL_8be7e21367a94e61835f9848be3caed1",
            "placeholder": "​",
            "style": "IPY_MODEL_54ceb6304e804eacbe3d6c6dd39023c5",
            "value": "tokenizer.json: 100%"
          }
        },
        "5565d3d9f7a74ce5aa10c265010508d5": {
          "model_module": "@jupyter-widgets/controls",
          "model_name": "FloatProgressModel",
          "model_module_version": "1.5.0",
          "state": {
            "_dom_classes": [],
            "_model_module": "@jupyter-widgets/controls",
            "_model_module_version": "1.5.0",
            "_model_name": "FloatProgressModel",
            "_view_count": null,
            "_view_module": "@jupyter-widgets/controls",
            "_view_module_version": "1.5.0",
            "_view_name": "ProgressView",
            "bar_style": "success",
            "description": "",
            "description_tooltip": null,
            "layout": "IPY_MODEL_762b60a28c8344159d88cdff8ba21d7e",
            "max": 466247,
            "min": 0,
            "orientation": "horizontal",
            "style": "IPY_MODEL_d3b8bf930ec04d85bd50ba42b2b00fd8",
            "value": 466247
          }
        },
        "aa8c4d08c149487c931c777d50d8cc80": {
          "model_module": "@jupyter-widgets/controls",
          "model_name": "HTMLModel",
          "model_module_version": "1.5.0",
          "state": {
            "_dom_classes": [],
            "_model_module": "@jupyter-widgets/controls",
            "_model_module_version": "1.5.0",
            "_model_name": "HTMLModel",
            "_view_count": null,
            "_view_module": "@jupyter-widgets/controls",
            "_view_module_version": "1.5.0",
            "_view_name": "HTMLView",
            "description": "",
            "description_tooltip": null,
            "layout": "IPY_MODEL_b15ac23b069d43a0aa0aa0d7f2154080",
            "placeholder": "​",
            "style": "IPY_MODEL_172051bb5ef445a38552957fbfc56272",
            "value": " 466k/466k [00:00&lt;00:00, 7.67MB/s]"
          }
        },
        "38322e61af9d4f06874afb473a35fcde": {
          "model_module": "@jupyter-widgets/base",
          "model_name": "LayoutModel",
          "model_module_version": "1.2.0",
          "state": {
            "_model_module": "@jupyter-widgets/base",
            "_model_module_version": "1.2.0",
            "_model_name": "LayoutModel",
            "_view_count": null,
            "_view_module": "@jupyter-widgets/base",
            "_view_module_version": "1.2.0",
            "_view_name": "LayoutView",
            "align_content": null,
            "align_items": null,
            "align_self": null,
            "border": null,
            "bottom": null,
            "display": null,
            "flex": null,
            "flex_flow": null,
            "grid_area": null,
            "grid_auto_columns": null,
            "grid_auto_flow": null,
            "grid_auto_rows": null,
            "grid_column": null,
            "grid_gap": null,
            "grid_row": null,
            "grid_template_areas": null,
            "grid_template_columns": null,
            "grid_template_rows": null,
            "height": null,
            "justify_content": null,
            "justify_items": null,
            "left": null,
            "margin": null,
            "max_height": null,
            "max_width": null,
            "min_height": null,
            "min_width": null,
            "object_fit": null,
            "object_position": null,
            "order": null,
            "overflow": null,
            "overflow_x": null,
            "overflow_y": null,
            "padding": null,
            "right": null,
            "top": null,
            "visibility": null,
            "width": null
          }
        },
        "8be7e21367a94e61835f9848be3caed1": {
          "model_module": "@jupyter-widgets/base",
          "model_name": "LayoutModel",
          "model_module_version": "1.2.0",
          "state": {
            "_model_module": "@jupyter-widgets/base",
            "_model_module_version": "1.2.0",
            "_model_name": "LayoutModel",
            "_view_count": null,
            "_view_module": "@jupyter-widgets/base",
            "_view_module_version": "1.2.0",
            "_view_name": "LayoutView",
            "align_content": null,
            "align_items": null,
            "align_self": null,
            "border": null,
            "bottom": null,
            "display": null,
            "flex": null,
            "flex_flow": null,
            "grid_area": null,
            "grid_auto_columns": null,
            "grid_auto_flow": null,
            "grid_auto_rows": null,
            "grid_column": null,
            "grid_gap": null,
            "grid_row": null,
            "grid_template_areas": null,
            "grid_template_columns": null,
            "grid_template_rows": null,
            "height": null,
            "justify_content": null,
            "justify_items": null,
            "left": null,
            "margin": null,
            "max_height": null,
            "max_width": null,
            "min_height": null,
            "min_width": null,
            "object_fit": null,
            "object_position": null,
            "order": null,
            "overflow": null,
            "overflow_x": null,
            "overflow_y": null,
            "padding": null,
            "right": null,
            "top": null,
            "visibility": null,
            "width": null
          }
        },
        "54ceb6304e804eacbe3d6c6dd39023c5": {
          "model_module": "@jupyter-widgets/controls",
          "model_name": "DescriptionStyleModel",
          "model_module_version": "1.5.0",
          "state": {
            "_model_module": "@jupyter-widgets/controls",
            "_model_module_version": "1.5.0",
            "_model_name": "DescriptionStyleModel",
            "_view_count": null,
            "_view_module": "@jupyter-widgets/base",
            "_view_module_version": "1.2.0",
            "_view_name": "StyleView",
            "description_width": ""
          }
        },
        "762b60a28c8344159d88cdff8ba21d7e": {
          "model_module": "@jupyter-widgets/base",
          "model_name": "LayoutModel",
          "model_module_version": "1.2.0",
          "state": {
            "_model_module": "@jupyter-widgets/base",
            "_model_module_version": "1.2.0",
            "_model_name": "LayoutModel",
            "_view_count": null,
            "_view_module": "@jupyter-widgets/base",
            "_view_module_version": "1.2.0",
            "_view_name": "LayoutView",
            "align_content": null,
            "align_items": null,
            "align_self": null,
            "border": null,
            "bottom": null,
            "display": null,
            "flex": null,
            "flex_flow": null,
            "grid_area": null,
            "grid_auto_columns": null,
            "grid_auto_flow": null,
            "grid_auto_rows": null,
            "grid_column": null,
            "grid_gap": null,
            "grid_row": null,
            "grid_template_areas": null,
            "grid_template_columns": null,
            "grid_template_rows": null,
            "height": null,
            "justify_content": null,
            "justify_items": null,
            "left": null,
            "margin": null,
            "max_height": null,
            "max_width": null,
            "min_height": null,
            "min_width": null,
            "object_fit": null,
            "object_position": null,
            "order": null,
            "overflow": null,
            "overflow_x": null,
            "overflow_y": null,
            "padding": null,
            "right": null,
            "top": null,
            "visibility": null,
            "width": null
          }
        },
        "d3b8bf930ec04d85bd50ba42b2b00fd8": {
          "model_module": "@jupyter-widgets/controls",
          "model_name": "ProgressStyleModel",
          "model_module_version": "1.5.0",
          "state": {
            "_model_module": "@jupyter-widgets/controls",
            "_model_module_version": "1.5.0",
            "_model_name": "ProgressStyleModel",
            "_view_count": null,
            "_view_module": "@jupyter-widgets/base",
            "_view_module_version": "1.2.0",
            "_view_name": "StyleView",
            "bar_color": null,
            "description_width": ""
          }
        },
        "b15ac23b069d43a0aa0aa0d7f2154080": {
          "model_module": "@jupyter-widgets/base",
          "model_name": "LayoutModel",
          "model_module_version": "1.2.0",
          "state": {
            "_model_module": "@jupyter-widgets/base",
            "_model_module_version": "1.2.0",
            "_model_name": "LayoutModel",
            "_view_count": null,
            "_view_module": "@jupyter-widgets/base",
            "_view_module_version": "1.2.0",
            "_view_name": "LayoutView",
            "align_content": null,
            "align_items": null,
            "align_self": null,
            "border": null,
            "bottom": null,
            "display": null,
            "flex": null,
            "flex_flow": null,
            "grid_area": null,
            "grid_auto_columns": null,
            "grid_auto_flow": null,
            "grid_auto_rows": null,
            "grid_column": null,
            "grid_gap": null,
            "grid_row": null,
            "grid_template_areas": null,
            "grid_template_columns": null,
            "grid_template_rows": null,
            "height": null,
            "justify_content": null,
            "justify_items": null,
            "left": null,
            "margin": null,
            "max_height": null,
            "max_width": null,
            "min_height": null,
            "min_width": null,
            "object_fit": null,
            "object_position": null,
            "order": null,
            "overflow": null,
            "overflow_x": null,
            "overflow_y": null,
            "padding": null,
            "right": null,
            "top": null,
            "visibility": null,
            "width": null
          }
        },
        "172051bb5ef445a38552957fbfc56272": {
          "model_module": "@jupyter-widgets/controls",
          "model_name": "DescriptionStyleModel",
          "model_module_version": "1.5.0",
          "state": {
            "_model_module": "@jupyter-widgets/controls",
            "_model_module_version": "1.5.0",
            "_model_name": "DescriptionStyleModel",
            "_view_count": null,
            "_view_module": "@jupyter-widgets/base",
            "_view_module_version": "1.2.0",
            "_view_name": "StyleView",
            "description_width": ""
          }
        },
        "f23e23ef4bb744458d4bee3d946a5abc": {
          "model_module": "@jupyter-widgets/controls",
          "model_name": "HBoxModel",
          "model_module_version": "1.5.0",
          "state": {
            "_dom_classes": [],
            "_model_module": "@jupyter-widgets/controls",
            "_model_module_version": "1.5.0",
            "_model_name": "HBoxModel",
            "_view_count": null,
            "_view_module": "@jupyter-widgets/controls",
            "_view_module_version": "1.5.0",
            "_view_name": "HBoxView",
            "box_style": "",
            "children": [
              "IPY_MODEL_cb88c90479aa42119abc7c43ddb47a6e",
              "IPY_MODEL_0321b490f9da47e5a7753e1e8fe68a20",
              "IPY_MODEL_97a84213c670428aa5d776e7b4f82e34"
            ],
            "layout": "IPY_MODEL_92bdf236086c497f8c8b568ba8908379"
          }
        },
        "cb88c90479aa42119abc7c43ddb47a6e": {
          "model_module": "@jupyter-widgets/controls",
          "model_name": "HTMLModel",
          "model_module_version": "1.5.0",
          "state": {
            "_dom_classes": [],
            "_model_module": "@jupyter-widgets/controls",
            "_model_module_version": "1.5.0",
            "_model_name": "HTMLModel",
            "_view_count": null,
            "_view_module": "@jupyter-widgets/controls",
            "_view_module_version": "1.5.0",
            "_view_name": "HTMLView",
            "description": "",
            "description_tooltip": null,
            "layout": "IPY_MODEL_2772c47b830a4aa5b10253dd2fdd9b19",
            "placeholder": "​",
            "style": "IPY_MODEL_b91847a709984b17b1430e361993d6e8",
            "value": "special_tokens_map.json: 100%"
          }
        },
        "0321b490f9da47e5a7753e1e8fe68a20": {
          "model_module": "@jupyter-widgets/controls",
          "model_name": "FloatProgressModel",
          "model_module_version": "1.5.0",
          "state": {
            "_dom_classes": [],
            "_model_module": "@jupyter-widgets/controls",
            "_model_module_version": "1.5.0",
            "_model_name": "FloatProgressModel",
            "_view_count": null,
            "_view_module": "@jupyter-widgets/controls",
            "_view_module_version": "1.5.0",
            "_view_name": "ProgressView",
            "bar_style": "success",
            "description": "",
            "description_tooltip": null,
            "layout": "IPY_MODEL_ad5e443e43ff47b5a296d292591366c6",
            "max": 112,
            "min": 0,
            "orientation": "horizontal",
            "style": "IPY_MODEL_e332c233638c4f94977c2b7797861ff2",
            "value": 112
          }
        },
        "97a84213c670428aa5d776e7b4f82e34": {
          "model_module": "@jupyter-widgets/controls",
          "model_name": "HTMLModel",
          "model_module_version": "1.5.0",
          "state": {
            "_dom_classes": [],
            "_model_module": "@jupyter-widgets/controls",
            "_model_module_version": "1.5.0",
            "_model_name": "HTMLModel",
            "_view_count": null,
            "_view_module": "@jupyter-widgets/controls",
            "_view_module_version": "1.5.0",
            "_view_name": "HTMLView",
            "description": "",
            "description_tooltip": null,
            "layout": "IPY_MODEL_78caedd1a066465ab9c7c44ee5433115",
            "placeholder": "​",
            "style": "IPY_MODEL_75fd2e08397241358744792fae4ccd57",
            "value": " 112/112 [00:00&lt;00:00, 5.97kB/s]"
          }
        },
        "92bdf236086c497f8c8b568ba8908379": {
          "model_module": "@jupyter-widgets/base",
          "model_name": "LayoutModel",
          "model_module_version": "1.2.0",
          "state": {
            "_model_module": "@jupyter-widgets/base",
            "_model_module_version": "1.2.0",
            "_model_name": "LayoutModel",
            "_view_count": null,
            "_view_module": "@jupyter-widgets/base",
            "_view_module_version": "1.2.0",
            "_view_name": "LayoutView",
            "align_content": null,
            "align_items": null,
            "align_self": null,
            "border": null,
            "bottom": null,
            "display": null,
            "flex": null,
            "flex_flow": null,
            "grid_area": null,
            "grid_auto_columns": null,
            "grid_auto_flow": null,
            "grid_auto_rows": null,
            "grid_column": null,
            "grid_gap": null,
            "grid_row": null,
            "grid_template_areas": null,
            "grid_template_columns": null,
            "grid_template_rows": null,
            "height": null,
            "justify_content": null,
            "justify_items": null,
            "left": null,
            "margin": null,
            "max_height": null,
            "max_width": null,
            "min_height": null,
            "min_width": null,
            "object_fit": null,
            "object_position": null,
            "order": null,
            "overflow": null,
            "overflow_x": null,
            "overflow_y": null,
            "padding": null,
            "right": null,
            "top": null,
            "visibility": null,
            "width": null
          }
        },
        "2772c47b830a4aa5b10253dd2fdd9b19": {
          "model_module": "@jupyter-widgets/base",
          "model_name": "LayoutModel",
          "model_module_version": "1.2.0",
          "state": {
            "_model_module": "@jupyter-widgets/base",
            "_model_module_version": "1.2.0",
            "_model_name": "LayoutModel",
            "_view_count": null,
            "_view_module": "@jupyter-widgets/base",
            "_view_module_version": "1.2.0",
            "_view_name": "LayoutView",
            "align_content": null,
            "align_items": null,
            "align_self": null,
            "border": null,
            "bottom": null,
            "display": null,
            "flex": null,
            "flex_flow": null,
            "grid_area": null,
            "grid_auto_columns": null,
            "grid_auto_flow": null,
            "grid_auto_rows": null,
            "grid_column": null,
            "grid_gap": null,
            "grid_row": null,
            "grid_template_areas": null,
            "grid_template_columns": null,
            "grid_template_rows": null,
            "height": null,
            "justify_content": null,
            "justify_items": null,
            "left": null,
            "margin": null,
            "max_height": null,
            "max_width": null,
            "min_height": null,
            "min_width": null,
            "object_fit": null,
            "object_position": null,
            "order": null,
            "overflow": null,
            "overflow_x": null,
            "overflow_y": null,
            "padding": null,
            "right": null,
            "top": null,
            "visibility": null,
            "width": null
          }
        },
        "b91847a709984b17b1430e361993d6e8": {
          "model_module": "@jupyter-widgets/controls",
          "model_name": "DescriptionStyleModel",
          "model_module_version": "1.5.0",
          "state": {
            "_model_module": "@jupyter-widgets/controls",
            "_model_module_version": "1.5.0",
            "_model_name": "DescriptionStyleModel",
            "_view_count": null,
            "_view_module": "@jupyter-widgets/base",
            "_view_module_version": "1.2.0",
            "_view_name": "StyleView",
            "description_width": ""
          }
        },
        "ad5e443e43ff47b5a296d292591366c6": {
          "model_module": "@jupyter-widgets/base",
          "model_name": "LayoutModel",
          "model_module_version": "1.2.0",
          "state": {
            "_model_module": "@jupyter-widgets/base",
            "_model_module_version": "1.2.0",
            "_model_name": "LayoutModel",
            "_view_count": null,
            "_view_module": "@jupyter-widgets/base",
            "_view_module_version": "1.2.0",
            "_view_name": "LayoutView",
            "align_content": null,
            "align_items": null,
            "align_self": null,
            "border": null,
            "bottom": null,
            "display": null,
            "flex": null,
            "flex_flow": null,
            "grid_area": null,
            "grid_auto_columns": null,
            "grid_auto_flow": null,
            "grid_auto_rows": null,
            "grid_column": null,
            "grid_gap": null,
            "grid_row": null,
            "grid_template_areas": null,
            "grid_template_columns": null,
            "grid_template_rows": null,
            "height": null,
            "justify_content": null,
            "justify_items": null,
            "left": null,
            "margin": null,
            "max_height": null,
            "max_width": null,
            "min_height": null,
            "min_width": null,
            "object_fit": null,
            "object_position": null,
            "order": null,
            "overflow": null,
            "overflow_x": null,
            "overflow_y": null,
            "padding": null,
            "right": null,
            "top": null,
            "visibility": null,
            "width": null
          }
        },
        "e332c233638c4f94977c2b7797861ff2": {
          "model_module": "@jupyter-widgets/controls",
          "model_name": "ProgressStyleModel",
          "model_module_version": "1.5.0",
          "state": {
            "_model_module": "@jupyter-widgets/controls",
            "_model_module_version": "1.5.0",
            "_model_name": "ProgressStyleModel",
            "_view_count": null,
            "_view_module": "@jupyter-widgets/base",
            "_view_module_version": "1.2.0",
            "_view_name": "StyleView",
            "bar_color": null,
            "description_width": ""
          }
        },
        "78caedd1a066465ab9c7c44ee5433115": {
          "model_module": "@jupyter-widgets/base",
          "model_name": "LayoutModel",
          "model_module_version": "1.2.0",
          "state": {
            "_model_module": "@jupyter-widgets/base",
            "_model_module_version": "1.2.0",
            "_model_name": "LayoutModel",
            "_view_count": null,
            "_view_module": "@jupyter-widgets/base",
            "_view_module_version": "1.2.0",
            "_view_name": "LayoutView",
            "align_content": null,
            "align_items": null,
            "align_self": null,
            "border": null,
            "bottom": null,
            "display": null,
            "flex": null,
            "flex_flow": null,
            "grid_area": null,
            "grid_auto_columns": null,
            "grid_auto_flow": null,
            "grid_auto_rows": null,
            "grid_column": null,
            "grid_gap": null,
            "grid_row": null,
            "grid_template_areas": null,
            "grid_template_columns": null,
            "grid_template_rows": null,
            "height": null,
            "justify_content": null,
            "justify_items": null,
            "left": null,
            "margin": null,
            "max_height": null,
            "max_width": null,
            "min_height": null,
            "min_width": null,
            "object_fit": null,
            "object_position": null,
            "order": null,
            "overflow": null,
            "overflow_x": null,
            "overflow_y": null,
            "padding": null,
            "right": null,
            "top": null,
            "visibility": null,
            "width": null
          }
        },
        "75fd2e08397241358744792fae4ccd57": {
          "model_module": "@jupyter-widgets/controls",
          "model_name": "DescriptionStyleModel",
          "model_module_version": "1.5.0",
          "state": {
            "_model_module": "@jupyter-widgets/controls",
            "_model_module_version": "1.5.0",
            "_model_name": "DescriptionStyleModel",
            "_view_count": null,
            "_view_module": "@jupyter-widgets/base",
            "_view_module_version": "1.2.0",
            "_view_name": "StyleView",
            "description_width": ""
          }
        },
        "96d8619a109d48ed9ddce6d95777fd73": {
          "model_module": "@jupyter-widgets/controls",
          "model_name": "HBoxModel",
          "model_module_version": "1.5.0",
          "state": {
            "_dom_classes": [],
            "_model_module": "@jupyter-widgets/controls",
            "_model_module_version": "1.5.0",
            "_model_name": "HBoxModel",
            "_view_count": null,
            "_view_module": "@jupyter-widgets/controls",
            "_view_module_version": "1.5.0",
            "_view_name": "HBoxView",
            "box_style": "",
            "children": [
              "IPY_MODEL_80f70b80961c4e24b31518443e7149a1",
              "IPY_MODEL_b1613ac95f48493dba8ac3f2994271a0",
              "IPY_MODEL_a57bd094f50e4eb98c9aec5d4957937f"
            ],
            "layout": "IPY_MODEL_0ab2201d1fc94f1193a27b2534b80ee2"
          }
        },
        "80f70b80961c4e24b31518443e7149a1": {
          "model_module": "@jupyter-widgets/controls",
          "model_name": "HTMLModel",
          "model_module_version": "1.5.0",
          "state": {
            "_dom_classes": [],
            "_model_module": "@jupyter-widgets/controls",
            "_model_module_version": "1.5.0",
            "_model_name": "HTMLModel",
            "_view_count": null,
            "_view_module": "@jupyter-widgets/controls",
            "_view_module_version": "1.5.0",
            "_view_name": "HTMLView",
            "description": "",
            "description_tooltip": null,
            "layout": "IPY_MODEL_ffb98b0317c647f680c60d0e31a73af7",
            "placeholder": "​",
            "style": "IPY_MODEL_f137e3c4398744aa9fa8d37fdb22d99b",
            "value": "config.json: 100%"
          }
        },
        "b1613ac95f48493dba8ac3f2994271a0": {
          "model_module": "@jupyter-widgets/controls",
          "model_name": "FloatProgressModel",
          "model_module_version": "1.5.0",
          "state": {
            "_dom_classes": [],
            "_model_module": "@jupyter-widgets/controls",
            "_model_module_version": "1.5.0",
            "_model_name": "FloatProgressModel",
            "_view_count": null,
            "_view_module": "@jupyter-widgets/controls",
            "_view_module_version": "1.5.0",
            "_view_name": "ProgressView",
            "bar_style": "success",
            "description": "",
            "description_tooltip": null,
            "layout": "IPY_MODEL_564a2e520a8e4d98a1c475a8ee16feba",
            "max": 190,
            "min": 0,
            "orientation": "horizontal",
            "style": "IPY_MODEL_41bbbe1cd5f541ba91dd6ce9eca985a9",
            "value": 190
          }
        },
        "a57bd094f50e4eb98c9aec5d4957937f": {
          "model_module": "@jupyter-widgets/controls",
          "model_name": "HTMLModel",
          "model_module_version": "1.5.0",
          "state": {
            "_dom_classes": [],
            "_model_module": "@jupyter-widgets/controls",
            "_model_module_version": "1.5.0",
            "_model_name": "HTMLModel",
            "_view_count": null,
            "_view_module": "@jupyter-widgets/controls",
            "_view_module_version": "1.5.0",
            "_view_name": "HTMLView",
            "description": "",
            "description_tooltip": null,
            "layout": "IPY_MODEL_8eba1e789c0a498ab9e5f84a85d17d7d",
            "placeholder": "​",
            "style": "IPY_MODEL_145ee7bb8d9e40f7adc05afce4e92596",
            "value": " 190/190 [00:00&lt;00:00, 16.0kB/s]"
          }
        },
        "0ab2201d1fc94f1193a27b2534b80ee2": {
          "model_module": "@jupyter-widgets/base",
          "model_name": "LayoutModel",
          "model_module_version": "1.2.0",
          "state": {
            "_model_module": "@jupyter-widgets/base",
            "_model_module_version": "1.2.0",
            "_model_name": "LayoutModel",
            "_view_count": null,
            "_view_module": "@jupyter-widgets/base",
            "_view_module_version": "1.2.0",
            "_view_name": "LayoutView",
            "align_content": null,
            "align_items": null,
            "align_self": null,
            "border": null,
            "bottom": null,
            "display": null,
            "flex": null,
            "flex_flow": null,
            "grid_area": null,
            "grid_auto_columns": null,
            "grid_auto_flow": null,
            "grid_auto_rows": null,
            "grid_column": null,
            "grid_gap": null,
            "grid_row": null,
            "grid_template_areas": null,
            "grid_template_columns": null,
            "grid_template_rows": null,
            "height": null,
            "justify_content": null,
            "justify_items": null,
            "left": null,
            "margin": null,
            "max_height": null,
            "max_width": null,
            "min_height": null,
            "min_width": null,
            "object_fit": null,
            "object_position": null,
            "order": null,
            "overflow": null,
            "overflow_x": null,
            "overflow_y": null,
            "padding": null,
            "right": null,
            "top": null,
            "visibility": null,
            "width": null
          }
        },
        "ffb98b0317c647f680c60d0e31a73af7": {
          "model_module": "@jupyter-widgets/base",
          "model_name": "LayoutModel",
          "model_module_version": "1.2.0",
          "state": {
            "_model_module": "@jupyter-widgets/base",
            "_model_module_version": "1.2.0",
            "_model_name": "LayoutModel",
            "_view_count": null,
            "_view_module": "@jupyter-widgets/base",
            "_view_module_version": "1.2.0",
            "_view_name": "LayoutView",
            "align_content": null,
            "align_items": null,
            "align_self": null,
            "border": null,
            "bottom": null,
            "display": null,
            "flex": null,
            "flex_flow": null,
            "grid_area": null,
            "grid_auto_columns": null,
            "grid_auto_flow": null,
            "grid_auto_rows": null,
            "grid_column": null,
            "grid_gap": null,
            "grid_row": null,
            "grid_template_areas": null,
            "grid_template_columns": null,
            "grid_template_rows": null,
            "height": null,
            "justify_content": null,
            "justify_items": null,
            "left": null,
            "margin": null,
            "max_height": null,
            "max_width": null,
            "min_height": null,
            "min_width": null,
            "object_fit": null,
            "object_position": null,
            "order": null,
            "overflow": null,
            "overflow_x": null,
            "overflow_y": null,
            "padding": null,
            "right": null,
            "top": null,
            "visibility": null,
            "width": null
          }
        },
        "f137e3c4398744aa9fa8d37fdb22d99b": {
          "model_module": "@jupyter-widgets/controls",
          "model_name": "DescriptionStyleModel",
          "model_module_version": "1.5.0",
          "state": {
            "_model_module": "@jupyter-widgets/controls",
            "_model_module_version": "1.5.0",
            "_model_name": "DescriptionStyleModel",
            "_view_count": null,
            "_view_module": "@jupyter-widgets/base",
            "_view_module_version": "1.2.0",
            "_view_name": "StyleView",
            "description_width": ""
          }
        },
        "564a2e520a8e4d98a1c475a8ee16feba": {
          "model_module": "@jupyter-widgets/base",
          "model_name": "LayoutModel",
          "model_module_version": "1.2.0",
          "state": {
            "_model_module": "@jupyter-widgets/base",
            "_model_module_version": "1.2.0",
            "_model_name": "LayoutModel",
            "_view_count": null,
            "_view_module": "@jupyter-widgets/base",
            "_view_module_version": "1.2.0",
            "_view_name": "LayoutView",
            "align_content": null,
            "align_items": null,
            "align_self": null,
            "border": null,
            "bottom": null,
            "display": null,
            "flex": null,
            "flex_flow": null,
            "grid_area": null,
            "grid_auto_columns": null,
            "grid_auto_flow": null,
            "grid_auto_rows": null,
            "grid_column": null,
            "grid_gap": null,
            "grid_row": null,
            "grid_template_areas": null,
            "grid_template_columns": null,
            "grid_template_rows": null,
            "height": null,
            "justify_content": null,
            "justify_items": null,
            "left": null,
            "margin": null,
            "max_height": null,
            "max_width": null,
            "min_height": null,
            "min_width": null,
            "object_fit": null,
            "object_position": null,
            "order": null,
            "overflow": null,
            "overflow_x": null,
            "overflow_y": null,
            "padding": null,
            "right": null,
            "top": null,
            "visibility": null,
            "width": null
          }
        },
        "41bbbe1cd5f541ba91dd6ce9eca985a9": {
          "model_module": "@jupyter-widgets/controls",
          "model_name": "ProgressStyleModel",
          "model_module_version": "1.5.0",
          "state": {
            "_model_module": "@jupyter-widgets/controls",
            "_model_module_version": "1.5.0",
            "_model_name": "ProgressStyleModel",
            "_view_count": null,
            "_view_module": "@jupyter-widgets/base",
            "_view_module_version": "1.2.0",
            "_view_name": "StyleView",
            "bar_color": null,
            "description_width": ""
          }
        },
        "8eba1e789c0a498ab9e5f84a85d17d7d": {
          "model_module": "@jupyter-widgets/base",
          "model_name": "LayoutModel",
          "model_module_version": "1.2.0",
          "state": {
            "_model_module": "@jupyter-widgets/base",
            "_model_module_version": "1.2.0",
            "_model_name": "LayoutModel",
            "_view_count": null,
            "_view_module": "@jupyter-widgets/base",
            "_view_module_version": "1.2.0",
            "_view_name": "LayoutView",
            "align_content": null,
            "align_items": null,
            "align_self": null,
            "border": null,
            "bottom": null,
            "display": null,
            "flex": null,
            "flex_flow": null,
            "grid_area": null,
            "grid_auto_columns": null,
            "grid_auto_flow": null,
            "grid_auto_rows": null,
            "grid_column": null,
            "grid_gap": null,
            "grid_row": null,
            "grid_template_areas": null,
            "grid_template_columns": null,
            "grid_template_rows": null,
            "height": null,
            "justify_content": null,
            "justify_items": null,
            "left": null,
            "margin": null,
            "max_height": null,
            "max_width": null,
            "min_height": null,
            "min_width": null,
            "object_fit": null,
            "object_position": null,
            "order": null,
            "overflow": null,
            "overflow_x": null,
            "overflow_y": null,
            "padding": null,
            "right": null,
            "top": null,
            "visibility": null,
            "width": null
          }
        },
        "145ee7bb8d9e40f7adc05afce4e92596": {
          "model_module": "@jupyter-widgets/controls",
          "model_name": "DescriptionStyleModel",
          "model_module_version": "1.5.0",
          "state": {
            "_model_module": "@jupyter-widgets/controls",
            "_model_module_version": "1.5.0",
            "_model_name": "DescriptionStyleModel",
            "_view_count": null,
            "_view_module": "@jupyter-widgets/base",
            "_view_module_version": "1.2.0",
            "_view_name": "StyleView",
            "description_width": ""
          }
        },
        "75f074149b4c4c8f86b614b6b71c2844": {
          "model_module": "@jupyter-widgets/controls",
          "model_name": "HBoxModel",
          "model_module_version": "1.5.0",
          "state": {
            "_dom_classes": [],
            "_model_module": "@jupyter-widgets/controls",
            "_model_module_version": "1.5.0",
            "_model_name": "HBoxModel",
            "_view_count": null,
            "_view_module": "@jupyter-widgets/controls",
            "_view_module_version": "1.5.0",
            "_view_name": "HBoxView",
            "box_style": "",
            "children": [
              "IPY_MODEL_04a4a4e6f02748fb990c86f26d135781",
              "IPY_MODEL_22578226745d43238ec50d9b5ad4a248",
              "IPY_MODEL_1efd11ece08841ff9debdf6be58a81bf"
            ],
            "layout": "IPY_MODEL_cfb5309b4d6f4cb9a178f2efb908e9bc"
          }
        },
        "04a4a4e6f02748fb990c86f26d135781": {
          "model_module": "@jupyter-widgets/controls",
          "model_name": "HTMLModel",
          "model_module_version": "1.5.0",
          "state": {
            "_dom_classes": [],
            "_model_module": "@jupyter-widgets/controls",
            "_model_module_version": "1.5.0",
            "_model_name": "HTMLModel",
            "_view_count": null,
            "_view_module": "@jupyter-widgets/controls",
            "_view_module_version": "1.5.0",
            "_view_name": "HTMLView",
            "description": "",
            "description_tooltip": null,
            "layout": "IPY_MODEL_994cd509b74144aa8ca2821853977f21",
            "placeholder": "​",
            "style": "IPY_MODEL_88534661b0724afe944a9f04cec7a816",
            "value": "Batches: 100%"
          }
        },
        "22578226745d43238ec50d9b5ad4a248": {
          "model_module": "@jupyter-widgets/controls",
          "model_name": "FloatProgressModel",
          "model_module_version": "1.5.0",
          "state": {
            "_dom_classes": [],
            "_model_module": "@jupyter-widgets/controls",
            "_model_module_version": "1.5.0",
            "_model_name": "FloatProgressModel",
            "_view_count": null,
            "_view_module": "@jupyter-widgets/controls",
            "_view_module_version": "1.5.0",
            "_view_name": "ProgressView",
            "bar_style": "success",
            "description": "",
            "description_tooltip": null,
            "layout": "IPY_MODEL_54d769f6324c4e4a8a75aa39464b4833",
            "max": 122,
            "min": 0,
            "orientation": "horizontal",
            "style": "IPY_MODEL_eb970be7af04445cb944899ee316b45a",
            "value": 122
          }
        },
        "1efd11ece08841ff9debdf6be58a81bf": {
          "model_module": "@jupyter-widgets/controls",
          "model_name": "HTMLModel",
          "model_module_version": "1.5.0",
          "state": {
            "_dom_classes": [],
            "_model_module": "@jupyter-widgets/controls",
            "_model_module_version": "1.5.0",
            "_model_name": "HTMLModel",
            "_view_count": null,
            "_view_module": "@jupyter-widgets/controls",
            "_view_module_version": "1.5.0",
            "_view_name": "HTMLView",
            "description": "",
            "description_tooltip": null,
            "layout": "IPY_MODEL_e98e3e70460a4a2faa5e81a43f595d85",
            "placeholder": "​",
            "style": "IPY_MODEL_4a6e579893bb41899296849ebea85215",
            "value": " 122/122 [00:22&lt;00:00,  8.07it/s]"
          }
        },
        "cfb5309b4d6f4cb9a178f2efb908e9bc": {
          "model_module": "@jupyter-widgets/base",
          "model_name": "LayoutModel",
          "model_module_version": "1.2.0",
          "state": {
            "_model_module": "@jupyter-widgets/base",
            "_model_module_version": "1.2.0",
            "_model_name": "LayoutModel",
            "_view_count": null,
            "_view_module": "@jupyter-widgets/base",
            "_view_module_version": "1.2.0",
            "_view_name": "LayoutView",
            "align_content": null,
            "align_items": null,
            "align_self": null,
            "border": null,
            "bottom": null,
            "display": null,
            "flex": null,
            "flex_flow": null,
            "grid_area": null,
            "grid_auto_columns": null,
            "grid_auto_flow": null,
            "grid_auto_rows": null,
            "grid_column": null,
            "grid_gap": null,
            "grid_row": null,
            "grid_template_areas": null,
            "grid_template_columns": null,
            "grid_template_rows": null,
            "height": null,
            "justify_content": null,
            "justify_items": null,
            "left": null,
            "margin": null,
            "max_height": null,
            "max_width": null,
            "min_height": null,
            "min_width": null,
            "object_fit": null,
            "object_position": null,
            "order": null,
            "overflow": null,
            "overflow_x": null,
            "overflow_y": null,
            "padding": null,
            "right": null,
            "top": null,
            "visibility": null,
            "width": null
          }
        },
        "994cd509b74144aa8ca2821853977f21": {
          "model_module": "@jupyter-widgets/base",
          "model_name": "LayoutModel",
          "model_module_version": "1.2.0",
          "state": {
            "_model_module": "@jupyter-widgets/base",
            "_model_module_version": "1.2.0",
            "_model_name": "LayoutModel",
            "_view_count": null,
            "_view_module": "@jupyter-widgets/base",
            "_view_module_version": "1.2.0",
            "_view_name": "LayoutView",
            "align_content": null,
            "align_items": null,
            "align_self": null,
            "border": null,
            "bottom": null,
            "display": null,
            "flex": null,
            "flex_flow": null,
            "grid_area": null,
            "grid_auto_columns": null,
            "grid_auto_flow": null,
            "grid_auto_rows": null,
            "grid_column": null,
            "grid_gap": null,
            "grid_row": null,
            "grid_template_areas": null,
            "grid_template_columns": null,
            "grid_template_rows": null,
            "height": null,
            "justify_content": null,
            "justify_items": null,
            "left": null,
            "margin": null,
            "max_height": null,
            "max_width": null,
            "min_height": null,
            "min_width": null,
            "object_fit": null,
            "object_position": null,
            "order": null,
            "overflow": null,
            "overflow_x": null,
            "overflow_y": null,
            "padding": null,
            "right": null,
            "top": null,
            "visibility": null,
            "width": null
          }
        },
        "88534661b0724afe944a9f04cec7a816": {
          "model_module": "@jupyter-widgets/controls",
          "model_name": "DescriptionStyleModel",
          "model_module_version": "1.5.0",
          "state": {
            "_model_module": "@jupyter-widgets/controls",
            "_model_module_version": "1.5.0",
            "_model_name": "DescriptionStyleModel",
            "_view_count": null,
            "_view_module": "@jupyter-widgets/base",
            "_view_module_version": "1.2.0",
            "_view_name": "StyleView",
            "description_width": ""
          }
        },
        "54d769f6324c4e4a8a75aa39464b4833": {
          "model_module": "@jupyter-widgets/base",
          "model_name": "LayoutModel",
          "model_module_version": "1.2.0",
          "state": {
            "_model_module": "@jupyter-widgets/base",
            "_model_module_version": "1.2.0",
            "_model_name": "LayoutModel",
            "_view_count": null,
            "_view_module": "@jupyter-widgets/base",
            "_view_module_version": "1.2.0",
            "_view_name": "LayoutView",
            "align_content": null,
            "align_items": null,
            "align_self": null,
            "border": null,
            "bottom": null,
            "display": null,
            "flex": null,
            "flex_flow": null,
            "grid_area": null,
            "grid_auto_columns": null,
            "grid_auto_flow": null,
            "grid_auto_rows": null,
            "grid_column": null,
            "grid_gap": null,
            "grid_row": null,
            "grid_template_areas": null,
            "grid_template_columns": null,
            "grid_template_rows": null,
            "height": null,
            "justify_content": null,
            "justify_items": null,
            "left": null,
            "margin": null,
            "max_height": null,
            "max_width": null,
            "min_height": null,
            "min_width": null,
            "object_fit": null,
            "object_position": null,
            "order": null,
            "overflow": null,
            "overflow_x": null,
            "overflow_y": null,
            "padding": null,
            "right": null,
            "top": null,
            "visibility": null,
            "width": null
          }
        },
        "eb970be7af04445cb944899ee316b45a": {
          "model_module": "@jupyter-widgets/controls",
          "model_name": "ProgressStyleModel",
          "model_module_version": "1.5.0",
          "state": {
            "_model_module": "@jupyter-widgets/controls",
            "_model_module_version": "1.5.0",
            "_model_name": "ProgressStyleModel",
            "_view_count": null,
            "_view_module": "@jupyter-widgets/base",
            "_view_module_version": "1.2.0",
            "_view_name": "StyleView",
            "bar_color": null,
            "description_width": ""
          }
        },
        "e98e3e70460a4a2faa5e81a43f595d85": {
          "model_module": "@jupyter-widgets/base",
          "model_name": "LayoutModel",
          "model_module_version": "1.2.0",
          "state": {
            "_model_module": "@jupyter-widgets/base",
            "_model_module_version": "1.2.0",
            "_model_name": "LayoutModel",
            "_view_count": null,
            "_view_module": "@jupyter-widgets/base",
            "_view_module_version": "1.2.0",
            "_view_name": "LayoutView",
            "align_content": null,
            "align_items": null,
            "align_self": null,
            "border": null,
            "bottom": null,
            "display": null,
            "flex": null,
            "flex_flow": null,
            "grid_area": null,
            "grid_auto_columns": null,
            "grid_auto_flow": null,
            "grid_auto_rows": null,
            "grid_column": null,
            "grid_gap": null,
            "grid_row": null,
            "grid_template_areas": null,
            "grid_template_columns": null,
            "grid_template_rows": null,
            "height": null,
            "justify_content": null,
            "justify_items": null,
            "left": null,
            "margin": null,
            "max_height": null,
            "max_width": null,
            "min_height": null,
            "min_width": null,
            "object_fit": null,
            "object_position": null,
            "order": null,
            "overflow": null,
            "overflow_x": null,
            "overflow_y": null,
            "padding": null,
            "right": null,
            "top": null,
            "visibility": null,
            "width": null
          }
        },
        "4a6e579893bb41899296849ebea85215": {
          "model_module": "@jupyter-widgets/controls",
          "model_name": "DescriptionStyleModel",
          "model_module_version": "1.5.0",
          "state": {
            "_model_module": "@jupyter-widgets/controls",
            "_model_module_version": "1.5.0",
            "_model_name": "DescriptionStyleModel",
            "_view_count": null,
            "_view_module": "@jupyter-widgets/base",
            "_view_module_version": "1.2.0",
            "_view_name": "StyleView",
            "description_width": ""
          }
        }
      }
    }
  },
  "nbformat": 4,
  "nbformat_minor": 0
}